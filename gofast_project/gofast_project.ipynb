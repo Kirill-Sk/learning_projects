{
  "cells": [
    {
      "cell_type": "code",
      "execution_count": null,
      "id": "cabb8499",
      "metadata": {
        "id": "cabb8499"
      },
      "outputs": [],
      "source": [
        "#импортируем необходимые библиотеки\n",
        "import pandas as pd\n",
        "import numpy as np\n",
        "from scipy import stats as st\n",
        "import matplotlib.pyplot as plt"
      ]
    },
    {
      "cell_type": "markdown",
      "id": "076f52eb",
      "metadata": {
        "id": "076f52eb"
      },
      "source": [
        "### Шаг 1. Загрузка данных"
      ]
    },
    {
      "cell_type": "code",
      "execution_count": null,
      "id": "0c4b48ee",
      "metadata": {
        "scrolled": false,
        "id": "0c4b48ee",
        "outputId": "848b0e34-2176-46b2-edcd-c199c2e44e2c"
      },
      "outputs": [
        {
          "data": {
            "text/html": [
              "<div>\n",
              "<style scoped>\n",
              "    .dataframe tbody tr th:only-of-type {\n",
              "        vertical-align: middle;\n",
              "    }\n",
              "\n",
              "    .dataframe tbody tr th {\n",
              "        vertical-align: top;\n",
              "    }\n",
              "\n",
              "    .dataframe thead th {\n",
              "        text-align: right;\n",
              "    }\n",
              "</style>\n",
              "<table border=\"1\" class=\"dataframe\">\n",
              "  <thead>\n",
              "    <tr style=\"text-align: right;\">\n",
              "      <th></th>\n",
              "      <th>user_id</th>\n",
              "      <th>name</th>\n",
              "      <th>age</th>\n",
              "      <th>city</th>\n",
              "      <th>subscription_type</th>\n",
              "    </tr>\n",
              "  </thead>\n",
              "  <tbody>\n",
              "    <tr>\n",
              "      <th>0</th>\n",
              "      <td>1</td>\n",
              "      <td>Кира</td>\n",
              "      <td>22</td>\n",
              "      <td>Тюмень</td>\n",
              "      <td>ultra</td>\n",
              "    </tr>\n",
              "    <tr>\n",
              "      <th>1</th>\n",
              "      <td>2</td>\n",
              "      <td>Станислав</td>\n",
              "      <td>31</td>\n",
              "      <td>Омск</td>\n",
              "      <td>ultra</td>\n",
              "    </tr>\n",
              "    <tr>\n",
              "      <th>2</th>\n",
              "      <td>3</td>\n",
              "      <td>Алексей</td>\n",
              "      <td>20</td>\n",
              "      <td>Москва</td>\n",
              "      <td>ultra</td>\n",
              "    </tr>\n",
              "    <tr>\n",
              "      <th>3</th>\n",
              "      <td>4</td>\n",
              "      <td>Константин</td>\n",
              "      <td>26</td>\n",
              "      <td>Ростов-на-Дону</td>\n",
              "      <td>ultra</td>\n",
              "    </tr>\n",
              "    <tr>\n",
              "      <th>4</th>\n",
              "      <td>5</td>\n",
              "      <td>Адель</td>\n",
              "      <td>28</td>\n",
              "      <td>Омск</td>\n",
              "      <td>ultra</td>\n",
              "    </tr>\n",
              "  </tbody>\n",
              "</table>\n",
              "</div>"
            ],
            "text/plain": [
              "   user_id        name  age            city subscription_type\n",
              "0        1        Кира   22          Тюмень             ultra\n",
              "1        2   Станислав   31            Омск             ultra\n",
              "2        3     Алексей   20          Москва             ultra\n",
              "3        4  Константин   26  Ростов-на-Дону             ultra\n",
              "4        5       Адель   28            Омск             ultra"
            ]
          },
          "metadata": {},
          "output_type": "display_data"
        },
        {
          "name": "stdout",
          "output_type": "stream",
          "text": [
            "<class 'pandas.core.frame.DataFrame'>\n",
            "RangeIndex: 1565 entries, 0 to 1564\n",
            "Data columns (total 5 columns):\n",
            " #   Column             Non-Null Count  Dtype \n",
            "---  ------             --------------  ----- \n",
            " 0   user_id            1565 non-null   int64 \n",
            " 1   name               1565 non-null   object\n",
            " 2   age                1565 non-null   int64 \n",
            " 3   city               1565 non-null   object\n",
            " 4   subscription_type  1565 non-null   object\n",
            "dtypes: int64(2), object(3)\n",
            "memory usage: 61.3+ KB\n"
          ]
        }
      ],
      "source": [
        "#прочитаем данные из датасета users_go и запишем их в переменную users\n",
        "users = pd.read_csv('users_go.csv')\n",
        "\n",
        "#выведем на экран первые строки датафрейма users и общую информацию о нём\n",
        "display(users.head())\n",
        "users.info()"
      ]
    },
    {
      "cell_type": "code",
      "execution_count": null,
      "id": "db2190b0",
      "metadata": {
        "scrolled": false,
        "id": "db2190b0",
        "outputId": "84bec8e9-7813-4b11-f499-d6446afb0b4d"
      },
      "outputs": [
        {
          "data": {
            "text/html": [
              "<div>\n",
              "<style scoped>\n",
              "    .dataframe tbody tr th:only-of-type {\n",
              "        vertical-align: middle;\n",
              "    }\n",
              "\n",
              "    .dataframe tbody tr th {\n",
              "        vertical-align: top;\n",
              "    }\n",
              "\n",
              "    .dataframe thead th {\n",
              "        text-align: right;\n",
              "    }\n",
              "</style>\n",
              "<table border=\"1\" class=\"dataframe\">\n",
              "  <thead>\n",
              "    <tr style=\"text-align: right;\">\n",
              "      <th></th>\n",
              "      <th>user_id</th>\n",
              "      <th>distance</th>\n",
              "      <th>duration</th>\n",
              "      <th>date</th>\n",
              "    </tr>\n",
              "  </thead>\n",
              "  <tbody>\n",
              "    <tr>\n",
              "      <th>0</th>\n",
              "      <td>1</td>\n",
              "      <td>4409.919140</td>\n",
              "      <td>25.599769</td>\n",
              "      <td>2021-01-01</td>\n",
              "    </tr>\n",
              "    <tr>\n",
              "      <th>1</th>\n",
              "      <td>1</td>\n",
              "      <td>2617.592153</td>\n",
              "      <td>15.816871</td>\n",
              "      <td>2021-01-18</td>\n",
              "    </tr>\n",
              "    <tr>\n",
              "      <th>2</th>\n",
              "      <td>1</td>\n",
              "      <td>754.159807</td>\n",
              "      <td>6.232113</td>\n",
              "      <td>2021-04-20</td>\n",
              "    </tr>\n",
              "    <tr>\n",
              "      <th>3</th>\n",
              "      <td>1</td>\n",
              "      <td>2694.783254</td>\n",
              "      <td>18.511000</td>\n",
              "      <td>2021-08-11</td>\n",
              "    </tr>\n",
              "    <tr>\n",
              "      <th>4</th>\n",
              "      <td>1</td>\n",
              "      <td>4028.687306</td>\n",
              "      <td>26.265803</td>\n",
              "      <td>2021-08-28</td>\n",
              "    </tr>\n",
              "  </tbody>\n",
              "</table>\n",
              "</div>"
            ],
            "text/plain": [
              "   user_id     distance   duration        date\n",
              "0        1  4409.919140  25.599769  2021-01-01\n",
              "1        1  2617.592153  15.816871  2021-01-18\n",
              "2        1   754.159807   6.232113  2021-04-20\n",
              "3        1  2694.783254  18.511000  2021-08-11\n",
              "4        1  4028.687306  26.265803  2021-08-28"
            ]
          },
          "metadata": {},
          "output_type": "display_data"
        },
        {
          "name": "stdout",
          "output_type": "stream",
          "text": [
            "<class 'pandas.core.frame.DataFrame'>\n",
            "RangeIndex: 18068 entries, 0 to 18067\n",
            "Data columns (total 4 columns):\n",
            " #   Column    Non-Null Count  Dtype  \n",
            "---  ------    --------------  -----  \n",
            " 0   user_id   18068 non-null  int64  \n",
            " 1   distance  18068 non-null  float64\n",
            " 2   duration  18068 non-null  float64\n",
            " 3   date      18068 non-null  object \n",
            "dtypes: float64(2), int64(1), object(1)\n",
            "memory usage: 564.8+ KB\n"
          ]
        }
      ],
      "source": [
        "#прочитаем данные из датасета rides_go и запишем их в переменную rides\n",
        "rides = pd.read_csv('rides_go.csv')\n",
        "\n",
        "#выведем на экран первые строки датафрейма rides и общую информацию о нём\n",
        "display(rides.head())\n",
        "rides.info()"
      ]
    },
    {
      "cell_type": "markdown",
      "id": "c5edd872",
      "metadata": {
        "id": "c5edd872"
      },
      "source": [
        "Данные столбца `date` имеют неправильный тип."
      ]
    },
    {
      "cell_type": "code",
      "execution_count": null,
      "id": "8500a11b",
      "metadata": {
        "id": "8500a11b",
        "outputId": "f84691f5-51ce-47f4-9c3e-1fb931f8acaf"
      },
      "outputs": [
        {
          "data": {
            "text/html": [
              "<div>\n",
              "<style scoped>\n",
              "    .dataframe tbody tr th:only-of-type {\n",
              "        vertical-align: middle;\n",
              "    }\n",
              "\n",
              "    .dataframe tbody tr th {\n",
              "        vertical-align: top;\n",
              "    }\n",
              "\n",
              "    .dataframe thead th {\n",
              "        text-align: right;\n",
              "    }\n",
              "</style>\n",
              "<table border=\"1\" class=\"dataframe\">\n",
              "  <thead>\n",
              "    <tr style=\"text-align: right;\">\n",
              "      <th></th>\n",
              "      <th>subscription_type</th>\n",
              "      <th>minute_price</th>\n",
              "      <th>start_ride_price</th>\n",
              "      <th>subscription_fee</th>\n",
              "    </tr>\n",
              "  </thead>\n",
              "  <tbody>\n",
              "    <tr>\n",
              "      <th>0</th>\n",
              "      <td>free</td>\n",
              "      <td>8</td>\n",
              "      <td>50</td>\n",
              "      <td>0</td>\n",
              "    </tr>\n",
              "    <tr>\n",
              "      <th>1</th>\n",
              "      <td>ultra</td>\n",
              "      <td>6</td>\n",
              "      <td>0</td>\n",
              "      <td>199</td>\n",
              "    </tr>\n",
              "  </tbody>\n",
              "</table>\n",
              "</div>"
            ],
            "text/plain": [
              "  subscription_type  minute_price  start_ride_price  subscription_fee\n",
              "0              free             8                50                 0\n",
              "1             ultra             6                 0               199"
            ]
          },
          "metadata": {},
          "output_type": "display_data"
        },
        {
          "name": "stdout",
          "output_type": "stream",
          "text": [
            "<class 'pandas.core.frame.DataFrame'>\n",
            "RangeIndex: 2 entries, 0 to 1\n",
            "Data columns (total 4 columns):\n",
            " #   Column             Non-Null Count  Dtype \n",
            "---  ------             --------------  ----- \n",
            " 0   subscription_type  2 non-null      object\n",
            " 1   minute_price       2 non-null      int64 \n",
            " 2   start_ride_price   2 non-null      int64 \n",
            " 3   subscription_fee   2 non-null      int64 \n",
            "dtypes: int64(3), object(1)\n",
            "memory usage: 192.0+ bytes\n"
          ]
        }
      ],
      "source": [
        "#прочитаем данные из датасета subscriptions_go и запишем их в переменную subs\n",
        "subs = pd.read_csv('subscriptions_go.csv')\n",
        "\n",
        "#выведем на экран первые строки датафрейма subs и общую информацию о нём\n",
        "display(subs.head())\n",
        "subs.info()"
      ]
    },
    {
      "cell_type": "markdown",
      "id": "5013d2b9",
      "metadata": {
        "id": "5013d2b9"
      },
      "source": [
        "Пропущенные значения во всех полученных датафреймах отсутствуют."
      ]
    },
    {
      "cell_type": "markdown",
      "id": "0a1fcf7b",
      "metadata": {
        "id": "0a1fcf7b"
      },
      "source": [
        "### Шаг 2. Предобработка данных"
      ]
    },
    {
      "cell_type": "markdown",
      "id": "c2c53d0c",
      "metadata": {
        "id": "c2c53d0c"
      },
      "source": [
        "#### Изменение типов данных"
      ]
    },
    {
      "cell_type": "markdown",
      "id": "796820d5",
      "metadata": {
        "id": "796820d5"
      },
      "source": [
        "Данные столбца `date` датафрейма `rides` имеют тип `object`, тогда как данные о дате следует хранить с типом `datetime`."
      ]
    },
    {
      "cell_type": "code",
      "execution_count": null,
      "id": "aec7da4f",
      "metadata": {
        "scrolled": true,
        "id": "aec7da4f",
        "outputId": "fbe1d2ce-302d-4333-9a43-46f63e8e1ffd"
      },
      "outputs": [
        {
          "name": "stdout",
          "output_type": "stream",
          "text": [
            "<class 'pandas.core.frame.DataFrame'>\n",
            "RangeIndex: 18068 entries, 0 to 18067\n",
            "Data columns (total 4 columns):\n",
            " #   Column    Non-Null Count  Dtype         \n",
            "---  ------    --------------  -----         \n",
            " 0   user_id   18068 non-null  int64         \n",
            " 1   distance  18068 non-null  float64       \n",
            " 2   duration  18068 non-null  float64       \n",
            " 3   date      18068 non-null  datetime64[ns]\n",
            "dtypes: datetime64[ns](1), float64(2), int64(1)\n",
            "memory usage: 564.8 KB\n"
          ]
        }
      ],
      "source": [
        "#приведём данные столбца date датафрейма rides к типу date_time\n",
        "rides['date'] = pd.to_datetime(rides['date'], format='%Y-%m-%d')\n",
        "\n",
        "#проверим, изменился ли тип данных\n",
        "rides.info()"
      ]
    },
    {
      "cell_type": "markdown",
      "id": "9ddb188b",
      "metadata": {
        "id": "9ddb188b"
      },
      "source": [
        "#### Добавление столбца"
      ]
    },
    {
      "cell_type": "code",
      "execution_count": null,
      "id": "de1bd8e7",
      "metadata": {
        "id": "de1bd8e7",
        "outputId": "16c5f698-cfc7-48ca-c1d1-0d19c4d2e11a"
      },
      "outputs": [
        {
          "data": {
            "text/html": [
              "<div>\n",
              "<style scoped>\n",
              "    .dataframe tbody tr th:only-of-type {\n",
              "        vertical-align: middle;\n",
              "    }\n",
              "\n",
              "    .dataframe tbody tr th {\n",
              "        vertical-align: top;\n",
              "    }\n",
              "\n",
              "    .dataframe thead th {\n",
              "        text-align: right;\n",
              "    }\n",
              "</style>\n",
              "<table border=\"1\" class=\"dataframe\">\n",
              "  <thead>\n",
              "    <tr style=\"text-align: right;\">\n",
              "      <th></th>\n",
              "      <th>user_id</th>\n",
              "      <th>distance</th>\n",
              "      <th>duration</th>\n",
              "      <th>date</th>\n",
              "      <th>month</th>\n",
              "    </tr>\n",
              "  </thead>\n",
              "  <tbody>\n",
              "    <tr>\n",
              "      <th>0</th>\n",
              "      <td>1</td>\n",
              "      <td>4409.919140</td>\n",
              "      <td>25.599769</td>\n",
              "      <td>2021-01-01</td>\n",
              "      <td>1</td>\n",
              "    </tr>\n",
              "    <tr>\n",
              "      <th>1</th>\n",
              "      <td>1</td>\n",
              "      <td>2617.592153</td>\n",
              "      <td>15.816871</td>\n",
              "      <td>2021-01-18</td>\n",
              "      <td>1</td>\n",
              "    </tr>\n",
              "    <tr>\n",
              "      <th>2</th>\n",
              "      <td>1</td>\n",
              "      <td>754.159807</td>\n",
              "      <td>6.232113</td>\n",
              "      <td>2021-04-20</td>\n",
              "      <td>4</td>\n",
              "    </tr>\n",
              "    <tr>\n",
              "      <th>3</th>\n",
              "      <td>1</td>\n",
              "      <td>2694.783254</td>\n",
              "      <td>18.511000</td>\n",
              "      <td>2021-08-11</td>\n",
              "      <td>8</td>\n",
              "    </tr>\n",
              "    <tr>\n",
              "      <th>4</th>\n",
              "      <td>1</td>\n",
              "      <td>4028.687306</td>\n",
              "      <td>26.265803</td>\n",
              "      <td>2021-08-28</td>\n",
              "      <td>8</td>\n",
              "    </tr>\n",
              "  </tbody>\n",
              "</table>\n",
              "</div>"
            ],
            "text/plain": [
              "   user_id     distance   duration       date  month\n",
              "0        1  4409.919140  25.599769 2021-01-01      1\n",
              "1        1  2617.592153  15.816871 2021-01-18      1\n",
              "2        1   754.159807   6.232113 2021-04-20      4\n",
              "3        1  2694.783254  18.511000 2021-08-11      8\n",
              "4        1  4028.687306  26.265803 2021-08-28      8"
            ]
          },
          "execution_count": 6,
          "metadata": {},
          "output_type": "execute_result"
        }
      ],
      "source": [
        "#добавим в датафрейм rides стобец month с номером месяца\n",
        "rides['month'] = pd.DatetimeIndex(rides['date']).month\n",
        "rides.head()"
      ]
    },
    {
      "cell_type": "markdown",
      "id": "6ca59512",
      "metadata": {
        "id": "6ca59512"
      },
      "source": [
        "#### Удаление дубликатов"
      ]
    },
    {
      "cell_type": "code",
      "execution_count": null,
      "id": "ccc1368a",
      "metadata": {
        "scrolled": false,
        "id": "ccc1368a",
        "outputId": "2590288c-f5d5-4a37-e043-57592617c203"
      },
      "outputs": [
        {
          "name": "stdout",
          "output_type": "stream",
          "text": [
            "<class 'pandas.core.frame.DataFrame'>\n",
            "RangeIndex: 1534 entries, 0 to 1533\n",
            "Data columns (total 5 columns):\n",
            " #   Column             Non-Null Count  Dtype \n",
            "---  ------             --------------  ----- \n",
            " 0   user_id            1534 non-null   int64 \n",
            " 1   name               1534 non-null   object\n",
            " 2   age                1534 non-null   int64 \n",
            " 3   city               1534 non-null   object\n",
            " 4   subscription_type  1534 non-null   object\n",
            "dtypes: int64(2), object(3)\n",
            "memory usage: 60.0+ KB\n"
          ]
        }
      ],
      "source": [
        "#удалим повторяющиеся строки из датафрейма users\n",
        "users = users.drop_duplicates()\n",
        "users = users.reset_index(drop=True)\n",
        "users.info()"
      ]
    },
    {
      "cell_type": "markdown",
      "id": "f19658ed",
      "metadata": {
        "id": "f19658ed"
      },
      "source": [
        "Количество значений в датафрейме `users` уменьшилось незначительно."
      ]
    },
    {
      "cell_type": "code",
      "execution_count": null,
      "id": "06c43e07",
      "metadata": {
        "scrolled": false,
        "id": "06c43e07",
        "outputId": "e656079a-e99e-4ee3-f0eb-6b716277ed98"
      },
      "outputs": [
        {
          "name": "stdout",
          "output_type": "stream",
          "text": [
            "<class 'pandas.core.frame.DataFrame'>\n",
            "RangeIndex: 18068 entries, 0 to 18067\n",
            "Data columns (total 5 columns):\n",
            " #   Column    Non-Null Count  Dtype         \n",
            "---  ------    --------------  -----         \n",
            " 0   user_id   18068 non-null  int64         \n",
            " 1   distance  18068 non-null  float64       \n",
            " 2   duration  18068 non-null  float64       \n",
            " 3   date      18068 non-null  datetime64[ns]\n",
            " 4   month     18068 non-null  int64         \n",
            "dtypes: datetime64[ns](1), float64(2), int64(2)\n",
            "memory usage: 705.9 KB\n"
          ]
        }
      ],
      "source": [
        "#удалим повторяющиеся строки из датафрейма rides\n",
        "rides = rides.drop_duplicates()\n",
        "rides = rides.reset_index(drop=True)\n",
        "rides.info()"
      ]
    },
    {
      "cell_type": "markdown",
      "id": "3cc672eb",
      "metadata": {
        "id": "3cc672eb"
      },
      "source": [
        "Количество значений в датафрейме `rides` не изменилось, что означает, что повторяющихся строк в нём не было.\n",
        "\n",
        "Датафрейм `subs` состоит всего из двух строк, повторяющихся значений в нём нет."
      ]
    },
    {
      "cell_type": "markdown",
      "id": "7de5904f",
      "metadata": {
        "id": "7de5904f"
      },
      "source": [
        "**Вывод:**\n",
        "\n",
        "В ходе предобработки данных:\n",
        "1. данные столбца `date` датафрейма `rides` были приведены к типу `datetime`,\n",
        "2. в датафрейм `rides` был добавлен столбец `month` с номером месяца поездки,\n",
        "3. из датафрейма `users` были удалены посторяющиеся строки."
      ]
    },
    {
      "cell_type": "markdown",
      "id": "5e38d49e",
      "metadata": {
        "id": "5e38d49e"
      },
      "source": [
        "### Шаг 3. Исследовательский анализ данных"
      ]
    },
    {
      "cell_type": "markdown",
      "id": "fc167676",
      "metadata": {
        "id": "fc167676"
      },
      "source": [
        "#### Частота встречаемости городов"
      ]
    },
    {
      "cell_type": "code",
      "execution_count": null,
      "id": "9768dd6b",
      "metadata": {
        "id": "9768dd6b",
        "outputId": "6a778817-df0d-40aa-b7c0-dec9aad42c9e"
      },
      "outputs": [
        {
          "data": {
            "text/plain": [
              "Text(0, 0.5, 'количество пользователей')"
            ]
          },
          "execution_count": 9,
          "metadata": {},
          "output_type": "execute_result"
        },
        {
          "data": {
            "image/png": "[encoded data removed]",
            "text/plain": [
              "<Figure size 576x432 with 1 Axes>"
            ]
          },
          "metadata": {
            "needs_background": "light"
          },
          "output_type": "display_data"
        }
      ],
      "source": [
        "#построим столбчатую диаграмму частоты встречаемости городов\n",
        "(users\n",
        " .pivot_table(index='city', values='user_id', aggfunc='count').sort_values(by='user_id', ascending=False)\n",
        " .plot(kind='bar', figsize=(8, 6), grid=True))\n",
        "\n",
        "plt.title('Частота встречаемости городов')\n",
        "plt.xlabel('город')\n",
        "plt.ylabel('количество пользователей')"
      ]
    },
    {
      "cell_type": "markdown",
      "id": "c1aed135",
      "metadata": {
        "id": "c1aed135"
      },
      "source": [
        "Из диаграммы видно, что наибольшее число пользователей - в **Пятигорске**, наименьшее - в **Москве**."
      ]
    },
    {
      "cell_type": "markdown",
      "id": "7b95279e",
      "metadata": {
        "id": "7b95279e"
      },
      "source": [
        "#### Соотношение пользователей с подпиской и без"
      ]
    },
    {
      "cell_type": "code",
      "execution_count": null,
      "id": "5d44616d",
      "metadata": {
        "id": "5d44616d",
        "outputId": "ad2fad92-5159-4045-d615-20a76375bbd7"
      },
      "outputs": [
        {
          "data": {
            "text/plain": [
              "<matplotlib.legend.Legend at 0x7f7d8111cd60>"
            ]
          },
          "execution_count": 38,
          "metadata": {},
          "output_type": "execute_result"
        },
        {
          "data": {
            "image/png": "[encoded data removed]",
            "text/plain": [
              "<Figure size 576x432 with 1 Axes>"
            ]
          },
          "metadata": {},
          "output_type": "display_data"
        }
      ],
      "source": [
        "(users\n",
        " .pivot_table(index='subscription_type', values='user_id', aggfunc='count')\n",
        " .plot(kind='pie', figsize=(8, 6), grid=True, subplots=True, label=False))\n",
        "\n",
        "plt.legend('', frameon=False) # код ревьюера"
      ]
    },
    {
      "cell_type": "markdown",
      "id": "956fb790",
      "metadata": {
        "id": "956fb790"
      },
      "source": [
        "Из диаграммы видно, что больше половины пользователей используют сервис **без подписки**."
      ]
    },
    {
      "cell_type": "markdown",
      "id": "a2b6d715",
      "metadata": {
        "id": "a2b6d715"
      },
      "source": [
        "#### Возраст пользователей"
      ]
    },
    {
      "cell_type": "code",
      "execution_count": null,
      "id": "3e968943",
      "metadata": {
        "id": "3e968943",
        "outputId": "1c171233-1023-4cb5-decf-05d505a31c2a"
      },
      "outputs": [
        {
          "data": {
            "text/plain": [
              "Text(0, 0.5, 'количество пользователей')"
            ]
          },
          "execution_count": 11,
          "metadata": {},
          "output_type": "execute_result"
        },
        {
          "data": {
            "image/png": "[encoded data removed]",
            "text/plain": [
              "<Figure size 576x432 with 1 Axes>"
            ]
          },
          "metadata": {
            "needs_background": "light"
          },
          "output_type": "display_data"
        }
      ],
      "source": [
        "(users\n",
        " .pivot_table(index='age', values='user_id', aggfunc='count')\n",
        " .plot(style='o-', figsize=(8, 6), grid=True))\n",
        "\n",
        "plt.title('Возраст пользователей')\n",
        "plt.xlabel('возраст')\n",
        "plt.ylabel('количество пользователей')"
      ]
    },
    {
      "cell_type": "markdown",
      "id": "ca66b783",
      "metadata": {
        "id": "ca66b783"
      },
      "source": [
        "Из графика видно, что возраст пользователей *распределён нормально* вокруг среднего значения **25 лет**."
      ]
    },
    {
      "cell_type": "markdown",
      "id": "b90c9f21",
      "metadata": {
        "id": "b90c9f21"
      },
      "source": [
        "#### Расстояние, преодолеваемое за одну поездку"
      ]
    },
    {
      "cell_type": "code",
      "execution_count": null,
      "id": "57b8dd2a",
      "metadata": {
        "scrolled": false,
        "id": "57b8dd2a",
        "outputId": "58ef41fd-8c79-449a-b81a-9fbecdf7d268"
      },
      "outputs": [
        {
          "data": {
            "text/plain": [
              "Text(0, 0.5, 'количество поездок')"
            ]
          },
          "execution_count": 12,
          "metadata": {},
          "output_type": "execute_result"
        },
        {
          "data": {
            "image/png": "[encoded data removed]",
            "text/plain": [
              "<Figure size 576x432 with 1 Axes>"
            ]
          },
          "metadata": {
            "needs_background": "light"
          },
          "output_type": "display_data"
        }
      ],
      "source": [
        "rides['distance'].hist(bins=100, figsize=(8, 6))\n",
        "\n",
        "plt.title('Расстояние, преодолеваемое за одну поездку')\n",
        "plt.xlabel('расстояние')\n",
        "plt.ylabel('количество поездок')"
      ]
    },
    {
      "cell_type": "markdown",
      "id": "cfc67021",
      "metadata": {
        "id": "cfc67021"
      },
      "source": [
        "Из гистограммы видно, что расстояние, преодолеваемое за одну поездку, подчинено *нормальному распределению* вокруг значения **около 3200 метров**."
      ]
    },
    {
      "cell_type": "markdown",
      "id": "1d45b268",
      "metadata": {
        "id": "1d45b268"
      },
      "source": [
        "#### Продолжительность поездок"
      ]
    },
    {
      "cell_type": "code",
      "execution_count": null,
      "id": "24310aac",
      "metadata": {
        "id": "24310aac",
        "outputId": "6ea54da9-2f34-4c57-d874-1fb4dcbccc91"
      },
      "outputs": [
        {
          "data": {
            "text/plain": [
              "Text(0, 0.5, 'количество поездок')"
            ]
          },
          "execution_count": 13,
          "metadata": {},
          "output_type": "execute_result"
        },
        {
          "data": {
            "image/png": "[encoded data removed]",
            "text/plain": [
              "<Figure size 576x432 with 1 Axes>"
            ]
          },
          "metadata": {
            "needs_background": "light"
          },
          "output_type": "display_data"
        }
      ],
      "source": [
        "rides['duration'].hist(bins=100, figsize=(8, 6))\n",
        "\n",
        "plt.title('Продолжительность поездок')\n",
        "plt.xlabel('продолжительность')\n",
        "plt.ylabel('количество поездок')"
      ]
    },
    {
      "cell_type": "markdown",
      "id": "625e7d42",
      "metadata": {
        "id": "625e7d42"
      },
      "source": [
        "Из гистограммы видно, что продолжительность поездки подчинена *нормальному распределению* вокруг значения **около 18 минут**."
      ]
    },
    {
      "cell_type": "markdown",
      "id": "90e4697e",
      "metadata": {
        "id": "90e4697e"
      },
      "source": [
        "### Шаг 4. Объединение данных"
      ]
    },
    {
      "cell_type": "code",
      "execution_count": null,
      "id": "95bfc81b",
      "metadata": {
        "id": "95bfc81b"
      },
      "outputs": [],
      "source": [
        "#объединим датафреймы users и rides в датафрейм united\n",
        "united = users.merge(rides, on='user_id', how='inner')\n",
        "\n",
        "#объединим датафреймы united и subs\n",
        "united = united.merge(subs, on='subscription_type', how='left')"
      ]
    },
    {
      "cell_type": "code",
      "execution_count": null,
      "id": "eef85b81",
      "metadata": {
        "id": "eef85b81"
      },
      "outputs": [],
      "source": [
        "#создадим датафрейм sub_free с данными с типом подписки free\n",
        "sub_free = united.query('subscription_type == \"free\"')"
      ]
    },
    {
      "cell_type": "code",
      "execution_count": null,
      "id": "af0f4ad4",
      "metadata": {
        "id": "af0f4ad4"
      },
      "outputs": [],
      "source": [
        "#создадим датафрейм sub_ultra с данными с типом подписки ultra\n",
        "sub_ultra = united.query('subscription_type == \"ultra\"')"
      ]
    },
    {
      "cell_type": "code",
      "execution_count": null,
      "id": "18403cf9",
      "metadata": {
        "id": "18403cf9",
        "outputId": "f71f8796-a9c8-4798-f498-27b60d222023"
      },
      "outputs": [
        {
          "data": {
            "text/plain": [
              "Text(0, 0.5, 'количество поездок')"
            ]
          },
          "execution_count": 17,
          "metadata": {},
          "output_type": "execute_result"
        },
        {
          "data": {
            "image/png": "[encoded data removed]",
            "text/plain": [
              "<Figure size 576x432 with 1 Axes>"
            ]
          },
          "metadata": {
            "needs_background": "light"
          },
          "output_type": "display_data"
        }
      ],
      "source": [
        "sub_free['distance'].hist(bins=100, figsize=(8, 6))\n",
        "\n",
        "plt.title('Расстояние, преодолеваемое за поездку пользователями без подписки')\n",
        "plt.xlabel('продолжительность')\n",
        "plt.ylabel('количество поездок')"
      ]
    },
    {
      "cell_type": "code",
      "execution_count": null,
      "id": "4a868749",
      "metadata": {
        "scrolled": false,
        "id": "4a868749",
        "outputId": "21b6a7fb-5f13-490d-c768-d2911c9eb020"
      },
      "outputs": [
        {
          "data": {
            "text/plain": [
              "Text(0, 0.5, 'количество поездок')"
            ]
          },
          "execution_count": 18,
          "metadata": {},
          "output_type": "execute_result"
        },
        {
          "data": {
            "image/png": "[encoded data removed]",
            "text/plain": [
              "<Figure size 576x432 with 1 Axes>"
            ]
          },
          "metadata": {
            "needs_background": "light"
          },
          "output_type": "display_data"
        }
      ],
      "source": [
        "sub_free['duration'].hist(bins=100, figsize=(8, 6))\n",
        "\n",
        "plt.title('Продолжительность поездок пользователей без подписки')\n",
        "plt.xlabel('продолжительность')\n",
        "plt.ylabel('количество поездок')"
      ]
    },
    {
      "cell_type": "code",
      "execution_count": null,
      "id": "726570fe",
      "metadata": {
        "id": "726570fe",
        "outputId": "fe468b08-23bb-44b1-bc70-54ede1b27f5f"
      },
      "outputs": [
        {
          "data": {
            "text/plain": [
              "Text(0, 0.5, 'количество поездок')"
            ]
          },
          "execution_count": 19,
          "metadata": {},
          "output_type": "execute_result"
        },
        {
          "data": {
            "image/png": "[encoded data removed]",
            "text/plain": [
              "<Figure size 576x432 with 1 Axes>"
            ]
          },
          "metadata": {
            "needs_background": "light"
          },
          "output_type": "display_data"
        }
      ],
      "source": [
        "sub_ultra['distance'].hist(bins=100, figsize=(8, 6))\n",
        "\n",
        "plt.title('Расстояние, преодолеваемое за поездку пользователями с подпиской')\n",
        "plt.xlabel('продолжительность')\n",
        "plt.ylabel('количество поездок')"
      ]
    },
    {
      "cell_type": "code",
      "execution_count": null,
      "id": "c48eec53",
      "metadata": {
        "id": "c48eec53",
        "outputId": "d6a3d0ee-6e71-4dcb-c387-cdb9729fdde5"
      },
      "outputs": [
        {
          "data": {
            "text/plain": [
              "Text(0, 0.5, 'количество поездок')"
            ]
          },
          "execution_count": 20,
          "metadata": {},
          "output_type": "execute_result"
        },
        {
          "data": {
            "image/png": "[encoded data removed]",
            "text/plain": [
              "<Figure size 576x432 with 1 Axes>"
            ]
          },
          "metadata": {
            "needs_background": "light"
          },
          "output_type": "display_data"
        }
      ],
      "source": [
        "sub_ultra['duration'].hist(bins=100, figsize=(8, 6))\n",
        "\n",
        "plt.title('Продолжительность поездок пользователей с подпиской')\n",
        "plt.xlabel('продолжительность')\n",
        "plt.ylabel('количество поездок')"
      ]
    },
    {
      "cell_type": "markdown",
      "id": "cb867bbe",
      "metadata": {
        "id": "cb867bbe"
      },
      "source": [
        "**Вывод:**\n",
        "\n",
        "1. Распределение расстояния, преодолеваемого за поездку пользователями *без подписки*, имеет больший пик значений меньше 1000 метров, чем у пользователей *с подпиской*. Это может означать, что пользователи *без подписки* чаще нанимают самокаты для  коротких поездок, чем пользователи *с подпиской*.\n",
        "\n",
        "2. Распределение продолжительности поездки пользователей *без подписки* имеет пик около 0 минут, отсутствующий у пользователей *с подпиской*. Этот пик может быть объяснён тем, что пользователи *без подписки* чаще совершают более короткие поездки (см. пункт 1)."
      ]
    },
    {
      "cell_type": "markdown",
      "id": "5bfa0537",
      "metadata": {
        "id": "5bfa0537"
      },
      "source": [
        "### Шаг 5. Подсчёт выручки"
      ]
    },
    {
      "cell_type": "code",
      "execution_count": null,
      "id": "74029b0b",
      "metadata": {
        "scrolled": true,
        "id": "74029b0b",
        "outputId": "c6b5515f-a18b-4ed9-9466-3c7346655ca4"
      },
      "outputs": [
        {
          "data": {
            "text/html": [
              "<div>\n",
              "<style scoped>\n",
              "    .dataframe tbody tr th:only-of-type {\n",
              "        vertical-align: middle;\n",
              "    }\n",
              "\n",
              "    .dataframe tbody tr th {\n",
              "        vertical-align: top;\n",
              "    }\n",
              "\n",
              "    .dataframe thead th {\n",
              "        text-align: right;\n",
              "    }\n",
              "</style>\n",
              "<table border=\"1\" class=\"dataframe\">\n",
              "  <thead>\n",
              "    <tr style=\"text-align: right;\">\n",
              "      <th></th>\n",
              "      <th>user_id</th>\n",
              "      <th>name</th>\n",
              "      <th>age</th>\n",
              "      <th>city</th>\n",
              "      <th>subscription_type</th>\n",
              "      <th>distance</th>\n",
              "      <th>duration</th>\n",
              "      <th>date</th>\n",
              "      <th>month</th>\n",
              "      <th>minute_price</th>\n",
              "      <th>start_ride_price</th>\n",
              "      <th>subscription_fee</th>\n",
              "    </tr>\n",
              "  </thead>\n",
              "  <tbody>\n",
              "    <tr>\n",
              "      <th>0</th>\n",
              "      <td>1</td>\n",
              "      <td>Кира</td>\n",
              "      <td>22</td>\n",
              "      <td>Тюмень</td>\n",
              "      <td>ultra</td>\n",
              "      <td>4409.919140</td>\n",
              "      <td>25.599769</td>\n",
              "      <td>2021-01-01</td>\n",
              "      <td>1</td>\n",
              "      <td>6</td>\n",
              "      <td>0</td>\n",
              "      <td>199</td>\n",
              "    </tr>\n",
              "    <tr>\n",
              "      <th>1</th>\n",
              "      <td>1</td>\n",
              "      <td>Кира</td>\n",
              "      <td>22</td>\n",
              "      <td>Тюмень</td>\n",
              "      <td>ultra</td>\n",
              "      <td>2617.592153</td>\n",
              "      <td>15.816871</td>\n",
              "      <td>2021-01-18</td>\n",
              "      <td>1</td>\n",
              "      <td>6</td>\n",
              "      <td>0</td>\n",
              "      <td>199</td>\n",
              "    </tr>\n",
              "    <tr>\n",
              "      <th>2</th>\n",
              "      <td>1</td>\n",
              "      <td>Кира</td>\n",
              "      <td>22</td>\n",
              "      <td>Тюмень</td>\n",
              "      <td>ultra</td>\n",
              "      <td>754.159807</td>\n",
              "      <td>6.232113</td>\n",
              "      <td>2021-04-20</td>\n",
              "      <td>4</td>\n",
              "      <td>6</td>\n",
              "      <td>0</td>\n",
              "      <td>199</td>\n",
              "    </tr>\n",
              "    <tr>\n",
              "      <th>3</th>\n",
              "      <td>1</td>\n",
              "      <td>Кира</td>\n",
              "      <td>22</td>\n",
              "      <td>Тюмень</td>\n",
              "      <td>ultra</td>\n",
              "      <td>2694.783254</td>\n",
              "      <td>18.511000</td>\n",
              "      <td>2021-08-11</td>\n",
              "      <td>8</td>\n",
              "      <td>6</td>\n",
              "      <td>0</td>\n",
              "      <td>199</td>\n",
              "    </tr>\n",
              "    <tr>\n",
              "      <th>4</th>\n",
              "      <td>1</td>\n",
              "      <td>Кира</td>\n",
              "      <td>22</td>\n",
              "      <td>Тюмень</td>\n",
              "      <td>ultra</td>\n",
              "      <td>4028.687306</td>\n",
              "      <td>26.265803</td>\n",
              "      <td>2021-08-28</td>\n",
              "      <td>8</td>\n",
              "      <td>6</td>\n",
              "      <td>0</td>\n",
              "      <td>199</td>\n",
              "    </tr>\n",
              "  </tbody>\n",
              "</table>\n",
              "</div>"
            ],
            "text/plain": [
              "   user_id  name  age    city subscription_type     distance   duration  \\\n",
              "0        1  Кира   22  Тюмень             ultra  4409.919140  25.599769   \n",
              "1        1  Кира   22  Тюмень             ultra  2617.592153  15.816871   \n",
              "2        1  Кира   22  Тюмень             ultra   754.159807   6.232113   \n",
              "3        1  Кира   22  Тюмень             ultra  2694.783254  18.511000   \n",
              "4        1  Кира   22  Тюмень             ultra  4028.687306  26.265803   \n",
              "\n",
              "        date  month  minute_price  start_ride_price  subscription_fee  \n",
              "0 2021-01-01      1             6                 0               199  \n",
              "1 2021-01-18      1             6                 0               199  \n",
              "2 2021-04-20      4             6                 0               199  \n",
              "3 2021-08-11      8             6                 0               199  \n",
              "4 2021-08-28      8             6                 0               199  "
            ]
          },
          "execution_count": 21,
          "metadata": {},
          "output_type": "execute_result"
        }
      ],
      "source": [
        "united.head()"
      ]
    },
    {
      "cell_type": "code",
      "execution_count": null,
      "id": "58833ab3",
      "metadata": {
        "id": "58833ab3",
        "outputId": "5b83ea9f-68f8-411e-b85b-0630d1a8395a"
      },
      "outputs": [
        {
          "data": {
            "text/html": [
              "<div>\n",
              "<style scoped>\n",
              "    .dataframe tbody tr th:only-of-type {\n",
              "        vertical-align: middle;\n",
              "    }\n",
              "\n",
              "    .dataframe tbody tr th {\n",
              "        vertical-align: top;\n",
              "    }\n",
              "\n",
              "    .dataframe thead th {\n",
              "        text-align: right;\n",
              "    }\n",
              "</style>\n",
              "<table border=\"1\" class=\"dataframe\">\n",
              "  <thead>\n",
              "    <tr style=\"text-align: right;\">\n",
              "      <th></th>\n",
              "      <th>user_id</th>\n",
              "      <th>name</th>\n",
              "      <th>age</th>\n",
              "      <th>city</th>\n",
              "      <th>subscription_type</th>\n",
              "      <th>distance</th>\n",
              "      <th>duration</th>\n",
              "      <th>date</th>\n",
              "      <th>month</th>\n",
              "      <th>minute_price</th>\n",
              "      <th>start_ride_price</th>\n",
              "      <th>subscription_fee</th>\n",
              "    </tr>\n",
              "  </thead>\n",
              "  <tbody>\n",
              "    <tr>\n",
              "      <th>0</th>\n",
              "      <td>1</td>\n",
              "      <td>Кира</td>\n",
              "      <td>22</td>\n",
              "      <td>Тюмень</td>\n",
              "      <td>ultra</td>\n",
              "      <td>4409.919140</td>\n",
              "      <td>26.0</td>\n",
              "      <td>2021-01-01</td>\n",
              "      <td>1</td>\n",
              "      <td>6</td>\n",
              "      <td>0</td>\n",
              "      <td>199</td>\n",
              "    </tr>\n",
              "    <tr>\n",
              "      <th>1</th>\n",
              "      <td>1</td>\n",
              "      <td>Кира</td>\n",
              "      <td>22</td>\n",
              "      <td>Тюмень</td>\n",
              "      <td>ultra</td>\n",
              "      <td>2617.592153</td>\n",
              "      <td>16.0</td>\n",
              "      <td>2021-01-18</td>\n",
              "      <td>1</td>\n",
              "      <td>6</td>\n",
              "      <td>0</td>\n",
              "      <td>199</td>\n",
              "    </tr>\n",
              "    <tr>\n",
              "      <th>2</th>\n",
              "      <td>1</td>\n",
              "      <td>Кира</td>\n",
              "      <td>22</td>\n",
              "      <td>Тюмень</td>\n",
              "      <td>ultra</td>\n",
              "      <td>754.159807</td>\n",
              "      <td>7.0</td>\n",
              "      <td>2021-04-20</td>\n",
              "      <td>4</td>\n",
              "      <td>6</td>\n",
              "      <td>0</td>\n",
              "      <td>199</td>\n",
              "    </tr>\n",
              "    <tr>\n",
              "      <th>3</th>\n",
              "      <td>1</td>\n",
              "      <td>Кира</td>\n",
              "      <td>22</td>\n",
              "      <td>Тюмень</td>\n",
              "      <td>ultra</td>\n",
              "      <td>2694.783254</td>\n",
              "      <td>19.0</td>\n",
              "      <td>2021-08-11</td>\n",
              "      <td>8</td>\n",
              "      <td>6</td>\n",
              "      <td>0</td>\n",
              "      <td>199</td>\n",
              "    </tr>\n",
              "    <tr>\n",
              "      <th>4</th>\n",
              "      <td>1</td>\n",
              "      <td>Кира</td>\n",
              "      <td>22</td>\n",
              "      <td>Тюмень</td>\n",
              "      <td>ultra</td>\n",
              "      <td>4028.687306</td>\n",
              "      <td>27.0</td>\n",
              "      <td>2021-08-28</td>\n",
              "      <td>8</td>\n",
              "      <td>6</td>\n",
              "      <td>0</td>\n",
              "      <td>199</td>\n",
              "    </tr>\n",
              "  </tbody>\n",
              "</table>\n",
              "</div>"
            ],
            "text/plain": [
              "   user_id  name  age    city subscription_type     distance  duration  \\\n",
              "0        1  Кира   22  Тюмень             ultra  4409.919140      26.0   \n",
              "1        1  Кира   22  Тюмень             ultra  2617.592153      16.0   \n",
              "2        1  Кира   22  Тюмень             ultra   754.159807       7.0   \n",
              "3        1  Кира   22  Тюмень             ultra  2694.783254      19.0   \n",
              "4        1  Кира   22  Тюмень             ultra  4028.687306      27.0   \n",
              "\n",
              "        date  month  minute_price  start_ride_price  subscription_fee  \n",
              "0 2021-01-01      1             6                 0               199  \n",
              "1 2021-01-18      1             6                 0               199  \n",
              "2 2021-04-20      4             6                 0               199  \n",
              "3 2021-08-11      8             6                 0               199  \n",
              "4 2021-08-28      8             6                 0               199  "
            ]
          },
          "execution_count": 22,
          "metadata": {},
          "output_type": "execute_result"
        }
      ],
      "source": [
        "united['duration'] = np.ceil(united['duration'])\n",
        "united.head()"
      ]
    },
    {
      "cell_type": "code",
      "execution_count": null,
      "id": "22cba52b",
      "metadata": {
        "id": "22cba52b",
        "outputId": "0077fa27-28a9-4d98-ef19-60a3712efc7a"
      },
      "outputs": [
        {
          "data": {
            "text/html": [
              "<div>\n",
              "<style scoped>\n",
              "    .dataframe tbody tr th:only-of-type {\n",
              "        vertical-align: middle;\n",
              "    }\n",
              "\n",
              "    .dataframe tbody tr th {\n",
              "        vertical-align: top;\n",
              "    }\n",
              "\n",
              "    .dataframe thead th {\n",
              "        text-align: right;\n",
              "    }\n",
              "</style>\n",
              "<table border=\"1\" class=\"dataframe\">\n",
              "  <thead>\n",
              "    <tr style=\"text-align: right;\">\n",
              "      <th></th>\n",
              "      <th>user_id</th>\n",
              "      <th>month</th>\n",
              "      <th>distance</th>\n",
              "      <th>duration</th>\n",
              "      <th>rides</th>\n",
              "    </tr>\n",
              "  </thead>\n",
              "  <tbody>\n",
              "    <tr>\n",
              "      <th>0</th>\n",
              "      <td>1</td>\n",
              "      <td>1</td>\n",
              "      <td>7027.511294</td>\n",
              "      <td>42.0</td>\n",
              "      <td>2</td>\n",
              "    </tr>\n",
              "    <tr>\n",
              "      <th>1</th>\n",
              "      <td>1</td>\n",
              "      <td>4</td>\n",
              "      <td>754.159807</td>\n",
              "      <td>7.0</td>\n",
              "      <td>1</td>\n",
              "    </tr>\n",
              "    <tr>\n",
              "      <th>2</th>\n",
              "      <td>1</td>\n",
              "      <td>8</td>\n",
              "      <td>6723.470560</td>\n",
              "      <td>46.0</td>\n",
              "      <td>2</td>\n",
              "    </tr>\n",
              "    <tr>\n",
              "      <th>3</th>\n",
              "      <td>1</td>\n",
              "      <td>10</td>\n",
              "      <td>5809.911100</td>\n",
              "      <td>32.0</td>\n",
              "      <td>2</td>\n",
              "    </tr>\n",
              "    <tr>\n",
              "      <th>4</th>\n",
              "      <td>1</td>\n",
              "      <td>11</td>\n",
              "      <td>7003.499363</td>\n",
              "      <td>56.0</td>\n",
              "      <td>3</td>\n",
              "    </tr>\n",
              "  </tbody>\n",
              "</table>\n",
              "</div>"
            ],
            "text/plain": [
              "   user_id  month     distance  duration  rides\n",
              "0        1      1  7027.511294      42.0      2\n",
              "1        1      4   754.159807       7.0      1\n",
              "2        1      8  6723.470560      46.0      2\n",
              "3        1     10  5809.911100      32.0      2\n",
              "4        1     11  7003.499363      56.0      3"
            ]
          },
          "execution_count": 23,
          "metadata": {},
          "output_type": "execute_result"
        }
      ],
      "source": [
        "#сохраним суммарное расстояние, количество поездок и суммарное время для каждого пользователя за каждый месяц\n",
        "#в датафрейм rev_table\n",
        "rev_table = united.groupby(['user_id', 'month'], as_index=False).agg({'distance': 'sum', 'duration': ['sum', 'count']})\n",
        "rev_table.columns = ['user_id', 'month', 'distance', 'duration', 'rides']\n",
        "rev_table.head()"
      ]
    },
    {
      "cell_type": "code",
      "execution_count": null,
      "id": "2fb3bcf4",
      "metadata": {
        "id": "2fb3bcf4",
        "outputId": "38de80f8-69f4-4f12-c2ec-ffd5760be99b"
      },
      "outputs": [
        {
          "data": {
            "text/html": [
              "<div>\n",
              "<style scoped>\n",
              "    .dataframe tbody tr th:only-of-type {\n",
              "        vertical-align: middle;\n",
              "    }\n",
              "\n",
              "    .dataframe tbody tr th {\n",
              "        vertical-align: top;\n",
              "    }\n",
              "\n",
              "    .dataframe thead th {\n",
              "        text-align: right;\n",
              "    }\n",
              "</style>\n",
              "<table border=\"1\" class=\"dataframe\">\n",
              "  <thead>\n",
              "    <tr style=\"text-align: right;\">\n",
              "      <th></th>\n",
              "      <th>user_id</th>\n",
              "      <th>month</th>\n",
              "      <th>distance</th>\n",
              "      <th>duration</th>\n",
              "      <th>rides</th>\n",
              "      <th>subscription_type</th>\n",
              "      <th>minute_price</th>\n",
              "      <th>start_ride_price</th>\n",
              "      <th>subscription_fee</th>\n",
              "    </tr>\n",
              "  </thead>\n",
              "  <tbody>\n",
              "    <tr>\n",
              "      <th>0</th>\n",
              "      <td>1</td>\n",
              "      <td>1</td>\n",
              "      <td>7027.511294</td>\n",
              "      <td>42.0</td>\n",
              "      <td>2</td>\n",
              "      <td>ultra</td>\n",
              "      <td>6</td>\n",
              "      <td>0</td>\n",
              "      <td>199</td>\n",
              "    </tr>\n",
              "    <tr>\n",
              "      <th>1</th>\n",
              "      <td>1</td>\n",
              "      <td>4</td>\n",
              "      <td>754.159807</td>\n",
              "      <td>7.0</td>\n",
              "      <td>1</td>\n",
              "      <td>ultra</td>\n",
              "      <td>6</td>\n",
              "      <td>0</td>\n",
              "      <td>199</td>\n",
              "    </tr>\n",
              "    <tr>\n",
              "      <th>2</th>\n",
              "      <td>1</td>\n",
              "      <td>8</td>\n",
              "      <td>6723.470560</td>\n",
              "      <td>46.0</td>\n",
              "      <td>2</td>\n",
              "      <td>ultra</td>\n",
              "      <td>6</td>\n",
              "      <td>0</td>\n",
              "      <td>199</td>\n",
              "    </tr>\n",
              "    <tr>\n",
              "      <th>3</th>\n",
              "      <td>1</td>\n",
              "      <td>10</td>\n",
              "      <td>5809.911100</td>\n",
              "      <td>32.0</td>\n",
              "      <td>2</td>\n",
              "      <td>ultra</td>\n",
              "      <td>6</td>\n",
              "      <td>0</td>\n",
              "      <td>199</td>\n",
              "    </tr>\n",
              "    <tr>\n",
              "      <th>4</th>\n",
              "      <td>1</td>\n",
              "      <td>11</td>\n",
              "      <td>7003.499363</td>\n",
              "      <td>56.0</td>\n",
              "      <td>3</td>\n",
              "      <td>ultra</td>\n",
              "      <td>6</td>\n",
              "      <td>0</td>\n",
              "      <td>199</td>\n",
              "    </tr>\n",
              "  </tbody>\n",
              "</table>\n",
              "</div>"
            ],
            "text/plain": [
              "   user_id  month     distance  duration  rides subscription_type  \\\n",
              "0        1      1  7027.511294      42.0      2             ultra   \n",
              "1        1      4   754.159807       7.0      1             ultra   \n",
              "2        1      8  6723.470560      46.0      2             ultra   \n",
              "3        1     10  5809.911100      32.0      2             ultra   \n",
              "4        1     11  7003.499363      56.0      3             ultra   \n",
              "\n",
              "   minute_price  start_ride_price  subscription_fee  \n",
              "0             6                 0               199  \n",
              "1             6                 0               199  \n",
              "2             6                 0               199  \n",
              "3             6                 0               199  \n",
              "4             6                 0               199  "
            ]
          },
          "execution_count": 24,
          "metadata": {},
          "output_type": "execute_result"
        }
      ],
      "source": [
        "#сохраним данные из united, необходимые для рассчёта помесячной выручки с каждого пользователя в датафрейм t1\n",
        "t1 = united[['user_id', 'month', 'subscription_type', 'minute_price', 'start_ride_price', 'subscription_fee']]\n",
        "t1 = t1.drop_duplicates()\n",
        "#объединим rev_table и t1\n",
        "rev_table = rev_table.merge(t1, on=['user_id', 'month'], how='left')\n",
        "rev_table.head()"
      ]
    },
    {
      "cell_type": "code",
      "execution_count": null,
      "id": "60ccd4b2",
      "metadata": {
        "id": "60ccd4b2",
        "outputId": "b9daaf0a-a081-4de7-d945-b9be2f1f1d1d"
      },
      "outputs": [
        {
          "data": {
            "text/html": [
              "<div>\n",
              "<style scoped>\n",
              "    .dataframe tbody tr th:only-of-type {\n",
              "        vertical-align: middle;\n",
              "    }\n",
              "\n",
              "    .dataframe tbody tr th {\n",
              "        vertical-align: top;\n",
              "    }\n",
              "\n",
              "    .dataframe thead th {\n",
              "        text-align: right;\n",
              "    }\n",
              "</style>\n",
              "<table border=\"1\" class=\"dataframe\">\n",
              "  <thead>\n",
              "    <tr style=\"text-align: right;\">\n",
              "      <th></th>\n",
              "      <th>user_id</th>\n",
              "      <th>month</th>\n",
              "      <th>distance</th>\n",
              "      <th>duration</th>\n",
              "      <th>rides</th>\n",
              "      <th>subscription_type</th>\n",
              "      <th>minute_price</th>\n",
              "      <th>start_ride_price</th>\n",
              "      <th>subscription_fee</th>\n",
              "      <th>revenue</th>\n",
              "    </tr>\n",
              "  </thead>\n",
              "  <tbody>\n",
              "    <tr>\n",
              "      <th>0</th>\n",
              "      <td>1</td>\n",
              "      <td>1</td>\n",
              "      <td>7027.511294</td>\n",
              "      <td>42.0</td>\n",
              "      <td>2</td>\n",
              "      <td>ultra</td>\n",
              "      <td>6</td>\n",
              "      <td>0</td>\n",
              "      <td>199</td>\n",
              "      <td>451.0</td>\n",
              "    </tr>\n",
              "    <tr>\n",
              "      <th>1</th>\n",
              "      <td>1</td>\n",
              "      <td>4</td>\n",
              "      <td>754.159807</td>\n",
              "      <td>7.0</td>\n",
              "      <td>1</td>\n",
              "      <td>ultra</td>\n",
              "      <td>6</td>\n",
              "      <td>0</td>\n",
              "      <td>199</td>\n",
              "      <td>241.0</td>\n",
              "    </tr>\n",
              "    <tr>\n",
              "      <th>2</th>\n",
              "      <td>1</td>\n",
              "      <td>8</td>\n",
              "      <td>6723.470560</td>\n",
              "      <td>46.0</td>\n",
              "      <td>2</td>\n",
              "      <td>ultra</td>\n",
              "      <td>6</td>\n",
              "      <td>0</td>\n",
              "      <td>199</td>\n",
              "      <td>475.0</td>\n",
              "    </tr>\n",
              "    <tr>\n",
              "      <th>3</th>\n",
              "      <td>1</td>\n",
              "      <td>10</td>\n",
              "      <td>5809.911100</td>\n",
              "      <td>32.0</td>\n",
              "      <td>2</td>\n",
              "      <td>ultra</td>\n",
              "      <td>6</td>\n",
              "      <td>0</td>\n",
              "      <td>199</td>\n",
              "      <td>391.0</td>\n",
              "    </tr>\n",
              "    <tr>\n",
              "      <th>4</th>\n",
              "      <td>1</td>\n",
              "      <td>11</td>\n",
              "      <td>7003.499363</td>\n",
              "      <td>56.0</td>\n",
              "      <td>3</td>\n",
              "      <td>ultra</td>\n",
              "      <td>6</td>\n",
              "      <td>0</td>\n",
              "      <td>199</td>\n",
              "      <td>535.0</td>\n",
              "    </tr>\n",
              "  </tbody>\n",
              "</table>\n",
              "</div>"
            ],
            "text/plain": [
              "   user_id  month     distance  duration  rides subscription_type  \\\n",
              "0        1      1  7027.511294      42.0      2             ultra   \n",
              "1        1      4   754.159807       7.0      1             ultra   \n",
              "2        1      8  6723.470560      46.0      2             ultra   \n",
              "3        1     10  5809.911100      32.0      2             ultra   \n",
              "4        1     11  7003.499363      56.0      3             ultra   \n",
              "\n",
              "   minute_price  start_ride_price  subscription_fee  revenue  \n",
              "0             6                 0               199    451.0  \n",
              "1             6                 0               199    241.0  \n",
              "2             6                 0               199    475.0  \n",
              "3             6                 0               199    391.0  \n",
              "4             6                 0               199    535.0  "
            ]
          },
          "execution_count": 25,
          "metadata": {},
          "output_type": "execute_result"
        }
      ],
      "source": [
        "#добавим в rev_table столбец revenue с рассчитанной выручкой\n",
        "rev_table['revenue'] = rev_table['rides'] * rev_table['start_ride_price'] + rev_table['duration'] * rev_table['minute_price'] + rev_table['subscription_fee']\n",
        "\n",
        "rev_table.head()"
      ]
    },
    {
      "cell_type": "code",
      "execution_count": null,
      "id": "f069c24f",
      "metadata": {
        "id": "f069c24f",
        "outputId": "b912e808-9ed4-49c7-d86b-e1ff2ff15c5e"
      },
      "outputs": [
        {
          "data": {
            "text/html": [
              "<div>\n",
              "<style scoped>\n",
              "    .dataframe tbody tr th:only-of-type {\n",
              "        vertical-align: middle;\n",
              "    }\n",
              "\n",
              "    .dataframe tbody tr th {\n",
              "        vertical-align: top;\n",
              "    }\n",
              "\n",
              "    .dataframe thead th {\n",
              "        text-align: right;\n",
              "    }\n",
              "</style>\n",
              "<table border=\"1\" class=\"dataframe\">\n",
              "  <thead>\n",
              "    <tr style=\"text-align: right;\">\n",
              "      <th></th>\n",
              "      <th>user_id</th>\n",
              "      <th>month</th>\n",
              "      <th>distance</th>\n",
              "      <th>duration</th>\n",
              "      <th>rides</th>\n",
              "      <th>subscription_type</th>\n",
              "      <th>revenue</th>\n",
              "    </tr>\n",
              "  </thead>\n",
              "  <tbody>\n",
              "    <tr>\n",
              "      <th>0</th>\n",
              "      <td>1</td>\n",
              "      <td>1</td>\n",
              "      <td>7027.511294</td>\n",
              "      <td>42.0</td>\n",
              "      <td>2</td>\n",
              "      <td>ultra</td>\n",
              "      <td>451.0</td>\n",
              "    </tr>\n",
              "    <tr>\n",
              "      <th>1</th>\n",
              "      <td>1</td>\n",
              "      <td>4</td>\n",
              "      <td>754.159807</td>\n",
              "      <td>7.0</td>\n",
              "      <td>1</td>\n",
              "      <td>ultra</td>\n",
              "      <td>241.0</td>\n",
              "    </tr>\n",
              "    <tr>\n",
              "      <th>2</th>\n",
              "      <td>1</td>\n",
              "      <td>8</td>\n",
              "      <td>6723.470560</td>\n",
              "      <td>46.0</td>\n",
              "      <td>2</td>\n",
              "      <td>ultra</td>\n",
              "      <td>475.0</td>\n",
              "    </tr>\n",
              "    <tr>\n",
              "      <th>3</th>\n",
              "      <td>1</td>\n",
              "      <td>10</td>\n",
              "      <td>5809.911100</td>\n",
              "      <td>32.0</td>\n",
              "      <td>2</td>\n",
              "      <td>ultra</td>\n",
              "      <td>391.0</td>\n",
              "    </tr>\n",
              "    <tr>\n",
              "      <th>4</th>\n",
              "      <td>1</td>\n",
              "      <td>11</td>\n",
              "      <td>7003.499363</td>\n",
              "      <td>56.0</td>\n",
              "      <td>3</td>\n",
              "      <td>ultra</td>\n",
              "      <td>535.0</td>\n",
              "    </tr>\n",
              "  </tbody>\n",
              "</table>\n",
              "</div>"
            ],
            "text/plain": [
              "   user_id  month     distance  duration  rides subscription_type  revenue\n",
              "0        1      1  7027.511294      42.0      2             ultra    451.0\n",
              "1        1      4   754.159807       7.0      1             ultra    241.0\n",
              "2        1      8  6723.470560      46.0      2             ultra    475.0\n",
              "3        1     10  5809.911100      32.0      2             ultra    391.0\n",
              "4        1     11  7003.499363      56.0      3             ultra    535.0"
            ]
          },
          "execution_count": 26,
          "metadata": {},
          "output_type": "execute_result"
        }
      ],
      "source": [
        "#удалим из rev_table лишние столбцы\n",
        "rev_table.drop(columns=['minute_price', 'start_ride_price', 'subscription_fee'], inplace=True)\n",
        "rev_table.head()"
      ]
    },
    {
      "cell_type": "markdown",
      "id": "3e221a35",
      "metadata": {
        "id": "3e221a35"
      },
      "source": [
        "### Шаг 6. Проверка гипотез"
      ]
    },
    {
      "cell_type": "markdown",
      "id": "d6ec99a6",
      "metadata": {
        "id": "d6ec99a6"
      },
      "source": [
        "#### Гипотеза №1"
      ]
    },
    {
      "cell_type": "markdown",
      "id": "f366e02c",
      "metadata": {
        "id": "f366e02c"
      },
      "source": [
        "**Нулевая гипотеза:** средняя продолжительность поездки у пользователей с подпиской и без - равны\n",
        "\n",
        "**Альтернативная гипотеза:** средняя продолжительность поездки у пользователей с подпиской больше, чем у пользователей без"
      ]
    },
    {
      "cell_type": "code",
      "execution_count": null,
      "id": "15743312",
      "metadata": {
        "id": "15743312",
        "outputId": "eb93f8d2-06f1-42d6-a078-8cd6130f2645"
      },
      "outputs": [
        {
          "name": "stdout",
          "output_type": "stream",
          "text": [
            "среднее первой выборки: 17.39090929866399\n",
            "среднее второй выборки: 18.54198516280583\n",
            "p-value: 1.2804098316645618e-34\n",
            "Нулевая гипотеза отвергнута\n"
          ]
        }
      ],
      "source": [
        "sample1 = sub_free['duration']\n",
        "sample2 = sub_ultra['duration']\n",
        "\n",
        "print('среднее первой выборки:', sample1.mean())\n",
        "print('среднее второй выборки:', sample2.mean())\n",
        "\n",
        "alpha = 0.05\n",
        "\n",
        "results = st.ttest_ind(sample1, sample2, alternative='less')\n",
        "\n",
        "print('p-value:', results.pvalue)\n",
        "\n",
        "if results.pvalue < alpha:\n",
        "    print('Нулевая гипотеза отвергнута')\n",
        "else:\n",
        "    print('Нулевая гипотеза не отвергнута')"
      ]
    },
    {
      "cell_type": "markdown",
      "id": "38e2f888",
      "metadata": {
        "id": "38e2f888"
      },
      "source": [
        "Нулевая гипотеза отвергнута, следовательно, **есть основание считать, что средняя продолжительность поездки у пользователей с подпиской больше, чем у пользователей без**."
      ]
    },
    {
      "cell_type": "markdown",
      "id": "c1a616cb",
      "metadata": {
        "id": "c1a616cb"
      },
      "source": [
        "#### Гипотеза №2"
      ]
    },
    {
      "cell_type": "markdown",
      "id": "215caa0a",
      "metadata": {
        "id": "215caa0a"
      },
      "source": [
        "**Нулевая гипотеза:** среднее расстояние поездки у пользователей с подпиской равно 3130 м\n",
        "\n",
        "**Альтернативная гипотеза:** среднее расстояние поездки у пользователей с подпиской больше 3130 м"
      ]
    },
    {
      "cell_type": "code",
      "execution_count": null,
      "id": "52fb10bf",
      "metadata": {
        "id": "52fb10bf",
        "outputId": "454286bb-dbcf-4f40-d6c4-5289d0167290"
      },
      "outputs": [
        {
          "name": "stdout",
          "output_type": "stream",
          "text": [
            "среднее выборки: 3115.4453880370247\n",
            "p-value: 0.9195368847849785\n",
            "Нулевая гипотеза не отвергнута\n"
          ]
        }
      ],
      "source": [
        "sample = sub_ultra['distance']\n",
        "\n",
        "print('среднее выборки:', sample.mean())\n",
        "\n",
        "value = 3130\n",
        "alpha = 0.05\n",
        "\n",
        "results = st.ttest_1samp(sample, value, alternative='greater')\n",
        "\n",
        "print('p-value:', results.pvalue)\n",
        "\n",
        "if results.pvalue < alpha:\n",
        "    print('Нулевая гипотеза отвергнута')\n",
        "else:\n",
        "    print('Нулевая гипотеза не отвергнута')"
      ]
    },
    {
      "cell_type": "markdown",
      "id": "42b39c26",
      "metadata": {
        "id": "42b39c26"
      },
      "source": [
        "Нулевая гипотеза не отвергнута, следовательно, **есть основание считать, что среднее расстояние поездки у пользователей с подпиской не превышает 3130 м**."
      ]
    },
    {
      "cell_type": "markdown",
      "id": "2e27acb1",
      "metadata": {
        "id": "2e27acb1"
      },
      "source": [
        "#### Гипотеза №3"
      ]
    },
    {
      "cell_type": "markdown",
      "id": "2837ae5a",
      "metadata": {
        "id": "2837ae5a"
      },
      "source": [
        "**Нулевая гипотеза:** средняя выручка от пользователей с подпиской и от пользователей без - равны\n",
        "\n",
        "**Альтернативная гипотеза:** средняя выручка от пользователей с подпиской больше, чем от пользователей без"
      ]
    },
    {
      "cell_type": "code",
      "execution_count": null,
      "id": "5ed5cd9f",
      "metadata": {
        "id": "5ed5cd9f"
      },
      "outputs": [],
      "source": [
        "#создадим датафрейм rev_free с данными с типом подписки free\n",
        "rev_free = rev_table.query('subscription_type == \"free\"')\n",
        "\n",
        "#создадим датафрейм rev_ultra с данными с типом подписки ultra\n",
        "rev_ultra = rev_table.query('subscription_type == \"ultra\"')"
      ]
    },
    {
      "cell_type": "code",
      "execution_count": null,
      "id": "893f050b",
      "metadata": {
        "id": "893f050b",
        "outputId": "0b0e6b30-d320-4e33-b728-34584b5b1b30"
      },
      "outputs": [
        {
          "name": "stdout",
          "output_type": "stream",
          "text": [
            "среднее первой выборки: 328.6413651073845\n",
            "среднее второй выборки: 362.7921906022502\n",
            "p-value: 1.8850394384715216e-31\n",
            "Нулевая гипотеза отвергнута\n"
          ]
        }
      ],
      "source": [
        "sample1 = rev_free['revenue']\n",
        "sample2 = rev_ultra['revenue']\n",
        "\n",
        "print('среднее первой выборки:', sample1.mean())\n",
        "print('среднее второй выборки:', sample2.mean())\n",
        "\n",
        "alpha = 0.05\n",
        "\n",
        "results = st.ttest_ind(sample1, sample2, alternative='less')\n",
        "\n",
        "print('p-value:', results.pvalue)\n",
        "\n",
        "if results.pvalue < alpha:\n",
        "    print('Нулевая гипотеза отвергнута')\n",
        "else:\n",
        "    print('Нулевая гипотеза не отвергнута')"
      ]
    },
    {
      "cell_type": "markdown",
      "id": "9757ed1a",
      "metadata": {
        "id": "9757ed1a"
      },
      "source": [
        "Нулевая гипотеза отвергнута, следовательно, **есть основание считать, что средняя выручка от пользователей с подпиской больше, чем от пользователей без**."
      ]
    },
    {
      "cell_type": "markdown",
      "id": "5e1d7d94",
      "metadata": {
        "id": "5e1d7d94"
      },
      "source": [
        "#### Гипотеза №4"
      ]
    },
    {
      "cell_type": "markdown",
      "id": "e1e1e977",
      "metadata": {
        "id": "e1e1e977"
      },
      "source": [
        "*Вопрос:*\n",
        "Выдвинута гипотеза о том, что из-за обновления серверов мобильного приложения количество обращений в техподдержку значимо снизилось. Некоторый файл содержит для каждого пользователя данные о количестве обращений до обновления серверов и после него. Какой тест понадобился бы для проверки этой гипотезы?\n",
        "\n",
        "*Ответ:*\n",
        "Для проверки последней гипотезы понадобился бы **двухвыборочный t-тест для зависимых выборок** - метод `st.ttest_rel`."
      ]
    },
    {
      "cell_type": "markdown",
      "id": "e06b331b",
      "metadata": {
        "id": "e06b331b"
      },
      "source": [
        "### Вывод"
      ]
    },
    {
      "cell_type": "markdown",
      "id": "7a1c4674",
      "metadata": {
        "id": "7a1c4674"
      },
      "source": [
        "#### Загрузка данных\n",
        "\n",
        "Для исследования были загружены три датафрейма с основной информацией *о пользователях* (`users`), *о поездках* (`rides`) и *о подписках* (`subs`).\n",
        "\n",
        "#### Предобработка данных\n",
        "\n",
        "В ходе исследования была проведена предобработка данных:\n",
        "\n",
        "1. данные столбца `date` датафрейма `rides` были приведены к типу `datetime`,\n",
        "\n",
        "2. в датафрейм `rides` был добавлен столбец `month` с номером месяца поездки,\n",
        "\n",
        "3. из датафрейма `users` были удалены посторяющиеся строки.\n",
        "\n",
        "#### Исследовательский анализ данных\n",
        "\n",
        "Был проведён исследовательский анализ данных о *частоте встречаемости городов*, *соотношении пользователей с подпиской и без*, *возрасте пользователей*, *расстоянии, преодолеваемом за одну поездку*, а также о *продолжительности поездок*. Получены следующие выводы:\n",
        "\n",
        "1. наибольшее число пользователей - в **Пятигорске**, наименьшее - в **Москве**,\n",
        "\n",
        "2. больше половины пользователей используют сервис **без подписки**,\n",
        "\n",
        "3. возраст пользователей *распределён нормально* вокруг среднего значения **25 лет**,\n",
        "\n",
        "4. расстояние, преодолеваемое за одну поездку, подчинено *нормальному распределению* вокруг значения **около 3200 метров**,\n",
        "\n",
        "5. продолжительность поездки подчинена *нормальному распределению* вокруг значения **около 18 минут**.\n",
        "\n",
        "#### Объединение данных\n",
        "\n",
        "Датафреймы `users`, `rides` и `subs` были объединены в общий датафрейм `united`. На основе датафрейма `united` были созданы датафреймы `sub_ultra` и `sub_free` с данными о пользователях с подпиской и без подписки соответственно.\n",
        "\n",
        "Были построены гистограммы распределений *расстояния, преодолеваемого за поездку,* и *продолжительности поездки* для пользователей с подпиской и без подписки. Обнаружено следующее:\n",
        "\n",
        "1. Распределение расстояния, преодолеваемого за поездку пользователями *без подписки*, имеет больший пик значений меньше 1000 метров, чем у пользователей *с подпиской*. Это может означать, что пользователи *без подписки* чаще нанимают самокаты для  коротких поездок, чем пользователи *с подпиской*.\n",
        "\n",
        "2. Распределение продолжительности поездки пользователей *без подписки* имеет пик около 0 минут, отсутствующий у пользователей *с подпиской*. Этот пик может быть объяснён тем, что пользователи *без подписки* чаще совершают более короткие поездки.\n",
        "\n",
        "#### Подсчёт выручки\n",
        "\n",
        "Был произведён подсчёт выручки, принесённой каждым пользователем за каждый месяц.\n",
        "\n",
        "#### Проверка гипотез\n",
        "\n",
        "В результате статистического анализа данных были проверены три гипотезы, получены следующие выводы:\n",
        "\n",
        "1. Есть основание считать, что средняя продолжительность поездки **у пользователей с подпиской больше**, чем у пользователей без подписки.\n",
        "\n",
        "2. Есть основание считать, что среднее расстояние поездки у пользователей с подпиской **не превышает 3130 м**.\n",
        "\n",
        "3. Есть основание считать, что средняя выручка **от пользователей с подпиской больше**, чем от пользователей без подписки."
      ]
    }
  ],
  "metadata": {
    "ExecuteTimeLog": [
      {
        "duration": 462,
        "start_time": "2024-05-31T08:39:20.219Z"
      },
      {
        "duration": 106,
        "start_time": "2024-05-31T08:40:36.128Z"
      },
      {
        "duration": 46,
        "start_time": "2024-05-31T08:41:34.100Z"
      },
      {
        "duration": 42,
        "start_time": "2024-05-31T08:43:44.915Z"
      },
      {
        "duration": 186,
        "start_time": "2024-05-31T08:44:54.787Z"
      },
      {
        "duration": 94,
        "start_time": "2024-05-31T08:46:01.230Z"
      },
      {
        "duration": 42,
        "start_time": "2024-05-31T08:49:00.021Z"
      },
      {
        "duration": 41,
        "start_time": "2024-05-31T08:49:07.239Z"
      },
      {
        "duration": 51,
        "start_time": "2024-05-31T08:49:18.896Z"
      },
      {
        "duration": 42,
        "start_time": "2024-05-31T08:49:28.351Z"
      },
      {
        "duration": 38,
        "start_time": "2024-05-31T08:50:32.484Z"
      },
      {
        "duration": 8,
        "start_time": "2024-05-31T08:57:10.271Z"
      },
      {
        "duration": 56,
        "start_time": "2024-05-31T08:57:21.454Z"
      },
      {
        "duration": 19,
        "start_time": "2024-05-31T08:57:51.757Z"
      },
      {
        "duration": 21,
        "start_time": "2024-05-31T08:58:44.500Z"
      },
      {
        "duration": 70,
        "start_time": "2024-05-31T09:00:58.225Z"
      },
      {
        "duration": 8,
        "start_time": "2024-05-31T09:01:03.589Z"
      },
      {
        "duration": 11,
        "start_time": "2024-05-31T09:01:19.799Z"
      },
      {
        "duration": 5,
        "start_time": "2024-05-31T09:10:52.878Z"
      },
      {
        "duration": 14,
        "start_time": "2024-05-31T09:11:56.697Z"
      },
      {
        "duration": 8,
        "start_time": "2024-05-31T09:12:09.308Z"
      },
      {
        "duration": 12,
        "start_time": "2024-05-31T09:13:00.846Z"
      },
      {
        "duration": 7,
        "start_time": "2024-05-31T09:15:59.427Z"
      },
      {
        "duration": 13,
        "start_time": "2024-05-31T09:16:10.441Z"
      },
      {
        "duration": 13,
        "start_time": "2024-05-31T09:17:16.961Z"
      },
      {
        "duration": 19,
        "start_time": "2024-05-31T09:17:54.304Z"
      },
      {
        "duration": 16,
        "start_time": "2024-05-31T09:18:36.675Z"
      },
      {
        "duration": 17,
        "start_time": "2024-05-31T09:19:08.899Z"
      },
      {
        "duration": 11,
        "start_time": "2024-05-31T09:19:44.924Z"
      },
      {
        "duration": 8,
        "start_time": "2024-05-31T09:28:25.933Z"
      },
      {
        "duration": 7,
        "start_time": "2024-05-31T09:28:42.595Z"
      },
      {
        "duration": 598,
        "start_time": "2024-05-31T09:29:08.613Z"
      },
      {
        "duration": 173,
        "start_time": "2024-05-31T09:31:27.184Z"
      },
      {
        "duration": 152,
        "start_time": "2024-05-31T09:34:44.229Z"
      },
      {
        "duration": 24,
        "start_time": "2024-05-31T09:36:12.036Z"
      },
      {
        "duration": 8,
        "start_time": "2024-05-31T09:36:37.038Z"
      },
      {
        "duration": 141,
        "start_time": "2024-05-31T09:36:54.686Z"
      },
      {
        "duration": 291,
        "start_time": "2024-05-31T09:39:31.366Z"
      },
      {
        "duration": 191,
        "start_time": "2024-05-31T09:39:42.479Z"
      },
      {
        "duration": 327,
        "start_time": "2024-05-31T09:40:00.170Z"
      },
      {
        "duration": 339,
        "start_time": "2024-05-31T09:40:50.853Z"
      },
      {
        "duration": 315,
        "start_time": "2024-05-31T09:41:13.480Z"
      },
      {
        "duration": 161,
        "start_time": "2024-05-31T09:44:09.053Z"
      },
      {
        "duration": 153,
        "start_time": "2024-05-31T09:46:36.498Z"
      },
      {
        "duration": 261,
        "start_time": "2024-05-31T09:46:45.164Z"
      },
      {
        "duration": 268,
        "start_time": "2024-05-31T09:47:21.396Z"
      },
      {
        "duration": 11,
        "start_time": "2024-05-31T10:11:00.957Z"
      },
      {
        "duration": 27,
        "start_time": "2024-05-31T10:11:10.403Z"
      },
      {
        "duration": 27,
        "start_time": "2024-05-31T10:14:37.235Z"
      },
      {
        "duration": 16,
        "start_time": "2024-05-31T10:14:46.089Z"
      },
      {
        "duration": 9,
        "start_time": "2024-05-31T10:17:14.547Z"
      },
      {
        "duration": 12,
        "start_time": "2024-05-31T10:17:20.385Z"
      },
      {
        "duration": 61,
        "start_time": "2024-05-31T10:20:15.612Z"
      },
      {
        "duration": 9,
        "start_time": "2024-05-31T10:24:41.994Z"
      },
      {
        "duration": 24,
        "start_time": "2024-05-31T10:24:54.019Z"
      },
      {
        "duration": 8,
        "start_time": "2024-05-31T10:25:57.084Z"
      },
      {
        "duration": 7,
        "start_time": "2024-05-31T10:26:18.062Z"
      },
      {
        "duration": 11,
        "start_time": "2024-05-31T10:26:33.076Z"
      },
      {
        "duration": 15,
        "start_time": "2024-05-31T10:26:38.964Z"
      },
      {
        "duration": 7,
        "start_time": "2024-05-31T10:26:44.383Z"
      },
      {
        "duration": 259,
        "start_time": "2024-05-31T10:28:45.114Z"
      },
      {
        "duration": 515,
        "start_time": "2024-05-31T10:28:59.977Z"
      },
      {
        "duration": 251,
        "start_time": "2024-05-31T10:29:09.789Z"
      },
      {
        "duration": 266,
        "start_time": "2024-05-31T10:29:14.935Z"
      },
      {
        "duration": 259,
        "start_time": "2024-05-31T10:32:36.716Z"
      },
      {
        "duration": 281,
        "start_time": "2024-05-31T10:32:44.333Z"
      },
      {
        "duration": 14,
        "start_time": "2024-05-31T10:46:51.232Z"
      },
      {
        "duration": 15,
        "start_time": "2024-05-31T10:48:13.070Z"
      },
      {
        "duration": 22,
        "start_time": "2024-05-31T10:48:23.975Z"
      },
      {
        "duration": 224,
        "start_time": "2024-05-31T10:52:52.572Z"
      },
      {
        "duration": 20,
        "start_time": "2024-05-31T10:53:19.191Z"
      },
      {
        "duration": 26,
        "start_time": "2024-05-31T10:54:57.248Z"
      },
      {
        "duration": 24,
        "start_time": "2024-05-31T11:03:20.688Z"
      },
      {
        "duration": 3,
        "start_time": "2024-05-31T11:06:22.668Z"
      },
      {
        "duration": 20,
        "start_time": "2024-05-31T11:06:28.849Z"
      },
      {
        "duration": 12,
        "start_time": "2024-05-31T11:06:37.714Z"
      },
      {
        "duration": 434,
        "start_time": "2024-05-31T11:06:46.837Z"
      },
      {
        "duration": 50,
        "start_time": "2024-05-31T11:06:47.273Z"
      },
      {
        "duration": 41,
        "start_time": "2024-05-31T11:06:47.325Z"
      },
      {
        "duration": 26,
        "start_time": "2024-05-31T11:06:47.368Z"
      },
      {
        "duration": 14,
        "start_time": "2024-05-31T11:06:47.396Z"
      },
      {
        "duration": 12,
        "start_time": "2024-05-31T11:06:47.412Z"
      },
      {
        "duration": 30,
        "start_time": "2024-05-31T11:06:47.426Z"
      },
      {
        "duration": 17,
        "start_time": "2024-05-31T11:06:47.458Z"
      },
      {
        "duration": 443,
        "start_time": "2024-05-31T11:06:47.476Z"
      },
      {
        "duration": 136,
        "start_time": "2024-05-31T11:06:47.921Z"
      },
      {
        "duration": 172,
        "start_time": "2024-05-31T11:06:48.058Z"
      },
      {
        "duration": 264,
        "start_time": "2024-05-31T11:06:48.232Z"
      },
      {
        "duration": 308,
        "start_time": "2024-05-31T11:06:48.497Z"
      },
      {
        "duration": 17,
        "start_time": "2024-05-31T11:06:48.807Z"
      },
      {
        "duration": 9,
        "start_time": "2024-05-31T11:06:48.825Z"
      },
      {
        "duration": 21,
        "start_time": "2024-05-31T11:06:48.835Z"
      },
      {
        "duration": 263,
        "start_time": "2024-05-31T11:06:48.857Z"
      },
      {
        "duration": 267,
        "start_time": "2024-05-31T11:06:49.122Z"
      },
      {
        "duration": 254,
        "start_time": "2024-05-31T11:06:49.390Z"
      },
      {
        "duration": 260,
        "start_time": "2024-05-31T11:06:49.645Z"
      },
      {
        "duration": 12,
        "start_time": "2024-05-31T11:06:49.907Z"
      },
      {
        "duration": 27,
        "start_time": "2024-05-31T11:06:49.920Z"
      },
      {
        "duration": 29,
        "start_time": "2024-05-31T11:07:07.401Z"
      },
      {
        "duration": 30,
        "start_time": "2024-05-31T11:09:28.395Z"
      },
      {
        "duration": 980,
        "start_time": "2024-05-31T11:21:25.472Z"
      },
      {
        "duration": 9,
        "start_time": "2024-05-31T11:30:26.907Z"
      },
      {
        "duration": 14,
        "start_time": "2024-05-31T11:30:36.371Z"
      },
      {
        "duration": 942,
        "start_time": "2024-05-31T11:33:59.502Z"
      },
      {
        "duration": 31,
        "start_time": "2024-05-31T11:40:27.266Z"
      },
      {
        "duration": 28,
        "start_time": "2024-05-31T11:40:34.773Z"
      },
      {
        "duration": 930,
        "start_time": "2024-05-31T11:40:57.755Z"
      },
      {
        "duration": 7,
        "start_time": "2024-05-31T11:41:29.026Z"
      },
      {
        "duration": 15,
        "start_time": "2024-05-31T11:44:47.347Z"
      },
      {
        "duration": 30,
        "start_time": "2024-05-31T11:45:33.090Z"
      },
      {
        "duration": 30,
        "start_time": "2024-05-31T11:46:27.125Z"
      },
      {
        "duration": 420,
        "start_time": "2024-05-31T11:47:40.772Z"
      },
      {
        "duration": 50,
        "start_time": "2024-05-31T11:47:41.194Z"
      },
      {
        "duration": 44,
        "start_time": "2024-05-31T11:47:41.245Z"
      },
      {
        "duration": 27,
        "start_time": "2024-05-31T11:47:41.291Z"
      },
      {
        "duration": 15,
        "start_time": "2024-05-31T11:47:41.320Z"
      },
      {
        "duration": 37,
        "start_time": "2024-05-31T11:47:41.336Z"
      },
      {
        "duration": 14,
        "start_time": "2024-05-31T11:47:41.375Z"
      },
      {
        "duration": 22,
        "start_time": "2024-05-31T11:47:41.392Z"
      },
      {
        "duration": 441,
        "start_time": "2024-05-31T11:47:41.416Z"
      },
      {
        "duration": 141,
        "start_time": "2024-05-31T11:47:41.859Z"
      },
      {
        "duration": 163,
        "start_time": "2024-05-31T11:47:42.001Z"
      },
      {
        "duration": 281,
        "start_time": "2024-05-31T11:47:42.166Z"
      },
      {
        "duration": 311,
        "start_time": "2024-05-31T11:47:42.449Z"
      },
      {
        "duration": 18,
        "start_time": "2024-05-31T11:47:42.762Z"
      },
      {
        "duration": 10,
        "start_time": "2024-05-31T11:47:42.782Z"
      },
      {
        "duration": 12,
        "start_time": "2024-05-31T11:47:42.793Z"
      },
      {
        "duration": 309,
        "start_time": "2024-05-31T11:47:42.806Z"
      },
      {
        "duration": 261,
        "start_time": "2024-05-31T11:47:43.117Z"
      },
      {
        "duration": 252,
        "start_time": "2024-05-31T11:47:43.379Z"
      },
      {
        "duration": 277,
        "start_time": "2024-05-31T11:47:43.633Z"
      },
      {
        "duration": 15,
        "start_time": "2024-05-31T11:47:43.912Z"
      },
      {
        "duration": 28,
        "start_time": "2024-05-31T11:47:43.929Z"
      },
      {
        "duration": 38,
        "start_time": "2024-05-31T11:47:43.959Z"
      },
      {
        "duration": 17,
        "start_time": "2024-05-31T11:49:52.226Z"
      },
      {
        "duration": 31,
        "start_time": "2024-05-31T11:49:56.195Z"
      },
      {
        "duration": 33,
        "start_time": "2024-05-31T12:24:54.405Z"
      },
      {
        "duration": 31,
        "start_time": "2024-05-31T12:25:11.414Z"
      },
      {
        "duration": 55,
        "start_time": "2024-05-31T12:30:25.905Z"
      },
      {
        "duration": 0,
        "start_time": "2024-05-31T12:30:25.962Z"
      },
      {
        "duration": 0,
        "start_time": "2024-05-31T12:30:25.963Z"
      },
      {
        "duration": 0,
        "start_time": "2024-05-31T12:30:25.964Z"
      },
      {
        "duration": 0,
        "start_time": "2024-05-31T12:30:25.965Z"
      },
      {
        "duration": 0,
        "start_time": "2024-05-31T12:30:25.966Z"
      },
      {
        "duration": 0,
        "start_time": "2024-05-31T12:30:25.967Z"
      },
      {
        "duration": 0,
        "start_time": "2024-05-31T12:30:25.968Z"
      },
      {
        "duration": 0,
        "start_time": "2024-05-31T12:30:25.969Z"
      },
      {
        "duration": 0,
        "start_time": "2024-05-31T12:30:25.970Z"
      },
      {
        "duration": 0,
        "start_time": "2024-05-31T12:30:25.971Z"
      },
      {
        "duration": 0,
        "start_time": "2024-05-31T12:30:25.972Z"
      },
      {
        "duration": 0,
        "start_time": "2024-05-31T12:30:25.973Z"
      },
      {
        "duration": 0,
        "start_time": "2024-05-31T12:30:25.974Z"
      },
      {
        "duration": 0,
        "start_time": "2024-05-31T12:30:25.975Z"
      },
      {
        "duration": 0,
        "start_time": "2024-05-31T12:30:25.976Z"
      },
      {
        "duration": 0,
        "start_time": "2024-05-31T12:30:25.977Z"
      },
      {
        "duration": 0,
        "start_time": "2024-05-31T12:30:25.978Z"
      },
      {
        "duration": 0,
        "start_time": "2024-05-31T12:30:25.979Z"
      },
      {
        "duration": 0,
        "start_time": "2024-05-31T12:30:25.980Z"
      },
      {
        "duration": 0,
        "start_time": "2024-05-31T12:30:25.981Z"
      },
      {
        "duration": 0,
        "start_time": "2024-05-31T12:30:25.982Z"
      },
      {
        "duration": 0,
        "start_time": "2024-05-31T12:30:25.983Z"
      },
      {
        "duration": 0,
        "start_time": "2024-05-31T12:30:25.984Z"
      },
      {
        "duration": 55,
        "start_time": "2024-05-31T12:34:16.535Z"
      },
      {
        "duration": 0,
        "start_time": "2024-05-31T12:34:16.593Z"
      },
      {
        "duration": 0,
        "start_time": "2024-05-31T12:34:16.597Z"
      },
      {
        "duration": 0,
        "start_time": "2024-05-31T12:34:16.598Z"
      },
      {
        "duration": 0,
        "start_time": "2024-05-31T12:34:16.600Z"
      },
      {
        "duration": 0,
        "start_time": "2024-05-31T12:34:16.602Z"
      },
      {
        "duration": 0,
        "start_time": "2024-05-31T12:34:16.603Z"
      },
      {
        "duration": 0,
        "start_time": "2024-05-31T12:34:16.604Z"
      },
      {
        "duration": 0,
        "start_time": "2024-05-31T12:34:16.605Z"
      },
      {
        "duration": 0,
        "start_time": "2024-05-31T12:34:16.607Z"
      },
      {
        "duration": 0,
        "start_time": "2024-05-31T12:34:16.608Z"
      },
      {
        "duration": 0,
        "start_time": "2024-05-31T12:34:16.609Z"
      },
      {
        "duration": 0,
        "start_time": "2024-05-31T12:34:16.610Z"
      },
      {
        "duration": 0,
        "start_time": "2024-05-31T12:34:16.611Z"
      },
      {
        "duration": 0,
        "start_time": "2024-05-31T12:34:16.612Z"
      },
      {
        "duration": 0,
        "start_time": "2024-05-31T12:34:16.613Z"
      },
      {
        "duration": 0,
        "start_time": "2024-05-31T12:34:16.615Z"
      },
      {
        "duration": 0,
        "start_time": "2024-05-31T12:34:16.616Z"
      },
      {
        "duration": 0,
        "start_time": "2024-05-31T12:34:16.618Z"
      },
      {
        "duration": 0,
        "start_time": "2024-05-31T12:34:16.619Z"
      },
      {
        "duration": 0,
        "start_time": "2024-05-31T12:34:16.620Z"
      },
      {
        "duration": 0,
        "start_time": "2024-05-31T12:34:16.621Z"
      },
      {
        "duration": 0,
        "start_time": "2024-05-31T12:34:16.623Z"
      },
      {
        "duration": 0,
        "start_time": "2024-05-31T12:34:16.625Z"
      },
      {
        "duration": 839,
        "start_time": "2024-05-31T12:34:43.800Z"
      },
      {
        "duration": 51,
        "start_time": "2024-05-31T12:34:44.641Z"
      },
      {
        "duration": 44,
        "start_time": "2024-05-31T12:34:44.693Z"
      },
      {
        "duration": 27,
        "start_time": "2024-05-31T12:34:44.739Z"
      },
      {
        "duration": 32,
        "start_time": "2024-05-31T12:34:44.767Z"
      },
      {
        "duration": 35,
        "start_time": "2024-05-31T12:34:44.800Z"
      },
      {
        "duration": 30,
        "start_time": "2024-05-31T12:34:44.836Z"
      },
      {
        "duration": 44,
        "start_time": "2024-05-31T12:34:44.867Z"
      },
      {
        "duration": 467,
        "start_time": "2024-05-31T12:34:44.913Z"
      },
      {
        "duration": 148,
        "start_time": "2024-05-31T12:34:45.383Z"
      },
      {
        "duration": 193,
        "start_time": "2024-05-31T12:34:45.532Z"
      },
      {
        "duration": 284,
        "start_time": "2024-05-31T12:34:45.727Z"
      },
      {
        "duration": 286,
        "start_time": "2024-05-31T12:34:46.013Z"
      },
      {
        "duration": 16,
        "start_time": "2024-05-31T12:34:46.301Z"
      },
      {
        "duration": 8,
        "start_time": "2024-05-31T12:34:46.318Z"
      },
      {
        "duration": 6,
        "start_time": "2024-05-31T12:34:46.328Z"
      },
      {
        "duration": 271,
        "start_time": "2024-05-31T12:34:46.336Z"
      },
      {
        "duration": 263,
        "start_time": "2024-05-31T12:34:46.609Z"
      },
      {
        "duration": 344,
        "start_time": "2024-05-31T12:34:46.874Z"
      },
      {
        "duration": 273,
        "start_time": "2024-05-31T12:34:47.221Z"
      },
      {
        "duration": 13,
        "start_time": "2024-05-31T12:34:47.495Z"
      },
      {
        "duration": 30,
        "start_time": "2024-05-31T12:34:47.510Z"
      },
      {
        "duration": 39,
        "start_time": "2024-05-31T12:34:47.541Z"
      },
      {
        "duration": 53,
        "start_time": "2024-05-31T12:34:47.582Z"
      },
      {
        "duration": 6,
        "start_time": "2024-05-31T12:38:02.555Z"
      },
      {
        "duration": 6,
        "start_time": "2024-05-31T12:42:19.020Z"
      },
      {
        "duration": 5,
        "start_time": "2024-05-31T12:42:23.048Z"
      },
      {
        "duration": 5,
        "start_time": "2024-05-31T12:43:04.756Z"
      },
      {
        "duration": 9,
        "start_time": "2024-05-31T12:44:56.293Z"
      },
      {
        "duration": 7,
        "start_time": "2024-05-31T12:47:26.225Z"
      },
      {
        "duration": 6,
        "start_time": "2024-05-31T12:47:32.283Z"
      },
      {
        "duration": 981,
        "start_time": "2024-05-31T14:54:50.830Z"
      },
      {
        "duration": 133,
        "start_time": "2024-05-31T14:54:51.814Z"
      },
      {
        "duration": 333,
        "start_time": "2024-05-31T14:54:51.948Z"
      },
      {
        "duration": 80,
        "start_time": "2024-05-31T14:54:52.283Z"
      },
      {
        "duration": 16,
        "start_time": "2024-05-31T14:54:52.365Z"
      },
      {
        "duration": 22,
        "start_time": "2024-05-31T14:54:52.382Z"
      },
      {
        "duration": 18,
        "start_time": "2024-05-31T14:54:52.406Z"
      },
      {
        "duration": 23,
        "start_time": "2024-05-31T14:54:52.426Z"
      },
      {
        "duration": 659,
        "start_time": "2024-05-31T14:54:52.451Z"
      },
      {
        "duration": 150,
        "start_time": "2024-05-31T14:54:53.112Z"
      },
      {
        "duration": 177,
        "start_time": "2024-05-31T14:54:53.264Z"
      },
      {
        "duration": 305,
        "start_time": "2024-05-31T14:54:53.443Z"
      },
      {
        "duration": 279,
        "start_time": "2024-05-31T14:54:53.749Z"
      },
      {
        "duration": 34,
        "start_time": "2024-05-31T14:54:54.030Z"
      },
      {
        "duration": 13,
        "start_time": "2024-05-31T14:54:54.066Z"
      },
      {
        "duration": 19,
        "start_time": "2024-05-31T14:54:54.080Z"
      },
      {
        "duration": 267,
        "start_time": "2024-05-31T14:54:54.100Z"
      },
      {
        "duration": 332,
        "start_time": "2024-05-31T14:54:54.368Z"
      },
      {
        "duration": 257,
        "start_time": "2024-05-31T14:54:54.702Z"
      },
      {
        "duration": 271,
        "start_time": "2024-05-31T14:54:54.960Z"
      },
      {
        "duration": 14,
        "start_time": "2024-05-31T14:54:55.232Z"
      },
      {
        "duration": 33,
        "start_time": "2024-05-31T14:54:55.259Z"
      },
      {
        "duration": 34,
        "start_time": "2024-05-31T14:54:55.294Z"
      },
      {
        "duration": 8,
        "start_time": "2024-05-31T14:54:55.329Z"
      },
      {
        "duration": 46,
        "start_time": "2024-05-31T14:54:55.338Z"
      },
      {
        "duration": 3,
        "start_time": "2024-05-31T15:18:47.371Z"
      },
      {
        "duration": 43,
        "start_time": "2024-05-31T15:18:50.733Z"
      },
      {
        "duration": 53,
        "start_time": "2024-05-31T15:19:13.339Z"
      },
      {
        "duration": 179,
        "start_time": "2024-05-31T15:32:36.209Z"
      },
      {
        "duration": 108,
        "start_time": "2024-05-31T15:34:42.547Z"
      },
      {
        "duration": 904,
        "start_time": "2024-05-31T15:34:53.421Z"
      },
      {
        "duration": 50,
        "start_time": "2024-05-31T15:34:54.327Z"
      },
      {
        "duration": 43,
        "start_time": "2024-05-31T15:34:54.379Z"
      },
      {
        "duration": 27,
        "start_time": "2024-05-31T15:34:54.424Z"
      },
      {
        "duration": 16,
        "start_time": "2024-05-31T15:34:54.453Z"
      },
      {
        "duration": 12,
        "start_time": "2024-05-31T15:34:54.471Z"
      },
      {
        "duration": 17,
        "start_time": "2024-05-31T15:34:54.484Z"
      },
      {
        "duration": 20,
        "start_time": "2024-05-31T15:34:54.503Z"
      },
      {
        "duration": 114,
        "start_time": "2024-05-31T15:34:54.524Z"
      },
      {
        "duration": 0,
        "start_time": "2024-05-31T15:34:54.641Z"
      },
      {
        "duration": 0,
        "start_time": "2024-05-31T15:34:54.642Z"
      },
      {
        "duration": 0,
        "start_time": "2024-05-31T15:34:54.644Z"
      },
      {
        "duration": 0,
        "start_time": "2024-05-31T15:34:54.645Z"
      },
      {
        "duration": 0,
        "start_time": "2024-05-31T15:34:54.646Z"
      },
      {
        "duration": 0,
        "start_time": "2024-05-31T15:34:54.658Z"
      },
      {
        "duration": 0,
        "start_time": "2024-05-31T15:34:54.659Z"
      },
      {
        "duration": 0,
        "start_time": "2024-05-31T15:34:54.661Z"
      },
      {
        "duration": 0,
        "start_time": "2024-05-31T15:34:54.661Z"
      },
      {
        "duration": 0,
        "start_time": "2024-05-31T15:34:54.662Z"
      },
      {
        "duration": 0,
        "start_time": "2024-05-31T15:34:54.663Z"
      },
      {
        "duration": 0,
        "start_time": "2024-05-31T15:34:54.664Z"
      },
      {
        "duration": 0,
        "start_time": "2024-05-31T15:34:54.665Z"
      },
      {
        "duration": 0,
        "start_time": "2024-05-31T15:34:54.666Z"
      },
      {
        "duration": 0,
        "start_time": "2024-05-31T15:34:54.667Z"
      },
      {
        "duration": 0,
        "start_time": "2024-05-31T15:34:54.668Z"
      },
      {
        "duration": 478,
        "start_time": "2024-05-31T15:35:13.383Z"
      },
      {
        "duration": 139,
        "start_time": "2024-05-31T15:36:46.048Z"
      },
      {
        "duration": 167,
        "start_time": "2024-05-31T15:38:56.147Z"
      },
      {
        "duration": 257,
        "start_time": "2024-05-31T15:39:16.493Z"
      },
      {
        "duration": 253,
        "start_time": "2024-05-31T15:39:22.027Z"
      },
      {
        "duration": 18,
        "start_time": "2024-05-31T15:53:03.986Z"
      },
      {
        "duration": 12,
        "start_time": "2024-05-31T15:53:05.538Z"
      },
      {
        "duration": 8,
        "start_time": "2024-05-31T15:53:06.481Z"
      },
      {
        "duration": 270,
        "start_time": "2024-05-31T15:53:07.412Z"
      },
      {
        "duration": 254,
        "start_time": "2024-05-31T15:53:10.636Z"
      },
      {
        "duration": 342,
        "start_time": "2024-05-31T15:53:11.713Z"
      },
      {
        "duration": 256,
        "start_time": "2024-05-31T15:53:12.807Z"
      },
      {
        "duration": 282,
        "start_time": "2024-05-31T15:56:30.079Z"
      },
      {
        "duration": 277,
        "start_time": "2024-05-31T15:56:30.757Z"
      },
      {
        "duration": 278,
        "start_time": "2024-05-31T15:56:31.905Z"
      },
      {
        "duration": 19,
        "start_time": "2024-05-31T15:56:35.179Z"
      },
      {
        "duration": 358,
        "start_time": "2024-05-31T16:00:38.664Z"
      },
      {
        "duration": 25,
        "start_time": "2024-05-31T16:01:56.030Z"
      },
      {
        "duration": 25,
        "start_time": "2024-05-31T16:15:52.715Z"
      },
      {
        "duration": 55,
        "start_time": "2024-05-31T16:16:46.750Z"
      },
      {
        "duration": 56,
        "start_time": "2024-05-31T16:16:54.092Z"
      },
      {
        "duration": 28,
        "start_time": "2024-05-31T16:17:02.983Z"
      },
      {
        "duration": 64,
        "start_time": "2024-05-31T16:17:25.533Z"
      },
      {
        "duration": 22,
        "start_time": "2024-05-31T16:17:33.062Z"
      },
      {
        "duration": 23,
        "start_time": "2024-05-31T16:21:02.621Z"
      },
      {
        "duration": 19,
        "start_time": "2024-05-31T16:21:03.515Z"
      },
      {
        "duration": 16,
        "start_time": "2024-05-31T16:21:25.311Z"
      },
      {
        "duration": 21,
        "start_time": "2024-05-31T16:21:26.022Z"
      },
      {
        "duration": 24,
        "start_time": "2024-05-31T16:22:03.094Z"
      },
      {
        "duration": 26,
        "start_time": "2024-05-31T16:22:25.548Z"
      },
      {
        "duration": 870,
        "start_time": "2024-05-31T16:23:09.394Z"
      },
      {
        "duration": 29,
        "start_time": "2024-05-31T16:23:32.006Z"
      },
      {
        "duration": 36,
        "start_time": "2024-05-31T16:24:38.253Z"
      },
      {
        "duration": 25,
        "start_time": "2024-05-31T16:45:45.770Z"
      },
      {
        "duration": 231,
        "start_time": "2024-05-31T16:46:03.996Z"
      },
      {
        "duration": 33,
        "start_time": "2024-05-31T16:46:33.256Z"
      },
      {
        "duration": 29,
        "start_time": "2024-05-31T16:47:03.398Z"
      },
      {
        "duration": 22,
        "start_time": "2024-05-31T16:47:08.448Z"
      },
      {
        "duration": 23,
        "start_time": "2024-05-31T16:54:35.322Z"
      },
      {
        "duration": 20,
        "start_time": "2024-05-31T16:55:23.256Z"
      },
      {
        "duration": 14,
        "start_time": "2024-05-31T17:01:02.772Z"
      },
      {
        "duration": 12,
        "start_time": "2024-05-31T17:07:22.772Z"
      },
      {
        "duration": 31,
        "start_time": "2024-05-31T17:08:11.672Z"
      },
      {
        "duration": 317,
        "start_time": "2024-05-31T17:08:20.016Z"
      },
      {
        "duration": 4750,
        "start_time": "2024-05-31T17:08:42.437Z"
      },
      {
        "duration": 1090,
        "start_time": "2024-05-31T17:09:21.131Z"
      },
      {
        "duration": 156,
        "start_time": "2024-05-31T17:09:22.223Z"
      },
      {
        "duration": 242,
        "start_time": "2024-05-31T17:09:22.380Z"
      },
      {
        "duration": 80,
        "start_time": "2024-05-31T17:09:22.625Z"
      },
      {
        "duration": 15,
        "start_time": "2024-05-31T17:09:22.707Z"
      },
      {
        "duration": 12,
        "start_time": "2024-05-31T17:09:22.723Z"
      },
      {
        "duration": 13,
        "start_time": "2024-05-31T17:09:22.736Z"
      },
      {
        "duration": 29,
        "start_time": "2024-05-31T17:09:22.752Z"
      },
      {
        "duration": 521,
        "start_time": "2024-05-31T17:09:22.783Z"
      },
      {
        "duration": 163,
        "start_time": "2024-05-31T17:09:23.307Z"
      },
      {
        "duration": 185,
        "start_time": "2024-05-31T17:09:23.473Z"
      },
      {
        "duration": 281,
        "start_time": "2024-05-31T17:09:23.665Z"
      },
      {
        "duration": 290,
        "start_time": "2024-05-31T17:09:23.948Z"
      },
      {
        "duration": 38,
        "start_time": "2024-05-31T17:09:24.240Z"
      },
      {
        "duration": 12,
        "start_time": "2024-05-31T17:09:24.280Z"
      },
      {
        "duration": 17,
        "start_time": "2024-05-31T17:09:24.294Z"
      },
      {
        "duration": 331,
        "start_time": "2024-05-31T17:09:24.313Z"
      },
      {
        "duration": 275,
        "start_time": "2024-05-31T17:09:24.646Z"
      },
      {
        "duration": 356,
        "start_time": "2024-05-31T17:09:24.923Z"
      },
      {
        "duration": 316,
        "start_time": "2024-05-31T17:09:25.281Z"
      },
      {
        "duration": 13,
        "start_time": "2024-05-31T17:09:25.599Z"
      },
      {
        "duration": 34,
        "start_time": "2024-05-31T17:09:25.613Z"
      },
      {
        "duration": 55,
        "start_time": "2024-05-31T17:09:25.648Z"
      },
      {
        "duration": 125,
        "start_time": "2024-05-31T17:09:25.705Z"
      },
      {
        "duration": 0,
        "start_time": "2024-05-31T17:09:25.832Z"
      },
      {
        "duration": 0,
        "start_time": "2024-05-31T17:09:25.834Z"
      },
      {
        "duration": 27,
        "start_time": "2024-05-31T17:09:51.374Z"
      },
      {
        "duration": 44,
        "start_time": "2024-05-31T17:10:22.943Z"
      },
      {
        "duration": 476,
        "start_time": "2024-05-31T17:10:39.151Z"
      },
      {
        "duration": 978,
        "start_time": "2024-05-31T17:10:51.540Z"
      },
      {
        "duration": 50,
        "start_time": "2024-05-31T17:10:52.520Z"
      },
      {
        "duration": 42,
        "start_time": "2024-05-31T17:10:52.571Z"
      },
      {
        "duration": 26,
        "start_time": "2024-05-31T17:10:52.616Z"
      },
      {
        "duration": 28,
        "start_time": "2024-05-31T17:10:52.643Z"
      },
      {
        "duration": 11,
        "start_time": "2024-05-31T17:10:52.672Z"
      },
      {
        "duration": 29,
        "start_time": "2024-05-31T17:10:52.685Z"
      },
      {
        "duration": 16,
        "start_time": "2024-05-31T17:10:52.715Z"
      },
      {
        "duration": 469,
        "start_time": "2024-05-31T17:10:52.733Z"
      },
      {
        "duration": 160,
        "start_time": "2024-05-31T17:10:53.205Z"
      },
      {
        "duration": 183,
        "start_time": "2024-05-31T17:10:53.367Z"
      },
      {
        "duration": 277,
        "start_time": "2024-05-31T17:10:53.552Z"
      },
      {
        "duration": 273,
        "start_time": "2024-05-31T17:10:53.830Z"
      },
      {
        "duration": 17,
        "start_time": "2024-05-31T17:10:54.105Z"
      },
      {
        "duration": 7,
        "start_time": "2024-05-31T17:10:54.124Z"
      },
      {
        "duration": 33,
        "start_time": "2024-05-31T17:10:54.133Z"
      },
      {
        "duration": 271,
        "start_time": "2024-05-31T17:10:54.171Z"
      },
      {
        "duration": 272,
        "start_time": "2024-05-31T17:10:54.444Z"
      },
      {
        "duration": 356,
        "start_time": "2024-05-31T17:10:54.718Z"
      },
      {
        "duration": 295,
        "start_time": "2024-05-31T17:10:55.076Z"
      },
      {
        "duration": 12,
        "start_time": "2024-05-31T17:10:55.373Z"
      },
      {
        "duration": 21,
        "start_time": "2024-05-31T17:10:55.387Z"
      },
      {
        "duration": 36,
        "start_time": "2024-05-31T17:10:55.409Z"
      },
      {
        "duration": 141,
        "start_time": "2024-05-31T17:10:55.460Z"
      },
      {
        "duration": 0,
        "start_time": "2024-05-31T17:10:55.603Z"
      },
      {
        "duration": 0,
        "start_time": "2024-05-31T17:10:55.604Z"
      },
      {
        "duration": 23,
        "start_time": "2024-05-31T17:11:50.358Z"
      },
      {
        "duration": 30,
        "start_time": "2024-05-31T17:12:08.057Z"
      },
      {
        "duration": 24,
        "start_time": "2024-05-31T17:13:46.544Z"
      },
      {
        "duration": 11,
        "start_time": "2024-05-31T17:14:08.634Z"
      },
      {
        "duration": 16,
        "start_time": "2024-05-31T17:14:42.046Z"
      },
      {
        "duration": 13,
        "start_time": "2024-05-31T17:15:18.010Z"
      },
      {
        "duration": 21,
        "start_time": "2024-05-31T17:15:28.088Z"
      },
      {
        "duration": 894,
        "start_time": "2024-05-31T17:15:35.720Z"
      },
      {
        "duration": 54,
        "start_time": "2024-05-31T17:15:36.620Z"
      },
      {
        "duration": 43,
        "start_time": "2024-05-31T17:15:36.675Z"
      },
      {
        "duration": 27,
        "start_time": "2024-05-31T17:15:36.720Z"
      },
      {
        "duration": 24,
        "start_time": "2024-05-31T17:15:36.750Z"
      },
      {
        "duration": 11,
        "start_time": "2024-05-31T17:15:36.776Z"
      },
      {
        "duration": 23,
        "start_time": "2024-05-31T17:15:36.788Z"
      },
      {
        "duration": 18,
        "start_time": "2024-05-31T17:15:36.813Z"
      },
      {
        "duration": 521,
        "start_time": "2024-05-31T17:15:36.832Z"
      },
      {
        "duration": 161,
        "start_time": "2024-05-31T17:15:37.360Z"
      },
      {
        "duration": 184,
        "start_time": "2024-05-31T17:15:37.523Z"
      },
      {
        "duration": 287,
        "start_time": "2024-05-31T17:15:37.709Z"
      },
      {
        "duration": 282,
        "start_time": "2024-05-31T17:15:37.998Z"
      },
      {
        "duration": 19,
        "start_time": "2024-05-31T17:15:38.283Z"
      },
      {
        "duration": 26,
        "start_time": "2024-05-31T17:15:38.304Z"
      },
      {
        "duration": 12,
        "start_time": "2024-05-31T17:15:38.332Z"
      },
      {
        "duration": 270,
        "start_time": "2024-05-31T17:15:38.346Z"
      },
      {
        "duration": 264,
        "start_time": "2024-05-31T17:15:38.632Z"
      },
      {
        "duration": 396,
        "start_time": "2024-05-31T17:15:38.898Z"
      },
      {
        "duration": 315,
        "start_time": "2024-05-31T17:15:39.296Z"
      },
      {
        "duration": 14,
        "start_time": "2024-05-31T17:15:39.614Z"
      },
      {
        "duration": 83,
        "start_time": "2024-05-31T17:15:39.630Z"
      },
      {
        "duration": 38,
        "start_time": "2024-05-31T17:15:39.714Z"
      },
      {
        "duration": 125,
        "start_time": "2024-05-31T17:15:39.754Z"
      },
      {
        "duration": 0,
        "start_time": "2024-05-31T17:15:39.882Z"
      },
      {
        "duration": 0,
        "start_time": "2024-05-31T17:15:39.883Z"
      },
      {
        "duration": 12,
        "start_time": "2024-05-31T17:17:51.877Z"
      },
      {
        "duration": 17,
        "start_time": "2024-05-31T17:18:46.666Z"
      },
      {
        "duration": 239,
        "start_time": "2024-05-31T17:20:13.539Z"
      },
      {
        "duration": 21,
        "start_time": "2024-05-31T17:21:58.213Z"
      },
      {
        "duration": 937,
        "start_time": "2024-05-31T17:22:13.704Z"
      },
      {
        "duration": 52,
        "start_time": "2024-05-31T17:22:14.644Z"
      },
      {
        "duration": 44,
        "start_time": "2024-05-31T17:22:14.697Z"
      },
      {
        "duration": 35,
        "start_time": "2024-05-31T17:22:14.743Z"
      },
      {
        "duration": 15,
        "start_time": "2024-05-31T17:22:14.782Z"
      },
      {
        "duration": 15,
        "start_time": "2024-05-31T17:22:14.799Z"
      },
      {
        "duration": 13,
        "start_time": "2024-05-31T17:22:14.815Z"
      },
      {
        "duration": 47,
        "start_time": "2024-05-31T17:22:14.830Z"
      },
      {
        "duration": 518,
        "start_time": "2024-05-31T17:22:14.878Z"
      },
      {
        "duration": 186,
        "start_time": "2024-05-31T17:22:15.399Z"
      },
      {
        "duration": 202,
        "start_time": "2024-05-31T17:22:15.586Z"
      },
      {
        "duration": 302,
        "start_time": "2024-05-31T17:22:15.790Z"
      },
      {
        "duration": 283,
        "start_time": "2024-05-31T17:22:16.093Z"
      },
      {
        "duration": 17,
        "start_time": "2024-05-31T17:22:16.378Z"
      },
      {
        "duration": 14,
        "start_time": "2024-05-31T17:22:16.397Z"
      },
      {
        "duration": 18,
        "start_time": "2024-05-31T17:22:16.413Z"
      },
      {
        "duration": 281,
        "start_time": "2024-05-31T17:22:16.433Z"
      },
      {
        "duration": 272,
        "start_time": "2024-05-31T17:22:16.716Z"
      },
      {
        "duration": 378,
        "start_time": "2024-05-31T17:22:16.990Z"
      },
      {
        "duration": 326,
        "start_time": "2024-05-31T17:22:17.372Z"
      },
      {
        "duration": 12,
        "start_time": "2024-05-31T17:22:17.700Z"
      },
      {
        "duration": 23,
        "start_time": "2024-05-31T17:22:17.714Z"
      },
      {
        "duration": 55,
        "start_time": "2024-05-31T17:22:17.738Z"
      },
      {
        "duration": 970,
        "start_time": "2024-05-31T17:22:17.794Z"
      },
      {
        "duration": 0,
        "start_time": "2024-05-31T17:22:18.767Z"
      },
      {
        "duration": 0,
        "start_time": "2024-05-31T17:22:18.768Z"
      },
      {
        "duration": 55,
        "start_time": "2024-05-31T17:25:02.062Z"
      },
      {
        "duration": 13155,
        "start_time": "2024-05-31T17:25:16.594Z"
      },
      {
        "duration": 12,
        "start_time": "2024-05-31T17:28:14.673Z"
      },
      {
        "duration": 9,
        "start_time": "2024-05-31T17:28:32.985Z"
      },
      {
        "duration": 987,
        "start_time": "2024-05-31T17:28:40.949Z"
      },
      {
        "duration": 58,
        "start_time": "2024-05-31T17:28:41.938Z"
      },
      {
        "duration": 46,
        "start_time": "2024-05-31T17:28:41.997Z"
      },
      {
        "duration": 29,
        "start_time": "2024-05-31T17:28:42.045Z"
      },
      {
        "duration": 18,
        "start_time": "2024-05-31T17:28:42.076Z"
      },
      {
        "duration": 11,
        "start_time": "2024-05-31T17:28:42.095Z"
      },
      {
        "duration": 12,
        "start_time": "2024-05-31T17:28:42.108Z"
      },
      {
        "duration": 40,
        "start_time": "2024-05-31T17:28:42.122Z"
      },
      {
        "duration": 482,
        "start_time": "2024-05-31T17:28:42.163Z"
      },
      {
        "duration": 151,
        "start_time": "2024-05-31T17:28:42.648Z"
      },
      {
        "duration": 172,
        "start_time": "2024-05-31T17:28:42.800Z"
      },
      {
        "duration": 266,
        "start_time": "2024-05-31T17:28:42.974Z"
      },
      {
        "duration": 261,
        "start_time": "2024-05-31T17:28:43.242Z"
      },
      {
        "duration": 29,
        "start_time": "2024-05-31T17:28:43.505Z"
      },
      {
        "duration": 9,
        "start_time": "2024-05-31T17:28:43.536Z"
      },
      {
        "duration": 15,
        "start_time": "2024-05-31T17:28:43.546Z"
      },
      {
        "duration": 273,
        "start_time": "2024-05-31T17:28:43.563Z"
      },
      {
        "duration": 281,
        "start_time": "2024-05-31T17:28:43.838Z"
      },
      {
        "duration": 355,
        "start_time": "2024-05-31T17:28:44.121Z"
      },
      {
        "duration": 282,
        "start_time": "2024-05-31T17:28:44.478Z"
      },
      {
        "duration": 13,
        "start_time": "2024-05-31T17:28:44.762Z"
      },
      {
        "duration": 24,
        "start_time": "2024-05-31T17:28:44.776Z"
      },
      {
        "duration": 20,
        "start_time": "2024-05-31T17:28:44.802Z"
      },
      {
        "duration": 20,
        "start_time": "2024-05-31T17:28:58.140Z"
      },
      {
        "duration": 7,
        "start_time": "2024-05-31T17:28:58.162Z"
      },
      {
        "duration": 14,
        "start_time": "2024-05-31T17:28:58.170Z"
      },
      {
        "duration": 921,
        "start_time": "2024-05-31T17:28:58.235Z"
      },
      {
        "duration": 15,
        "start_time": "2024-05-31T17:29:22.327Z"
      },
      {
        "duration": 12,
        "start_time": "2024-05-31T17:29:29.072Z"
      },
      {
        "duration": 22,
        "start_time": "2024-05-31T17:29:29.926Z"
      },
      {
        "duration": 21,
        "start_time": "2024-05-31T17:29:30.689Z"
      },
      {
        "duration": 13005,
        "start_time": "2024-05-31T17:29:31.444Z"
      },
      {
        "duration": 18,
        "start_time": "2024-05-31T17:29:44.450Z"
      },
      {
        "duration": 22,
        "start_time": "2024-05-31T17:37:15.709Z"
      },
      {
        "duration": 7,
        "start_time": "2024-05-31T17:52:11.590Z"
      },
      {
        "duration": 17,
        "start_time": "2024-05-31T17:56:08.133Z"
      },
      {
        "duration": 25,
        "start_time": "2024-05-31T17:56:20.413Z"
      },
      {
        "duration": 13047,
        "start_time": "2024-05-31T17:56:21.652Z"
      },
      {
        "duration": 13,
        "start_time": "2024-05-31T17:56:34.701Z"
      },
      {
        "duration": 9,
        "start_time": "2024-05-31T17:59:42.061Z"
      },
      {
        "duration": 8,
        "start_time": "2024-05-31T18:02:51.376Z"
      },
      {
        "duration": 10,
        "start_time": "2024-05-31T18:03:01.772Z"
      },
      {
        "duration": 8,
        "start_time": "2024-05-31T18:03:02.322Z"
      },
      {
        "duration": 7,
        "start_time": "2024-05-31T18:04:50.753Z"
      },
      {
        "duration": 8,
        "start_time": "2024-05-31T18:05:11.837Z"
      },
      {
        "duration": 913,
        "start_time": "2024-06-01T06:45:19.723Z"
      },
      {
        "duration": 127,
        "start_time": "2024-06-01T06:45:20.638Z"
      },
      {
        "duration": 145,
        "start_time": "2024-06-01T06:45:20.767Z"
      },
      {
        "duration": 77,
        "start_time": "2024-06-01T06:45:20.914Z"
      },
      {
        "duration": 15,
        "start_time": "2024-06-01T06:45:20.992Z"
      },
      {
        "duration": 32,
        "start_time": "2024-06-01T06:45:21.008Z"
      },
      {
        "duration": 14,
        "start_time": "2024-06-01T06:45:21.042Z"
      },
      {
        "duration": 16,
        "start_time": "2024-06-01T06:45:21.057Z"
      },
      {
        "duration": 649,
        "start_time": "2024-06-01T06:45:21.075Z"
      },
      {
        "duration": 157,
        "start_time": "2024-06-01T06:45:21.727Z"
      },
      {
        "duration": 191,
        "start_time": "2024-06-01T06:45:21.885Z"
      },
      {
        "duration": 270,
        "start_time": "2024-06-01T06:45:22.078Z"
      },
      {
        "duration": 268,
        "start_time": "2024-06-01T06:45:22.349Z"
      },
      {
        "duration": 18,
        "start_time": "2024-06-01T06:45:22.618Z"
      },
      {
        "duration": 22,
        "start_time": "2024-06-01T06:45:22.637Z"
      },
      {
        "duration": 6,
        "start_time": "2024-06-01T06:45:22.661Z"
      },
      {
        "duration": 261,
        "start_time": "2024-06-01T06:45:22.669Z"
      },
      {
        "duration": 327,
        "start_time": "2024-06-01T06:45:22.932Z"
      },
      {
        "duration": 263,
        "start_time": "2024-06-01T06:45:23.261Z"
      },
      {
        "duration": 265,
        "start_time": "2024-06-01T06:45:23.527Z"
      },
      {
        "duration": 13,
        "start_time": "2024-06-01T06:45:23.794Z"
      },
      {
        "duration": 46,
        "start_time": "2024-06-01T06:45:23.809Z"
      },
      {
        "duration": 23,
        "start_time": "2024-06-01T06:45:23.857Z"
      },
      {
        "duration": 12979,
        "start_time": "2024-06-01T06:45:23.881Z"
      },
      {
        "duration": 14,
        "start_time": "2024-06-01T06:45:36.862Z"
      },
      {
        "duration": 18,
        "start_time": "2024-06-01T06:45:36.878Z"
      },
      {
        "duration": 15,
        "start_time": "2024-06-01T06:45:36.898Z"
      },
      {
        "duration": 20,
        "start_time": "2024-06-01T06:45:36.916Z"
      },
      {
        "duration": 11,
        "start_time": "2024-06-01T06:45:36.938Z"
      },
      {
        "duration": 13,
        "start_time": "2024-06-01T07:48:10.755Z"
      },
      {
        "duration": 952,
        "start_time": "2024-06-01T07:50:19.717Z"
      },
      {
        "duration": 48,
        "start_time": "2024-06-01T07:50:20.671Z"
      },
      {
        "duration": 46,
        "start_time": "2024-06-01T07:50:20.721Z"
      },
      {
        "duration": 27,
        "start_time": "2024-06-01T07:50:20.769Z"
      },
      {
        "duration": 15,
        "start_time": "2024-06-01T07:50:20.798Z"
      },
      {
        "duration": 15,
        "start_time": "2024-06-01T07:50:20.814Z"
      },
      {
        "duration": 12,
        "start_time": "2024-06-01T07:50:20.831Z"
      },
      {
        "duration": 24,
        "start_time": "2024-06-01T07:50:20.858Z"
      },
      {
        "duration": 473,
        "start_time": "2024-06-01T07:50:20.885Z"
      },
      {
        "duration": 153,
        "start_time": "2024-06-01T07:50:21.360Z"
      },
      {
        "duration": 184,
        "start_time": "2024-06-01T07:50:21.515Z"
      },
      {
        "duration": 289,
        "start_time": "2024-06-01T07:50:21.702Z"
      },
      {
        "duration": 288,
        "start_time": "2024-06-01T07:50:21.993Z"
      },
      {
        "duration": 18,
        "start_time": "2024-06-01T07:50:22.284Z"
      },
      {
        "duration": 11,
        "start_time": "2024-06-01T07:50:22.303Z"
      },
      {
        "duration": 6,
        "start_time": "2024-06-01T07:50:22.316Z"
      },
      {
        "duration": 270,
        "start_time": "2024-06-01T07:50:22.323Z"
      },
      {
        "duration": 261,
        "start_time": "2024-06-01T07:50:22.595Z"
      },
      {
        "duration": 347,
        "start_time": "2024-06-01T07:50:22.858Z"
      },
      {
        "duration": 286,
        "start_time": "2024-06-01T07:50:23.207Z"
      },
      {
        "duration": 16,
        "start_time": "2024-06-01T07:50:23.495Z"
      },
      {
        "duration": 50,
        "start_time": "2024-06-01T07:50:23.514Z"
      },
      {
        "duration": 26,
        "start_time": "2024-06-01T07:50:23.566Z"
      },
      {
        "duration": 13171,
        "start_time": "2024-06-01T07:50:23.594Z"
      },
      {
        "duration": 14,
        "start_time": "2024-06-01T07:50:36.768Z"
      },
      {
        "duration": 8,
        "start_time": "2024-06-01T07:50:36.783Z"
      },
      {
        "duration": 16,
        "start_time": "2024-06-01T07:50:36.792Z"
      },
      {
        "duration": 9,
        "start_time": "2024-06-01T07:50:36.810Z"
      },
      {
        "duration": 39,
        "start_time": "2024-06-01T07:50:36.822Z"
      },
      {
        "duration": 862,
        "start_time": "2024-06-01T14:04:24.941Z"
      },
      {
        "duration": 93,
        "start_time": "2024-06-01T14:04:25.805Z"
      },
      {
        "duration": 123,
        "start_time": "2024-06-01T14:04:25.900Z"
      },
      {
        "duration": 71,
        "start_time": "2024-06-01T14:04:26.026Z"
      },
      {
        "duration": 14,
        "start_time": "2024-06-01T14:04:26.099Z"
      },
      {
        "duration": 26,
        "start_time": "2024-06-01T14:04:26.115Z"
      },
      {
        "duration": 32,
        "start_time": "2024-06-01T14:04:26.143Z"
      },
      {
        "duration": 15,
        "start_time": "2024-06-01T14:04:26.177Z"
      },
      {
        "duration": 663,
        "start_time": "2024-06-01T14:04:26.193Z"
      },
      {
        "duration": 142,
        "start_time": "2024-06-01T14:04:26.860Z"
      },
      {
        "duration": 174,
        "start_time": "2024-06-01T14:04:27.003Z"
      },
      {
        "duration": 273,
        "start_time": "2024-06-01T14:04:27.179Z"
      },
      {
        "duration": 278,
        "start_time": "2024-06-01T14:04:27.453Z"
      },
      {
        "duration": 31,
        "start_time": "2024-06-01T14:04:27.732Z"
      },
      {
        "duration": 9,
        "start_time": "2024-06-01T14:04:27.764Z"
      },
      {
        "duration": 24,
        "start_time": "2024-06-01T14:04:27.775Z"
      },
      {
        "duration": 256,
        "start_time": "2024-06-01T14:04:27.801Z"
      },
      {
        "duration": 329,
        "start_time": "2024-06-01T14:04:28.060Z"
      },
      {
        "duration": 233,
        "start_time": "2024-06-01T14:04:28.390Z"
      },
      {
        "duration": 256,
        "start_time": "2024-06-01T14:04:28.625Z"
      },
      {
        "duration": 11,
        "start_time": "2024-06-01T14:04:28.882Z"
      },
      {
        "duration": 22,
        "start_time": "2024-06-01T14:04:28.895Z"
      },
      {
        "duration": 47,
        "start_time": "2024-06-01T14:04:28.919Z"
      },
      {
        "duration": 13495,
        "start_time": "2024-06-01T14:04:28.968Z"
      },
      {
        "duration": 12,
        "start_time": "2024-06-01T14:04:42.466Z"
      },
      {
        "duration": 33,
        "start_time": "2024-06-01T14:04:42.480Z"
      },
      {
        "duration": 5,
        "start_time": "2024-06-01T14:04:42.514Z"
      },
      {
        "duration": 13,
        "start_time": "2024-06-01T14:04:42.522Z"
      },
      {
        "duration": 30,
        "start_time": "2024-06-01T14:04:42.536Z"
      },
      {
        "duration": 108,
        "start_time": "2024-06-01T14:09:38.230Z"
      },
      {
        "duration": 159,
        "start_time": "2024-06-01T14:09:56.577Z"
      },
      {
        "duration": 156,
        "start_time": "2024-06-01T14:10:07.327Z"
      },
      {
        "duration": 3,
        "start_time": "2024-06-01T14:11:59.499Z"
      },
      {
        "duration": 44,
        "start_time": "2024-06-01T14:12:01.838Z"
      },
      {
        "duration": 57,
        "start_time": "2024-06-01T14:12:03.622Z"
      },
      {
        "duration": 40,
        "start_time": "2024-06-01T14:12:05.013Z"
      },
      {
        "duration": 15,
        "start_time": "2024-06-01T14:12:09.532Z"
      },
      {
        "duration": 11,
        "start_time": "2024-06-01T14:12:10.762Z"
      },
      {
        "duration": 12,
        "start_time": "2024-06-01T14:12:12.602Z"
      },
      {
        "duration": 16,
        "start_time": "2024-06-01T14:12:14.463Z"
      },
      {
        "duration": 157,
        "start_time": "2024-06-01T14:13:56.168Z"
      },
      {
        "duration": 166,
        "start_time": "2024-06-01T14:14:12.115Z"
      },
      {
        "duration": 189,
        "start_time": "2024-06-01T14:19:47.373Z"
      },
      {
        "duration": 275,
        "start_time": "2024-06-01T14:31:49.855Z"
      },
      {
        "duration": 302,
        "start_time": "2024-06-01T14:32:00.278Z"
      },
      {
        "duration": 55,
        "start_time": "2024-06-01T14:32:36.903Z"
      },
      {
        "duration": 156,
        "start_time": "2024-06-01T14:32:50.185Z"
      },
      {
        "duration": 205,
        "start_time": "2024-06-01T14:33:13.512Z"
      },
      {
        "duration": 186,
        "start_time": "2024-06-01T14:33:48.727Z"
      },
      {
        "duration": 245,
        "start_time": "2024-06-01T14:35:06.003Z"
      },
      {
        "duration": 256,
        "start_time": "2024-06-01T14:35:21.547Z"
      },
      {
        "duration": 358,
        "start_time": "2024-06-01T14:36:42.481Z"
      },
      {
        "duration": 281,
        "start_time": "2024-06-01T14:37:47.074Z"
      },
      {
        "duration": 305,
        "start_time": "2024-06-01T14:37:51.643Z"
      },
      {
        "duration": 232,
        "start_time": "2024-06-01T14:38:00.001Z"
      },
      {
        "duration": 268,
        "start_time": "2024-06-01T14:38:05.335Z"
      },
      {
        "duration": 300,
        "start_time": "2024-06-01T14:38:17.410Z"
      },
      {
        "duration": 433,
        "start_time": "2024-06-01T14:39:03.474Z"
      },
      {
        "duration": 297,
        "start_time": "2024-06-01T14:39:20.026Z"
      },
      {
        "duration": 278,
        "start_time": "2024-06-01T14:40:01.128Z"
      },
      {
        "duration": 288,
        "start_time": "2024-06-01T14:40:17.605Z"
      },
      {
        "duration": 12,
        "start_time": "2024-06-01T14:54:09.384Z"
      },
      {
        "duration": 12,
        "start_time": "2024-06-01T14:54:42.156Z"
      },
      {
        "duration": 25,
        "start_time": "2024-06-01T14:54:43.037Z"
      },
      {
        "duration": 20,
        "start_time": "2024-06-01T14:54:49.257Z"
      },
      {
        "duration": 12,
        "start_time": "2024-06-01T14:55:28.758Z"
      },
      {
        "duration": 12,
        "start_time": "2024-06-01T14:56:13.278Z"
      },
      {
        "duration": 1236,
        "start_time": "2024-06-01T16:17:55.597Z"
      },
      {
        "duration": 194,
        "start_time": "2024-06-01T16:17:56.835Z"
      },
      {
        "duration": 153,
        "start_time": "2024-06-01T16:17:57.030Z"
      },
      {
        "duration": 80,
        "start_time": "2024-06-01T16:17:57.185Z"
      },
      {
        "duration": 15,
        "start_time": "2024-06-01T16:17:57.266Z"
      },
      {
        "duration": 16,
        "start_time": "2024-06-01T16:17:57.283Z"
      },
      {
        "duration": 45,
        "start_time": "2024-06-01T16:17:57.300Z"
      },
      {
        "duration": 18,
        "start_time": "2024-06-01T16:17:57.347Z"
      },
      {
        "duration": 214,
        "start_time": "2024-06-01T16:17:57.367Z"
      },
      {
        "duration": 152,
        "start_time": "2024-06-01T16:17:57.585Z"
      },
      {
        "duration": 184,
        "start_time": "2024-06-01T16:17:57.739Z"
      },
      {
        "duration": 297,
        "start_time": "2024-06-01T16:17:57.924Z"
      },
      {
        "duration": 289,
        "start_time": "2024-06-01T16:17:58.222Z"
      },
      {
        "duration": 16,
        "start_time": "2024-06-01T16:17:58.513Z"
      },
      {
        "duration": 11,
        "start_time": "2024-06-01T16:17:58.531Z"
      },
      {
        "duration": 16,
        "start_time": "2024-06-01T16:17:58.544Z"
      },
      {
        "duration": 304,
        "start_time": "2024-06-01T16:17:58.562Z"
      },
      {
        "duration": 379,
        "start_time": "2024-06-01T16:17:58.868Z"
      },
      {
        "duration": 282,
        "start_time": "2024-06-01T16:17:59.249Z"
      },
      {
        "duration": 291,
        "start_time": "2024-06-01T16:17:59.534Z"
      },
      {
        "duration": 13,
        "start_time": "2024-06-01T16:17:59.827Z"
      },
      {
        "duration": 26,
        "start_time": "2024-06-01T16:17:59.842Z"
      },
      {
        "duration": 30,
        "start_time": "2024-06-01T16:17:59.870Z"
      },
      {
        "duration": 21,
        "start_time": "2024-06-01T16:17:59.902Z"
      },
      {
        "duration": 13,
        "start_time": "2024-06-01T16:17:59.925Z"
      },
      {
        "duration": 12,
        "start_time": "2024-06-01T16:17:59.956Z"
      },
      {
        "duration": 7,
        "start_time": "2024-06-01T16:17:59.970Z"
      },
      {
        "duration": 7,
        "start_time": "2024-06-01T16:17:59.980Z"
      },
      {
        "duration": 8,
        "start_time": "2024-06-01T16:17:59.988Z"
      },
      {
        "duration": 9,
        "start_time": "2024-06-01T16:17:59.997Z"
      },
      {
        "duration": 259,
        "start_time": "2024-06-01T16:20:18.606Z"
      },
      {
        "duration": 144,
        "start_time": "2024-06-01T16:20:22.495Z"
      },
      {
        "duration": 119,
        "start_time": "2024-06-01T16:20:29.919Z"
      },
      {
        "duration": 45,
        "start_time": "2024-06-01T16:20:44.064Z"
      },
      {
        "duration": 118,
        "start_time": "2024-06-01T16:21:01.627Z"
      },
      {
        "duration": 134,
        "start_time": "2024-06-01T16:21:06.486Z"
      },
      {
        "duration": 133,
        "start_time": "2024-06-01T16:22:28.195Z"
      },
      {
        "duration": 128,
        "start_time": "2024-06-01T16:22:41.630Z"
      },
      {
        "duration": 7,
        "start_time": "2024-06-01T16:24:02.205Z"
      },
      {
        "duration": 1202,
        "start_time": "2024-06-03T10:54:33.160Z"
      }
    ],
    "kernelspec": {
      "display_name": "Python 3 (ipykernel)",
      "language": "python",
      "name": "python3"
    },
    "language_info": {
      "codemirror_mode": {
        "name": "ipython",
        "version": 3
      },
      "file_extension": ".py",
      "mimetype": "text/x-python",
      "name": "python",
      "nbconvert_exporter": "python",
      "pygments_lexer": "ipython3",
      "version": "3.9.5"
    },
    "toc": {
      "base_numbering": 1,
      "nav_menu": {},
      "number_sections": true,
      "sideBar": true,
      "skip_h1_title": true,
      "title_cell": "Table of Contents",
      "title_sidebar": "Contents",
      "toc_cell": false,
      "toc_position": {
        "height": "calc(100% - 180px)",
        "left": "10px",
        "top": "150px",
        "width": "384px"
      },
      "toc_section_display": true,
      "toc_window_display": true
    },
    "colab": {
      "provenance": []
    }
  },
  "nbformat": 4,
  "nbformat_minor": 5
}