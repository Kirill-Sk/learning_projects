{
  "cells": [
    {
      "cell_type": "markdown",
      "metadata": {
        "id": "O0tICCJ2eCsD"
      },
      "source": [
        "# Исследование воронки продаж и результатов А/В-теста"
      ]
    },
    {
      "cell_type": "markdown",
      "metadata": {
        "id": "_OhzyUD-eCsD"
      },
      "source": [
        "В ходе данного проекта будет исследована воронка продаж, выявлено, на каких шагах теряется больше всего пользователей.\n",
        "\n",
        "Также будут изучены результаты A/A/B-эксперимента относительно изменения поведения пользователей после изменения дизайна приложения."
      ]
    },
    {
      "cell_type": "markdown",
      "metadata": {
        "id": "_LQskO2aeCsD"
      },
      "source": [
        "## Выгрузка данных"
      ]
    },
    {
      "cell_type": "code",
      "execution_count": null,
      "metadata": {
        "id": "cNT6QWgPeCsE"
      },
      "outputs": [],
      "source": [
        "import pandas as pd\n",
        "import matplotlib.pyplot as plt\n",
        "import numpy as np\n",
        "import scipy.stats as stats\n",
        "import math as mth"
      ]
    },
    {
      "cell_type": "code",
      "execution_count": null,
      "metadata": {
        "id": "fX1fEsC_eCsF",
        "outputId": "3ff6ec39-d0de-4d0e-a1d9-52bf928af19c"
      },
      "outputs": [
        {
          "data": {
            "text/html": [
              "<div>\n",
              "<style scoped>\n",
              "    .dataframe tbody tr th:only-of-type {\n",
              "        vertical-align: middle;\n",
              "    }\n",
              "\n",
              "    .dataframe tbody tr th {\n",
              "        vertical-align: top;\n",
              "    }\n",
              "\n",
              "    .dataframe thead th {\n",
              "        text-align: right;\n",
              "    }\n",
              "</style>\n",
              "<table border=\"1\" class=\"dataframe\">\n",
              "  <thead>\n",
              "    <tr style=\"text-align: right;\">\n",
              "      <th></th>\n",
              "      <th>EventName\\tDeviceIDHash\\tEventTimestamp\\tExpId</th>\n",
              "    </tr>\n",
              "  </thead>\n",
              "  <tbody>\n",
              "    <tr>\n",
              "      <th>0</th>\n",
              "      <td>MainScreenAppear\\t4575588528974610257\\t1564029...</td>\n",
              "    </tr>\n",
              "    <tr>\n",
              "      <th>1</th>\n",
              "      <td>MainScreenAppear\\t7416695313311560658\\t1564053...</td>\n",
              "    </tr>\n",
              "    <tr>\n",
              "      <th>2</th>\n",
              "      <td>PaymentScreenSuccessful\\t3518123091307005509\\t...</td>\n",
              "    </tr>\n",
              "    <tr>\n",
              "      <th>3</th>\n",
              "      <td>CartScreenAppear\\t3518123091307005509\\t1564054...</td>\n",
              "    </tr>\n",
              "    <tr>\n",
              "      <th>4</th>\n",
              "      <td>PaymentScreenSuccessful\\t6217807653094995999\\t...</td>\n",
              "    </tr>\n",
              "  </tbody>\n",
              "</table>\n",
              "</div>"
            ],
            "text/plain": [
              "      EventName\\tDeviceIDHash\\tEventTimestamp\\tExpId\n",
              "0  MainScreenAppear\\t4575588528974610257\\t1564029...\n",
              "1  MainScreenAppear\\t7416695313311560658\\t1564053...\n",
              "2  PaymentScreenSuccessful\\t3518123091307005509\\t...\n",
              "3  CartScreenAppear\\t3518123091307005509\\t1564054...\n",
              "4  PaymentScreenSuccessful\\t6217807653094995999\\t..."
            ]
          },
          "execution_count": 2,
          "metadata": {},
          "output_type": "execute_result"
        }
      ],
      "source": [
        "# сохраним датасет в переменную data и выведем первые строки на экран\n",
        "data = pd.read_csv('logs_exp.csv')\n",
        "data.head()"
      ]
    },
    {
      "cell_type": "code",
      "execution_count": null,
      "metadata": {
        "id": "iO4LxjnHeCsF",
        "outputId": "34fc3dfc-a33e-4705-cb68-574292ecdd14"
      },
      "outputs": [
        {
          "data": {
            "text/html": [
              "<div>\n",
              "<style scoped>\n",
              "    .dataframe tbody tr th:only-of-type {\n",
              "        vertical-align: middle;\n",
              "    }\n",
              "\n",
              "    .dataframe tbody tr th {\n",
              "        vertical-align: top;\n",
              "    }\n",
              "\n",
              "    .dataframe thead th {\n",
              "        text-align: right;\n",
              "    }\n",
              "</style>\n",
              "<table border=\"1\" class=\"dataframe\">\n",
              "  <thead>\n",
              "    <tr style=\"text-align: right;\">\n",
              "      <th></th>\n",
              "      <th>EventName</th>\n",
              "      <th>DeviceIDHash</th>\n",
              "      <th>EventTimestamp</th>\n",
              "      <th>ExpId</th>\n",
              "    </tr>\n",
              "  </thead>\n",
              "  <tbody>\n",
              "    <tr>\n",
              "      <th>0</th>\n",
              "      <td>MainScreenAppear</td>\n",
              "      <td>4575588528974610257</td>\n",
              "      <td>1564029816</td>\n",
              "      <td>246</td>\n",
              "    </tr>\n",
              "    <tr>\n",
              "      <th>1</th>\n",
              "      <td>MainScreenAppear</td>\n",
              "      <td>7416695313311560658</td>\n",
              "      <td>1564053102</td>\n",
              "      <td>246</td>\n",
              "    </tr>\n",
              "    <tr>\n",
              "      <th>2</th>\n",
              "      <td>PaymentScreenSuccessful</td>\n",
              "      <td>3518123091307005509</td>\n",
              "      <td>1564054127</td>\n",
              "      <td>248</td>\n",
              "    </tr>\n",
              "    <tr>\n",
              "      <th>3</th>\n",
              "      <td>CartScreenAppear</td>\n",
              "      <td>3518123091307005509</td>\n",
              "      <td>1564054127</td>\n",
              "      <td>248</td>\n",
              "    </tr>\n",
              "    <tr>\n",
              "      <th>4</th>\n",
              "      <td>PaymentScreenSuccessful</td>\n",
              "      <td>6217807653094995999</td>\n",
              "      <td>1564055322</td>\n",
              "      <td>248</td>\n",
              "    </tr>\n",
              "  </tbody>\n",
              "</table>\n",
              "</div>"
            ],
            "text/plain": [
              "                 EventName         DeviceIDHash  EventTimestamp  ExpId\n",
              "0         MainScreenAppear  4575588528974610257      1564029816    246\n",
              "1         MainScreenAppear  7416695313311560658      1564053102    246\n",
              "2  PaymentScreenSuccessful  3518123091307005509      1564054127    248\n",
              "3         CartScreenAppear  3518123091307005509      1564054127    248\n",
              "4  PaymentScreenSuccessful  6217807653094995999      1564055322    248"
            ]
          },
          "execution_count": 3,
          "metadata": {},
          "output_type": "execute_result"
        }
      ],
      "source": [
        "# разделим столбцы в data и выведем первые строки на экран\n",
        "data = pd.read_csv('/datasets/logs_exp.csv', sep='\\t')\n",
        "data.head()"
      ]
    },
    {
      "cell_type": "markdown",
      "metadata": {
        "id": "drIkgU5oeCsG"
      },
      "source": [
        "## Подготовка данных"
      ]
    },
    {
      "cell_type": "markdown",
      "metadata": {
        "id": "q99XNxokeCsG"
      },
      "source": [
        "### Переименование столбцов"
      ]
    },
    {
      "cell_type": "code",
      "execution_count": null,
      "metadata": {
        "id": "czLPw-36eCsG",
        "outputId": "167ae9bb-5666-4448-93e5-7c2ff82dd784"
      },
      "outputs": [
        {
          "data": {
            "text/html": [
              "<div>\n",
              "<style scoped>\n",
              "    .dataframe tbody tr th:only-of-type {\n",
              "        vertical-align: middle;\n",
              "    }\n",
              "\n",
              "    .dataframe tbody tr th {\n",
              "        vertical-align: top;\n",
              "    }\n",
              "\n",
              "    .dataframe thead th {\n",
              "        text-align: right;\n",
              "    }\n",
              "</style>\n",
              "<table border=\"1\" class=\"dataframe\">\n",
              "  <thead>\n",
              "    <tr style=\"text-align: right;\">\n",
              "      <th></th>\n",
              "      <th>event_type</th>\n",
              "      <th>user_id</th>\n",
              "      <th>timestamp</th>\n",
              "      <th>group</th>\n",
              "    </tr>\n",
              "  </thead>\n",
              "  <tbody>\n",
              "    <tr>\n",
              "      <th>0</th>\n",
              "      <td>MainScreenAppear</td>\n",
              "      <td>4575588528974610257</td>\n",
              "      <td>1564029816</td>\n",
              "      <td>246</td>\n",
              "    </tr>\n",
              "    <tr>\n",
              "      <th>1</th>\n",
              "      <td>MainScreenAppear</td>\n",
              "      <td>7416695313311560658</td>\n",
              "      <td>1564053102</td>\n",
              "      <td>246</td>\n",
              "    </tr>\n",
              "    <tr>\n",
              "      <th>2</th>\n",
              "      <td>PaymentScreenSuccessful</td>\n",
              "      <td>3518123091307005509</td>\n",
              "      <td>1564054127</td>\n",
              "      <td>248</td>\n",
              "    </tr>\n",
              "    <tr>\n",
              "      <th>3</th>\n",
              "      <td>CartScreenAppear</td>\n",
              "      <td>3518123091307005509</td>\n",
              "      <td>1564054127</td>\n",
              "      <td>248</td>\n",
              "    </tr>\n",
              "    <tr>\n",
              "      <th>4</th>\n",
              "      <td>PaymentScreenSuccessful</td>\n",
              "      <td>6217807653094995999</td>\n",
              "      <td>1564055322</td>\n",
              "      <td>248</td>\n",
              "    </tr>\n",
              "  </tbody>\n",
              "</table>\n",
              "</div>"
            ],
            "text/plain": [
              "                event_type              user_id   timestamp  group\n",
              "0         MainScreenAppear  4575588528974610257  1564029816    246\n",
              "1         MainScreenAppear  7416695313311560658  1564053102    246\n",
              "2  PaymentScreenSuccessful  3518123091307005509  1564054127    248\n",
              "3         CartScreenAppear  3518123091307005509  1564054127    248\n",
              "4  PaymentScreenSuccessful  6217807653094995999  1564055322    248"
            ]
          },
          "execution_count": 4,
          "metadata": {},
          "output_type": "execute_result"
        }
      ],
      "source": [
        "# переименуем столбцы data\n",
        "data.columns = ['event_type', 'user_id', 'timestamp', 'group']\n",
        "data.head()"
      ]
    },
    {
      "cell_type": "markdown",
      "metadata": {
        "id": "dj6fIGDJeCsG"
      },
      "source": [
        "### Обработка пропусков"
      ]
    },
    {
      "cell_type": "code",
      "execution_count": null,
      "metadata": {
        "scrolled": true,
        "id": "BLZdlRI0eCsG",
        "outputId": "5fe93a20-b17c-4ab7-e70c-b8b071f1b6f8"
      },
      "outputs": [
        {
          "name": "stdout",
          "output_type": "stream",
          "text": [
            "<class 'pandas.core.frame.DataFrame'>\n",
            "RangeIndex: 244126 entries, 0 to 244125\n",
            "Data columns (total 4 columns):\n",
            " #   Column      Non-Null Count   Dtype \n",
            "---  ------      --------------   ----- \n",
            " 0   event_type  244126 non-null  object\n",
            " 1   user_id     244126 non-null  int64 \n",
            " 2   timestamp   244126 non-null  int64 \n",
            " 3   group       244126 non-null  int64 \n",
            "dtypes: int64(3), object(1)\n",
            "memory usage: 7.5+ MB\n"
          ]
        }
      ],
      "source": [
        "# выведем на экран информацию о data\n",
        "data.info()"
      ]
    },
    {
      "cell_type": "markdown",
      "metadata": {
        "id": "FNkKiIvueCsG"
      },
      "source": [
        "Пропусков в данных нет."
      ]
    },
    {
      "cell_type": "markdown",
      "metadata": {
        "id": "5gKYhqI4eCsH"
      },
      "source": [
        "### Добавление столбцов"
      ]
    },
    {
      "cell_type": "code",
      "execution_count": null,
      "metadata": {
        "id": "2Zuy4IomeCsH",
        "outputId": "66752cf0-462b-463c-eba5-303d1fc5ec41"
      },
      "outputs": [
        {
          "data": {
            "text/html": [
              "<div>\n",
              "<style scoped>\n",
              "    .dataframe tbody tr th:only-of-type {\n",
              "        vertical-align: middle;\n",
              "    }\n",
              "\n",
              "    .dataframe tbody tr th {\n",
              "        vertical-align: top;\n",
              "    }\n",
              "\n",
              "    .dataframe thead th {\n",
              "        text-align: right;\n",
              "    }\n",
              "</style>\n",
              "<table border=\"1\" class=\"dataframe\">\n",
              "  <thead>\n",
              "    <tr style=\"text-align: right;\">\n",
              "      <th></th>\n",
              "      <th>event_type</th>\n",
              "      <th>user_id</th>\n",
              "      <th>timestamp</th>\n",
              "      <th>group</th>\n",
              "      <th>date_time</th>\n",
              "      <th>date</th>\n",
              "    </tr>\n",
              "  </thead>\n",
              "  <tbody>\n",
              "    <tr>\n",
              "      <th>0</th>\n",
              "      <td>MainScreenAppear</td>\n",
              "      <td>4575588528974610257</td>\n",
              "      <td>1564029816</td>\n",
              "      <td>246</td>\n",
              "      <td>2019-07-25 04:43:36</td>\n",
              "      <td>2019-07-25</td>\n",
              "    </tr>\n",
              "    <tr>\n",
              "      <th>1</th>\n",
              "      <td>MainScreenAppear</td>\n",
              "      <td>7416695313311560658</td>\n",
              "      <td>1564053102</td>\n",
              "      <td>246</td>\n",
              "      <td>2019-07-25 11:11:42</td>\n",
              "      <td>2019-07-25</td>\n",
              "    </tr>\n",
              "    <tr>\n",
              "      <th>2</th>\n",
              "      <td>PaymentScreenSuccessful</td>\n",
              "      <td>3518123091307005509</td>\n",
              "      <td>1564054127</td>\n",
              "      <td>248</td>\n",
              "      <td>2019-07-25 11:28:47</td>\n",
              "      <td>2019-07-25</td>\n",
              "    </tr>\n",
              "    <tr>\n",
              "      <th>3</th>\n",
              "      <td>CartScreenAppear</td>\n",
              "      <td>3518123091307005509</td>\n",
              "      <td>1564054127</td>\n",
              "      <td>248</td>\n",
              "      <td>2019-07-25 11:28:47</td>\n",
              "      <td>2019-07-25</td>\n",
              "    </tr>\n",
              "    <tr>\n",
              "      <th>4</th>\n",
              "      <td>PaymentScreenSuccessful</td>\n",
              "      <td>6217807653094995999</td>\n",
              "      <td>1564055322</td>\n",
              "      <td>248</td>\n",
              "      <td>2019-07-25 11:48:42</td>\n",
              "      <td>2019-07-25</td>\n",
              "    </tr>\n",
              "  </tbody>\n",
              "</table>\n",
              "</div>"
            ],
            "text/plain": [
              "                event_type              user_id   timestamp  group  \\\n",
              "0         MainScreenAppear  4575588528974610257  1564029816    246   \n",
              "1         MainScreenAppear  7416695313311560658  1564053102    246   \n",
              "2  PaymentScreenSuccessful  3518123091307005509  1564054127    248   \n",
              "3         CartScreenAppear  3518123091307005509  1564054127    248   \n",
              "4  PaymentScreenSuccessful  6217807653094995999  1564055322    248   \n",
              "\n",
              "            date_time       date  \n",
              "0 2019-07-25 04:43:36 2019-07-25  \n",
              "1 2019-07-25 11:11:42 2019-07-25  \n",
              "2 2019-07-25 11:28:47 2019-07-25  \n",
              "3 2019-07-25 11:28:47 2019-07-25  \n",
              "4 2019-07-25 11:48:42 2019-07-25  "
            ]
          },
          "execution_count": 6,
          "metadata": {},
          "output_type": "execute_result"
        }
      ],
      "source": [
        "# добавим в data столбец с датой и временем, а также столбец с датой\n",
        "data['date_time'] = pd.to_datetime(data['timestamp'], unit='s')\n",
        "data['date'] = data['date_time'].astype('datetime64[D]')\n",
        "data.head()"
      ]
    },
    {
      "cell_type": "markdown",
      "metadata": {
        "id": "heXZ9UKdeCsH"
      },
      "source": [
        "### Обработка дубликатов"
      ]
    },
    {
      "cell_type": "code",
      "execution_count": null,
      "metadata": {
        "id": "P7jbgNsJeCsH",
        "outputId": "8fb3f345-89a3-40d4-a4e3-3a7ac81b8113"
      },
      "outputs": [
        {
          "data": {
            "text/plain": [
              "413"
            ]
          },
          "execution_count": 7,
          "metadata": {},
          "output_type": "execute_result"
        }
      ],
      "source": [
        "# найдём количество строк-дубликатов в data\n",
        "data.duplicated().sum()"
      ]
    },
    {
      "cell_type": "code",
      "execution_count": null,
      "metadata": {
        "id": "39HONF5QeCsH",
        "outputId": "f2a7be18-e75c-456a-b880-38e86d740d94"
      },
      "outputs": [
        {
          "data": {
            "text/plain": [
              "0"
            ]
          },
          "execution_count": 32,
          "metadata": {},
          "output_type": "execute_result"
        }
      ],
      "source": [
        "# удалим строки-дубликаты из data\n",
        "data = data.drop_duplicates()\n",
        "data.duplicated().sum()"
      ]
    },
    {
      "cell_type": "markdown",
      "metadata": {
        "id": "qdLR00-JeCsH"
      },
      "source": [
        "Строки-дубликаты удалены."
      ]
    },
    {
      "cell_type": "code",
      "execution_count": null,
      "metadata": {
        "id": "ntYOc_3EeCsH",
        "outputId": "107f4641-50db-4245-d9e3-84285c09acc6"
      },
      "outputs": [
        {
          "data": {
            "text/html": [
              "<div>\n",
              "<style scoped>\n",
              "    .dataframe tbody tr th:only-of-type {\n",
              "        vertical-align: middle;\n",
              "    }\n",
              "\n",
              "    .dataframe tbody tr th {\n",
              "        vertical-align: top;\n",
              "    }\n",
              "\n",
              "    .dataframe thead th {\n",
              "        text-align: right;\n",
              "    }\n",
              "</style>\n",
              "<table border=\"1\" class=\"dataframe\">\n",
              "  <thead>\n",
              "    <tr style=\"text-align: right;\">\n",
              "      <th></th>\n",
              "      <th>groups_amount</th>\n",
              "    </tr>\n",
              "    <tr>\n",
              "      <th>user_id</th>\n",
              "      <th></th>\n",
              "    </tr>\n",
              "  </thead>\n",
              "  <tbody>\n",
              "  </tbody>\n",
              "</table>\n",
              "</div>"
            ],
            "text/plain": [
              "Empty DataFrame\n",
              "Columns: [groups_amount]\n",
              "Index: []"
            ]
          },
          "execution_count": 35,
          "metadata": {},
          "output_type": "execute_result"
        }
      ],
      "source": [
        "# проверим, есть ли пользователи, состоящие в нескольких группах,\n",
        "# для этого найдём для каждого пользователя количество групп, в которых он состоит\n",
        "t1 = data.pivot_table(index='user_id', values='group', aggfunc='nunique')\n",
        "t1.columns = ['groups_amount']\n",
        "\n",
        "# найдём пользователей, состоящих более, чем в одной группе\n",
        "t1 = t1[t1['groups_amount'] > 1]\n",
        "t1"
      ]
    },
    {
      "cell_type": "markdown",
      "metadata": {
        "id": "z8xAayHVeCsI"
      },
      "source": [
        "Пользователей, состоящих в нескольких группах, нет."
      ]
    },
    {
      "cell_type": "markdown",
      "metadata": {
        "id": "rrNtO9oBeCsI"
      },
      "source": [
        "## Проверка данных"
      ]
    },
    {
      "cell_type": "code",
      "execution_count": null,
      "metadata": {
        "scrolled": true,
        "id": "hOkOIUsYeCsI",
        "outputId": "1e04b73d-0ad6-4718-ca69-104416546402"
      },
      "outputs": [
        {
          "data": {
            "text/plain": [
              "243713"
            ]
          },
          "execution_count": 36,
          "metadata": {},
          "output_type": "execute_result"
        }
      ],
      "source": [
        "# найдём количество событий в data\n",
        "data['event_type'].count()"
      ]
    },
    {
      "cell_type": "markdown",
      "metadata": {
        "id": "skBHToJHeCsI"
      },
      "source": [
        "Всего 243713 событий."
      ]
    },
    {
      "cell_type": "code",
      "execution_count": null,
      "metadata": {
        "id": "LPseuDOPeCsI",
        "outputId": "630d05d8-b209-4fba-94c9-7351456cddf5"
      },
      "outputs": [
        {
          "data": {
            "text/plain": [
              "7551"
            ]
          },
          "execution_count": 37,
          "metadata": {},
          "output_type": "execute_result"
        }
      ],
      "source": [
        "# найдём количество пользователей в data\n",
        "data['user_id'].nunique()"
      ]
    },
    {
      "cell_type": "markdown",
      "metadata": {
        "id": "iICp2t6WeCsI"
      },
      "source": [
        "Всего 7551 пользователей."
      ]
    },
    {
      "cell_type": "code",
      "execution_count": null,
      "metadata": {
        "scrolled": true,
        "id": "TM8hrZWUeCsI",
        "outputId": "39458824-0ecd-47ae-c55e-9735fcdf39b8"
      },
      "outputs": [
        {
          "data": {
            "text/plain": [
              "32.28"
            ]
          },
          "execution_count": 38,
          "metadata": {},
          "output_type": "execute_result"
        }
      ],
      "source": [
        "# найдём среднее количество событий на пользователя\n",
        "round(data['event_type'].count() / data['user_id'].nunique(), 2)"
      ]
    },
    {
      "cell_type": "markdown",
      "metadata": {
        "id": "ApEw9Gs8eCsJ"
      },
      "source": [
        "На одного пользователя в среднем приходится 32.33 события."
      ]
    },
    {
      "cell_type": "code",
      "execution_count": null,
      "metadata": {
        "scrolled": true,
        "id": "bHTVy79eeCsJ",
        "outputId": "1837229c-48e8-468c-fe1b-7cdc17e319de"
      },
      "outputs": [
        {
          "data": {
            "text/plain": [
              "Timestamp('2019-07-25 00:00:00')"
            ]
          },
          "metadata": {},
          "output_type": "display_data"
        },
        {
          "data": {
            "text/plain": [
              "Timestamp('2019-08-07 00:00:00')"
            ]
          },
          "execution_count": 39,
          "metadata": {},
          "output_type": "execute_result"
        }
      ],
      "source": [
        "# найдём минимальную и максимальную дату событий\n",
        "display(data['date'].min())\n",
        "data['date'].max()"
      ]
    },
    {
      "cell_type": "markdown",
      "metadata": {
        "id": "XOaOnqVoeCsJ"
      },
      "source": [
        "В логе имеются данные за период с 25 июля по 7 августа 2019 года."
      ]
    },
    {
      "cell_type": "code",
      "execution_count": null,
      "metadata": {
        "id": "ddlWDKbSeCsJ",
        "outputId": "8273e015-4b3a-48fa-f023-a8ab86bf9cf5"
      },
      "outputs": [
        {
          "data": {
            "image/png": "[encoded data removed]",
            "text/plain": [
              "<Figure size 432x288 with 1 Axes>"
            ]
          },
          "metadata": {
            "needs_background": "light"
          },
          "output_type": "display_data"
        }
      ],
      "source": [
        "# построим столбчатую диаграмму распределения событий по датам\n",
        "data.pivot_table(index='date', values='event_type', aggfunc='count').plot(kind='bar')\n",
        "\n",
        "plt.title('Распределение количества событий по датам')\n",
        "plt.xlabel('дата')\n",
        "plt.ylabel('количество событий')\n",
        "plt.show()"
      ]
    },
    {
      "cell_type": "markdown",
      "metadata": {
        "id": "MLnvpumleCsM"
      },
      "source": [
        "Для целей исследования следует удалить данные, полученные раньше 1 августа 2019 года."
      ]
    },
    {
      "cell_type": "code",
      "execution_count": null,
      "metadata": {
        "id": "HthNtrcneCsM",
        "outputId": "948aa7ee-d2e8-4de7-db6f-3d8dd619cd1c"
      },
      "outputs": [
        {
          "name": "stdout",
          "output_type": "stream",
          "text": [
            "<class 'pandas.core.frame.DataFrame'>\n",
            "Int64Index: 240887 entries, 2828 to 244125\n",
            "Data columns (total 6 columns):\n",
            " #   Column      Non-Null Count   Dtype         \n",
            "---  ------      --------------   -----         \n",
            " 0   event_type  240887 non-null  object        \n",
            " 1   user_id     240887 non-null  int64         \n",
            " 2   timestamp   240887 non-null  int64         \n",
            " 3   group       240887 non-null  int64         \n",
            " 4   date_time   240887 non-null  datetime64[ns]\n",
            " 5   date        240887 non-null  datetime64[ns]\n",
            "dtypes: datetime64[ns](2), int64(3), object(1)\n",
            "memory usage: 12.9+ MB\n"
          ]
        }
      ],
      "source": [
        "# сохраним очищенные данные в переменную data_pure и выведем информацию о ней на экран\n",
        "data_pure = data[data['date'] > '2019-07-31 00:00:00']\n",
        "data_pure.info()"
      ]
    },
    {
      "cell_type": "markdown",
      "metadata": {
        "id": "Qvq_h6dgeCsN"
      },
      "source": [
        "В результате удаления данных, полученных раньше 1 августа 2019 года, было потеряно 2828 записей, то есть около 1.1% от изначального количества."
      ]
    },
    {
      "cell_type": "code",
      "execution_count": null,
      "metadata": {
        "id": "Aetnpyi0eCsN",
        "outputId": "b5aab32e-6f2a-4ae8-90dc-ad68a739861a"
      },
      "outputs": [
        {
          "data": {
            "text/plain": [
              "7534"
            ]
          },
          "execution_count": 43,
          "metadata": {},
          "output_type": "execute_result"
        }
      ],
      "source": [
        "# найдём количество пользователей в data_pure\n",
        "data_pure['user_id'].nunique()"
      ]
    },
    {
      "cell_type": "markdown",
      "metadata": {
        "id": "O7B6dqf7eCsN"
      },
      "source": [
        "В результате удаления данных, полученных раньше 1 августа 2019 года, были потеряны данные о 17 пользователях, то есть около 0.02% от изначального количества."
      ]
    },
    {
      "cell_type": "code",
      "execution_count": null,
      "metadata": {
        "id": "43neV1hieCsN",
        "outputId": "c0bba711-b4d4-4538-a0ca-5ebf8851152d"
      },
      "outputs": [
        {
          "data": {
            "text/plain": [
              "array([246, 247, 248])"
            ]
          },
          "execution_count": 44,
          "metadata": {},
          "output_type": "execute_result"
        }
      ],
      "source": [
        "# проверим, все ли экспериментальные группы сохранились в очищенных данных\n",
        "data_pure['group'].unique()"
      ]
    },
    {
      "cell_type": "markdown",
      "metadata": {
        "id": "WOke2beseCsN"
      },
      "source": [
        "В результате удаления данных, полученных раньше 1 августа 2019 года, в датафрейме сохранились данные обо всех группах."
      ]
    },
    {
      "cell_type": "markdown",
      "metadata": {
        "id": "-FdDha8MeCsO"
      },
      "source": [
        "## Воронка событий"
      ]
    },
    {
      "cell_type": "code",
      "execution_count": null,
      "metadata": {
        "id": "SrQ2ej8eeCsO",
        "outputId": "38f63e16-bca1-42e8-95f7-88708cc07159"
      },
      "outputs": [
        {
          "data": {
            "text/html": [
              "<div>\n",
              "<style scoped>\n",
              "    .dataframe tbody tr th:only-of-type {\n",
              "        vertical-align: middle;\n",
              "    }\n",
              "\n",
              "    .dataframe tbody tr th {\n",
              "        vertical-align: top;\n",
              "    }\n",
              "\n",
              "    .dataframe thead th {\n",
              "        text-align: right;\n",
              "    }\n",
              "</style>\n",
              "<table border=\"1\" class=\"dataframe\">\n",
              "  <thead>\n",
              "    <tr style=\"text-align: right;\">\n",
              "      <th></th>\n",
              "      <th>event_type</th>\n",
              "      <th>events_amount</th>\n",
              "      <th>users_amount</th>\n",
              "    </tr>\n",
              "  </thead>\n",
              "  <tbody>\n",
              "    <tr>\n",
              "      <th>0</th>\n",
              "      <td>MainScreenAppear</td>\n",
              "      <td>117328</td>\n",
              "      <td>7419</td>\n",
              "    </tr>\n",
              "    <tr>\n",
              "      <th>1</th>\n",
              "      <td>OffersScreenAppear</td>\n",
              "      <td>46333</td>\n",
              "      <td>4593</td>\n",
              "    </tr>\n",
              "    <tr>\n",
              "      <th>2</th>\n",
              "      <td>CartScreenAppear</td>\n",
              "      <td>42303</td>\n",
              "      <td>3734</td>\n",
              "    </tr>\n",
              "    <tr>\n",
              "      <th>3</th>\n",
              "      <td>PaymentScreenSuccessful</td>\n",
              "      <td>33918</td>\n",
              "      <td>3539</td>\n",
              "    </tr>\n",
              "    <tr>\n",
              "      <th>4</th>\n",
              "      <td>Tutorial</td>\n",
              "      <td>1005</td>\n",
              "      <td>840</td>\n",
              "    </tr>\n",
              "  </tbody>\n",
              "</table>\n",
              "</div>"
            ],
            "text/plain": [
              "                event_type  events_amount  users_amount\n",
              "0         MainScreenAppear         117328          7419\n",
              "1       OffersScreenAppear          46333          4593\n",
              "2         CartScreenAppear          42303          3734\n",
              "3  PaymentScreenSuccessful          33918          3539\n",
              "4                 Tutorial           1005           840"
            ]
          },
          "execution_count": 45,
          "metadata": {},
          "output_type": "execute_result"
        }
      ],
      "source": [
        "# сохраним данные о событиях, их частоте и количестве пользователей, их совершивших, в переменную events\n",
        "events = data_pure.groupby('event_type', as_index=False).agg({'date_time': 'count', 'user_id': 'nunique'})\n",
        "events.columns = ['event_type', 'events_amount', 'users_amount']\n",
        "\n",
        "# отсоритруем events по убыванию частоты\n",
        "events = events.sort_values(by='events_amount', ascending=False).reset_index(drop=True)\n",
        "events"
      ]
    },
    {
      "cell_type": "code",
      "execution_count": null,
      "metadata": {
        "id": "ZzoOIRDCeCsO",
        "outputId": "8b818bf3-7365-4ae4-da0b-201ede0dc674"
      },
      "outputs": [
        {
          "data": {
            "text/html": [
              "<div>\n",
              "<style scoped>\n",
              "    .dataframe tbody tr th:only-of-type {\n",
              "        vertical-align: middle;\n",
              "    }\n",
              "\n",
              "    .dataframe tbody tr th {\n",
              "        vertical-align: top;\n",
              "    }\n",
              "\n",
              "    .dataframe thead th {\n",
              "        text-align: right;\n",
              "    }\n",
              "</style>\n",
              "<table border=\"1\" class=\"dataframe\">\n",
              "  <thead>\n",
              "    <tr style=\"text-align: right;\">\n",
              "      <th></th>\n",
              "      <th>event_type</th>\n",
              "      <th>events_amount</th>\n",
              "      <th>users_amount</th>\n",
              "      <th>users_share</th>\n",
              "    </tr>\n",
              "  </thead>\n",
              "  <tbody>\n",
              "    <tr>\n",
              "      <th>0</th>\n",
              "      <td>MainScreenAppear</td>\n",
              "      <td>117328</td>\n",
              "      <td>7419</td>\n",
              "      <td>0.984736</td>\n",
              "    </tr>\n",
              "    <tr>\n",
              "      <th>1</th>\n",
              "      <td>OffersScreenAppear</td>\n",
              "      <td>46333</td>\n",
              "      <td>4593</td>\n",
              "      <td>0.609636</td>\n",
              "    </tr>\n",
              "    <tr>\n",
              "      <th>2</th>\n",
              "      <td>CartScreenAppear</td>\n",
              "      <td>42303</td>\n",
              "      <td>3734</td>\n",
              "      <td>0.495620</td>\n",
              "    </tr>\n",
              "    <tr>\n",
              "      <th>3</th>\n",
              "      <td>PaymentScreenSuccessful</td>\n",
              "      <td>33918</td>\n",
              "      <td>3539</td>\n",
              "      <td>0.469737</td>\n",
              "    </tr>\n",
              "    <tr>\n",
              "      <th>4</th>\n",
              "      <td>Tutorial</td>\n",
              "      <td>1005</td>\n",
              "      <td>840</td>\n",
              "      <td>0.111495</td>\n",
              "    </tr>\n",
              "  </tbody>\n",
              "</table>\n",
              "</div>"
            ],
            "text/plain": [
              "                event_type  events_amount  users_amount  users_share\n",
              "0         MainScreenAppear         117328          7419     0.984736\n",
              "1       OffersScreenAppear          46333          4593     0.609636\n",
              "2         CartScreenAppear          42303          3734     0.495620\n",
              "3  PaymentScreenSuccessful          33918          3539     0.469737\n",
              "4                 Tutorial           1005           840     0.111495"
            ]
          },
          "execution_count": 46,
          "metadata": {},
          "output_type": "execute_result"
        }
      ],
      "source": [
        "# добавим в events столбец с долей пользователей, совершавших событие\n",
        "events['users_share'] = events['users_amount'] / data_pure['user_id'].nunique()\n",
        "events"
      ]
    },
    {
      "cell_type": "markdown",
      "metadata": {
        "id": "yLKVmSneeCsO"
      },
      "source": [
        "Предположительно, события в воронке идут в такой последовательности:\n",
        "\n",
        "1. *MainScreenAppear* (демонстрация главного экрана),\n",
        "2. *OffersScreenAppear* (демонстрация экрана товаров),\n",
        "3. *CartScreenAppear* (демонстрация экрана корзины),\n",
        "4. *PaymentScreenSuccessful* (демонстрация уведомления об успешной оплате).\n",
        "\n",
        "Исключение, вероятно, составляет событие *Tutorial* (обучение), которое, судя по всему, может быть совершено в любом месте воронки и не является обязательным."
      ]
    },
    {
      "cell_type": "code",
      "execution_count": null,
      "metadata": {
        "id": "jsUfFY6peCsO",
        "outputId": "839f549e-f412-4f76-e6e6-fbf56a951e70"
      },
      "outputs": [
        {
          "data": {
            "text/html": [
              "<div>\n",
              "<style scoped>\n",
              "    .dataframe tbody tr th:only-of-type {\n",
              "        vertical-align: middle;\n",
              "    }\n",
              "\n",
              "    .dataframe tbody tr th {\n",
              "        vertical-align: top;\n",
              "    }\n",
              "\n",
              "    .dataframe thead th {\n",
              "        text-align: right;\n",
              "    }\n",
              "</style>\n",
              "<table border=\"1\" class=\"dataframe\">\n",
              "  <thead>\n",
              "    <tr style=\"text-align: right;\">\n",
              "      <th></th>\n",
              "      <th>event_type</th>\n",
              "      <th>events_amount</th>\n",
              "      <th>users_amount</th>\n",
              "      <th>users_share</th>\n",
              "    </tr>\n",
              "  </thead>\n",
              "  <tbody>\n",
              "    <tr>\n",
              "      <th>0</th>\n",
              "      <td>MainScreenAppear</td>\n",
              "      <td>117328</td>\n",
              "      <td>7419</td>\n",
              "      <td>0.984736</td>\n",
              "    </tr>\n",
              "    <tr>\n",
              "      <th>1</th>\n",
              "      <td>OffersScreenAppear</td>\n",
              "      <td>46333</td>\n",
              "      <td>4593</td>\n",
              "      <td>0.609636</td>\n",
              "    </tr>\n",
              "    <tr>\n",
              "      <th>2</th>\n",
              "      <td>CartScreenAppear</td>\n",
              "      <td>42303</td>\n",
              "      <td>3734</td>\n",
              "      <td>0.495620</td>\n",
              "    </tr>\n",
              "    <tr>\n",
              "      <th>3</th>\n",
              "      <td>PaymentScreenSuccessful</td>\n",
              "      <td>33918</td>\n",
              "      <td>3539</td>\n",
              "      <td>0.469737</td>\n",
              "    </tr>\n",
              "  </tbody>\n",
              "</table>\n",
              "</div>"
            ],
            "text/plain": [
              "                event_type  events_amount  users_amount  users_share\n",
              "0         MainScreenAppear         117328          7419     0.984736\n",
              "1       OffersScreenAppear          46333          4593     0.609636\n",
              "2         CartScreenAppear          42303          3734     0.495620\n",
              "3  PaymentScreenSuccessful          33918          3539     0.469737"
            ]
          },
          "execution_count": 47,
          "metadata": {},
          "output_type": "execute_result"
        }
      ],
      "source": [
        "# удилим из events запись о событии Tutorial\n",
        "events = events[events['event_type'] != 'Tutorial']\n",
        "events"
      ]
    },
    {
      "cell_type": "code",
      "execution_count": null,
      "metadata": {
        "scrolled": false,
        "id": "JMoaiv-TeCsO",
        "outputId": "0c2defda-2850-4fb2-9790-12d43e315364"
      },
      "outputs": [
        {
          "name": "stderr",
          "output_type": "stream",
          "text": [
            "/opt/conda/lib/python3.9/site-packages/pandas/core/indexing.py:1599: SettingWithCopyWarning: \n",
            "A value is trying to be set on a copy of a slice from a DataFrame.\n",
            "Try using .loc[row_indexer,col_indexer] = value instead\n",
            "\n",
            "See the caveats in the documentation: https://pandas.pydata.org/pandas-docs/stable/user_guide/indexing.html#returning-a-view-versus-a-copy\n",
            "  self.obj[key] = infer_fill_value(value)\n",
            "/opt/conda/lib/python3.9/site-packages/pandas/core/indexing.py:1720: SettingWithCopyWarning: \n",
            "A value is trying to be set on a copy of a slice from a DataFrame.\n",
            "Try using .loc[row_indexer,col_indexer] = value instead\n",
            "\n",
            "See the caveats in the documentation: https://pandas.pydata.org/pandas-docs/stable/user_guide/indexing.html#returning-a-view-versus-a-copy\n",
            "  self._setitem_single_column(loc, value, pi)\n"
          ]
        },
        {
          "data": {
            "text/html": [
              "<div>\n",
              "<style scoped>\n",
              "    .dataframe tbody tr th:only-of-type {\n",
              "        vertical-align: middle;\n",
              "    }\n",
              "\n",
              "    .dataframe tbody tr th {\n",
              "        vertical-align: top;\n",
              "    }\n",
              "\n",
              "    .dataframe thead th {\n",
              "        text-align: right;\n",
              "    }\n",
              "</style>\n",
              "<table border=\"1\" class=\"dataframe\">\n",
              "  <thead>\n",
              "    <tr style=\"text-align: right;\">\n",
              "      <th></th>\n",
              "      <th>event_type</th>\n",
              "      <th>events_amount</th>\n",
              "      <th>users_amount</th>\n",
              "      <th>users_share</th>\n",
              "      <th>step_share</th>\n",
              "    </tr>\n",
              "  </thead>\n",
              "  <tbody>\n",
              "    <tr>\n",
              "      <th>0</th>\n",
              "      <td>MainScreenAppear</td>\n",
              "      <td>117328</td>\n",
              "      <td>7419</td>\n",
              "      <td>0.984736</td>\n",
              "      <td>1.000000</td>\n",
              "    </tr>\n",
              "    <tr>\n",
              "      <th>1</th>\n",
              "      <td>OffersScreenAppear</td>\n",
              "      <td>46333</td>\n",
              "      <td>4593</td>\n",
              "      <td>0.609636</td>\n",
              "      <td>0.619086</td>\n",
              "    </tr>\n",
              "    <tr>\n",
              "      <th>2</th>\n",
              "      <td>CartScreenAppear</td>\n",
              "      <td>42303</td>\n",
              "      <td>3734</td>\n",
              "      <td>0.495620</td>\n",
              "      <td>0.812976</td>\n",
              "    </tr>\n",
              "    <tr>\n",
              "      <th>3</th>\n",
              "      <td>PaymentScreenSuccessful</td>\n",
              "      <td>33918</td>\n",
              "      <td>3539</td>\n",
              "      <td>0.469737</td>\n",
              "      <td>0.947777</td>\n",
              "    </tr>\n",
              "  </tbody>\n",
              "</table>\n",
              "</div>"
            ],
            "text/plain": [
              "                event_type  events_amount  users_amount  users_share  \\\n",
              "0         MainScreenAppear         117328          7419     0.984736   \n",
              "1       OffersScreenAppear          46333          4593     0.609636   \n",
              "2         CartScreenAppear          42303          3734     0.495620   \n",
              "3  PaymentScreenSuccessful          33918          3539     0.469737   \n",
              "\n",
              "   step_share  \n",
              "0    1.000000  \n",
              "1    0.619086  \n",
              "2    0.812976  \n",
              "3    0.947777  "
            ]
          },
          "execution_count": 48,
          "metadata": {},
          "output_type": "execute_result"
        }
      ],
      "source": [
        "# добавим в events столбец с долей пользователей, переходящих на следующий шаг с предыдущего\n",
        "for i in range(0, len(events['event_type'])):\n",
        "    if i == 0:\n",
        "        events.loc[i, 'step_share'] = 1\n",
        "    else:\n",
        "        events.loc[i, 'step_share'] = events.loc[i, 'users_amount'] / events.loc[i - 1, 'users_amount']\n",
        "\n",
        "events"
      ]
    },
    {
      "cell_type": "markdown",
      "metadata": {
        "id": "wFR1CHjGeCsP"
      },
      "source": [
        "**Наибольшее количество пользователей теряется при переходе на шаг *OffersScreenAppear*** - около 38.1% пользователей не переходят на этот шаг."
      ]
    },
    {
      "cell_type": "code",
      "execution_count": null,
      "metadata": {
        "id": "I9zkhaMZeCsP",
        "outputId": "5a2ebeba-d4bd-4d83-d3bf-437eda95c6a1"
      },
      "outputs": [
        {
          "data": {
            "text/plain": [
              "0.47701846610055265"
            ]
          },
          "execution_count": 49,
          "metadata": {},
          "output_type": "execute_result"
        }
      ],
      "source": [
        "# найдём долю пользователей, доходящих от первого события до оплаты\n",
        "events.loc[3, 'users_amount'] / events.loc[0, 'users_amount']"
      ]
    },
    {
      "cell_type": "markdown",
      "metadata": {
        "id": "KZe2fhPXeCsP"
      },
      "source": [
        "От первого события воронки до оплаты доходят около 47.7% пользователей."
      ]
    },
    {
      "cell_type": "markdown",
      "metadata": {
        "id": "VKM69aUteCsP"
      },
      "source": [
        "## Результаты эксперимента"
      ]
    },
    {
      "cell_type": "markdown",
      "metadata": {
        "id": "EaO5cVBaeCsP"
      },
      "source": [
        "### Подготовка тестов"
      ]
    },
    {
      "cell_type": "code",
      "execution_count": null,
      "metadata": {
        "id": "FPCFOWGleCsP",
        "outputId": "bc88d128-e612-4d5c-9d7c-07c8b10c0385"
      },
      "outputs": [
        {
          "data": {
            "text/html": [
              "<div>\n",
              "<style scoped>\n",
              "    .dataframe tbody tr th:only-of-type {\n",
              "        vertical-align: middle;\n",
              "    }\n",
              "\n",
              "    .dataframe tbody tr th {\n",
              "        vertical-align: top;\n",
              "    }\n",
              "\n",
              "    .dataframe thead th {\n",
              "        text-align: right;\n",
              "    }\n",
              "</style>\n",
              "<table border=\"1\" class=\"dataframe\">\n",
              "  <thead>\n",
              "    <tr style=\"text-align: right;\">\n",
              "      <th></th>\n",
              "      <th>group</th>\n",
              "      <th>population</th>\n",
              "    </tr>\n",
              "  </thead>\n",
              "  <tbody>\n",
              "    <tr>\n",
              "      <th>0</th>\n",
              "      <td>246</td>\n",
              "      <td>2483</td>\n",
              "    </tr>\n",
              "    <tr>\n",
              "      <th>1</th>\n",
              "      <td>247</td>\n",
              "      <td>2512</td>\n",
              "    </tr>\n",
              "    <tr>\n",
              "      <th>2</th>\n",
              "      <td>248</td>\n",
              "      <td>2535</td>\n",
              "    </tr>\n",
              "  </tbody>\n",
              "</table>\n",
              "</div>"
            ],
            "text/plain": [
              "   group  population\n",
              "0    246        2483\n",
              "1    247        2512\n",
              "2    248        2535"
            ]
          },
          "execution_count": 68,
          "metadata": {},
          "output_type": "execute_result"
        }
      ],
      "source": [
        "# сохраним данные о численности групп в переменную groups\n",
        "groups = data_pure[data_pure['event_type'] != 'Tutorial'].groupby('group', as_index=False).agg({'user_id': 'nunique'})\n",
        "groups.columns = ['group', 'population']\n",
        "groups"
      ]
    },
    {
      "cell_type": "code",
      "execution_count": null,
      "metadata": {
        "id": "10ppeJ5ieCsQ"
      },
      "outputs": [],
      "source": [
        "# сохраним в отдельные переменные данные о численности каждой группы\n",
        "group_246 = groups.loc[groups['group'] == 246]\n",
        "group_247 = groups.loc[groups['group'] == 247]\n",
        "group_248 = groups.loc[groups['group'] == 248]"
      ]
    },
    {
      "cell_type": "code",
      "execution_count": null,
      "metadata": {
        "id": "3ERS13E_eCsQ",
        "outputId": "a8d3ea86-f067-49fe-8343-43759becd95a"
      },
      "outputs": [
        {
          "data": {
            "text/html": [
              "<div>\n",
              "<style scoped>\n",
              "    .dataframe tbody tr th:only-of-type {\n",
              "        vertical-align: middle;\n",
              "    }\n",
              "\n",
              "    .dataframe tbody tr th {\n",
              "        vertical-align: top;\n",
              "    }\n",
              "\n",
              "    .dataframe thead th {\n",
              "        text-align: right;\n",
              "    }\n",
              "</style>\n",
              "<table border=\"1\" class=\"dataframe\">\n",
              "  <thead>\n",
              "    <tr style=\"text-align: right;\">\n",
              "      <th></th>\n",
              "      <th>group</th>\n",
              "      <th>event_type</th>\n",
              "      <th>events_amount</th>\n",
              "      <th>users_amount</th>\n",
              "      <th>population</th>\n",
              "      <th>users_share</th>\n",
              "    </tr>\n",
              "  </thead>\n",
              "  <tbody>\n",
              "    <tr>\n",
              "      <th>0</th>\n",
              "      <td>246</td>\n",
              "      <td>MainScreenAppear</td>\n",
              "      <td>37676</td>\n",
              "      <td>2450</td>\n",
              "      <td>2483</td>\n",
              "      <td>0.986710</td>\n",
              "    </tr>\n",
              "    <tr>\n",
              "      <th>1</th>\n",
              "      <td>246</td>\n",
              "      <td>OffersScreenAppear</td>\n",
              "      <td>14767</td>\n",
              "      <td>1542</td>\n",
              "      <td>2483</td>\n",
              "      <td>0.621023</td>\n",
              "    </tr>\n",
              "    <tr>\n",
              "      <th>2</th>\n",
              "      <td>246</td>\n",
              "      <td>CartScreenAppear</td>\n",
              "      <td>14690</td>\n",
              "      <td>1266</td>\n",
              "      <td>2483</td>\n",
              "      <td>0.509867</td>\n",
              "    </tr>\n",
              "    <tr>\n",
              "      <th>3</th>\n",
              "      <td>246</td>\n",
              "      <td>PaymentScreenSuccessful</td>\n",
              "      <td>11852</td>\n",
              "      <td>1200</td>\n",
              "      <td>2483</td>\n",
              "      <td>0.483286</td>\n",
              "    </tr>\n",
              "  </tbody>\n",
              "</table>\n",
              "</div>"
            ],
            "text/plain": [
              "   group               event_type  events_amount  users_amount  population  \\\n",
              "0    246         MainScreenAppear          37676          2450        2483   \n",
              "1    246       OffersScreenAppear          14767          1542        2483   \n",
              "2    246         CartScreenAppear          14690          1266        2483   \n",
              "3    246  PaymentScreenSuccessful          11852          1200        2483   \n",
              "\n",
              "   users_share  \n",
              "0     0.986710  \n",
              "1     0.621023  \n",
              "2     0.509867  \n",
              "3     0.483286  "
            ]
          },
          "execution_count": 70,
          "metadata": {},
          "output_type": "execute_result"
        }
      ],
      "source": [
        "# сохраним данные о группе 246 в переменную ex_246\n",
        "ex_246 = data_pure[(data_pure['event_type'] != 'Tutorial') & (data_pure['group'] == 246)]\n",
        "ex_246 = ex_246.groupby(['group', 'event_type'], as_index=False).agg({'user_id': ['count', 'nunique']})\n",
        "\n",
        "ex_246.columns = ['group', 'event_type', 'events_amount', 'users_amount']\n",
        "\n",
        "ex_246 = ex_246.merge(group_246, on='group', how='left')\n",
        "\n",
        "ex_246['users_share'] = ex_246['users_amount'] / ex_246['population']\n",
        "\n",
        "ex_246 = ex_246.sort_values(by='events_amount', ascending=False).reset_index(drop=True)\n",
        "\n",
        "ex_246"
      ]
    },
    {
      "cell_type": "code",
      "execution_count": null,
      "metadata": {
        "id": "GuKUovS8eCsQ",
        "outputId": "a5ee2315-44a8-47c7-c924-a1d9535dfd41"
      },
      "outputs": [
        {
          "data": {
            "text/html": [
              "<div>\n",
              "<style scoped>\n",
              "    .dataframe tbody tr th:only-of-type {\n",
              "        vertical-align: middle;\n",
              "    }\n",
              "\n",
              "    .dataframe tbody tr th {\n",
              "        vertical-align: top;\n",
              "    }\n",
              "\n",
              "    .dataframe thead th {\n",
              "        text-align: right;\n",
              "    }\n",
              "</style>\n",
              "<table border=\"1\" class=\"dataframe\">\n",
              "  <thead>\n",
              "    <tr style=\"text-align: right;\">\n",
              "      <th></th>\n",
              "      <th>group</th>\n",
              "      <th>event_type</th>\n",
              "      <th>events_amount</th>\n",
              "      <th>users_amount</th>\n",
              "      <th>population</th>\n",
              "      <th>users_share</th>\n",
              "    </tr>\n",
              "  </thead>\n",
              "  <tbody>\n",
              "    <tr>\n",
              "      <th>0</th>\n",
              "      <td>247</td>\n",
              "      <td>MainScreenAppear</td>\n",
              "      <td>39090</td>\n",
              "      <td>2476</td>\n",
              "      <td>2512</td>\n",
              "      <td>0.985669</td>\n",
              "    </tr>\n",
              "    <tr>\n",
              "      <th>1</th>\n",
              "      <td>247</td>\n",
              "      <td>OffersScreenAppear</td>\n",
              "      <td>15179</td>\n",
              "      <td>1520</td>\n",
              "      <td>2512</td>\n",
              "      <td>0.605096</td>\n",
              "    </tr>\n",
              "    <tr>\n",
              "      <th>2</th>\n",
              "      <td>247</td>\n",
              "      <td>CartScreenAppear</td>\n",
              "      <td>12434</td>\n",
              "      <td>1238</td>\n",
              "      <td>2512</td>\n",
              "      <td>0.492834</td>\n",
              "    </tr>\n",
              "    <tr>\n",
              "      <th>3</th>\n",
              "      <td>247</td>\n",
              "      <td>PaymentScreenSuccessful</td>\n",
              "      <td>9981</td>\n",
              "      <td>1158</td>\n",
              "      <td>2512</td>\n",
              "      <td>0.460987</td>\n",
              "    </tr>\n",
              "  </tbody>\n",
              "</table>\n",
              "</div>"
            ],
            "text/plain": [
              "   group               event_type  events_amount  users_amount  population  \\\n",
              "0    247         MainScreenAppear          39090          2476        2512   \n",
              "1    247       OffersScreenAppear          15179          1520        2512   \n",
              "2    247         CartScreenAppear          12434          1238        2512   \n",
              "3    247  PaymentScreenSuccessful           9981          1158        2512   \n",
              "\n",
              "   users_share  \n",
              "0     0.985669  \n",
              "1     0.605096  \n",
              "2     0.492834  \n",
              "3     0.460987  "
            ]
          },
          "execution_count": 71,
          "metadata": {},
          "output_type": "execute_result"
        }
      ],
      "source": [
        "# сохраним данные о группе 247 в переменную ex_247\n",
        "ex_247 = data_pure[(data_pure['event_type'] != 'Tutorial') & (data_pure['group'] == 247)]\n",
        "ex_247 = ex_247.groupby(['group', 'event_type'], as_index=False).agg({'user_id': ['count', 'nunique']})\n",
        "\n",
        "ex_247.columns = ['group', 'event_type', 'events_amount', 'users_amount']\n",
        "\n",
        "ex_247 = ex_247.merge(group_247, on='group', how='left')\n",
        "\n",
        "ex_247['users_share'] = ex_247['users_amount'] / ex_247['population']\n",
        "\n",
        "ex_247 = ex_247.sort_values(by='events_amount', ascending=False).reset_index(drop=True)\n",
        "\n",
        "ex_247"
      ]
    },
    {
      "cell_type": "code",
      "execution_count": null,
      "metadata": {
        "id": "h2hbpZLbeCsQ",
        "outputId": "c489329f-8974-4e3b-8db9-d7d21eef1a5e"
      },
      "outputs": [
        {
          "data": {
            "text/html": [
              "<div>\n",
              "<style scoped>\n",
              "    .dataframe tbody tr th:only-of-type {\n",
              "        vertical-align: middle;\n",
              "    }\n",
              "\n",
              "    .dataframe tbody tr th {\n",
              "        vertical-align: top;\n",
              "    }\n",
              "\n",
              "    .dataframe thead th {\n",
              "        text-align: right;\n",
              "    }\n",
              "</style>\n",
              "<table border=\"1\" class=\"dataframe\">\n",
              "  <thead>\n",
              "    <tr style=\"text-align: right;\">\n",
              "      <th></th>\n",
              "      <th>event_type</th>\n",
              "      <th>users_amount</th>\n",
              "      <th>population</th>\n",
              "      <th>users_share</th>\n",
              "    </tr>\n",
              "  </thead>\n",
              "  <tbody>\n",
              "    <tr>\n",
              "      <th>0</th>\n",
              "      <td>MainScreenAppear</td>\n",
              "      <td>4926</td>\n",
              "      <td>4995</td>\n",
              "      <td>0.986186</td>\n",
              "    </tr>\n",
              "    <tr>\n",
              "      <th>1</th>\n",
              "      <td>OffersScreenAppear</td>\n",
              "      <td>3062</td>\n",
              "      <td>4995</td>\n",
              "      <td>0.613013</td>\n",
              "    </tr>\n",
              "    <tr>\n",
              "      <th>2</th>\n",
              "      <td>CartScreenAppear</td>\n",
              "      <td>2504</td>\n",
              "      <td>4995</td>\n",
              "      <td>0.501301</td>\n",
              "    </tr>\n",
              "    <tr>\n",
              "      <th>3</th>\n",
              "      <td>PaymentScreenSuccessful</td>\n",
              "      <td>2358</td>\n",
              "      <td>4995</td>\n",
              "      <td>0.472072</td>\n",
              "    </tr>\n",
              "  </tbody>\n",
              "</table>\n",
              "</div>"
            ],
            "text/plain": [
              "                event_type  users_amount  population  users_share\n",
              "0         MainScreenAppear          4926        4995     0.986186\n",
              "1       OffersScreenAppear          3062        4995     0.613013\n",
              "2         CartScreenAppear          2504        4995     0.501301\n",
              "3  PaymentScreenSuccessful          2358        4995     0.472072"
            ]
          },
          "execution_count": 72,
          "metadata": {},
          "output_type": "execute_result"
        }
      ],
      "source": [
        "# объединим данные о группах 246 и 247 в перменную ex_aa\n",
        "ex_aa = ex_246.merge(ex_247, left_on='event_type', right_on='event_type', suffixes=['_246', '_247'])\n",
        "ex_aa['users_amount'] = ex_aa['users_amount_246'] + ex_aa['users_amount_247']\n",
        "ex_aa['population'] = ex_aa['population_246'] + ex_aa['population_247']\n",
        "ex_aa['users_share'] = ex_aa['users_amount'] /  ex_aa['population']\n",
        "ex_aa = ex_aa[['event_type', 'users_amount', 'population', 'users_share']]\n",
        "ex_aa"
      ]
    },
    {
      "cell_type": "code",
      "execution_count": null,
      "metadata": {
        "id": "fdMmfxHteCsQ",
        "outputId": "35ea3c91-6e7b-4801-f32c-973144ac0b86"
      },
      "outputs": [
        {
          "data": {
            "text/html": [
              "<div>\n",
              "<style scoped>\n",
              "    .dataframe tbody tr th:only-of-type {\n",
              "        vertical-align: middle;\n",
              "    }\n",
              "\n",
              "    .dataframe tbody tr th {\n",
              "        vertical-align: top;\n",
              "    }\n",
              "\n",
              "    .dataframe thead th {\n",
              "        text-align: right;\n",
              "    }\n",
              "</style>\n",
              "<table border=\"1\" class=\"dataframe\">\n",
              "  <thead>\n",
              "    <tr style=\"text-align: right;\">\n",
              "      <th></th>\n",
              "      <th>group</th>\n",
              "      <th>event_type</th>\n",
              "      <th>events_amount</th>\n",
              "      <th>users_amount</th>\n",
              "      <th>population</th>\n",
              "      <th>users_share</th>\n",
              "    </tr>\n",
              "  </thead>\n",
              "  <tbody>\n",
              "    <tr>\n",
              "      <th>0</th>\n",
              "      <td>248</td>\n",
              "      <td>MainScreenAppear</td>\n",
              "      <td>40562</td>\n",
              "      <td>2493</td>\n",
              "      <td>2535</td>\n",
              "      <td>0.983432</td>\n",
              "    </tr>\n",
              "    <tr>\n",
              "      <th>1</th>\n",
              "      <td>248</td>\n",
              "      <td>OffersScreenAppear</td>\n",
              "      <td>16387</td>\n",
              "      <td>1531</td>\n",
              "      <td>2535</td>\n",
              "      <td>0.603945</td>\n",
              "    </tr>\n",
              "    <tr>\n",
              "      <th>2</th>\n",
              "      <td>248</td>\n",
              "      <td>CartScreenAppear</td>\n",
              "      <td>15179</td>\n",
              "      <td>1230</td>\n",
              "      <td>2535</td>\n",
              "      <td>0.485207</td>\n",
              "    </tr>\n",
              "    <tr>\n",
              "      <th>3</th>\n",
              "      <td>248</td>\n",
              "      <td>PaymentScreenSuccessful</td>\n",
              "      <td>12085</td>\n",
              "      <td>1181</td>\n",
              "      <td>2535</td>\n",
              "      <td>0.465878</td>\n",
              "    </tr>\n",
              "  </tbody>\n",
              "</table>\n",
              "</div>"
            ],
            "text/plain": [
              "   group               event_type  events_amount  users_amount  population  \\\n",
              "0    248         MainScreenAppear          40562          2493        2535   \n",
              "1    248       OffersScreenAppear          16387          1531        2535   \n",
              "2    248         CartScreenAppear          15179          1230        2535   \n",
              "3    248  PaymentScreenSuccessful          12085          1181        2535   \n",
              "\n",
              "   users_share  \n",
              "0     0.983432  \n",
              "1     0.603945  \n",
              "2     0.485207  \n",
              "3     0.465878  "
            ]
          },
          "execution_count": 75,
          "metadata": {},
          "output_type": "execute_result"
        }
      ],
      "source": [
        "# сохраним данные о группе 248 в переменную ex_248\n",
        "ex_248 = data_pure[(data_pure['event_type'] != 'Tutorial') & (data_pure['group'] == 248)]\n",
        "ex_248 = ex_248.groupby(['group', 'event_type'], as_index=False).agg({'user_id': ['count', 'nunique']})\n",
        "\n",
        "ex_248.columns = ['group', 'event_type', 'events_amount', 'users_amount']\n",
        "\n",
        "ex_248 = ex_248.merge(group_248, on='group', how='left')\n",
        "\n",
        "ex_248['users_share'] = ex_248['users_amount'] / ex_248['population']\n",
        "\n",
        "ex_248 = ex_248.sort_values(by='events_amount', ascending=False).reset_index(drop=True)\n",
        "\n",
        "ex_248"
      ]
    },
    {
      "cell_type": "code",
      "execution_count": null,
      "metadata": {
        "id": "xIMhNTeleCsQ"
      },
      "outputs": [],
      "source": [
        "# зададим функцию для проведения z-теста\n",
        "def stat_test(group1, group2, a):\n",
        "\n",
        "    joined = group1.merge(group2, left_on='event_type', right_on='event_type')\n",
        "\n",
        "    for i in range(0, len(group1)):\n",
        "\n",
        "        alpha = 1 - ((1 - a)**(1 / (i + 1)))\n",
        "\n",
        "        combined = ((group1.loc[i, 'users_amount'] + group2.loc[i, 'users_amount']) /\n",
        "                    (group1.loc[i, 'population'] + group2.loc[i, 'population']))\n",
        "\n",
        "        difference = group1.loc[i, 'users_share'] - group2.loc[i, 'users_share']\n",
        "\n",
        "        z_value = difference / mth.sqrt(combined * (1 - combined) * (1/group1.loc[0, 'population']\n",
        "                                                                     + 1/group2.loc[0, 'population']))\n",
        "\n",
        "        distr = stats.norm(0, 1)\n",
        "\n",
        "        joined.loc[i, 'p_value'] = (1 - distr.cdf(abs(z_value))) * 2\n",
        "\n",
        "        if joined.loc[i, 'p_value'] < alpha:\n",
        "            joined.loc[i, 'result'] = 'Нулевая гипотеза отвергнута'\n",
        "        else:\n",
        "            joined.loc[i, 'result'] = 'Отвергнуть нулевую гипотезу нельзя'\n",
        "\n",
        "    joined = joined[['event_type', 'users_share_x', 'users_share_y', 'p_value', 'result']]\n",
        "\n",
        "    return joined"
      ]
    },
    {
      "cell_type": "markdown",
      "metadata": {
        "id": "60rGlyw-eCsR"
      },
      "source": [
        "### Подготовка A/A-теста"
      ]
    },
    {
      "cell_type": "markdown",
      "metadata": {
        "id": "GU_30radeCsR"
      },
      "source": [
        "Следует проверить разницу между выборками 246 и 247.\n",
        "\n",
        "**Гипотеза Н0:** различий между выорками нет.\n",
        "\n",
        "**Гипотеза Н1:** различия между выорками есть.\n",
        "\n",
        "**Уровень значимости -** 0.05."
      ]
    },
    {
      "cell_type": "code",
      "execution_count": null,
      "metadata": {
        "id": "epjxcjkbeCsR",
        "outputId": "bc1c46b4-b82f-457e-bb65-1bc1b785219f"
      },
      "outputs": [
        {
          "data": {
            "text/plain": [
              "1.0"
            ]
          },
          "execution_count": 77,
          "metadata": {},
          "output_type": "execute_result"
        }
      ],
      "source": [
        "# проверим, находят ли статистические критерии разницу между группами 246 и 247\n",
        "stats.mannwhitneyu(group_246['population'], group_247['population'])[1]"
      ]
    },
    {
      "cell_type": "markdown",
      "metadata": {
        "id": "TnRPhgjpeCsR"
      },
      "source": [
        "Различий между выорками нет."
      ]
    },
    {
      "cell_type": "markdown",
      "metadata": {
        "id": "xxP7dq3DeCsR"
      },
      "source": [
        "### A/A-тест (группы 246 и 247)"
      ]
    },
    {
      "cell_type": "markdown",
      "metadata": {
        "id": "_wUroR_DeCsR"
      },
      "source": [
        "**Гипотеза Н0:** различий между группами в долях пользователей, совершивших каждое событие, нет.\n",
        "\n",
        "**Гипотеза Н1:** различия в долях пользователей, совершивших каждое событие, есть.\n",
        "\n",
        "**Уровень значимости -** 0.05."
      ]
    },
    {
      "cell_type": "markdown",
      "metadata": {
        "id": "QSi5We1LeCsR"
      },
      "source": [
        "<div class=\"alert alert-success\">\n",
        "<b>Комментарий с комплиментом ревьюера:</b>\n",
        "    \n",
        "Гипотезы сформулированы верно, использован корректный критерий для проверки, молодец.\n",
        "</div>\n"
      ]
    },
    {
      "cell_type": "code",
      "execution_count": null,
      "metadata": {
        "id": "PM-KC37meCsR",
        "outputId": "f4be7b62-e22b-43b9-fbc4-421f72478af1"
      },
      "outputs": [
        {
          "data": {
            "text/html": [
              "<div>\n",
              "<style scoped>\n",
              "    .dataframe tbody tr th:only-of-type {\n",
              "        vertical-align: middle;\n",
              "    }\n",
              "\n",
              "    .dataframe tbody tr th {\n",
              "        vertical-align: top;\n",
              "    }\n",
              "\n",
              "    .dataframe thead th {\n",
              "        text-align: right;\n",
              "    }\n",
              "</style>\n",
              "<table border=\"1\" class=\"dataframe\">\n",
              "  <thead>\n",
              "    <tr style=\"text-align: right;\">\n",
              "      <th></th>\n",
              "      <th>event_type</th>\n",
              "      <th>users_share_246</th>\n",
              "      <th>users_share_247</th>\n",
              "      <th>p_value</th>\n",
              "      <th>result</th>\n",
              "    </tr>\n",
              "  </thead>\n",
              "  <tbody>\n",
              "    <tr>\n",
              "      <th>0</th>\n",
              "      <td>MainScreenAppear</td>\n",
              "      <td>0.986710</td>\n",
              "      <td>0.985669</td>\n",
              "      <td>0.752670</td>\n",
              "      <td>Отвергнуть нулевую гипотезу нельзя</td>\n",
              "    </tr>\n",
              "    <tr>\n",
              "      <th>1</th>\n",
              "      <td>OffersScreenAppear</td>\n",
              "      <td>0.621023</td>\n",
              "      <td>0.605096</td>\n",
              "      <td>0.247861</td>\n",
              "      <td>Отвергнуть нулевую гипотезу нельзя</td>\n",
              "    </tr>\n",
              "    <tr>\n",
              "      <th>2</th>\n",
              "      <td>CartScreenAppear</td>\n",
              "      <td>0.509867</td>\n",
              "      <td>0.492834</td>\n",
              "      <td>0.228676</td>\n",
              "      <td>Отвергнуть нулевую гипотезу нельзя</td>\n",
              "    </tr>\n",
              "    <tr>\n",
              "      <th>3</th>\n",
              "      <td>PaymentScreenSuccessful</td>\n",
              "      <td>0.483286</td>\n",
              "      <td>0.460987</td>\n",
              "      <td>0.114466</td>\n",
              "      <td>Отвергнуть нулевую гипотезу нельзя</td>\n",
              "    </tr>\n",
              "  </tbody>\n",
              "</table>\n",
              "</div>"
            ],
            "text/plain": [
              "                event_type  users_share_246  users_share_247   p_value  \\\n",
              "0         MainScreenAppear         0.986710         0.985669  0.752670   \n",
              "1       OffersScreenAppear         0.621023         0.605096  0.247861   \n",
              "2         CartScreenAppear         0.509867         0.492834  0.228676   \n",
              "3  PaymentScreenSuccessful         0.483286         0.460987  0.114466   \n",
              "\n",
              "                               result  \n",
              "0  Отвергнуть нулевую гипотезу нельзя  \n",
              "1  Отвергнуть нулевую гипотезу нельзя  \n",
              "2  Отвергнуть нулевую гипотезу нельзя  \n",
              "3  Отвергнуть нулевую гипотезу нельзя  "
            ]
          },
          "execution_count": 78,
          "metadata": {},
          "output_type": "execute_result"
        }
      ],
      "source": [
        "# сохраним результаты теста групп 246 и 247 в перменную test_aa\n",
        "test_aa = stat_test(ex_246, ex_247, 0.05)\n",
        "test_aa.columns = ['event_type', 'users_share_246', 'users_share_247', 'p_value', 'result']\n",
        "test_aa"
      ]
    },
    {
      "cell_type": "markdown",
      "metadata": {
        "id": "2H8J8qW6eCsR"
      },
      "source": [
        "Различий между долями не обнаружено."
      ]
    },
    {
      "cell_type": "markdown",
      "metadata": {
        "id": "_-Sx0zDIeCsS"
      },
      "source": [
        "### A/B-тест (группы 246 и 248)"
      ]
    },
    {
      "cell_type": "markdown",
      "metadata": {
        "id": "i2DvRasxeCsS"
      },
      "source": [
        "**Гипотеза Н0:** различий между группами в долях пользователей, совершивших каждое событие, нет.\n",
        "\n",
        "**Гипотеза Н1:** различия в долях пользователей, совершивших каждое событие, есть.\n",
        "\n",
        "**Уровень значимости -** 0.05."
      ]
    },
    {
      "cell_type": "code",
      "execution_count": null,
      "metadata": {
        "id": "PSUVj6qdeCsS",
        "outputId": "1a66adc8-26b0-4211-eae2-ab83f65633e4"
      },
      "outputs": [
        {
          "data": {
            "text/html": [
              "<div>\n",
              "<style scoped>\n",
              "    .dataframe tbody tr th:only-of-type {\n",
              "        vertical-align: middle;\n",
              "    }\n",
              "\n",
              "    .dataframe tbody tr th {\n",
              "        vertical-align: top;\n",
              "    }\n",
              "\n",
              "    .dataframe thead th {\n",
              "        text-align: right;\n",
              "    }\n",
              "</style>\n",
              "<table border=\"1\" class=\"dataframe\">\n",
              "  <thead>\n",
              "    <tr style=\"text-align: right;\">\n",
              "      <th></th>\n",
              "      <th>event_type</th>\n",
              "      <th>users_share_246</th>\n",
              "      <th>users_share_248</th>\n",
              "      <th>p_value</th>\n",
              "      <th>result</th>\n",
              "    </tr>\n",
              "  </thead>\n",
              "  <tbody>\n",
              "    <tr>\n",
              "      <th>0</th>\n",
              "      <td>MainScreenAppear</td>\n",
              "      <td>0.986710</td>\n",
              "      <td>0.983432</td>\n",
              "      <td>0.338711</td>\n",
              "      <td>Отвергнуть нулевую гипотезу нельзя</td>\n",
              "    </tr>\n",
              "    <tr>\n",
              "      <th>1</th>\n",
              "      <td>OffersScreenAppear</td>\n",
              "      <td>0.621023</td>\n",
              "      <td>0.603945</td>\n",
              "      <td>0.214425</td>\n",
              "      <td>Отвергнуть нулевую гипотезу нельзя</td>\n",
              "    </tr>\n",
              "    <tr>\n",
              "      <th>2</th>\n",
              "      <td>CartScreenAppear</td>\n",
              "      <td>0.509867</td>\n",
              "      <td>0.485207</td>\n",
              "      <td>0.080674</td>\n",
              "      <td>Отвергнуть нулевую гипотезу нельзя</td>\n",
              "    </tr>\n",
              "    <tr>\n",
              "      <th>3</th>\n",
              "      <td>PaymentScreenSuccessful</td>\n",
              "      <td>0.483286</td>\n",
              "      <td>0.465878</td>\n",
              "      <td>0.216930</td>\n",
              "      <td>Отвергнуть нулевую гипотезу нельзя</td>\n",
              "    </tr>\n",
              "  </tbody>\n",
              "</table>\n",
              "</div>"
            ],
            "text/plain": [
              "                event_type  users_share_246  users_share_248   p_value  \\\n",
              "0         MainScreenAppear         0.986710         0.983432  0.338711   \n",
              "1       OffersScreenAppear         0.621023         0.603945  0.214425   \n",
              "2         CartScreenAppear         0.509867         0.485207  0.080674   \n",
              "3  PaymentScreenSuccessful         0.483286         0.465878  0.216930   \n",
              "\n",
              "                               result  \n",
              "0  Отвергнуть нулевую гипотезу нельзя  \n",
              "1  Отвергнуть нулевую гипотезу нельзя  \n",
              "2  Отвергнуть нулевую гипотезу нельзя  \n",
              "3  Отвергнуть нулевую гипотезу нельзя  "
            ]
          },
          "execution_count": 79,
          "metadata": {},
          "output_type": "execute_result"
        }
      ],
      "source": [
        "# сохраним результаты теста групп 246 и 248 в перменную test_ab1\n",
        "test_ab1 = stat_test(ex_246, ex_248, 0.05)\n",
        "test_ab1.columns = ['event_type', 'users_share_246', 'users_share_248', 'p_value', 'result']\n",
        "test_ab1"
      ]
    },
    {
      "cell_type": "markdown",
      "metadata": {
        "id": "2AlIBZrceCsS"
      },
      "source": [
        "Различий между долями не обнаружено."
      ]
    },
    {
      "cell_type": "markdown",
      "metadata": {
        "id": "okEQKuf2eCsS"
      },
      "source": [
        "### A/B-тест (группы 247 и 248)"
      ]
    },
    {
      "cell_type": "markdown",
      "metadata": {
        "id": "BZ2hifEgeCsS"
      },
      "source": [
        "**Гипотеза Н0:** различий между группами в долях пользователей, совершивших каждое событие, нет.\n",
        "\n",
        "**Гипотеза Н1:** различия в долях пользователей, совершивших каждое событие, есть.\n",
        "\n",
        "**Уровень значимости -** 0.05."
      ]
    },
    {
      "cell_type": "code",
      "execution_count": null,
      "metadata": {
        "id": "9kZbtNkIeCsS",
        "outputId": "673da773-c49d-4d54-b72a-fac9b80c9721"
      },
      "outputs": [
        {
          "data": {
            "text/html": [
              "<div>\n",
              "<style scoped>\n",
              "    .dataframe tbody tr th:only-of-type {\n",
              "        vertical-align: middle;\n",
              "    }\n",
              "\n",
              "    .dataframe tbody tr th {\n",
              "        vertical-align: top;\n",
              "    }\n",
              "\n",
              "    .dataframe thead th {\n",
              "        text-align: right;\n",
              "    }\n",
              "</style>\n",
              "<table border=\"1\" class=\"dataframe\">\n",
              "  <thead>\n",
              "    <tr style=\"text-align: right;\">\n",
              "      <th></th>\n",
              "      <th>event_type</th>\n",
              "      <th>users_share_247</th>\n",
              "      <th>users_share_248</th>\n",
              "      <th>p_value</th>\n",
              "      <th>result</th>\n",
              "    </tr>\n",
              "  </thead>\n",
              "  <tbody>\n",
              "    <tr>\n",
              "      <th>0</th>\n",
              "      <td>MainScreenAppear</td>\n",
              "      <td>0.985669</td>\n",
              "      <td>0.983432</td>\n",
              "      <td>0.519496</td>\n",
              "      <td>Отвергнуть нулевую гипотезу нельзя</td>\n",
              "    </tr>\n",
              "    <tr>\n",
              "      <th>1</th>\n",
              "      <td>OffersScreenAppear</td>\n",
              "      <td>0.605096</td>\n",
              "      <td>0.603945</td>\n",
              "      <td>0.933375</td>\n",
              "      <td>Отвергнуть нулевую гипотезу нельзя</td>\n",
              "    </tr>\n",
              "    <tr>\n",
              "      <th>2</th>\n",
              "      <td>CartScreenAppear</td>\n",
              "      <td>0.492834</td>\n",
              "      <td>0.485207</td>\n",
              "      <td>0.587828</td>\n",
              "      <td>Отвергнуть нулевую гипотезу нельзя</td>\n",
              "    </tr>\n",
              "    <tr>\n",
              "      <th>3</th>\n",
              "      <td>PaymentScreenSuccessful</td>\n",
              "      <td>0.460987</td>\n",
              "      <td>0.465878</td>\n",
              "      <td>0.727572</td>\n",
              "      <td>Отвергнуть нулевую гипотезу нельзя</td>\n",
              "    </tr>\n",
              "  </tbody>\n",
              "</table>\n",
              "</div>"
            ],
            "text/plain": [
              "                event_type  users_share_247  users_share_248   p_value  \\\n",
              "0         MainScreenAppear         0.985669         0.983432  0.519496   \n",
              "1       OffersScreenAppear         0.605096         0.603945  0.933375   \n",
              "2         CartScreenAppear         0.492834         0.485207  0.587828   \n",
              "3  PaymentScreenSuccessful         0.460987         0.465878  0.727572   \n",
              "\n",
              "                               result  \n",
              "0  Отвергнуть нулевую гипотезу нельзя  \n",
              "1  Отвергнуть нулевую гипотезу нельзя  \n",
              "2  Отвергнуть нулевую гипотезу нельзя  \n",
              "3  Отвергнуть нулевую гипотезу нельзя  "
            ]
          },
          "execution_count": 80,
          "metadata": {},
          "output_type": "execute_result"
        }
      ],
      "source": [
        "# сохраним результаты теста групп 247 и 248 в перменную test_ab2\n",
        "test_ab2 = stat_test(ex_247, ex_248, 0.05)\n",
        "test_ab2.columns = ['event_type', 'users_share_247', 'users_share_248', 'p_value', 'result']\n",
        "test_ab2"
      ]
    },
    {
      "cell_type": "markdown",
      "metadata": {
        "id": "96H0y-uAeCsS"
      },
      "source": [
        "Различий между долями не обнаружено."
      ]
    },
    {
      "cell_type": "markdown",
      "metadata": {
        "id": "B2LVCjLweCsS"
      },
      "source": [
        "### A/B-тест (объединённая контрольная группа)"
      ]
    },
    {
      "cell_type": "markdown",
      "metadata": {
        "id": "b0vWHmIveCsS"
      },
      "source": [
        "**Гипотеза Н0:** различий между группами в долях пользователей, совершивших каждое событие, нет.\n",
        "\n",
        "**Гипотеза Н1:** различия в долях пользователей, совершивших каждое событие, есть.\n",
        "\n",
        "**Уровень значимости -** 0.05."
      ]
    },
    {
      "cell_type": "code",
      "execution_count": null,
      "metadata": {
        "id": "MEeeBIMNeCsS",
        "outputId": "612b7cb3-8a79-420e-c8a3-cf82d33ec0ea"
      },
      "outputs": [
        {
          "data": {
            "text/html": [
              "<div>\n",
              "<style scoped>\n",
              "    .dataframe tbody tr th:only-of-type {\n",
              "        vertical-align: middle;\n",
              "    }\n",
              "\n",
              "    .dataframe tbody tr th {\n",
              "        vertical-align: top;\n",
              "    }\n",
              "\n",
              "    .dataframe thead th {\n",
              "        text-align: right;\n",
              "    }\n",
              "</style>\n",
              "<table border=\"1\" class=\"dataframe\">\n",
              "  <thead>\n",
              "    <tr style=\"text-align: right;\">\n",
              "      <th></th>\n",
              "      <th>event_type</th>\n",
              "      <th>users_share_a</th>\n",
              "      <th>users_share_b</th>\n",
              "      <th>p_value</th>\n",
              "      <th>result</th>\n",
              "    </tr>\n",
              "  </thead>\n",
              "  <tbody>\n",
              "    <tr>\n",
              "      <th>0</th>\n",
              "      <td>MainScreenAppear</td>\n",
              "      <td>0.986186</td>\n",
              "      <td>0.983432</td>\n",
              "      <td>0.348668</td>\n",
              "      <td>Отвергнуть нулевую гипотезу нельзя</td>\n",
              "    </tr>\n",
              "    <tr>\n",
              "      <th>1</th>\n",
              "      <td>OffersScreenAppear</td>\n",
              "      <td>0.613013</td>\n",
              "      <td>0.603945</td>\n",
              "      <td>0.445827</td>\n",
              "      <td>Отвергнуть нулевую гипотезу нельзя</td>\n",
              "    </tr>\n",
              "    <tr>\n",
              "      <th>2</th>\n",
              "      <td>CartScreenAppear</td>\n",
              "      <td>0.501301</td>\n",
              "      <td>0.485207</td>\n",
              "      <td>0.186836</td>\n",
              "      <td>Отвергнуть нулевую гипотезу нельзя</td>\n",
              "    </tr>\n",
              "    <tr>\n",
              "      <th>3</th>\n",
              "      <td>PaymentScreenSuccessful</td>\n",
              "      <td>0.472072</td>\n",
              "      <td>0.465878</td>\n",
              "      <td>0.610792</td>\n",
              "      <td>Отвергнуть нулевую гипотезу нельзя</td>\n",
              "    </tr>\n",
              "  </tbody>\n",
              "</table>\n",
              "</div>"
            ],
            "text/plain": [
              "                event_type  users_share_a  users_share_b   p_value  \\\n",
              "0         MainScreenAppear       0.986186       0.983432  0.348668   \n",
              "1       OffersScreenAppear       0.613013       0.603945  0.445827   \n",
              "2         CartScreenAppear       0.501301       0.485207  0.186836   \n",
              "3  PaymentScreenSuccessful       0.472072       0.465878  0.610792   \n",
              "\n",
              "                               result  \n",
              "0  Отвергнуть нулевую гипотезу нельзя  \n",
              "1  Отвергнуть нулевую гипотезу нельзя  \n",
              "2  Отвергнуть нулевую гипотезу нельзя  \n",
              "3  Отвергнуть нулевую гипотезу нельзя  "
            ]
          },
          "execution_count": 81,
          "metadata": {},
          "output_type": "execute_result"
        }
      ],
      "source": [
        "# сохраним результаты теста объединённой контрольной группы и группы 248 в перменную test_ab3\n",
        "test_ab3 = stat_test(ex_aa, ex_248, 0.05)\n",
        "test_ab3.columns = ['event_type', 'users_share_a', 'users_share_b', 'p_value', 'result']\n",
        "test_ab3"
      ]
    },
    {
      "cell_type": "markdown",
      "metadata": {
        "id": "pKY2TSQbeCsT"
      },
      "source": [
        "Различий между долями не обнаружено."
      ]
    },
    {
      "cell_type": "markdown",
      "metadata": {
        "id": "s3Vr1kc7eCsT"
      },
      "source": [
        "### A/B-тест с изменённым уровнем значимочти"
      ]
    },
    {
      "cell_type": "markdown",
      "metadata": {
        "id": "XXb-iHZCeCsT"
      },
      "source": [
        "**Гипотеза Н0:** различий между группами в долях пользователей, совершивших каждое событие, нет.\n",
        "\n",
        "**Гипотеза Н1:** различия в долях пользователей, совершивших каждое событие, есть.\n",
        "\n",
        "**Уровень значимости -** 0.01."
      ]
    },
    {
      "cell_type": "code",
      "execution_count": null,
      "metadata": {
        "id": "HU-Vp-0_eCsT",
        "outputId": "b518d984-c4f4-41ad-a15a-4646a0b91fb2"
      },
      "outputs": [
        {
          "data": {
            "text/html": [
              "<div>\n",
              "<style scoped>\n",
              "    .dataframe tbody tr th:only-of-type {\n",
              "        vertical-align: middle;\n",
              "    }\n",
              "\n",
              "    .dataframe tbody tr th {\n",
              "        vertical-align: top;\n",
              "    }\n",
              "\n",
              "    .dataframe thead th {\n",
              "        text-align: right;\n",
              "    }\n",
              "</style>\n",
              "<table border=\"1\" class=\"dataframe\">\n",
              "  <thead>\n",
              "    <tr style=\"text-align: right;\">\n",
              "      <th></th>\n",
              "      <th>event_type</th>\n",
              "      <th>users_share_a</th>\n",
              "      <th>users_share_b</th>\n",
              "      <th>p_value</th>\n",
              "      <th>result</th>\n",
              "    </tr>\n",
              "  </thead>\n",
              "  <tbody>\n",
              "    <tr>\n",
              "      <th>0</th>\n",
              "      <td>MainScreenAppear</td>\n",
              "      <td>0.986186</td>\n",
              "      <td>0.983432</td>\n",
              "      <td>0.348668</td>\n",
              "      <td>Отвергнуть нулевую гипотезу нельзя</td>\n",
              "    </tr>\n",
              "    <tr>\n",
              "      <th>1</th>\n",
              "      <td>OffersScreenAppear</td>\n",
              "      <td>0.613013</td>\n",
              "      <td>0.603945</td>\n",
              "      <td>0.445827</td>\n",
              "      <td>Отвергнуть нулевую гипотезу нельзя</td>\n",
              "    </tr>\n",
              "    <tr>\n",
              "      <th>2</th>\n",
              "      <td>CartScreenAppear</td>\n",
              "      <td>0.501301</td>\n",
              "      <td>0.485207</td>\n",
              "      <td>0.186836</td>\n",
              "      <td>Отвергнуть нулевую гипотезу нельзя</td>\n",
              "    </tr>\n",
              "    <tr>\n",
              "      <th>3</th>\n",
              "      <td>PaymentScreenSuccessful</td>\n",
              "      <td>0.472072</td>\n",
              "      <td>0.465878</td>\n",
              "      <td>0.610792</td>\n",
              "      <td>Отвергнуть нулевую гипотезу нельзя</td>\n",
              "    </tr>\n",
              "  </tbody>\n",
              "</table>\n",
              "</div>"
            ],
            "text/plain": [
              "                event_type  users_share_a  users_share_b   p_value  \\\n",
              "0         MainScreenAppear       0.986186       0.983432  0.348668   \n",
              "1       OffersScreenAppear       0.613013       0.603945  0.445827   \n",
              "2         CartScreenAppear       0.501301       0.485207  0.186836   \n",
              "3  PaymentScreenSuccessful       0.472072       0.465878  0.610792   \n",
              "\n",
              "                               result  \n",
              "0  Отвергнуть нулевую гипотезу нельзя  \n",
              "1  Отвергнуть нулевую гипотезу нельзя  \n",
              "2  Отвергнуть нулевую гипотезу нельзя  \n",
              "3  Отвергнуть нулевую гипотезу нельзя  "
            ]
          },
          "execution_count": 82,
          "metadata": {},
          "output_type": "execute_result"
        }
      ],
      "source": [
        "# сохраним результаты теста объединённой контрольной группы и группы 248 в перменную test2\n",
        "test2 = stat_test(ex_aa, ex_248, 0.01)\n",
        "test2.columns = ['event_type', 'users_share_a', 'users_share_b', 'p_value', 'result']\n",
        "test2"
      ]
    },
    {
      "cell_type": "markdown",
      "metadata": {
        "id": "u1WekexZeCsT"
      },
      "source": [
        "Результаты теста не изменились, различий между долями не обнаружено."
      ]
    },
    {
      "cell_type": "markdown",
      "metadata": {
        "id": "Q4nfgzTmeCsT"
      },
      "source": [
        "Не считая теста с изменённым уровнем значимости, всего было проведено 16 проверок гипотез.\n",
        "\n",
        "Во всех проведённых тестах p-value получилось очень выше уровня знаяимости 0.05, поэтому при меньшем уровне значимости результаты теста остались неизменными."
      ]
    },
    {
      "cell_type": "markdown",
      "metadata": {
        "id": "APFIfmW4eCsT"
      },
      "source": [
        "## Вывод по результатам эксперимента"
      ]
    },
    {
      "cell_type": "markdown",
      "metadata": {
        "id": "SvsZmbUveCsT"
      },
      "source": [
        "Во всех проведённых тестах было обнаружено отсутствие статистически значимых различий между группами в долях пользователей, совершающих каждое действие.\n",
        "\n",
        "Это может свидетельствовать о том, что изменение дизайна приложения не оказало значительного вляиния на поведение пользователей."
      ]
    }
  ],
  "metadata": {
    "ExecuteTimeLog": [
      {
        "duration": 428,
        "start_time": "2024-08-19T10:00:49.264Z"
      },
      {
        "duration": 841,
        "start_time": "2024-08-19T10:01:11.506Z"
      },
      {
        "duration": 271,
        "start_time": "2024-08-19T10:01:20.457Z"
      },
      {
        "duration": 140,
        "start_time": "2024-08-19T10:04:16.228Z"
      },
      {
        "duration": 7,
        "start_time": "2024-08-19T10:07:18.374Z"
      },
      {
        "duration": 18,
        "start_time": "2024-08-19T10:07:53.126Z"
      },
      {
        "duration": 41,
        "start_time": "2024-08-19T10:11:33.228Z"
      },
      {
        "duration": 128,
        "start_time": "2024-08-19T10:12:35.125Z"
      },
      {
        "duration": 62,
        "start_time": "2024-08-19T10:12:40.012Z"
      },
      {
        "duration": 64,
        "start_time": "2024-08-19T10:13:22.810Z"
      },
      {
        "duration": 83,
        "start_time": "2024-08-19T10:20:20.661Z"
      },
      {
        "duration": 6,
        "start_time": "2024-08-19T10:25:38.986Z"
      },
      {
        "duration": 8,
        "start_time": "2024-08-19T10:26:20.866Z"
      },
      {
        "duration": 11,
        "start_time": "2024-08-19T10:27:03.425Z"
      },
      {
        "duration": 15,
        "start_time": "2024-08-19T10:29:14.826Z"
      },
      {
        "duration": 17,
        "start_time": "2024-08-19T10:29:26.256Z"
      },
      {
        "duration": 6,
        "start_time": "2024-08-19T10:29:35.971Z"
      },
      {
        "duration": 12,
        "start_time": "2024-08-19T10:30:24.963Z"
      },
      {
        "duration": 13,
        "start_time": "2024-08-19T10:30:52.479Z"
      },
      {
        "duration": 365,
        "start_time": "2024-08-19T10:34:33.232Z"
      },
      {
        "duration": 18,
        "start_time": "2024-08-19T10:35:50.460Z"
      },
      {
        "duration": 24,
        "start_time": "2024-08-19T10:36:23.882Z"
      },
      {
        "duration": 26,
        "start_time": "2024-08-19T10:36:32.411Z"
      },
      {
        "duration": 17,
        "start_time": "2024-08-19T10:36:44.058Z"
      },
      {
        "duration": 57,
        "start_time": "2024-08-19T10:44:09.275Z"
      },
      {
        "duration": 655,
        "start_time": "2024-08-19T10:44:15.195Z"
      },
      {
        "duration": 805,
        "start_time": "2024-08-19T10:44:15.852Z"
      },
      {
        "duration": 126,
        "start_time": "2024-08-19T10:44:16.658Z"
      },
      {
        "duration": 6,
        "start_time": "2024-08-19T10:44:16.785Z"
      },
      {
        "duration": 21,
        "start_time": "2024-08-19T10:44:16.801Z"
      },
      {
        "duration": 85,
        "start_time": "2024-08-19T10:44:16.823Z"
      },
      {
        "duration": 11,
        "start_time": "2024-08-19T10:44:16.909Z"
      },
      {
        "duration": 11,
        "start_time": "2024-08-19T10:44:16.921Z"
      },
      {
        "duration": 14,
        "start_time": "2024-08-19T10:44:16.933Z"
      },
      {
        "duration": 65,
        "start_time": "2024-08-19T10:44:16.948Z"
      },
      {
        "duration": 570,
        "start_time": "2024-08-19T10:47:38.525Z"
      },
      {
        "duration": 826,
        "start_time": "2024-08-19T10:47:39.097Z"
      },
      {
        "duration": 130,
        "start_time": "2024-08-19T10:47:39.925Z"
      },
      {
        "duration": 7,
        "start_time": "2024-08-19T10:47:40.056Z"
      },
      {
        "duration": 33,
        "start_time": "2024-08-19T10:47:40.064Z"
      },
      {
        "duration": 104,
        "start_time": "2024-08-19T10:47:40.098Z"
      },
      {
        "duration": 10,
        "start_time": "2024-08-19T10:47:40.204Z"
      },
      {
        "duration": 90,
        "start_time": "2024-08-19T10:47:40.215Z"
      },
      {
        "duration": 22,
        "start_time": "2024-08-19T10:47:40.306Z"
      },
      {
        "duration": 102,
        "start_time": "2024-08-19T10:47:40.330Z"
      },
      {
        "duration": 771,
        "start_time": "2024-08-20T10:37:45.747Z"
      },
      {
        "duration": 843,
        "start_time": "2024-08-20T10:37:46.520Z"
      },
      {
        "duration": 125,
        "start_time": "2024-08-20T10:37:47.364Z"
      },
      {
        "duration": 7,
        "start_time": "2024-08-20T10:37:47.491Z"
      },
      {
        "duration": 25,
        "start_time": "2024-08-20T10:37:47.501Z"
      },
      {
        "duration": 87,
        "start_time": "2024-08-20T10:37:47.529Z"
      },
      {
        "duration": 11,
        "start_time": "2024-08-20T10:37:47.618Z"
      },
      {
        "duration": 18,
        "start_time": "2024-08-20T10:37:47.631Z"
      },
      {
        "duration": 13,
        "start_time": "2024-08-20T10:37:47.651Z"
      },
      {
        "duration": 42,
        "start_time": "2024-08-20T10:37:47.666Z"
      },
      {
        "duration": 593,
        "start_time": "2024-08-20T10:47:39.697Z"
      },
      {
        "duration": 852,
        "start_time": "2024-08-20T10:47:40.291Z"
      },
      {
        "duration": 144,
        "start_time": "2024-08-20T10:47:41.144Z"
      },
      {
        "duration": 6,
        "start_time": "2024-08-20T10:47:41.290Z"
      },
      {
        "duration": 85,
        "start_time": "2024-08-20T10:47:41.298Z"
      },
      {
        "duration": 103,
        "start_time": "2024-08-20T10:47:41.385Z"
      },
      {
        "duration": 10,
        "start_time": "2024-08-20T10:47:41.490Z"
      },
      {
        "duration": 39,
        "start_time": "2024-08-20T10:47:41.502Z"
      },
      {
        "duration": 13,
        "start_time": "2024-08-20T10:47:41.543Z"
      },
      {
        "duration": 37,
        "start_time": "2024-08-20T10:47:41.559Z"
      },
      {
        "duration": 771,
        "start_time": "2024-08-21T09:25:21.711Z"
      },
      {
        "duration": 1062,
        "start_time": "2024-08-21T09:25:22.486Z"
      },
      {
        "duration": 194,
        "start_time": "2024-08-21T09:25:23.550Z"
      },
      {
        "duration": 7,
        "start_time": "2024-08-21T09:25:23.746Z"
      },
      {
        "duration": 35,
        "start_time": "2024-08-21T09:25:23.754Z"
      },
      {
        "duration": 133,
        "start_time": "2024-08-21T09:25:23.793Z"
      },
      {
        "duration": 16,
        "start_time": "2024-08-21T09:25:23.927Z"
      },
      {
        "duration": 9,
        "start_time": "2024-08-21T09:25:23.945Z"
      },
      {
        "duration": 48,
        "start_time": "2024-08-21T09:25:23.955Z"
      },
      {
        "duration": 32,
        "start_time": "2024-08-21T09:25:24.005Z"
      },
      {
        "duration": 21,
        "start_time": "2024-08-21T09:28:11.701Z"
      },
      {
        "duration": 80,
        "start_time": "2024-08-21T09:30:26.819Z"
      },
      {
        "duration": 25,
        "start_time": "2024-08-21T09:30:35.751Z"
      },
      {
        "duration": 62474,
        "start_time": "2024-08-21T09:33:23.337Z"
      },
      {
        "duration": 25,
        "start_time": "2024-08-21T09:34:33.347Z"
      },
      {
        "duration": 42,
        "start_time": "2024-08-21T09:35:10.219Z"
      },
      {
        "duration": 91,
        "start_time": "2024-08-21T09:37:28.066Z"
      },
      {
        "duration": 8,
        "start_time": "2024-08-21T09:41:34.808Z"
      },
      {
        "duration": 94,
        "start_time": "2024-08-21T09:41:39.091Z"
      },
      {
        "duration": 10,
        "start_time": "2024-08-21T09:41:41.434Z"
      },
      {
        "duration": 661,
        "start_time": "2024-08-21T09:42:21.011Z"
      },
      {
        "duration": 685,
        "start_time": "2024-08-21T09:44:54.727Z"
      },
      {
        "duration": 8,
        "start_time": "2024-08-21T09:45:43.024Z"
      },
      {
        "duration": 14,
        "start_time": "2024-08-21T09:45:53.927Z"
      },
      {
        "duration": 7,
        "start_time": "2024-08-21T09:45:57.659Z"
      },
      {
        "duration": 10,
        "start_time": "2024-08-21T09:46:30.944Z"
      },
      {
        "duration": 1943,
        "start_time": "2024-08-21T09:46:32.233Z"
      },
      {
        "duration": 20,
        "start_time": "2024-08-21T09:46:46.596Z"
      },
      {
        "duration": 12011,
        "start_time": "2024-08-21T09:47:25.049Z"
      },
      {
        "duration": 13,
        "start_time": "2024-08-21T09:48:20.852Z"
      },
      {
        "duration": 14,
        "start_time": "2024-08-21T09:50:09.054Z"
      },
      {
        "duration": 21,
        "start_time": "2024-08-21T09:50:12.128Z"
      },
      {
        "duration": 5009,
        "start_time": "2024-08-21T09:53:10.324Z"
      },
      {
        "duration": 246,
        "start_time": "2024-08-21T09:53:40.384Z"
      },
      {
        "duration": 131,
        "start_time": "2024-08-21T09:53:51.591Z"
      },
      {
        "duration": 122,
        "start_time": "2024-08-21T09:54:09.022Z"
      },
      {
        "duration": 14922,
        "start_time": "2024-08-21T10:14:32.408Z"
      },
      {
        "duration": 1096,
        "start_time": "2024-08-21T10:18:00.824Z"
      },
      {
        "duration": 2,
        "start_time": "2024-08-21T10:18:34.144Z"
      },
      {
        "duration": 2,
        "start_time": "2024-08-21T10:18:35.788Z"
      },
      {
        "duration": 25,
        "start_time": "2024-08-21T10:24:01.683Z"
      },
      {
        "duration": 27,
        "start_time": "2024-08-21T10:25:32.368Z"
      },
      {
        "duration": 156,
        "start_time": "2024-08-21T10:25:57.184Z"
      },
      {
        "duration": 4,
        "start_time": "2024-08-21T10:26:20.190Z"
      },
      {
        "duration": 6,
        "start_time": "2024-08-21T10:27:07.802Z"
      },
      {
        "duration": 80,
        "start_time": "2024-08-21T10:31:47.008Z"
      },
      {
        "duration": 14,
        "start_time": "2024-08-21T10:31:55.423Z"
      },
      {
        "duration": 8,
        "start_time": "2024-08-21T10:31:56.820Z"
      },
      {
        "duration": 18,
        "start_time": "2024-08-21T10:31:57.872Z"
      },
      {
        "duration": 31,
        "start_time": "2024-08-21T10:31:58.722Z"
      },
      {
        "duration": 483,
        "start_time": "2024-08-21T10:32:03.527Z"
      },
      {
        "duration": 23,
        "start_time": "2024-08-21T10:32:06.430Z"
      },
      {
        "duration": 139,
        "start_time": "2024-08-21T10:32:10.453Z"
      },
      {
        "duration": 6,
        "start_time": "2024-08-21T10:32:13.268Z"
      },
      {
        "duration": 33,
        "start_time": "2024-08-21T10:34:56.434Z"
      },
      {
        "duration": 12,
        "start_time": "2024-08-21T10:36:10.503Z"
      },
      {
        "duration": 15,
        "start_time": "2024-08-21T10:36:15.536Z"
      },
      {
        "duration": 25,
        "start_time": "2024-08-21T10:36:49.832Z"
      },
      {
        "duration": 14,
        "start_time": "2024-08-21T10:36:55.525Z"
      },
      {
        "duration": 7,
        "start_time": "2024-08-21T10:36:56.177Z"
      },
      {
        "duration": 17,
        "start_time": "2024-08-21T10:36:56.892Z"
      },
      {
        "duration": 7,
        "start_time": "2024-08-21T10:36:57.513Z"
      },
      {
        "duration": 29,
        "start_time": "2024-08-21T10:40:11.052Z"
      },
      {
        "duration": 0,
        "start_time": "2024-08-21T10:42:16.139Z"
      },
      {
        "duration": 31,
        "start_time": "2024-08-21T10:42:34.924Z"
      },
      {
        "duration": 21,
        "start_time": "2024-08-21T10:44:45.309Z"
      },
      {
        "duration": 2699,
        "start_time": "2024-08-21T10:45:21.925Z"
      },
      {
        "duration": 216,
        "start_time": "2024-08-21T10:46:07.267Z"
      },
      {
        "duration": 206,
        "start_time": "2024-08-21T10:46:12.992Z"
      },
      {
        "duration": 207,
        "start_time": "2024-08-21T10:49:27.554Z"
      },
      {
        "duration": 909,
        "start_time": "2024-08-21T10:50:34.286Z"
      },
      {
        "duration": 112,
        "start_time": "2024-08-21T10:50:54.605Z"
      },
      {
        "duration": 7,
        "start_time": "2024-08-21T10:51:25.916Z"
      },
      {
        "duration": 201,
        "start_time": "2024-08-21T10:51:54.427Z"
      },
      {
        "duration": 41,
        "start_time": "2024-08-21T10:54:42.394Z"
      },
      {
        "duration": 458,
        "start_time": "2024-08-21T10:55:24.978Z"
      },
      {
        "duration": 467,
        "start_time": "2024-08-21T10:56:07.547Z"
      },
      {
        "duration": 442,
        "start_time": "2024-08-21T10:56:18.163Z"
      },
      {
        "duration": 78,
        "start_time": "2024-08-21T10:57:46.977Z"
      },
      {
        "duration": 145,
        "start_time": "2024-08-21T10:57:54.002Z"
      },
      {
        "duration": 23,
        "start_time": "2024-08-21T11:00:08.821Z"
      },
      {
        "duration": 192,
        "start_time": "2024-08-21T11:00:24.342Z"
      },
      {
        "duration": 25,
        "start_time": "2024-08-21T11:00:58.825Z"
      },
      {
        "duration": 30,
        "start_time": "2024-08-21T11:01:15.237Z"
      },
      {
        "duration": 19,
        "start_time": "2024-08-21T11:01:29.507Z"
      },
      {
        "duration": 29,
        "start_time": "2024-08-21T11:01:37.112Z"
      },
      {
        "duration": 4,
        "start_time": "2024-08-21T11:03:12.919Z"
      },
      {
        "duration": 30,
        "start_time": "2024-08-21T11:06:19.230Z"
      },
      {
        "duration": 29,
        "start_time": "2024-08-21T11:07:17.720Z"
      },
      {
        "duration": 28,
        "start_time": "2024-08-21T11:07:38.016Z"
      },
      {
        "duration": 30,
        "start_time": "2024-08-21T11:07:42.979Z"
      },
      {
        "duration": 22,
        "start_time": "2024-08-21T11:08:17.283Z"
      },
      {
        "duration": 24,
        "start_time": "2024-08-21T11:08:59.926Z"
      },
      {
        "duration": 62,
        "start_time": "2024-08-21T11:17:39.645Z"
      },
      {
        "duration": 326,
        "start_time": "2024-08-21T11:19:01.767Z"
      },
      {
        "duration": 63,
        "start_time": "2024-08-21T11:19:12.903Z"
      },
      {
        "duration": 67,
        "start_time": "2024-08-21T11:19:23.755Z"
      },
      {
        "duration": 63,
        "start_time": "2024-08-21T11:19:47.052Z"
      },
      {
        "duration": 62,
        "start_time": "2024-08-21T11:22:28.492Z"
      },
      {
        "duration": 63,
        "start_time": "2024-08-21T11:22:39.787Z"
      },
      {
        "duration": 853,
        "start_time": "2024-08-21T11:24:13.969Z"
      },
      {
        "duration": 67,
        "start_time": "2024-08-21T11:24:32.005Z"
      },
      {
        "duration": 34,
        "start_time": "2024-08-21T11:25:27.082Z"
      },
      {
        "duration": 3,
        "start_time": "2024-08-21T11:27:03.766Z"
      },
      {
        "duration": 5,
        "start_time": "2024-08-21T11:27:16.626Z"
      },
      {
        "duration": 12,
        "start_time": "2024-08-21T11:30:51.147Z"
      },
      {
        "duration": 50,
        "start_time": "2024-08-21T11:31:00.568Z"
      },
      {
        "duration": 35,
        "start_time": "2024-08-21T11:31:05.191Z"
      },
      {
        "duration": 35,
        "start_time": "2024-08-21T11:31:31.550Z"
      },
      {
        "duration": 36,
        "start_time": "2024-08-21T11:33:37.616Z"
      },
      {
        "duration": 36,
        "start_time": "2024-08-21T11:33:46.593Z"
      },
      {
        "duration": 36,
        "start_time": "2024-08-21T11:34:37.233Z"
      },
      {
        "duration": 35,
        "start_time": "2024-08-21T11:35:15.505Z"
      },
      {
        "duration": 799,
        "start_time": "2024-08-21T15:55:28.288Z"
      },
      {
        "duration": 1088,
        "start_time": "2024-08-21T15:55:29.090Z"
      },
      {
        "duration": 191,
        "start_time": "2024-08-21T15:55:30.180Z"
      },
      {
        "duration": 7,
        "start_time": "2024-08-21T15:55:30.373Z"
      },
      {
        "duration": 36,
        "start_time": "2024-08-21T15:55:30.382Z"
      },
      {
        "duration": 37,
        "start_time": "2024-08-21T15:55:30.420Z"
      },
      {
        "duration": 14,
        "start_time": "2024-08-21T15:55:30.459Z"
      },
      {
        "duration": 8,
        "start_time": "2024-08-21T15:55:30.475Z"
      },
      {
        "duration": 17,
        "start_time": "2024-08-21T15:55:30.485Z"
      },
      {
        "duration": 7,
        "start_time": "2024-08-21T15:55:30.504Z"
      },
      {
        "duration": 286,
        "start_time": "2024-08-21T15:55:30.513Z"
      },
      {
        "duration": 32,
        "start_time": "2024-08-21T15:55:30.800Z"
      },
      {
        "duration": 19,
        "start_time": "2024-08-21T15:55:30.834Z"
      },
      {
        "duration": 42,
        "start_time": "2024-08-21T15:55:30.854Z"
      },
      {
        "duration": 99,
        "start_time": "2024-08-21T15:56:30.202Z"
      },
      {
        "duration": 27,
        "start_time": "2024-08-21T15:56:41.432Z"
      },
      {
        "duration": 38,
        "start_time": "2024-08-21T15:57:41.434Z"
      },
      {
        "duration": 27,
        "start_time": "2024-08-21T15:58:39.645Z"
      },
      {
        "duration": 28,
        "start_time": "2024-08-21T16:01:27.194Z"
      },
      {
        "duration": 305,
        "start_time": "2024-08-21T16:02:13.354Z"
      },
      {
        "duration": 61,
        "start_time": "2024-08-21T16:02:28.492Z"
      },
      {
        "duration": 8,
        "start_time": "2024-08-21T16:07:18.894Z"
      },
      {
        "duration": 13,
        "start_time": "2024-08-21T16:07:28.008Z"
      },
      {
        "duration": 8,
        "start_time": "2024-08-21T16:30:57.996Z"
      },
      {
        "duration": 64,
        "start_time": "2024-08-21T16:32:54.680Z"
      },
      {
        "duration": 12,
        "start_time": "2024-08-21T16:33:00.117Z"
      },
      {
        "duration": 16,
        "start_time": "2024-08-21T16:36:34.805Z"
      },
      {
        "duration": 67,
        "start_time": "2024-08-21T16:38:28.414Z"
      },
      {
        "duration": 5,
        "start_time": "2024-08-21T16:38:34.142Z"
      },
      {
        "duration": 11,
        "start_time": "2024-08-21T16:38:44.419Z"
      },
      {
        "duration": 12,
        "start_time": "2024-08-21T16:41:17.897Z"
      },
      {
        "duration": 6,
        "start_time": "2024-08-21T16:46:13.927Z"
      },
      {
        "duration": 36,
        "start_time": "2024-08-21T16:50:05.778Z"
      },
      {
        "duration": 449,
        "start_time": "2024-08-21T16:51:45.384Z"
      },
      {
        "duration": 40,
        "start_time": "2024-08-21T16:52:47.892Z"
      },
      {
        "duration": 506,
        "start_time": "2024-08-21T16:54:28.352Z"
      },
      {
        "duration": 7,
        "start_time": "2024-08-21T16:54:52.794Z"
      },
      {
        "duration": 1422,
        "start_time": "2024-08-22T07:16:10.307Z"
      },
      {
        "duration": 918,
        "start_time": "2024-08-22T07:16:11.732Z"
      },
      {
        "duration": 203,
        "start_time": "2024-08-22T07:16:12.652Z"
      },
      {
        "duration": 9,
        "start_time": "2024-08-22T07:16:12.857Z"
      },
      {
        "duration": 55,
        "start_time": "2024-08-22T07:16:12.867Z"
      },
      {
        "duration": 50,
        "start_time": "2024-08-22T07:16:12.924Z"
      },
      {
        "duration": 22,
        "start_time": "2024-08-22T07:16:12.976Z"
      },
      {
        "duration": 31,
        "start_time": "2024-08-22T07:16:13.000Z"
      },
      {
        "duration": 31,
        "start_time": "2024-08-22T07:16:13.033Z"
      },
      {
        "duration": 26,
        "start_time": "2024-08-22T07:16:13.066Z"
      },
      {
        "duration": 288,
        "start_time": "2024-08-22T07:16:13.094Z"
      },
      {
        "duration": 57,
        "start_time": "2024-08-22T07:16:13.384Z"
      },
      {
        "duration": 6,
        "start_time": "2024-08-22T07:16:13.443Z"
      },
      {
        "duration": 102,
        "start_time": "2024-08-22T07:16:13.450Z"
      },
      {
        "duration": 14,
        "start_time": "2024-08-22T07:16:13.554Z"
      },
      {
        "duration": 53,
        "start_time": "2024-08-22T07:16:13.570Z"
      },
      {
        "duration": 50,
        "start_time": "2024-08-22T07:16:13.626Z"
      },
      {
        "duration": 93,
        "start_time": "2024-08-22T07:16:13.678Z"
      },
      {
        "duration": 16,
        "start_time": "2024-08-22T07:16:13.773Z"
      },
      {
        "duration": 8,
        "start_time": "2024-08-22T07:33:20.085Z"
      },
      {
        "duration": 7,
        "start_time": "2024-08-22T07:33:32.178Z"
      },
      {
        "duration": 106,
        "start_time": "2024-08-22T07:59:45.373Z"
      },
      {
        "duration": 11,
        "start_time": "2024-08-22T08:00:16.214Z"
      },
      {
        "duration": 10,
        "start_time": "2024-08-22T08:00:28.168Z"
      },
      {
        "duration": 15,
        "start_time": "2024-08-22T08:00:43.445Z"
      },
      {
        "duration": 61,
        "start_time": "2024-08-22T08:02:49.862Z"
      },
      {
        "duration": 63,
        "start_time": "2024-08-22T08:02:56.874Z"
      },
      {
        "duration": 27,
        "start_time": "2024-08-22T08:03:44.447Z"
      },
      {
        "duration": 50,
        "start_time": "2024-08-22T08:04:00.881Z"
      },
      {
        "duration": 5,
        "start_time": "2024-08-22T08:06:04.258Z"
      },
      {
        "duration": 7,
        "start_time": "2024-08-22T08:08:49.006Z"
      },
      {
        "duration": 50,
        "start_time": "2024-08-22T08:11:53.261Z"
      },
      {
        "duration": 58,
        "start_time": "2024-08-22T08:12:55.912Z"
      },
      {
        "duration": 37,
        "start_time": "2024-08-22T08:13:31.010Z"
      },
      {
        "duration": 8,
        "start_time": "2024-08-22T08:13:42.428Z"
      },
      {
        "duration": 7,
        "start_time": "2024-08-22T08:13:43.706Z"
      },
      {
        "duration": 50,
        "start_time": "2024-08-22T08:13:48.915Z"
      },
      {
        "duration": 52,
        "start_time": "2024-08-22T08:14:33.897Z"
      },
      {
        "duration": 69,
        "start_time": "2024-08-22T08:19:01.618Z"
      },
      {
        "duration": 65,
        "start_time": "2024-08-22T08:21:22.491Z"
      },
      {
        "duration": 68,
        "start_time": "2024-08-22T08:22:17.498Z"
      },
      {
        "duration": 65,
        "start_time": "2024-08-22T08:22:38.092Z"
      },
      {
        "duration": 763,
        "start_time": "2024-08-22T08:31:03.376Z"
      },
      {
        "duration": 591,
        "start_time": "2024-08-22T08:32:19.220Z"
      },
      {
        "duration": 9,
        "start_time": "2024-08-22T08:36:10.903Z"
      },
      {
        "duration": 625,
        "start_time": "2024-08-22T08:37:54.585Z"
      },
      {
        "duration": 12,
        "start_time": "2024-08-22T08:38:21.085Z"
      },
      {
        "duration": 9,
        "start_time": "2024-08-22T08:41:19.836Z"
      },
      {
        "duration": 4,
        "start_time": "2024-08-22T08:45:28.250Z"
      },
      {
        "duration": 20,
        "start_time": "2024-08-22T08:45:56.100Z"
      },
      {
        "duration": 10,
        "start_time": "2024-08-22T08:46:46.801Z"
      },
      {
        "duration": 17,
        "start_time": "2024-08-22T08:46:52.711Z"
      },
      {
        "duration": 328,
        "start_time": "2024-08-22T08:51:59.214Z"
      },
      {
        "duration": 19,
        "start_time": "2024-08-22T08:55:57.005Z"
      },
      {
        "duration": 16,
        "start_time": "2024-08-22T08:56:10.740Z"
      },
      {
        "duration": 10,
        "start_time": "2024-08-22T09:03:22.339Z"
      },
      {
        "duration": 17,
        "start_time": "2024-08-22T09:03:39.406Z"
      },
      {
        "duration": 16,
        "start_time": "2024-08-22T09:04:00.190Z"
      },
      {
        "duration": 17,
        "start_time": "2024-08-22T09:04:16.428Z"
      },
      {
        "duration": 8,
        "start_time": "2024-08-22T09:06:52.251Z"
      },
      {
        "duration": 13,
        "start_time": "2024-08-22T09:07:08.735Z"
      },
      {
        "duration": 10,
        "start_time": "2024-08-22T09:07:25.218Z"
      },
      {
        "duration": 69,
        "start_time": "2024-08-22T09:08:05.777Z"
      },
      {
        "duration": 10,
        "start_time": "2024-08-22T09:08:08.117Z"
      },
      {
        "duration": 6,
        "start_time": "2024-08-22T09:08:08.920Z"
      },
      {
        "duration": 6,
        "start_time": "2024-08-22T09:08:28.000Z"
      },
      {
        "duration": 9,
        "start_time": "2024-08-22T09:08:38.875Z"
      },
      {
        "duration": 8,
        "start_time": "2024-08-22T09:09:07.135Z"
      },
      {
        "duration": 5,
        "start_time": "2024-08-22T09:10:16.595Z"
      },
      {
        "duration": 28,
        "start_time": "2024-08-22T09:10:19.861Z"
      },
      {
        "duration": 30,
        "start_time": "2024-08-22T09:10:27.184Z"
      },
      {
        "duration": 11,
        "start_time": "2024-08-22T09:11:03.740Z"
      },
      {
        "duration": 9,
        "start_time": "2024-08-22T09:11:14.807Z"
      },
      {
        "duration": 9,
        "start_time": "2024-08-22T09:12:50.133Z"
      },
      {
        "duration": 7,
        "start_time": "2024-08-22T09:12:55.234Z"
      },
      {
        "duration": 7,
        "start_time": "2024-08-22T09:20:48.704Z"
      },
      {
        "duration": 70,
        "start_time": "2024-08-22T09:21:46.818Z"
      },
      {
        "duration": 9,
        "start_time": "2024-08-22T09:22:51.604Z"
      },
      {
        "duration": 3,
        "start_time": "2024-08-22T09:24:26.527Z"
      },
      {
        "duration": 35,
        "start_time": "2024-08-22T09:24:35.380Z"
      },
      {
        "duration": 1345,
        "start_time": "2024-08-22T13:44:34.561Z"
      },
      {
        "duration": 827,
        "start_time": "2024-08-22T13:44:35.908Z"
      },
      {
        "duration": 199,
        "start_time": "2024-08-22T13:44:36.737Z"
      },
      {
        "duration": 15,
        "start_time": "2024-08-22T13:44:36.938Z"
      },
      {
        "duration": 31,
        "start_time": "2024-08-22T13:44:36.955Z"
      },
      {
        "duration": 27,
        "start_time": "2024-08-22T13:44:36.988Z"
      },
      {
        "duration": 42,
        "start_time": "2024-08-22T13:44:37.017Z"
      },
      {
        "duration": 13,
        "start_time": "2024-08-22T13:44:37.061Z"
      },
      {
        "duration": 20,
        "start_time": "2024-08-22T13:44:37.075Z"
      },
      {
        "duration": 8,
        "start_time": "2024-08-22T13:44:37.097Z"
      },
      {
        "duration": 280,
        "start_time": "2024-08-22T13:44:37.106Z"
      },
      {
        "duration": 32,
        "start_time": "2024-08-22T13:44:37.388Z"
      },
      {
        "duration": 4,
        "start_time": "2024-08-22T13:44:37.422Z"
      },
      {
        "duration": 78,
        "start_time": "2024-08-22T13:44:37.428Z"
      },
      {
        "duration": 11,
        "start_time": "2024-08-22T13:44:37.508Z"
      },
      {
        "duration": 32,
        "start_time": "2024-08-22T13:44:37.520Z"
      },
      {
        "duration": 40,
        "start_time": "2024-08-22T13:44:37.553Z"
      },
      {
        "duration": 38,
        "start_time": "2024-08-22T13:44:37.595Z"
      },
      {
        "duration": 7,
        "start_time": "2024-08-22T13:44:37.634Z"
      },
      {
        "duration": 64,
        "start_time": "2024-08-22T13:44:37.642Z"
      },
      {
        "duration": 8,
        "start_time": "2024-08-22T13:44:37.708Z"
      },
      {
        "duration": 13,
        "start_time": "2024-08-22T13:44:37.717Z"
      },
      {
        "duration": 42,
        "start_time": "2024-08-22T13:44:37.732Z"
      },
      {
        "duration": 7,
        "start_time": "2024-08-22T13:44:37.776Z"
      },
      {
        "duration": 86,
        "start_time": "2024-08-22T13:44:37.785Z"
      },
      {
        "duration": 8,
        "start_time": "2024-08-22T13:44:37.873Z"
      },
      {
        "duration": 12,
        "start_time": "2024-08-22T13:44:37.883Z"
      },
      {
        "duration": 47,
        "start_time": "2024-08-22T13:44:37.899Z"
      },
      {
        "duration": 55,
        "start_time": "2024-08-22T13:55:04.469Z"
      },
      {
        "duration": 55,
        "start_time": "2024-08-22T13:55:26.084Z"
      },
      {
        "duration": 1076,
        "start_time": "2024-08-22T13:55:39.625Z"
      },
      {
        "duration": 301,
        "start_time": "2024-08-22T13:55:40.703Z"
      },
      {
        "duration": 177,
        "start_time": "2024-08-22T13:55:41.005Z"
      },
      {
        "duration": 7,
        "start_time": "2024-08-22T13:55:41.184Z"
      },
      {
        "duration": 86,
        "start_time": "2024-08-22T13:55:41.193Z"
      },
      {
        "duration": 25,
        "start_time": "2024-08-22T13:55:41.281Z"
      },
      {
        "duration": 14,
        "start_time": "2024-08-22T13:55:41.308Z"
      },
      {
        "duration": 25,
        "start_time": "2024-08-22T13:55:41.324Z"
      },
      {
        "duration": 19,
        "start_time": "2024-08-22T13:55:41.350Z"
      },
      {
        "duration": 6,
        "start_time": "2024-08-22T13:55:41.371Z"
      },
      {
        "duration": 246,
        "start_time": "2024-08-22T13:55:41.379Z"
      },
      {
        "duration": 37,
        "start_time": "2024-08-22T13:55:41.627Z"
      },
      {
        "duration": 5,
        "start_time": "2024-08-22T13:55:41.665Z"
      },
      {
        "duration": 76,
        "start_time": "2024-08-22T13:55:41.671Z"
      },
      {
        "duration": 12,
        "start_time": "2024-08-22T13:55:41.748Z"
      },
      {
        "duration": 12,
        "start_time": "2024-08-22T13:55:41.761Z"
      },
      {
        "duration": 12,
        "start_time": "2024-08-22T13:55:41.774Z"
      },
      {
        "duration": 35,
        "start_time": "2024-08-22T13:55:41.787Z"
      },
      {
        "duration": 28,
        "start_time": "2024-08-22T13:55:41.823Z"
      },
      {
        "duration": 65,
        "start_time": "2024-08-22T13:55:41.853Z"
      },
      {
        "duration": 8,
        "start_time": "2024-08-22T13:55:41.919Z"
      },
      {
        "duration": 4,
        "start_time": "2024-08-22T13:55:41.947Z"
      },
      {
        "duration": 36,
        "start_time": "2024-08-22T13:55:41.952Z"
      },
      {
        "duration": 6,
        "start_time": "2024-08-22T13:55:41.990Z"
      },
      {
        "duration": 84,
        "start_time": "2024-08-22T13:55:41.997Z"
      },
      {
        "duration": 7,
        "start_time": "2024-08-22T13:55:42.083Z"
      },
      {
        "duration": 7,
        "start_time": "2024-08-22T13:55:42.092Z"
      },
      {
        "duration": 113,
        "start_time": "2024-08-22T13:55:42.102Z"
      },
      {
        "duration": 53,
        "start_time": "2024-08-22T13:56:40.409Z"
      },
      {
        "duration": 11,
        "start_time": "2024-08-22T13:56:47.982Z"
      },
      {
        "duration": 11,
        "start_time": "2024-08-22T13:56:59.244Z"
      },
      {
        "duration": 59,
        "start_time": "2024-08-22T13:57:06.350Z"
      },
      {
        "duration": 12,
        "start_time": "2024-08-22T13:57:07.464Z"
      },
      {
        "duration": 58,
        "start_time": "2024-08-22T13:57:12.060Z"
      },
      {
        "duration": 12,
        "start_time": "2024-08-22T13:57:16.132Z"
      },
      {
        "duration": 11,
        "start_time": "2024-08-22T13:57:24.393Z"
      },
      {
        "duration": 5,
        "start_time": "2024-08-22T13:57:30.305Z"
      },
      {
        "duration": 38,
        "start_time": "2024-08-22T13:57:39.116Z"
      },
      {
        "duration": 8,
        "start_time": "2024-08-22T13:57:47.319Z"
      },
      {
        "duration": 72,
        "start_time": "2024-08-22T13:58:07.447Z"
      },
      {
        "duration": 8819,
        "start_time": "2024-08-22T13:59:50.688Z"
      },
      {
        "duration": 8,
        "start_time": "2024-08-22T14:00:19.977Z"
      },
      {
        "duration": 5,
        "start_time": "2024-08-22T14:00:23.141Z"
      },
      {
        "duration": 32,
        "start_time": "2024-08-22T14:00:25.519Z"
      },
      {
        "duration": 7,
        "start_time": "2024-08-22T14:00:33.817Z"
      },
      {
        "duration": 263,
        "start_time": "2024-08-22T14:01:16.468Z"
      },
      {
        "duration": 11,
        "start_time": "2024-08-22T14:01:21.145Z"
      },
      {
        "duration": 3,
        "start_time": "2024-08-22T14:01:22.504Z"
      },
      {
        "duration": 33,
        "start_time": "2024-08-22T14:01:23.296Z"
      },
      {
        "duration": 7,
        "start_time": "2024-08-22T14:05:04.529Z"
      },
      {
        "duration": 8,
        "start_time": "2024-08-22T14:05:12.435Z"
      },
      {
        "duration": 5,
        "start_time": "2024-08-22T14:09:13.398Z"
      },
      {
        "duration": 5,
        "start_time": "2024-08-22T14:09:28.980Z"
      },
      {
        "duration": 5,
        "start_time": "2024-08-22T14:12:12.174Z"
      },
      {
        "duration": 83,
        "start_time": "2024-08-22T14:12:52.041Z"
      },
      {
        "duration": 5,
        "start_time": "2024-08-22T14:13:21.389Z"
      },
      {
        "duration": 4,
        "start_time": "2024-08-22T14:13:27.232Z"
      },
      {
        "duration": 5,
        "start_time": "2024-08-22T14:18:19.619Z"
      },
      {
        "duration": 15,
        "start_time": "2024-08-22T14:27:24.199Z"
      },
      {
        "duration": 13,
        "start_time": "2024-08-22T14:27:27.405Z"
      },
      {
        "duration": 37,
        "start_time": "2024-08-22T14:27:33.170Z"
      },
      {
        "duration": 7,
        "start_time": "2024-08-22T14:27:35.550Z"
      },
      {
        "duration": 6,
        "start_time": "2024-08-22T14:34:59.155Z"
      },
      {
        "duration": 6,
        "start_time": "2024-08-22T14:35:10.613Z"
      },
      {
        "duration": 46,
        "start_time": "2024-08-22T14:50:24.375Z"
      },
      {
        "duration": 44,
        "start_time": "2024-08-22T14:51:09.121Z"
      },
      {
        "duration": 860,
        "start_time": "2024-08-22T14:52:01.609Z"
      },
      {
        "duration": 5,
        "start_time": "2024-08-22T14:52:13.293Z"
      },
      {
        "duration": 7,
        "start_time": "2024-08-22T14:52:15.208Z"
      },
      {
        "duration": 925,
        "start_time": "2024-08-22T14:52:16.040Z"
      },
      {
        "duration": 7,
        "start_time": "2024-08-22T14:53:01.412Z"
      },
      {
        "duration": 44,
        "start_time": "2024-08-22T14:53:10.957Z"
      },
      {
        "duration": 9,
        "start_time": "2024-08-22T14:53:52.913Z"
      },
      {
        "duration": 5,
        "start_time": "2024-08-22T14:54:04.838Z"
      },
      {
        "duration": 7,
        "start_time": "2024-08-22T14:54:35.983Z"
      },
      {
        "duration": 44,
        "start_time": "2024-08-22T14:54:43.370Z"
      },
      {
        "duration": 49,
        "start_time": "2024-08-22T14:56:02.896Z"
      },
      {
        "duration": 45,
        "start_time": "2024-08-22T14:56:13.563Z"
      },
      {
        "duration": 48,
        "start_time": "2024-08-22T14:57:00.445Z"
      },
      {
        "duration": 46,
        "start_time": "2024-08-22T14:58:14.614Z"
      },
      {
        "duration": 17,
        "start_time": "2024-08-22T15:00:56.641Z"
      },
      {
        "duration": 1042,
        "start_time": "2024-08-22T15:02:13.376Z"
      },
      {
        "duration": 1150,
        "start_time": "2024-08-22T15:03:28.464Z"
      },
      {
        "duration": 15,
        "start_time": "2024-08-22T15:03:56.324Z"
      },
      {
        "duration": 17,
        "start_time": "2024-08-22T15:05:40.862Z"
      },
      {
        "duration": 16,
        "start_time": "2024-08-22T15:06:40.735Z"
      },
      {
        "duration": 7,
        "start_time": "2024-08-22T15:09:36.118Z"
      },
      {
        "duration": 14,
        "start_time": "2024-08-22T15:09:41.366Z"
      },
      {
        "duration": 18,
        "start_time": "2024-08-22T15:10:23.148Z"
      },
      {
        "duration": 13,
        "start_time": "2024-08-22T15:11:20.408Z"
      },
      {
        "duration": 3,
        "start_time": "2024-08-22T15:12:43.374Z"
      },
      {
        "duration": 14,
        "start_time": "2024-08-22T15:15:26.814Z"
      },
      {
        "duration": 3,
        "start_time": "2024-08-22T15:17:57.764Z"
      },
      {
        "duration": 12,
        "start_time": "2024-08-22T15:23:50.174Z"
      },
      {
        "duration": 967,
        "start_time": "2024-08-22T15:26:50.741Z"
      },
      {
        "duration": 7,
        "start_time": "2024-08-22T15:27:26.181Z"
      },
      {
        "duration": 5,
        "start_time": "2024-08-22T15:30:41.571Z"
      },
      {
        "duration": 23,
        "start_time": "2024-08-22T15:43:12.054Z"
      },
      {
        "duration": 24,
        "start_time": "2024-08-22T15:48:58.538Z"
      },
      {
        "duration": 15,
        "start_time": "2024-08-22T15:49:57.234Z"
      },
      {
        "duration": 1084,
        "start_time": "2024-08-22T15:50:02.415Z"
      },
      {
        "duration": 48,
        "start_time": "2024-08-22T15:50:16.718Z"
      },
      {
        "duration": 15,
        "start_time": "2024-08-22T15:50:17.766Z"
      },
      {
        "duration": 25,
        "start_time": "2024-08-22T15:50:19.176Z"
      },
      {
        "duration": 13,
        "start_time": "2024-08-22T16:00:40.606Z"
      },
      {
        "duration": 11,
        "start_time": "2024-08-22T16:00:41.613Z"
      },
      {
        "duration": 24,
        "start_time": "2024-08-22T16:00:58.678Z"
      },
      {
        "duration": 13,
        "start_time": "2024-08-22T16:01:08.224Z"
      },
      {
        "duration": 27,
        "start_time": "2024-08-22T16:01:09.037Z"
      },
      {
        "duration": 40,
        "start_time": "2024-08-22T16:06:31.677Z"
      },
      {
        "duration": 52,
        "start_time": "2024-08-22T16:07:57.566Z"
      },
      {
        "duration": 35,
        "start_time": "2024-08-22T16:08:43.716Z"
      },
      {
        "duration": 16,
        "start_time": "2024-08-22T16:11:52.848Z"
      },
      {
        "duration": 27,
        "start_time": "2024-08-22T16:11:56.616Z"
      },
      {
        "duration": 26,
        "start_time": "2024-08-22T16:15:24.253Z"
      },
      {
        "duration": 26,
        "start_time": "2024-08-22T16:15:42.465Z"
      },
      {
        "duration": 7,
        "start_time": "2024-08-22T16:20:15.391Z"
      },
      {
        "duration": 22,
        "start_time": "2024-08-22T16:21:04.945Z"
      },
      {
        "duration": 17,
        "start_time": "2024-08-22T16:23:43.890Z"
      },
      {
        "duration": 24,
        "start_time": "2024-08-22T16:23:49.894Z"
      },
      {
        "duration": 54,
        "start_time": "2024-08-22T16:25:12.672Z"
      },
      {
        "duration": 54,
        "start_time": "2024-08-22T16:25:15.699Z"
      },
      {
        "duration": 23,
        "start_time": "2024-08-22T16:25:38.854Z"
      },
      {
        "duration": 26,
        "start_time": "2024-08-22T16:26:21.170Z"
      },
      {
        "duration": 14,
        "start_time": "2024-08-22T16:28:51.747Z"
      },
      {
        "duration": 16,
        "start_time": "2024-08-22T16:35:42.642Z"
      },
      {
        "duration": 29,
        "start_time": "2024-08-22T16:36:20.547Z"
      },
      {
        "duration": 26,
        "start_time": "2024-08-22T16:36:41.142Z"
      },
      {
        "duration": 6,
        "start_time": "2024-08-22T16:38:34.588Z"
      },
      {
        "duration": 30,
        "start_time": "2024-08-22T16:38:52.724Z"
      },
      {
        "duration": 23,
        "start_time": "2024-08-22T16:39:05.932Z"
      },
      {
        "duration": 24,
        "start_time": "2024-08-22T16:39:10.331Z"
      },
      {
        "duration": 25,
        "start_time": "2024-08-22T16:39:15.748Z"
      },
      {
        "duration": 9,
        "start_time": "2024-08-22T16:42:00.868Z"
      },
      {
        "duration": 1399,
        "start_time": "2024-08-23T06:51:14.492Z"
      },
      {
        "duration": 860,
        "start_time": "2024-08-23T06:51:15.893Z"
      },
      {
        "duration": 166,
        "start_time": "2024-08-23T06:51:16.755Z"
      },
      {
        "duration": 8,
        "start_time": "2024-08-23T06:51:16.923Z"
      },
      {
        "duration": 25,
        "start_time": "2024-08-23T06:51:16.932Z"
      },
      {
        "duration": 25,
        "start_time": "2024-08-23T06:51:16.959Z"
      },
      {
        "duration": 31,
        "start_time": "2024-08-23T06:51:16.986Z"
      },
      {
        "duration": 10,
        "start_time": "2024-08-23T06:51:17.018Z"
      },
      {
        "duration": 23,
        "start_time": "2024-08-23T06:51:17.029Z"
      },
      {
        "duration": 7,
        "start_time": "2024-08-23T06:51:17.055Z"
      },
      {
        "duration": 293,
        "start_time": "2024-08-23T06:51:17.064Z"
      },
      {
        "duration": 33,
        "start_time": "2024-08-23T06:51:17.359Z"
      },
      {
        "duration": 6,
        "start_time": "2024-08-23T06:51:17.404Z"
      },
      {
        "duration": 160,
        "start_time": "2024-08-23T06:51:17.411Z"
      },
      {
        "duration": 14,
        "start_time": "2024-08-23T06:51:17.573Z"
      },
      {
        "duration": 26,
        "start_time": "2024-08-23T06:51:17.589Z"
      },
      {
        "duration": 6,
        "start_time": "2024-08-23T06:51:17.617Z"
      },
      {
        "duration": 53,
        "start_time": "2024-08-23T06:51:17.624Z"
      },
      {
        "duration": 5,
        "start_time": "2024-08-23T06:51:17.679Z"
      },
      {
        "duration": 71,
        "start_time": "2024-08-23T06:51:17.686Z"
      },
      {
        "duration": 53,
        "start_time": "2024-08-23T06:51:17.758Z"
      },
      {
        "duration": 46,
        "start_time": "2024-08-23T06:51:17.813Z"
      },
      {
        "duration": 7,
        "start_time": "2024-08-23T06:51:17.861Z"
      },
      {
        "duration": 39,
        "start_time": "2024-08-23T06:51:17.870Z"
      },
      {
        "duration": 52,
        "start_time": "2024-08-23T06:51:17.910Z"
      },
      {
        "duration": 41,
        "start_time": "2024-08-23T06:51:17.964Z"
      },
      {
        "duration": 27,
        "start_time": "2024-08-23T06:51:18.006Z"
      },
      {
        "duration": 16,
        "start_time": "2024-08-23T06:51:18.037Z"
      },
      {
        "duration": 53,
        "start_time": "2024-08-23T06:51:18.054Z"
      },
      {
        "duration": 12,
        "start_time": "2024-08-23T06:51:18.109Z"
      },
      {
        "duration": 42,
        "start_time": "2024-08-23T06:51:18.122Z"
      },
      {
        "duration": 37,
        "start_time": "2024-08-23T06:52:59.651Z"
      },
      {
        "duration": 34,
        "start_time": "2024-08-23T06:53:05.222Z"
      },
      {
        "duration": 44,
        "start_time": "2024-08-23T07:00:04.486Z"
      },
      {
        "duration": 29,
        "start_time": "2024-08-23T07:00:22.635Z"
      },
      {
        "duration": 32,
        "start_time": "2024-08-23T07:00:44.791Z"
      },
      {
        "duration": 32,
        "start_time": "2024-08-23T07:00:48.781Z"
      },
      {
        "duration": 329,
        "start_time": "2024-08-23T07:00:58.033Z"
      },
      {
        "duration": 162,
        "start_time": "2024-08-23T07:00:58.552Z"
      },
      {
        "duration": 8,
        "start_time": "2024-08-23T07:01:01.717Z"
      },
      {
        "duration": 22,
        "start_time": "2024-08-23T07:01:02.629Z"
      },
      {
        "duration": 27,
        "start_time": "2024-08-23T07:01:03.727Z"
      },
      {
        "duration": 15,
        "start_time": "2024-08-23T07:01:06.369Z"
      },
      {
        "duration": 8,
        "start_time": "2024-08-23T07:01:07.117Z"
      },
      {
        "duration": 18,
        "start_time": "2024-08-23T07:01:08.721Z"
      },
      {
        "duration": 7,
        "start_time": "2024-08-23T07:01:09.761Z"
      },
      {
        "duration": 262,
        "start_time": "2024-08-23T07:01:14.809Z"
      },
      {
        "duration": 32,
        "start_time": "2024-08-23T07:01:17.974Z"
      },
      {
        "duration": 27,
        "start_time": "2024-08-23T07:01:41.280Z"
      },
      {
        "duration": 30,
        "start_time": "2024-08-23T07:01:49.681Z"
      },
      {
        "duration": 7,
        "start_time": "2024-08-23T07:01:56.570Z"
      },
      {
        "duration": 1157,
        "start_time": "2024-08-23T07:02:05.942Z"
      },
      {
        "duration": 330,
        "start_time": "2024-08-23T07:02:07.101Z"
      },
      {
        "duration": 181,
        "start_time": "2024-08-23T07:02:07.432Z"
      },
      {
        "duration": 7,
        "start_time": "2024-08-23T07:02:07.616Z"
      },
      {
        "duration": 26,
        "start_time": "2024-08-23T07:02:07.625Z"
      },
      {
        "duration": 26,
        "start_time": "2024-08-23T07:02:07.653Z"
      },
      {
        "duration": 16,
        "start_time": "2024-08-23T07:02:07.704Z"
      },
      {
        "duration": 69,
        "start_time": "2024-08-23T07:02:07.721Z"
      },
      {
        "duration": 20,
        "start_time": "2024-08-23T07:02:07.792Z"
      },
      {
        "duration": 10,
        "start_time": "2024-08-23T07:02:07.815Z"
      },
      {
        "duration": 283,
        "start_time": "2024-08-23T07:02:07.827Z"
      },
      {
        "duration": 33,
        "start_time": "2024-08-23T07:02:08.112Z"
      },
      {
        "duration": 6,
        "start_time": "2024-08-23T07:02:08.147Z"
      },
      {
        "duration": 89,
        "start_time": "2024-08-23T07:02:08.155Z"
      },
      {
        "duration": 13,
        "start_time": "2024-08-23T07:02:08.245Z"
      },
      {
        "duration": 12,
        "start_time": "2024-08-23T07:02:08.260Z"
      },
      {
        "duration": 82,
        "start_time": "2024-08-23T07:02:08.274Z"
      },
      {
        "duration": 37,
        "start_time": "2024-08-23T07:02:08.357Z"
      },
      {
        "duration": 6,
        "start_time": "2024-08-23T07:02:08.396Z"
      },
      {
        "duration": 15,
        "start_time": "2024-08-23T07:02:08.403Z"
      },
      {
        "duration": 48,
        "start_time": "2024-08-23T07:02:08.420Z"
      },
      {
        "duration": 50,
        "start_time": "2024-08-23T07:02:08.470Z"
      },
      {
        "duration": 7,
        "start_time": "2024-08-23T07:02:08.522Z"
      },
      {
        "duration": 30,
        "start_time": "2024-08-23T07:02:08.531Z"
      },
      {
        "duration": 64,
        "start_time": "2024-08-23T07:02:08.563Z"
      },
      {
        "duration": 26,
        "start_time": "2024-08-23T07:02:08.629Z"
      },
      {
        "duration": 48,
        "start_time": "2024-08-23T07:02:08.657Z"
      },
      {
        "duration": 16,
        "start_time": "2024-08-23T07:02:08.709Z"
      },
      {
        "duration": 36,
        "start_time": "2024-08-23T07:02:08.726Z"
      },
      {
        "duration": 13,
        "start_time": "2024-08-23T07:02:08.764Z"
      },
      {
        "duration": 28,
        "start_time": "2024-08-23T07:02:08.778Z"
      },
      {
        "duration": 1241,
        "start_time": "2024-08-23T09:36:38.580Z"
      },
      {
        "duration": 314,
        "start_time": "2024-08-23T09:36:39.823Z"
      },
      {
        "duration": 184,
        "start_time": "2024-08-23T09:36:40.139Z"
      },
      {
        "duration": 8,
        "start_time": "2024-08-23T09:36:40.325Z"
      },
      {
        "duration": 31,
        "start_time": "2024-08-23T09:36:40.335Z"
      },
      {
        "duration": 50,
        "start_time": "2024-08-23T09:36:40.369Z"
      },
      {
        "duration": 15,
        "start_time": "2024-08-23T09:36:40.421Z"
      },
      {
        "duration": 14,
        "start_time": "2024-08-23T09:36:40.438Z"
      },
      {
        "duration": 19,
        "start_time": "2024-08-23T09:36:40.454Z"
      },
      {
        "duration": 34,
        "start_time": "2024-08-23T09:36:40.475Z"
      },
      {
        "duration": 261,
        "start_time": "2024-08-23T09:36:40.511Z"
      },
      {
        "duration": 42,
        "start_time": "2024-08-23T09:36:40.773Z"
      },
      {
        "duration": 5,
        "start_time": "2024-08-23T09:36:40.817Z"
      },
      {
        "duration": 97,
        "start_time": "2024-08-23T09:36:40.824Z"
      },
      {
        "duration": 13,
        "start_time": "2024-08-23T09:36:40.923Z"
      },
      {
        "duration": 56,
        "start_time": "2024-08-23T09:36:40.938Z"
      },
      {
        "duration": 11,
        "start_time": "2024-08-23T09:36:40.997Z"
      },
      {
        "duration": 51,
        "start_time": "2024-08-23T09:36:41.010Z"
      },
      {
        "duration": 7,
        "start_time": "2024-08-23T09:36:41.062Z"
      },
      {
        "duration": 11,
        "start_time": "2024-08-23T09:36:41.071Z"
      },
      {
        "duration": 71,
        "start_time": "2024-08-23T09:36:41.084Z"
      },
      {
        "duration": 51,
        "start_time": "2024-08-23T09:36:41.157Z"
      },
      {
        "duration": 6,
        "start_time": "2024-08-23T09:36:41.210Z"
      },
      {
        "duration": 29,
        "start_time": "2024-08-23T09:36:41.218Z"
      },
      {
        "duration": 69,
        "start_time": "2024-08-23T09:36:41.249Z"
      },
      {
        "duration": 27,
        "start_time": "2024-08-23T09:36:41.321Z"
      },
      {
        "duration": 29,
        "start_time": "2024-08-23T09:36:41.350Z"
      },
      {
        "duration": 23,
        "start_time": "2024-08-23T09:36:41.404Z"
      },
      {
        "duration": 41,
        "start_time": "2024-08-23T09:36:41.429Z"
      },
      {
        "duration": 6,
        "start_time": "2024-08-23T09:36:41.472Z"
      },
      {
        "duration": 39,
        "start_time": "2024-08-23T09:36:41.480Z"
      },
      {
        "duration": 252,
        "start_time": "2024-08-23T09:42:34.393Z"
      },
      {
        "duration": 6,
        "start_time": "2024-08-23T10:02:13.267Z"
      },
      {
        "duration": 27,
        "start_time": "2024-08-23T10:02:21.033Z"
      },
      {
        "duration": 26,
        "start_time": "2024-08-23T10:06:29.598Z"
      },
      {
        "duration": 26,
        "start_time": "2024-08-23T10:08:01.234Z"
      },
      {
        "duration": 24,
        "start_time": "2024-08-23T10:08:10.615Z"
      },
      {
        "duration": 28,
        "start_time": "2024-08-23T10:08:39.267Z"
      },
      {
        "duration": 26,
        "start_time": "2024-08-23T10:28:39.140Z"
      },
      {
        "duration": 61,
        "start_time": "2024-08-24T08:24:10.568Z"
      },
      {
        "duration": 1284,
        "start_time": "2024-08-24T08:24:17.109Z"
      },
      {
        "duration": 1052,
        "start_time": "2024-08-24T08:24:18.397Z"
      },
      {
        "duration": 187,
        "start_time": "2024-08-24T08:24:19.450Z"
      },
      {
        "duration": 7,
        "start_time": "2024-08-24T08:24:19.639Z"
      },
      {
        "duration": 29,
        "start_time": "2024-08-24T08:24:19.647Z"
      },
      {
        "duration": 34,
        "start_time": "2024-08-24T08:24:19.678Z"
      },
      {
        "duration": 86,
        "start_time": "2024-08-24T08:24:19.713Z"
      },
      {
        "duration": 15,
        "start_time": "2024-08-24T08:24:19.800Z"
      },
      {
        "duration": 10,
        "start_time": "2024-08-24T08:24:19.817Z"
      },
      {
        "duration": 18,
        "start_time": "2024-08-24T08:24:19.829Z"
      },
      {
        "duration": 26,
        "start_time": "2024-08-24T08:24:19.848Z"
      },
      {
        "duration": 254,
        "start_time": "2024-08-24T08:24:19.876Z"
      },
      {
        "duration": 33,
        "start_time": "2024-08-24T08:24:20.132Z"
      },
      {
        "duration": 5,
        "start_time": "2024-08-24T08:24:20.166Z"
      },
      {
        "duration": 84,
        "start_time": "2024-08-24T08:24:20.173Z"
      },
      {
        "duration": 11,
        "start_time": "2024-08-24T08:24:20.259Z"
      },
      {
        "duration": 12,
        "start_time": "2024-08-24T08:24:20.271Z"
      },
      {
        "duration": 13,
        "start_time": "2024-08-24T08:24:20.297Z"
      },
      {
        "duration": 40,
        "start_time": "2024-08-24T08:24:20.311Z"
      },
      {
        "duration": 6,
        "start_time": "2024-08-24T08:24:20.353Z"
      },
      {
        "duration": 53,
        "start_time": "2024-08-24T08:24:20.360Z"
      },
      {
        "duration": 44,
        "start_time": "2024-08-24T08:24:20.415Z"
      },
      {
        "duration": 15,
        "start_time": "2024-08-24T08:24:20.461Z"
      },
      {
        "duration": 64,
        "start_time": "2024-08-24T08:24:20.477Z"
      },
      {
        "duration": 6,
        "start_time": "2024-08-24T08:24:20.542Z"
      },
      {
        "duration": 13,
        "start_time": "2024-08-24T08:24:20.549Z"
      },
      {
        "duration": 37,
        "start_time": "2024-08-24T08:24:20.564Z"
      },
      {
        "duration": 23,
        "start_time": "2024-08-24T08:24:20.604Z"
      },
      {
        "duration": 67,
        "start_time": "2024-08-24T08:24:20.629Z"
      },
      {
        "duration": 26,
        "start_time": "2024-08-24T08:24:20.698Z"
      },
      {
        "duration": 32,
        "start_time": "2024-08-24T08:24:20.725Z"
      },
      {
        "duration": 174,
        "start_time": "2024-08-24T08:25:55.895Z"
      },
      {
        "duration": 52,
        "start_time": "2024-08-24T08:30:34.036Z"
      },
      {
        "duration": 46,
        "start_time": "2024-08-24T08:31:43.926Z"
      },
      {
        "duration": 45,
        "start_time": "2024-08-24T08:32:24.562Z"
      },
      {
        "duration": 15,
        "start_time": "2024-08-24T08:42:09.512Z"
      },
      {
        "duration": 7,
        "start_time": "2024-08-24T08:42:19.304Z"
      },
      {
        "duration": 17,
        "start_time": "2024-08-24T08:42:23.584Z"
      },
      {
        "duration": 7,
        "start_time": "2024-08-24T08:42:35.903Z"
      },
      {
        "duration": 251,
        "start_time": "2024-08-24T08:42:51.080Z"
      },
      {
        "duration": 8,
        "start_time": "2024-08-24T08:44:09.319Z"
      },
      {
        "duration": 33,
        "start_time": "2024-08-24T08:45:57.061Z"
      },
      {
        "duration": 7,
        "start_time": "2024-08-24T08:46:00.770Z"
      },
      {
        "duration": 5,
        "start_time": "2024-08-24T08:46:16.225Z"
      },
      {
        "duration": 62,
        "start_time": "2024-08-24T08:46:31.856Z"
      },
      {
        "duration": 12,
        "start_time": "2024-08-24T08:46:34.750Z"
      },
      {
        "duration": 9,
        "start_time": "2024-08-24T08:49:47.849Z"
      },
      {
        "duration": 14,
        "start_time": "2024-08-24T08:50:25.767Z"
      },
      {
        "duration": 5,
        "start_time": "2024-08-24T08:52:07.953Z"
      },
      {
        "duration": 36,
        "start_time": "2024-08-24T08:52:20.500Z"
      },
      {
        "duration": 6,
        "start_time": "2024-08-24T08:52:21.370Z"
      },
      {
        "duration": 42,
        "start_time": "2024-08-24T08:52:22.103Z"
      },
      {
        "duration": 40,
        "start_time": "2024-08-24T08:52:23.518Z"
      },
      {
        "duration": 15,
        "start_time": "2024-08-24T08:52:24.492Z"
      },
      {
        "duration": 41,
        "start_time": "2024-08-24T08:52:25.333Z"
      },
      {
        "duration": 5,
        "start_time": "2024-08-24T08:52:25.397Z"
      },
      {
        "duration": 6,
        "start_time": "2024-08-24T08:52:32.133Z"
      },
      {
        "duration": 23,
        "start_time": "2024-08-24T08:52:39.668Z"
      },
      {
        "duration": 24,
        "start_time": "2024-08-24T08:52:42.746Z"
      },
      {
        "duration": 27,
        "start_time": "2024-08-24T08:52:45.954Z"
      },
      {
        "duration": 23,
        "start_time": "2024-08-24T08:52:49.070Z"
      },
      {
        "duration": 23,
        "start_time": "2024-08-24T08:52:54.476Z"
      },
      {
        "duration": 6,
        "start_time": "2024-08-24T09:01:29.427Z"
      },
      {
        "duration": 105,
        "start_time": "2024-08-24T09:01:37.843Z"
      },
      {
        "duration": 7,
        "start_time": "2024-08-24T09:01:56.793Z"
      },
      {
        "duration": 25,
        "start_time": "2024-08-24T09:02:01.154Z"
      },
      {
        "duration": 64,
        "start_time": "2024-08-24T09:04:44.705Z"
      },
      {
        "duration": 60,
        "start_time": "2024-08-24T09:04:50.498Z"
      },
      {
        "duration": 5,
        "start_time": "2024-08-24T09:04:52.890Z"
      },
      {
        "duration": 54,
        "start_time": "2024-08-24T09:05:35.444Z"
      },
      {
        "duration": 52,
        "start_time": "2024-08-24T09:05:52.478Z"
      },
      {
        "duration": 16,
        "start_time": "2024-08-24T09:06:05.315Z"
      },
      {
        "duration": 567,
        "start_time": "2024-08-24T09:06:18.753Z"
      },
      {
        "duration": 77,
        "start_time": "2024-08-24T09:06:46.674Z"
      },
      {
        "duration": 53,
        "start_time": "2024-08-24T09:08:13.714Z"
      },
      {
        "duration": 6,
        "start_time": "2024-08-24T09:08:50.374Z"
      },
      {
        "duration": 6,
        "start_time": "2024-08-24T09:08:53.264Z"
      },
      {
        "duration": 28,
        "start_time": "2024-08-24T09:08:58.585Z"
      },
      {
        "duration": 20,
        "start_time": "2024-08-24T09:09:03.745Z"
      },
      {
        "duration": 22,
        "start_time": "2024-08-24T09:09:10.816Z"
      },
      {
        "duration": 23,
        "start_time": "2024-08-24T09:09:15.386Z"
      },
      {
        "duration": 22,
        "start_time": "2024-08-24T09:09:19.858Z"
      }
    ],
    "kernelspec": {
      "display_name": "Python 3 (ipykernel)",
      "language": "python",
      "name": "python3"
    },
    "language_info": {
      "codemirror_mode": {
        "name": "ipython",
        "version": 3
      },
      "file_extension": ".py",
      "mimetype": "text/x-python",
      "name": "python",
      "nbconvert_exporter": "python",
      "pygments_lexer": "ipython3",
      "version": "3.9.5"
    },
    "toc": {
      "base_numbering": 1,
      "nav_menu": {},
      "number_sections": true,
      "sideBar": true,
      "skip_h1_title": true,
      "title_cell": "Table of Contents",
      "title_sidebar": "Contents",
      "toc_cell": false,
      "toc_position": {},
      "toc_section_display": true,
      "toc_window_display": true
    },
    "colab": {
      "provenance": [],
      "toc_visible": true
    }
  },
  "nbformat": 4,
  "nbformat_minor": 0
}