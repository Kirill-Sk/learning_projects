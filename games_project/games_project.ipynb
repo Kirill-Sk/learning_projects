{
  "cells": [
    {
      "cell_type": "markdown",
      "metadata": {
        "id": "dCyq6dIGpGv_"
      },
      "source": [
        "# Исследование данных о компьютерных играх"
      ]
    },
    {
      "cell_type": "markdown",
      "metadata": {
        "id": "6mhbGbRQpGv_"
      },
      "source": [
        "Проект посвящён исследованию данных о компьютерных играх с целью выявить определяющие успешность игры закономерности.\n",
        "\n",
        "Исследуемые данные за 1980-2016 годы включают в себя: данные о продажах игр, оценки пользователей и экспертов, жанры и платформы."
      ]
    },
    {
      "cell_type": "code",
      "execution_count": null,
      "metadata": {
        "id": "2tGxtsX9pGwA"
      },
      "outputs": [],
      "source": [
        "#импортируем необходимые библиотеки\n",
        "import pandas as pd\n",
        "import numpy as np\n",
        "from scipy import stats as st\n",
        "import matplotlib.pyplot as plt\n",
        "import seaborn as sns"
      ]
    },
    {
      "cell_type": "markdown",
      "metadata": {
        "id": "yRY9I7__pGwB"
      },
      "source": [
        "### Загрузка данных"
      ]
    },
    {
      "cell_type": "code",
      "execution_count": null,
      "metadata": {
        "id": "to9DJzsrpGwB",
        "outputId": "7f32d922-9cdb-45c7-9d4f-03c08a5a6c6a"
      },
      "outputs": [
        {
          "data": {
            "text/html": [
              "<div>\n",
              "<style scoped>\n",
              "    .dataframe tbody tr th:only-of-type {\n",
              "        vertical-align: middle;\n",
              "    }\n",
              "\n",
              "    .dataframe tbody tr th {\n",
              "        vertical-align: top;\n",
              "    }\n",
              "\n",
              "    .dataframe thead th {\n",
              "        text-align: right;\n",
              "    }\n",
              "</style>\n",
              "<table border=\"1\" class=\"dataframe\">\n",
              "  <thead>\n",
              "    <tr style=\"text-align: right;\">\n",
              "      <th></th>\n",
              "      <th>Name</th>\n",
              "      <th>Platform</th>\n",
              "      <th>Year_of_Release</th>\n",
              "      <th>Genre</th>\n",
              "      <th>NA_sales</th>\n",
              "      <th>EU_sales</th>\n",
              "      <th>JP_sales</th>\n",
              "      <th>Other_sales</th>\n",
              "      <th>Critic_Score</th>\n",
              "      <th>User_Score</th>\n",
              "      <th>Rating</th>\n",
              "    </tr>\n",
              "  </thead>\n",
              "  <tbody>\n",
              "    <tr>\n",
              "      <th>0</th>\n",
              "      <td>Wii Sports</td>\n",
              "      <td>Wii</td>\n",
              "      <td>2006.0</td>\n",
              "      <td>Sports</td>\n",
              "      <td>41.36</td>\n",
              "      <td>28.96</td>\n",
              "      <td>3.77</td>\n",
              "      <td>8.45</td>\n",
              "      <td>76.0</td>\n",
              "      <td>8</td>\n",
              "      <td>E</td>\n",
              "    </tr>\n",
              "    <tr>\n",
              "      <th>1</th>\n",
              "      <td>Super Mario Bros.</td>\n",
              "      <td>NES</td>\n",
              "      <td>1985.0</td>\n",
              "      <td>Platform</td>\n",
              "      <td>29.08</td>\n",
              "      <td>3.58</td>\n",
              "      <td>6.81</td>\n",
              "      <td>0.77</td>\n",
              "      <td>NaN</td>\n",
              "      <td>NaN</td>\n",
              "      <td>NaN</td>\n",
              "    </tr>\n",
              "    <tr>\n",
              "      <th>2</th>\n",
              "      <td>Mario Kart Wii</td>\n",
              "      <td>Wii</td>\n",
              "      <td>2008.0</td>\n",
              "      <td>Racing</td>\n",
              "      <td>15.68</td>\n",
              "      <td>12.76</td>\n",
              "      <td>3.79</td>\n",
              "      <td>3.29</td>\n",
              "      <td>82.0</td>\n",
              "      <td>8.3</td>\n",
              "      <td>E</td>\n",
              "    </tr>\n",
              "    <tr>\n",
              "      <th>3</th>\n",
              "      <td>Wii Sports Resort</td>\n",
              "      <td>Wii</td>\n",
              "      <td>2009.0</td>\n",
              "      <td>Sports</td>\n",
              "      <td>15.61</td>\n",
              "      <td>10.93</td>\n",
              "      <td>3.28</td>\n",
              "      <td>2.95</td>\n",
              "      <td>80.0</td>\n",
              "      <td>8</td>\n",
              "      <td>E</td>\n",
              "    </tr>\n",
              "    <tr>\n",
              "      <th>4</th>\n",
              "      <td>Pokemon Red/Pokemon Blue</td>\n",
              "      <td>GB</td>\n",
              "      <td>1996.0</td>\n",
              "      <td>Role-Playing</td>\n",
              "      <td>11.27</td>\n",
              "      <td>8.89</td>\n",
              "      <td>10.22</td>\n",
              "      <td>1.00</td>\n",
              "      <td>NaN</td>\n",
              "      <td>NaN</td>\n",
              "      <td>NaN</td>\n",
              "    </tr>\n",
              "  </tbody>\n",
              "</table>\n",
              "</div>"
            ],
            "text/plain": [
              "                       Name Platform  Year_of_Release         Genre  NA_sales  \\\n",
              "0                Wii Sports      Wii           2006.0        Sports     41.36   \n",
              "1         Super Mario Bros.      NES           1985.0      Platform     29.08   \n",
              "2            Mario Kart Wii      Wii           2008.0        Racing     15.68   \n",
              "3         Wii Sports Resort      Wii           2009.0        Sports     15.61   \n",
              "4  Pokemon Red/Pokemon Blue       GB           1996.0  Role-Playing     11.27   \n",
              "\n",
              "   EU_sales  JP_sales  Other_sales  Critic_Score User_Score Rating  \n",
              "0     28.96      3.77         8.45          76.0          8      E  \n",
              "1      3.58      6.81         0.77           NaN        NaN    NaN  \n",
              "2     12.76      3.79         3.29          82.0        8.3      E  \n",
              "3     10.93      3.28         2.95          80.0          8      E  \n",
              "4      8.89     10.22         1.00           NaN        NaN    NaN  "
            ]
          },
          "execution_count": 2,
          "metadata": {},
          "output_type": "execute_result"
        }
      ],
      "source": [
        "#сохраним полученные данные в датафрейм games\n",
        "games = pd.read_csv('games.csv')\n",
        "games.head()"
      ]
    },
    {
      "cell_type": "code",
      "execution_count": null,
      "metadata": {
        "id": "isiVYfkTpGwC",
        "outputId": "1e16891c-a2f7-428f-b4f7-3b5b6cdd9b32"
      },
      "outputs": [
        {
          "name": "stdout",
          "output_type": "stream",
          "text": [
            "<class 'pandas.core.frame.DataFrame'>\n",
            "RangeIndex: 16715 entries, 0 to 16714\n",
            "Data columns (total 11 columns):\n",
            " #   Column           Non-Null Count  Dtype  \n",
            "---  ------           --------------  -----  \n",
            " 0   Name             16713 non-null  object \n",
            " 1   Platform         16715 non-null  object \n",
            " 2   Year_of_Release  16446 non-null  float64\n",
            " 3   Genre            16713 non-null  object \n",
            " 4   NA_sales         16715 non-null  float64\n",
            " 5   EU_sales         16715 non-null  float64\n",
            " 6   JP_sales         16715 non-null  float64\n",
            " 7   Other_sales      16715 non-null  float64\n",
            " 8   Critic_Score     8137 non-null   float64\n",
            " 9   User_Score       10014 non-null  object \n",
            " 10  Rating           9949 non-null   object \n",
            "dtypes: float64(6), object(5)\n",
            "memory usage: 1.4+ MB\n"
          ]
        }
      ],
      "source": [
        "games.info()"
      ]
    },
    {
      "cell_type": "markdown",
      "metadata": {
        "id": "nWpmN4w1pGwC"
      },
      "source": [
        "### Предобработка данных"
      ]
    },
    {
      "cell_type": "markdown",
      "metadata": {
        "id": "GoLcXrZOpGwD"
      },
      "source": [
        "#### Переименование столбцов"
      ]
    },
    {
      "cell_type": "code",
      "execution_count": null,
      "metadata": {
        "scrolled": true,
        "id": "BameSS9YpGwD",
        "outputId": "52140985-a7d3-4af9-e7fd-b29ae289495a"
      },
      "outputs": [
        {
          "name": "stdout",
          "output_type": "stream",
          "text": [
            "<class 'pandas.core.frame.DataFrame'>\n",
            "RangeIndex: 16715 entries, 0 to 16714\n",
            "Data columns (total 11 columns):\n",
            " #   Column           Non-Null Count  Dtype  \n",
            "---  ------           --------------  -----  \n",
            " 0   name             16713 non-null  object \n",
            " 1   platform         16715 non-null  object \n",
            " 2   year_of_release  16446 non-null  float64\n",
            " 3   genre            16713 non-null  object \n",
            " 4   na_sales         16715 non-null  float64\n",
            " 5   eu_sales         16715 non-null  float64\n",
            " 6   jp_sales         16715 non-null  float64\n",
            " 7   other_sales      16715 non-null  float64\n",
            " 8   critic_score     8137 non-null   float64\n",
            " 9   user_score       10014 non-null  object \n",
            " 10  rating           9949 non-null   object \n",
            "dtypes: float64(6), object(5)\n",
            "memory usage: 1.4+ MB\n"
          ]
        }
      ],
      "source": [
        "#приведём названия всех столбцов к нижнему регистру\n",
        "games.columns = games.columns.str.lower()\n",
        "games.info()"
      ]
    },
    {
      "cell_type": "markdown",
      "metadata": {
        "id": "3jKe7VUxpGwD"
      },
      "source": [
        "#### Работа с пропусками"
      ]
    },
    {
      "cell_type": "code",
      "execution_count": null,
      "metadata": {
        "id": "j0vX1scJpGwD",
        "outputId": "490c2ebd-699d-484f-cbb9-6cbb9170ac57"
      },
      "outputs": [
        {
          "data": {
            "text/plain": [
              "name                  2\n",
              "platform              0\n",
              "year_of_release     269\n",
              "genre                 2\n",
              "na_sales              0\n",
              "eu_sales              0\n",
              "jp_sales              0\n",
              "other_sales           0\n",
              "critic_score       8578\n",
              "user_score         6701\n",
              "rating             6766\n",
              "dtype: int64"
            ]
          },
          "execution_count": 5,
          "metadata": {},
          "output_type": "execute_result"
        }
      ],
      "source": [
        "#ознакомимся с количеством пропусков в столбцах\n",
        "games.isna().sum()"
      ]
    },
    {
      "cell_type": "markdown",
      "metadata": {
        "id": "gZ_7qzsbpGwD"
      },
      "source": [
        "Количество пропусков в столбцах `name`, `year_of_release` и `genre` крайне мало, поэтому строки с пропусками в этих столбцах можно удалить без ущерба для исследования."
      ]
    },
    {
      "cell_type": "code",
      "execution_count": null,
      "metadata": {
        "id": "YhE27_oFpGwD",
        "outputId": "04f1c758-9920-4b5f-ccce-b2aa02d02cf4"
      },
      "outputs": [
        {
          "data": {
            "text/plain": [
              "name                  0\n",
              "platform              0\n",
              "year_of_release     269\n",
              "genre                 0\n",
              "na_sales              0\n",
              "eu_sales              0\n",
              "jp_sales              0\n",
              "other_sales           0\n",
              "critic_score       8576\n",
              "user_score         6699\n",
              "rating             6764\n",
              "dtype: int64"
            ]
          },
          "execution_count": 6,
          "metadata": {},
          "output_type": "execute_result"
        }
      ],
      "source": [
        "#удалим строки с пропусками в столбце name\n",
        "games = games.dropna(subset=['name']).reset_index(drop=True)\n",
        "games.isna().sum()"
      ]
    },
    {
      "cell_type": "code",
      "execution_count": null,
      "metadata": {
        "id": "W9R3EaP2pGwE",
        "outputId": "cfdf56bf-0435-44fd-ba68-96661c41c93f"
      },
      "outputs": [
        {
          "data": {
            "text/plain": [
              "name                  0\n",
              "platform              0\n",
              "year_of_release       0\n",
              "genre                 0\n",
              "na_sales              0\n",
              "eu_sales              0\n",
              "jp_sales              0\n",
              "other_sales           0\n",
              "critic_score       8461\n",
              "user_score         6605\n",
              "rating             6676\n",
              "dtype: int64"
            ]
          },
          "execution_count": 7,
          "metadata": {},
          "output_type": "execute_result"
        }
      ],
      "source": [
        "#удалим строки с пропусками в столбце year_of_release\n",
        "games = games.dropna(subset=['year_of_release']).reset_index(drop=True)\n",
        "games.isna().sum()"
      ]
    },
    {
      "cell_type": "markdown",
      "metadata": {
        "id": "hS3XoEK1pGwE"
      },
      "source": [
        "Количество пропусков в столбцах `critic_score`, `user_score` и `rating` велико, поэтому удалить строки с пропусками в этих столбцах нельзя. Заполнить пропуски в этих столбцах какими-либо значениями не представляется возможным, поскольку в этих столбцах содержатся данные, которые невозможно рассчитать на основе других данных.\n",
        "\n",
        "Пропуски в этих столбцах могут быть обусловлены отсутствием доступа к данным об оценках критиков и пользователей и о рейтинге."
      ]
    },
    {
      "cell_type": "markdown",
      "metadata": {
        "id": "saWWNaDOpGwE"
      },
      "source": [
        "#### Преобразование типов данных"
      ]
    },
    {
      "cell_type": "markdown",
      "metadata": {
        "id": "GYZja_-jpGwE"
      },
      "source": [
        "Из общей информации о датафрейме (см. **2.1 Переименование столбцов**) видно, что данные столбца `year_of_release` имеют тип `float`, а данные `user_score` - тип `object`.\n",
        "\n",
        "Столбец `year_of_release` содержит данные о годе, поэтому должен иметь тип данных `int`. Столбец `user_score` содержит числовые данные, поэтому должен иметь тип `float`."
      ]
    },
    {
      "cell_type": "code",
      "execution_count": null,
      "metadata": {
        "id": "cU-OaESrpGwE"
      },
      "outputs": [],
      "source": [
        "#приведём данные столбца year_of_release к типу int\n",
        "games['year_of_release'] = games['year_of_release'].astype('int')"
      ]
    },
    {
      "cell_type": "code",
      "execution_count": null,
      "metadata": {
        "id": "4A12Ucj3pGwE",
        "outputId": "fb242f65-cba2-426c-db22-c56591df93bc"
      },
      "outputs": [
        {
          "data": {
            "text/plain": [
              "array(['8', nan, '8.3', '8.5', '6.6', '8.4', '8.6', '7.7', '6.3', '7.4',\n",
              "       '8.2', '9', '7.9', '8.1', '8.7', '7.1', '3.4', '5.3', '4.8', '3.2',\n",
              "       '8.9', '6.4', '7.8', '7.5', '2.6', '7.2', '9.2', '7', '7.3', '4.3',\n",
              "       '7.6', '5.7', '5', '9.1', '6.5', 'tbd', '8.8', '6.9', '9.4', '6.8',\n",
              "       '6.1', '6.7', '5.4', '4', '4.9', '4.5', '9.3', '6.2', '4.2', '6',\n",
              "       '3.7', '4.1', '5.8', '5.6', '5.5', '4.4', '4.6', '5.9', '3.9',\n",
              "       '3.1', '2.9', '5.2', '3.3', '4.7', '5.1', '3.5', '2.5', '1.9', '3',\n",
              "       '2.7', '2.2', '2', '9.5', '2.1', '3.6', '2.8', '1.8', '3.8', '0',\n",
              "       '1.6', '9.6', '2.4', '1.7', '1.1', '0.3', '1.5', '0.7', '1.2',\n",
              "       '2.3', '0.5', '1.3', '0.2', '0.6', '1.4', '0.9', '1', '9.7'],\n",
              "      dtype=object)"
            ]
          },
          "execution_count": 9,
          "metadata": {},
          "output_type": "execute_result"
        }
      ],
      "source": [
        "#ознакомимся с уникальными данными столбца user_score\n",
        "games['user_score'].unique()"
      ]
    },
    {
      "cell_type": "markdown",
      "metadata": {
        "id": "k3nBLn_rpGwF"
      },
      "source": [
        "В столбце `user_score` встречается значение `tbd`, что обычно расшифровывается как *to be determined* (*будет определено*). То есть, это значение обозначает отсутствие данных. В рамках данного исследования уместно заменить `tbd` на пропуски значения."
      ]
    },
    {
      "cell_type": "code",
      "execution_count": null,
      "metadata": {
        "id": "UFei5bSapGwF"
      },
      "outputs": [],
      "source": [
        "#приведём данные столбца year_of_release к типу datetime\n",
        "games['user_score'] = pd.to_numeric(games['user_score'], errors='coerce')"
      ]
    },
    {
      "cell_type": "code",
      "execution_count": null,
      "metadata": {
        "id": "gOehCj2UpGwF",
        "outputId": "0a097be1-438a-4043-9286-9d33f131e268"
      },
      "outputs": [
        {
          "name": "stdout",
          "output_type": "stream",
          "text": [
            "<class 'pandas.core.frame.DataFrame'>\n",
            "RangeIndex: 16444 entries, 0 to 16443\n",
            "Data columns (total 11 columns):\n",
            " #   Column           Non-Null Count  Dtype  \n",
            "---  ------           --------------  -----  \n",
            " 0   name             16444 non-null  object \n",
            " 1   platform         16444 non-null  object \n",
            " 2   year_of_release  16444 non-null  int64  \n",
            " 3   genre            16444 non-null  object \n",
            " 4   na_sales         16444 non-null  float64\n",
            " 5   eu_sales         16444 non-null  float64\n",
            " 6   jp_sales         16444 non-null  float64\n",
            " 7   other_sales      16444 non-null  float64\n",
            " 8   critic_score     7983 non-null   float64\n",
            " 9   user_score       7463 non-null   float64\n",
            " 10  rating           9768 non-null   object \n",
            "dtypes: float64(6), int64(1), object(4)\n",
            "memory usage: 1.4+ MB\n"
          ]
        }
      ],
      "source": [
        "games.info()"
      ]
    },
    {
      "cell_type": "markdown",
      "metadata": {
        "id": "lLPdr8UgpGwF"
      },
      "source": [
        "#### Добавление столбца"
      ]
    },
    {
      "cell_type": "code",
      "execution_count": null,
      "metadata": {
        "id": "X0chEUyCpGwF",
        "outputId": "7c687bd9-5f11-444f-c83d-8b168662856b"
      },
      "outputs": [
        {
          "data": {
            "text/html": [
              "<div>\n",
              "<style scoped>\n",
              "    .dataframe tbody tr th:only-of-type {\n",
              "        vertical-align: middle;\n",
              "    }\n",
              "\n",
              "    .dataframe tbody tr th {\n",
              "        vertical-align: top;\n",
              "    }\n",
              "\n",
              "    .dataframe thead th {\n",
              "        text-align: right;\n",
              "    }\n",
              "</style>\n",
              "<table border=\"1\" class=\"dataframe\">\n",
              "  <thead>\n",
              "    <tr style=\"text-align: right;\">\n",
              "      <th></th>\n",
              "      <th>name</th>\n",
              "      <th>platform</th>\n",
              "      <th>year_of_release</th>\n",
              "      <th>genre</th>\n",
              "      <th>na_sales</th>\n",
              "      <th>eu_sales</th>\n",
              "      <th>jp_sales</th>\n",
              "      <th>other_sales</th>\n",
              "      <th>critic_score</th>\n",
              "      <th>user_score</th>\n",
              "      <th>rating</th>\n",
              "      <th>total_sales</th>\n",
              "    </tr>\n",
              "  </thead>\n",
              "  <tbody>\n",
              "    <tr>\n",
              "      <th>0</th>\n",
              "      <td>Wii Sports</td>\n",
              "      <td>Wii</td>\n",
              "      <td>2006</td>\n",
              "      <td>Sports</td>\n",
              "      <td>41.36</td>\n",
              "      <td>28.96</td>\n",
              "      <td>3.77</td>\n",
              "      <td>8.45</td>\n",
              "      <td>76.0</td>\n",
              "      <td>8.0</td>\n",
              "      <td>E</td>\n",
              "      <td>82.54</td>\n",
              "    </tr>\n",
              "    <tr>\n",
              "      <th>1</th>\n",
              "      <td>Super Mario Bros.</td>\n",
              "      <td>NES</td>\n",
              "      <td>1985</td>\n",
              "      <td>Platform</td>\n",
              "      <td>29.08</td>\n",
              "      <td>3.58</td>\n",
              "      <td>6.81</td>\n",
              "      <td>0.77</td>\n",
              "      <td>NaN</td>\n",
              "      <td>NaN</td>\n",
              "      <td>NaN</td>\n",
              "      <td>40.24</td>\n",
              "    </tr>\n",
              "    <tr>\n",
              "      <th>2</th>\n",
              "      <td>Mario Kart Wii</td>\n",
              "      <td>Wii</td>\n",
              "      <td>2008</td>\n",
              "      <td>Racing</td>\n",
              "      <td>15.68</td>\n",
              "      <td>12.76</td>\n",
              "      <td>3.79</td>\n",
              "      <td>3.29</td>\n",
              "      <td>82.0</td>\n",
              "      <td>8.3</td>\n",
              "      <td>E</td>\n",
              "      <td>35.52</td>\n",
              "    </tr>\n",
              "    <tr>\n",
              "      <th>3</th>\n",
              "      <td>Wii Sports Resort</td>\n",
              "      <td>Wii</td>\n",
              "      <td>2009</td>\n",
              "      <td>Sports</td>\n",
              "      <td>15.61</td>\n",
              "      <td>10.93</td>\n",
              "      <td>3.28</td>\n",
              "      <td>2.95</td>\n",
              "      <td>80.0</td>\n",
              "      <td>8.0</td>\n",
              "      <td>E</td>\n",
              "      <td>32.77</td>\n",
              "    </tr>\n",
              "    <tr>\n",
              "      <th>4</th>\n",
              "      <td>Pokemon Red/Pokemon Blue</td>\n",
              "      <td>GB</td>\n",
              "      <td>1996</td>\n",
              "      <td>Role-Playing</td>\n",
              "      <td>11.27</td>\n",
              "      <td>8.89</td>\n",
              "      <td>10.22</td>\n",
              "      <td>1.00</td>\n",
              "      <td>NaN</td>\n",
              "      <td>NaN</td>\n",
              "      <td>NaN</td>\n",
              "      <td>31.38</td>\n",
              "    </tr>\n",
              "  </tbody>\n",
              "</table>\n",
              "</div>"
            ],
            "text/plain": [
              "                       name platform  year_of_release         genre  na_sales  \\\n",
              "0                Wii Sports      Wii             2006        Sports     41.36   \n",
              "1         Super Mario Bros.      NES             1985      Platform     29.08   \n",
              "2            Mario Kart Wii      Wii             2008        Racing     15.68   \n",
              "3         Wii Sports Resort      Wii             2009        Sports     15.61   \n",
              "4  Pokemon Red/Pokemon Blue       GB             1996  Role-Playing     11.27   \n",
              "\n",
              "   eu_sales  jp_sales  other_sales  critic_score  user_score rating  \\\n",
              "0     28.96      3.77         8.45          76.0         8.0      E   \n",
              "1      3.58      6.81         0.77           NaN         NaN    NaN   \n",
              "2     12.76      3.79         3.29          82.0         8.3      E   \n",
              "3     10.93      3.28         2.95          80.0         8.0      E   \n",
              "4      8.89     10.22         1.00           NaN         NaN    NaN   \n",
              "\n",
              "   total_sales  \n",
              "0        82.54  \n",
              "1        40.24  \n",
              "2        35.52  \n",
              "3        32.77  \n",
              "4        31.38  "
            ]
          },
          "execution_count": 12,
          "metadata": {},
          "output_type": "execute_result"
        }
      ],
      "source": [
        "#добавим в датафрейм столбец total_sales с данными о суммарных продажах каждй игры\n",
        "games['total_sales'] = games['na_sales'] + games['eu_sales'] + games['jp_sales'] + games['other_sales']\n",
        "\n",
        "#проверим, добавился ли новый столбец\n",
        "games.head()"
      ]
    },
    {
      "cell_type": "markdown",
      "metadata": {
        "id": "Qst6n_4tpGwF"
      },
      "source": [
        "#### Обработка дубликатов"
      ]
    },
    {
      "cell_type": "code",
      "execution_count": null,
      "metadata": {
        "id": "oDYWzkJdpGwF",
        "outputId": "2bd25979-8b89-4831-b215-6dee6fd74049"
      },
      "outputs": [
        {
          "data": {
            "text/plain": [
              "0"
            ]
          },
          "execution_count": 13,
          "metadata": {},
          "output_type": "execute_result"
        }
      ],
      "source": [
        "#посчитаем количество строк-дубликатов датафрейме games\n",
        "games.duplicated().sum()"
      ]
    },
    {
      "cell_type": "code",
      "execution_count": null,
      "metadata": {
        "scrolled": false,
        "id": "AjvS1xZxpGwF",
        "outputId": "f015e9c0-3dd5-4632-8194-d5dea04de427"
      },
      "outputs": [
        {
          "data": {
            "text/plain": [
              "1"
            ]
          },
          "execution_count": 14,
          "metadata": {},
          "output_type": "execute_result"
        }
      ],
      "source": [
        "#посчитаем количество значений, повторяющихся в столбцах name, platform и year_of_release одновременно\n",
        "games.loc[:, ['name', 'platform', 'year_of_release']].duplicated().sum()"
      ]
    },
    {
      "cell_type": "code",
      "execution_count": null,
      "metadata": {
        "scrolled": false,
        "id": "RY4bP7fXpGwG",
        "outputId": "6fb0a28f-4300-4d44-8a43-8c279e168492"
      },
      "outputs": [
        {
          "data": {
            "text/plain": [
              "name                              platform  year_of_release\n",
              "Madden NFL 13                     PS3       2012               2\n",
              " Beyblade Burst                   3DS       2016               1\n",
              "Ratatouille                       PC        2007               1\n",
              "Rapala Tournament Fishing!        X360      2006               1\n",
              "Rapala Trophies                   PSP       2006               1\n",
              "                                                              ..\n",
              "Halo Wars                         X360      2009               1\n",
              "Halo: Combat Evolved              PC        2003               1\n",
              "                                  XB        2001               1\n",
              "Halo: Combat Evolved Anniversary  X360      2011               1\n",
              "¡Shin Chan Flipa en colores!      DS        2007               1\n",
              "Length: 16443, dtype: int64"
            ]
          },
          "execution_count": 15,
          "metadata": {},
          "output_type": "execute_result"
        }
      ],
      "source": [
        "#найдём, какие значения повторяются в столбцах name, platform и year_of_release одновременно\n",
        "games.loc[:, ['name', 'platform', 'year_of_release']].value_counts()"
      ]
    },
    {
      "cell_type": "code",
      "execution_count": null,
      "metadata": {
        "id": "xTIg7gPLpGwJ",
        "outputId": "2c46649c-3049-4311-a695-f58394e0006d"
      },
      "outputs": [
        {
          "data": {
            "text/plain": [
              "0"
            ]
          },
          "execution_count": 16,
          "metadata": {},
          "output_type": "execute_result"
        }
      ],
      "source": [
        "#удалим повторяющиеся значения\n",
        "games = games.drop_duplicates(subset=['name', 'platform', 'year_of_release'], keep='last')\n",
        "#ещё раз найдём количество повторяющихся значений\n",
        "games.loc[:, ['name', 'platform', 'year_of_release']].duplicated().sum()"
      ]
    },
    {
      "cell_type": "markdown",
      "metadata": {
        "id": "hSoGozovpGwJ"
      },
      "source": [
        "**Вывод:**\n",
        "\n",
        "В ходе предобработки данных:\n",
        "\n",
        "1. наименования всех столбцов были приведены к нижнему регистру;\n",
        "\n",
        "2. типы данных столбца `year_of_release` были приведены к типу `int`, данные столбца `user_score` - к типу `float`, в последнем притом значение `tbd` было заменено пропуском значения;\n",
        "\n",
        "3. были удалены пропуски в столбцах `name`, `year_of_release` и `genre`;\n",
        "\n",
        "4. был добавлен столбец `total_sales` с данными о суммарных продажах каждой игры.\n",
        "\n",
        "5. были удалены строки, с повторяющимися значениями в столбцах `name`, `platform` и `year_of_release`."
      ]
    },
    {
      "cell_type": "markdown",
      "metadata": {
        "id": "ChREgwt9pGwK"
      },
      "source": [
        "### Исследовательский анализ данных"
      ]
    },
    {
      "cell_type": "markdown",
      "metadata": {
        "id": "I01xfzl8pGwK"
      },
      "source": [
        "#### Распределение выпущенных игр по годам"
      ]
    },
    {
      "cell_type": "code",
      "execution_count": null,
      "metadata": {
        "id": "nitjMSE-pGwK",
        "outputId": "c438f8db-b8f8-4918-f320-bf9744631226"
      },
      "outputs": [
        {
          "data": {
            "image/png": "[encoded data removed]",
            "text/plain": [
              "<Figure size 864x432 with 1 Axes>"
            ]
          },
          "metadata": {
            "needs_background": "light"
          },
          "output_type": "display_data"
        }
      ],
      "source": [
        "#построим диаграмму распределения количества выпущенных игр по годам\n",
        "games.pivot_table(index='year_of_release', values='name', aggfunc='count').plot(kind='bar', figsize=(12, 6), grid=True)\n",
        "plt.title('Количество выпущенных игр по годам')\n",
        "plt.xlabel('год')\n",
        "plt.ylabel('количество выпущенных игр')\n",
        "plt.legend('', frameon=False)\n",
        "plt.show()"
      ]
    },
    {
      "cell_type": "markdown",
      "metadata": {
        "id": "tu-euIMqpGwK"
      },
      "source": [
        "Из диаграммы видно, что наибольшее количество игр было выпущено в **2008** и **2009**, а также в **2010**, **2007** и **2011** годах.\n",
        "\n",
        "Кроме того, начиная с 2009 года количество выпущенных игр **снижалось**, за исключением незначительного роста в 2013-2015 годах."
      ]
    },
    {
      "cell_type": "markdown",
      "metadata": {
        "id": "wbYFaEN8pGwK"
      },
      "source": [
        "#### Распределение продаж по платформам"
      ]
    },
    {
      "cell_type": "code",
      "execution_count": null,
      "metadata": {
        "id": "PxuVP52lpGwK",
        "outputId": "5691f3e2-439e-4b22-8d6a-acc5fc38ad48"
      },
      "outputs": [
        {
          "data": {
            "image/png": "[encoded data removed]",
            "text/plain": [
              "<Figure size 864x432 with 1 Axes>"
            ]
          },
          "metadata": {
            "needs_background": "light"
          },
          "output_type": "display_data"
        }
      ],
      "source": [
        "#построим диаграмму распределения продаж игр по платформам\n",
        "(games.pivot_table(index='platform', values='total_sales', aggfunc='sum')\n",
        " .sort_values(by='total_sales', ascending=False)\n",
        " .plot(kind='bar', figsize=(12, 6), grid=True))\n",
        "plt.title('Продажи по платформам')\n",
        "plt.xlabel('платформа')\n",
        "plt.ylabel('продажи')\n",
        "plt.legend('', frameon=False)\n",
        "plt.show()"
      ]
    },
    {
      "cell_type": "markdown",
      "metadata": {
        "id": "elFRRBR-pGwL"
      },
      "source": [
        "Из диаграммы видно, что наибольшие продажи характерны для платформ **PS2**, **X360**, **Wii**, **PS3**, **DS** и **PS**."
      ]
    },
    {
      "cell_type": "markdown",
      "metadata": {
        "id": "S5bWEqlNpGwL"
      },
      "source": [
        "#### Распределение продаж на самых популярных платформах по годам"
      ]
    },
    {
      "cell_type": "code",
      "execution_count": null,
      "metadata": {
        "id": "KqZLCqJ3pGwL",
        "outputId": "d76ea50e-8cc3-4584-efa0-078167fae815"
      },
      "outputs": [
        {
          "data": {
            "image/png": "[encoded data removed]",
            "text/plain": [
              "<Figure size 864x432 with 1 Axes>"
            ]
          },
          "metadata": {
            "needs_background": "light"
          },
          "output_type": "display_data"
        }
      ],
      "source": [
        "#построим диаграмму распределения продаж на платформе PS2 по годам\n",
        "(games.loc[games['platform'] == \"PS2\"]\n",
        " .pivot_table(index='year_of_release', values='total_sales', aggfunc='sum')\n",
        " .plot(kind='bar', figsize=(12, 6), grid=True))\n",
        "plt.title('Продажи на платформе PS2 по годам')\n",
        "plt.xlabel('год')\n",
        "plt.ylabel('продажи')\n",
        "plt.legend('', frameon=False)\n",
        "plt.show()"
      ]
    },
    {
      "cell_type": "code",
      "execution_count": null,
      "metadata": {
        "id": "vK5ePNDYpGwL",
        "outputId": "e23fc998-2f73-443d-d685-90ccc5cfe9e4"
      },
      "outputs": [
        {
          "data": {
            "image/png": "[encoded data removed]",
            "text/plain": [
              "<Figure size 864x432 with 1 Axes>"
            ]
          },
          "metadata": {
            "needs_background": "light"
          },
          "output_type": "display_data"
        }
      ],
      "source": [
        "#построим диаграмму распределения продаж на платформе X360 по годам\n",
        "(games.loc[games['platform'] == \"X360\"]\n",
        " .pivot_table(index='year_of_release', values='total_sales', aggfunc='sum')\n",
        " .plot(kind='bar', figsize=(12, 6), grid=True))\n",
        "plt.title('Продажи на платформе X360 по годам')\n",
        "plt.xlabel('год')\n",
        "plt.ylabel('продажи')\n",
        "plt.legend('', frameon=False)\n",
        "plt.show()"
      ]
    },
    {
      "cell_type": "code",
      "execution_count": null,
      "metadata": {
        "id": "pki--eofpGwL",
        "outputId": "1ca34aa9-7db4-48ec-c0ca-cbec89194401"
      },
      "outputs": [
        {
          "data": {
            "image/png": "[encoded data removed]",
            "text/plain": [
              "<Figure size 864x432 with 1 Axes>"
            ]
          },
          "metadata": {
            "needs_background": "light"
          },
          "output_type": "display_data"
        }
      ],
      "source": [
        "#построим диаграмму распределения продаж на платформе Wii по годам\n",
        "(games.loc[games['platform'] == \"Wii\"]\n",
        " .pivot_table(index='year_of_release', values='total_sales', aggfunc='sum')\n",
        " .plot(kind='bar', figsize=(12, 6), grid=True))\n",
        "plt.title('Продажи на платформе Wii по годам')\n",
        "plt.xlabel('год')\n",
        "plt.ylabel('продажи')\n",
        "plt.legend('', frameon=False)\n",
        "plt.show()"
      ]
    },
    {
      "cell_type": "code",
      "execution_count": null,
      "metadata": {
        "id": "u7AfmM7zpGwL",
        "outputId": "b26c5fe8-7aab-4384-c716-89b63292212a"
      },
      "outputs": [
        {
          "data": {
            "image/png": "[encoded data removed]",
            "text/plain": [
              "<Figure size 864x432 with 1 Axes>"
            ]
          },
          "metadata": {
            "needs_background": "light"
          },
          "output_type": "display_data"
        }
      ],
      "source": [
        "#построим диаграмму распределения продаж на платформе PS3 по годам\n",
        "(games.loc[games['platform'] == \"PS3\"]\n",
        " .pivot_table(index='year_of_release', values='total_sales', aggfunc='sum')\n",
        " .plot(kind='bar', figsize=(12, 6), grid=True))\n",
        "plt.title('Продажи на платформе PS3 по годам')\n",
        "plt.xlabel('год')\n",
        "plt.ylabel('продажи')\n",
        "plt.legend('', frameon=False)\n",
        "plt.show()"
      ]
    },
    {
      "cell_type": "code",
      "execution_count": null,
      "metadata": {
        "id": "lkHiEd1zpGwL",
        "outputId": "fdfb9cbf-f82e-4577-c49c-e993ea6d7e47"
      },
      "outputs": [
        {
          "data": {
            "image/png": "[encoded data removed]",
            "text/plain": [
              "<Figure size 864x432 with 1 Axes>"
            ]
          },
          "metadata": {
            "needs_background": "light"
          },
          "output_type": "display_data"
        }
      ],
      "source": [
        "#построим диаграмму распределения продаж на платформе PS3 по годам\n",
        "(games.loc[games['platform'] == \"DS\"]\n",
        " .pivot_table(index='year_of_release', values='total_sales', aggfunc='sum')\n",
        " .plot(kind='bar', figsize=(12, 6), grid=True))\n",
        "plt.title('Продажи на платформе DS по годам')\n",
        "plt.xlabel('год')\n",
        "plt.ylabel('продажи')\n",
        "plt.legend('', frameon=False)\n",
        "plt.show()"
      ]
    },
    {
      "cell_type": "code",
      "execution_count": null,
      "metadata": {
        "id": "9wKz8zGcpGwM",
        "outputId": "7a972fd5-86ec-4c1b-9c34-8e7c4c36c828"
      },
      "outputs": [
        {
          "data": {
            "text/html": [
              "<div>\n",
              "<style scoped>\n",
              "    .dataframe tbody tr th:only-of-type {\n",
              "        vertical-align: middle;\n",
              "    }\n",
              "\n",
              "    .dataframe tbody tr th {\n",
              "        vertical-align: top;\n",
              "    }\n",
              "\n",
              "    .dataframe thead th {\n",
              "        text-align: right;\n",
              "    }\n",
              "</style>\n",
              "<table border=\"1\" class=\"dataframe\">\n",
              "  <thead>\n",
              "    <tr style=\"text-align: right;\">\n",
              "      <th></th>\n",
              "      <th>name</th>\n",
              "      <th>platform</th>\n",
              "      <th>year_of_release</th>\n",
              "      <th>genre</th>\n",
              "      <th>na_sales</th>\n",
              "      <th>eu_sales</th>\n",
              "      <th>jp_sales</th>\n",
              "      <th>other_sales</th>\n",
              "      <th>critic_score</th>\n",
              "      <th>user_score</th>\n",
              "      <th>rating</th>\n",
              "      <th>total_sales</th>\n",
              "    </tr>\n",
              "  </thead>\n",
              "  <tbody>\n",
              "    <tr>\n",
              "      <th>15704</th>\n",
              "      <td>Strongest Tokyo University Shogi DS</td>\n",
              "      <td>DS</td>\n",
              "      <td>1985</td>\n",
              "      <td>Action</td>\n",
              "      <td>0.0</td>\n",
              "      <td>0.0</td>\n",
              "      <td>0.02</td>\n",
              "      <td>0.0</td>\n",
              "      <td>NaN</td>\n",
              "      <td>NaN</td>\n",
              "      <td>NaN</td>\n",
              "      <td>0.02</td>\n",
              "    </tr>\n",
              "  </tbody>\n",
              "</table>\n",
              "</div>"
            ],
            "text/plain": [
              "                                      name platform  year_of_release   genre  \\\n",
              "15704  Strongest Tokyo University Shogi DS       DS             1985  Action   \n",
              "\n",
              "       na_sales  eu_sales  jp_sales  other_sales  critic_score  user_score  \\\n",
              "15704       0.0       0.0      0.02          0.0           NaN         NaN   \n",
              "\n",
              "      rating  total_sales  \n",
              "15704    NaN         0.02  "
            ]
          },
          "execution_count": 25,
          "metadata": {},
          "output_type": "execute_result"
        }
      ],
      "source": [
        "games.loc[(games['platform'] == 'DS') & (games['year_of_release'] == 1985)]"
      ]
    },
    {
      "cell_type": "code",
      "execution_count": null,
      "metadata": {
        "id": "wFDrn-GkpGwM",
        "outputId": "95110c2d-dbcf-4da5-96d1-70736fab8cd1"
      },
      "outputs": [
        {
          "data": {
            "image/png": "[encoded data removed]",
            "text/plain": [
              "<Figure size 864x432 with 1 Axes>"
            ]
          },
          "metadata": {
            "needs_background": "light"
          },
          "output_type": "display_data"
        }
      ],
      "source": [
        "#построим диаграмму распределения продаж на платформе PS3 по годам\n",
        "(games.loc[games['platform'] == \"PS\"]\n",
        " .pivot_table(index='year_of_release', values='total_sales', aggfunc='sum')\n",
        " .plot(kind='bar', figsize=(12, 6), grid=True))\n",
        "plt.title('Продажи на платформе PS по годам')\n",
        "plt.xlabel('год')\n",
        "plt.ylabel('продажи')\n",
        "plt.legend('', frameon=False)\n",
        "plt.show()"
      ]
    },
    {
      "cell_type": "markdown",
      "metadata": {
        "id": "HkwpEjBJpGwM"
      },
      "source": [
        "Из диаграмм распределения продаж на самых популярных платформах по годам видно, что характерный период от появления до исчезновения платформы составляет **9-11 лет**."
      ]
    },
    {
      "cell_type": "markdown",
      "metadata": {
        "id": "fMPxoNCWpGwM"
      },
      "source": [
        "#### Распределение продаж по платформам за актуальный период"
      ]
    },
    {
      "cell_type": "markdown",
      "metadata": {
        "id": "xOb0f95tpGwM"
      },
      "source": [
        "Для целей исследования следует использовать данные за **4 года**."
      ]
    },
    {
      "cell_type": "code",
      "execution_count": null,
      "metadata": {
        "id": "K0k-qM6zpGwN"
      },
      "outputs": [],
      "source": [
        "#создадим датафрейм с данными за актуальный период (с 2013 года)\n",
        "actual_term = games.query('year_of_release >= 2013')"
      ]
    },
    {
      "cell_type": "code",
      "execution_count": null,
      "metadata": {
        "id": "-0uEtqpipGwN",
        "outputId": "8b00330b-43c4-4cad-a0f6-c6244bd2fe4b"
      },
      "outputs": [
        {
          "data": {
            "image/png": "[encoded data removed]",
            "text/plain": [
              "<Figure size 864x432 with 1 Axes>"
            ]
          },
          "metadata": {
            "needs_background": "light"
          },
          "output_type": "display_data"
        }
      ],
      "source": [
        "#построим диаграмму распределения продаж игр по платформам за актуальный период\n",
        "(actual_term\n",
        " .pivot_table(index='platform', values='total_sales', aggfunc='sum')\n",
        " .sort_values(by='total_sales', ascending=False)\n",
        " .plot(kind='bar', figsize=(12, 6), grid=True))\n",
        "plt.title('Продажи по платформам')\n",
        "plt.xlabel('платформа')\n",
        "plt.ylabel('продажи')\n",
        "plt.legend('', frameon=False)\n",
        "plt.show()"
      ]
    },
    {
      "cell_type": "markdown",
      "metadata": {
        "id": "xdXx81TWpGwN"
      },
      "source": [
        "Из диаграммы видно, что наибольшие продажи *в актуальный период* характерны для платформ **PS4**, за ней с большим отрывом идут **PS3**, **XOne**, **3DS** и **X360**. При этом данные, полученные в **3.3 Распределение продаж на самых популярных платформах по годам**, свидетельствуют о том, что количество продаж игр на этих платформах **снижается**. Поэтому для построения прогноза на 2017 год следует обратиться к данным о других платформах."
      ]
    },
    {
      "cell_type": "code",
      "execution_count": null,
      "metadata": {
        "id": "6BoagV3GpGwN",
        "outputId": "e3310d98-2bba-4753-bf98-378af38e5d4a"
      },
      "outputs": [
        {
          "data": {
            "image/png": "[encoded data removed]",
            "text/plain": [
              "<Figure size 864x432 with 1 Axes>"
            ]
          },
          "metadata": {
            "needs_background": "light"
          },
          "output_type": "display_data"
        }
      ],
      "source": [
        "#построим диаграмму распределения продаж на платформе 3DS по годам в актуальный период\n",
        "(actual_term.loc[actual_term['platform'] == \"3DS\"]\n",
        " .pivot_table(index='year_of_release', values='total_sales', aggfunc='sum')\n",
        " .plot(kind='bar', figsize=(12, 6), grid=True))\n",
        "plt.title('Продажи на платформе 3DS по годам')\n",
        "plt.xlabel('год')\n",
        "plt.ylabel('продажи')\n",
        "plt.legend('', frameon=False)\n",
        "plt.show()"
      ]
    },
    {
      "cell_type": "code",
      "execution_count": null,
      "metadata": {
        "scrolled": false,
        "id": "nO29KliupGwO",
        "outputId": "c544f3fc-d5b9-4515-c7a1-9883d28b5fd9"
      },
      "outputs": [
        {
          "data": {
            "image/png": "[encoded data removed]",
            "text/plain": [
              "<Figure size 864x432 with 1 Axes>"
            ]
          },
          "metadata": {
            "needs_background": "light"
          },
          "output_type": "display_data"
        }
      ],
      "source": [
        "#построим диаграмму распределения продаж на платформе PC по годам в актуальный период\n",
        "(actual_term.loc[actual_term['platform'] == \"PC\"]\n",
        " .pivot_table(index='year_of_release', values='total_sales', aggfunc='sum')\n",
        " .plot(kind='bar', figsize=(12, 6), grid=True))\n",
        "plt.title('Продажи на платформе PC по годам')\n",
        "plt.xlabel('год')\n",
        "plt.ylabel('продажи')\n",
        "plt.legend('', frameon=False)\n",
        "plt.show()"
      ]
    },
    {
      "cell_type": "code",
      "execution_count": null,
      "metadata": {
        "id": "bQVDA1lxpGwO",
        "outputId": "6ad3980d-57b7-46f2-f343-3a17598cd2e9"
      },
      "outputs": [
        {
          "data": {
            "image/png": "[encoded data removed]",
            "text/plain": [
              "<Figure size 864x432 with 1 Axes>"
            ]
          },
          "metadata": {
            "needs_background": "light"
          },
          "output_type": "display_data"
        }
      ],
      "source": [
        "#построим диаграмму распределения продаж на платформе PS4 по годам в актуальный период\n",
        "(actual_term.loc[actual_term['platform'] == \"PS4\"]\n",
        " .pivot_table(index='year_of_release', values='total_sales', aggfunc='sum')\n",
        " .plot(kind='bar', figsize=(12, 6), grid=True))\n",
        "plt.title('Продажи на платформе PS4 по годам')\n",
        "plt.xlabel('год')\n",
        "plt.ylabel('продажи')\n",
        "plt.legend('', frameon=False)\n",
        "plt.show()"
      ]
    },
    {
      "cell_type": "code",
      "execution_count": null,
      "metadata": {
        "id": "SudtqIJspGwO",
        "outputId": "f2543e60-8257-4586-db52-a64b68b1de1d"
      },
      "outputs": [
        {
          "data": {
            "image/png": "[encoded data removed]",
            "text/plain": [
              "<Figure size 864x432 with 1 Axes>"
            ]
          },
          "metadata": {
            "needs_background": "light"
          },
          "output_type": "display_data"
        }
      ],
      "source": [
        "#построим диаграмму распределения продаж на платформе PSP по годам в актуальный период\n",
        "(actual_term.loc[actual_term['platform'] == \"PSP\"]\n",
        " .pivot_table(index='year_of_release', values='total_sales', aggfunc='sum')\n",
        " .plot(kind='bar', figsize=(12, 6), grid=True))\n",
        "plt.title('Продажи на платформе PSP по годам')\n",
        "plt.xlabel('год')\n",
        "plt.ylabel('продажи')\n",
        "plt.legend('', frameon=False)\n",
        "plt.show()"
      ]
    },
    {
      "cell_type": "code",
      "execution_count": null,
      "metadata": {
        "id": "WdmIwFwOpGwP",
        "outputId": "57aba2b5-ef81-4a0b-eabe-481fbdee3252"
      },
      "outputs": [
        {
          "data": {
            "image/png": "[encoded data removed]",
            "text/plain": [
              "<Figure size 864x432 with 1 Axes>"
            ]
          },
          "metadata": {
            "needs_background": "light"
          },
          "output_type": "display_data"
        }
      ],
      "source": [
        "#построим диаграмму распределения продаж на платформе WiiU по годам в актуальный период\n",
        "(actual_term.loc[actual_term['platform'] == \"WiiU\"]\n",
        " .pivot_table(index='year_of_release', values='total_sales', aggfunc='sum')\n",
        " .plot(kind='bar', figsize=(12, 6), grid=True))\n",
        "plt.title('Продажи на платформе WiiU по годам')\n",
        "plt.xlabel('год')\n",
        "plt.ylabel('продажи')\n",
        "plt.legend('', frameon=False)\n",
        "plt.show()"
      ]
    },
    {
      "cell_type": "code",
      "execution_count": null,
      "metadata": {
        "id": "yQ99juQ8pGwP",
        "outputId": "d70311f2-548e-4b68-8a25-7989b2cc3879"
      },
      "outputs": [
        {
          "data": {
            "image/png": "[encoded data removed]",
            "text/plain": [
              "<Figure size 864x432 with 1 Axes>"
            ]
          },
          "metadata": {
            "needs_background": "light"
          },
          "output_type": "display_data"
        }
      ],
      "source": [
        "#построим диаграмму распределения продаж на платформе XOne по годам в актуальный период\n",
        "(actual_term.loc[actual_term['platform'] == \"XOne\"]\n",
        " .pivot_table(index='year_of_release', values='total_sales', aggfunc='sum')\n",
        " .plot(kind='bar', figsize=(12, 6), grid=True))\n",
        "plt.title('Продажи на платформе XOne по годам')\n",
        "plt.xlabel('год')\n",
        "plt.ylabel('продажи')\n",
        "plt.legend('', frameon=False)\n",
        "plt.show()"
      ]
    },
    {
      "cell_type": "code",
      "execution_count": null,
      "metadata": {
        "id": "X4pE9R3UpGwP",
        "outputId": "a9dc042d-92f6-4feb-b7db-d369687a95d4"
      },
      "outputs": [
        {
          "data": {
            "image/png": "[encoded data removed]",
            "text/plain": [
              "<Figure size 864x432 with 1 Axes>"
            ]
          },
          "metadata": {
            "needs_background": "light"
          },
          "output_type": "display_data"
        }
      ],
      "source": [
        "#построим диаграмму распределения продаж на платформе PS3 по годам в актуальный период\n",
        "(actual_term.loc[actual_term['platform'] == \"PS3\"]\n",
        " .pivot_table(index='year_of_release', values='total_sales', aggfunc='sum')\n",
        " .plot(kind='bar', figsize=(12, 6), grid=True))\n",
        "plt.title('Продажи на платформе PS3 по годам')\n",
        "plt.xlabel('год')\n",
        "plt.ylabel('продажи')\n",
        "plt.legend('', frameon=False)\n",
        "plt.show()"
      ]
    },
    {
      "cell_type": "code",
      "execution_count": null,
      "metadata": {
        "id": "iq0RJmm7pGwP",
        "outputId": "e4d981b9-a42d-4662-bd15-ae2a59cc17f6"
      },
      "outputs": [
        {
          "data": {
            "image/png": "[encoded data removed]",
            "text/plain": [
              "<Figure size 864x432 with 1 Axes>"
            ]
          },
          "metadata": {
            "needs_background": "light"
          },
          "output_type": "display_data"
        }
      ],
      "source": [
        "#построим диаграмму распределения продаж на платформе X360 по годам в актуальный период\n",
        "(actual_term.loc[actual_term['platform'] == \"X360\"]\n",
        " .pivot_table(index='year_of_release', values='total_sales', aggfunc='sum')\n",
        " .plot(kind='bar', figsize=(12, 6), grid=True))\n",
        "plt.title('Продажи на платформе X360 по годам')\n",
        "plt.xlabel('год')\n",
        "plt.ylabel('продажи')\n",
        "plt.legend('', frameon=False)\n",
        "plt.show()"
      ]
    },
    {
      "cell_type": "code",
      "execution_count": null,
      "metadata": {
        "id": "mlzCHv_bpGwQ",
        "outputId": "eebf7ae4-956e-42c6-d8c3-9f86f4e3e335"
      },
      "outputs": [
        {
          "data": {
            "image/png": "[encoded data removed]",
            "text/plain": [
              "<Figure size 864x432 with 1 Axes>"
            ]
          },
          "metadata": {
            "needs_background": "light"
          },
          "output_type": "display_data"
        }
      ],
      "source": [
        "#построим диаграмму распределения продаж на платформе PSV по годам в актуальный период\n",
        "(actual_term.loc[actual_term['platform'] == \"PSV\"]\n",
        " .pivot_table(index='year_of_release', values='total_sales', aggfunc='sum')\n",
        " .plot(kind='bar', figsize=(12, 6), grid=True))\n",
        "plt.title('Продажи на платформе PSV по годам')\n",
        "plt.xlabel('год')\n",
        "plt.ylabel('продажи')\n",
        "plt.legend('', frameon=False)\n",
        "plt.show()"
      ]
    },
    {
      "cell_type": "code",
      "execution_count": null,
      "metadata": {
        "id": "CDHgL8qvpGwQ",
        "outputId": "d001444f-d2d8-445f-b4bb-e4b019c9dcc6"
      },
      "outputs": [
        {
          "data": {
            "image/png": "[encoded data removed]",
            "text/plain": [
              "<Figure size 864x432 with 1 Axes>"
            ]
          },
          "metadata": {
            "needs_background": "light"
          },
          "output_type": "display_data"
        }
      ],
      "source": [
        "#построим диаграмму распределения продаж на платформе Wii по годам в актуальный период\n",
        "(actual_term.loc[actual_term['platform'] == \"Wii\"]\n",
        " .pivot_table(index='year_of_release', values='total_sales', aggfunc='sum')\n",
        " .plot(kind='bar', figsize=(12, 6), grid=True))\n",
        "plt.title('Продажи на платформе Wii по годам')\n",
        "plt.xlabel('год')\n",
        "plt.ylabel('продажи')\n",
        "plt.legend('', frameon=False)\n",
        "plt.show()"
      ]
    },
    {
      "cell_type": "code",
      "execution_count": null,
      "metadata": {
        "id": "FRqpLyO9pGwQ",
        "outputId": "7ec4f8f3-a7e3-4f65-ad10-82a4bf3466a1"
      },
      "outputs": [
        {
          "data": {
            "image/png": "[encoded data removed]",
            "text/plain": [
              "<Figure size 864x432 with 1 Axes>"
            ]
          },
          "metadata": {
            "needs_background": "light"
          },
          "output_type": "display_data"
        }
      ],
      "source": [
        "#построим диаграмму распределения продаж на платформе DS по годам в актуальный период\n",
        "(actual_term.loc[actual_term['platform'] == \"DS\"]\n",
        " .pivot_table(index='year_of_release', values='total_sales', aggfunc='sum')\n",
        " .plot(kind='bar', figsize=(12, 6), grid=True))\n",
        "plt.title('Продажи на платформе DS по годам')\n",
        "plt.xlabel('год')\n",
        "plt.ylabel('продажи')\n",
        "plt.legend('', frameon=False)\n",
        "plt.show()"
      ]
    },
    {
      "cell_type": "markdown",
      "metadata": {
        "id": "ShXQ8xuSpGwQ"
      },
      "source": [
        "На основе полученных данных к *потенциально прибыльным платформам* можно отнести **PS4** и **XOne**, поскольку:\n",
        "\n",
        "1. общие продажи у этих платформ в актуальный период выше, чем у других,\n",
        "2. *характерный период существования* у этих платформ далёк от завершения,\n",
        "3. наблюдаемое падение продаж в 2016 году характерно для всех платформ и, скорее всего, свзяно с общим падением количества выпускаемых игр в последние годы (см. **3.1 Распределение выпущенных игр по годам**)."
      ]
    },
    {
      "cell_type": "markdown",
      "metadata": {
        "id": "q9CkJTYTpGwQ"
      },
      "source": [
        "#### Распределение глобальных продаж игр по платформам"
      ]
    },
    {
      "cell_type": "code",
      "execution_count": null,
      "metadata": {
        "id": "LS1_O7HMpGwR",
        "outputId": "5b49bbf5-bf33-4147-e68d-e6f022538136"
      },
      "outputs": [
        {
          "data": {
            "image/png": "[encoded data removed]",
            "text/plain": [
              "<Figure size 864x432 with 1 Axes>"
            ]
          },
          "metadata": {
            "needs_background": "light"
          },
          "output_type": "display_data"
        }
      ],
      "source": [
        "#построим диаграмму распределения продаж игр по платформам\n",
        "plt.figure(figsize=(12, 6))\n",
        "sns.boxplot(x='platform', y='total_sales', data=actual_term)\n",
        "plt.title('Распределение глобальных продаж по платформам')\n",
        "plt.xlabel('платформа')\n",
        "plt.ylabel('продажи')\n",
        "plt.show()"
      ]
    },
    {
      "cell_type": "code",
      "execution_count": null,
      "metadata": {
        "id": "r1kSx9rmpGwR",
        "outputId": "7be4fdf2-f755-4af6-ca31-05e72ba21bab"
      },
      "outputs": [
        {
          "data": {
            "image/png": "[encoded data removed]",
            "text/plain": [
              "<Figure size 864x432 with 1 Axes>"
            ]
          },
          "metadata": {
            "needs_background": "light"
          },
          "output_type": "display_data"
        }
      ],
      "source": [
        "#масштабируем диаграмму распределения продаж игр по платформам\n",
        "plt.figure(figsize=(12, 6))\n",
        "sns.boxplot(x='platform', y='total_sales', data=actual_term).set_ylim([0, 2])\n",
        "plt.title('Распределение глобальных продаж по платформам')\n",
        "plt.xlabel('платформа')\n",
        "plt.ylabel('продажи')\n",
        "plt.show()"
      ]
    },
    {
      "cell_type": "markdown",
      "metadata": {
        "id": "6jAwQkKTpGwR"
      },
      "source": [
        "У всех платформ медианный уровень продаж не превышает **0.25 млн копий**.\n",
        "\n",
        "Размах значений у платформ **PS3**, **X360**, **PS4**, **XOne**, **WiiU**, **Wii** достаточно большой, у остальных платформ он меньше.\n",
        "\n",
        "Размах значений у платформ **PS3**, **X360**, **PS4**, **3DS**, **XOne**, **PC** довльно много выбросов."
      ]
    },
    {
      "cell_type": "markdown",
      "metadata": {
        "id": "Bl-zSNimpGwR"
      },
      "source": [
        "#### Влияние отзывов на продажи внутри одной платформы"
      ]
    },
    {
      "cell_type": "code",
      "execution_count": null,
      "metadata": {
        "scrolled": false,
        "id": "0y29AAcrpGwS",
        "outputId": "1146f59e-b5f2-4354-8290-83d3ec2e8318"
      },
      "outputs": [
        {
          "data": {
            "text/plain": [
              "0.406567902061781"
            ]
          },
          "metadata": {},
          "output_type": "display_data"
        },
        {
          "data": {
            "image/png": "[encoded data removed]",
            "text/plain": [
              "<Figure size 864x432 with 1 Axes>"
            ]
          },
          "metadata": {
            "needs_background": "light"
          },
          "output_type": "display_data"
        }
      ],
      "source": [
        "#найдём корреляцию и построим диаграмму рассеяния для продаж и рейтинга критиков платформы PS4\n",
        "t1 = actual_term.query('platform == \"PS4\"')\n",
        "display(t1['total_sales'].corr(t1['critic_score']))\n",
        "t1.plot(x='total_sales', y='critic_score', figsize=(12, 6), kind='scatter')\n",
        "plt.title('Продажи и рейтинг критиков платформы PS4')\n",
        "plt.xlabel('продажи')\n",
        "plt.ylabel('рейтинг критиков')\n",
        "plt.legend('', frameon=False)\n",
        "plt.show()"
      ]
    },
    {
      "cell_type": "code",
      "execution_count": null,
      "metadata": {
        "scrolled": false,
        "id": "Y-3BqE_TpGwS",
        "outputId": "77658b50-ca8a-478b-a8ad-5e65f7a18c59"
      },
      "outputs": [
        {
          "data": {
            "text/plain": [
              "-0.031957110204556376"
            ]
          },
          "metadata": {},
          "output_type": "display_data"
        },
        {
          "data": {
            "image/png": "[encoded data removed]",
            "text/plain": [
              "<Figure size 864x432 with 1 Axes>"
            ]
          },
          "metadata": {
            "needs_background": "light"
          },
          "output_type": "display_data"
        }
      ],
      "source": [
        "#найдём корреляцию и построим диаграмму рассеяния для продаж и рейтинга пользователей платформы PS4\n",
        "display(t1['total_sales'].corr(t1['user_score']))\n",
        "t1.plot(x='total_sales', y='user_score', figsize=(12, 6), kind='scatter')\n",
        "plt.title('Продажи и рейтинг критиков платформы PS4')\n",
        "plt.xlabel('продажи')\n",
        "plt.ylabel('рейтинг пользователей')\n",
        "plt.legend('', frameon=False)\n",
        "plt.show()"
      ]
    },
    {
      "cell_type": "markdown",
      "metadata": {
        "id": "IYcHG4KmpGwT"
      },
      "source": [
        "Между уровнем продаж и рейтингом критиков существует *умеренная положительная связь*, а между уровнем продаж и рейтингом пользователей - *слабая отрицательная связь*. Это означает, что рейтинги критиков и пользователей **мало влияют на продажи**. Кроме того, рейтинг критиков больше способствет улучшению продаж, чем рейтинг пользователей."
      ]
    },
    {
      "cell_type": "markdown",
      "metadata": {
        "id": "PjG1F51MpGwT"
      },
      "source": [
        "#### Влияние отзывов на продажи по другим платформам"
      ]
    },
    {
      "cell_type": "markdown",
      "metadata": {
        "id": "8oTvCo0epGwT"
      },
      "source": [
        "##### PS3"
      ]
    },
    {
      "cell_type": "code",
      "execution_count": null,
      "metadata": {
        "scrolled": false,
        "id": "_IGD9lSApGwT",
        "outputId": "75de8029-1b20-4d1a-a947-eac5a9b4e2c6"
      },
      "outputs": [
        {
          "data": {
            "text/plain": [
              "0.3342853393371919"
            ]
          },
          "metadata": {},
          "output_type": "display_data"
        },
        {
          "data": {
            "image/png": "[encoded data removed]",
            "text/plain": [
              "<Figure size 864x432 with 1 Axes>"
            ]
          },
          "metadata": {
            "needs_background": "light"
          },
          "output_type": "display_data"
        }
      ],
      "source": [
        "#найдём корреляцию и построим диаграмму рассеяния для продаж и рейтинга критиков платформы PS3\n",
        "t1 = actual_term.query('platform == \"PS3\"')\n",
        "display(t1['total_sales'].corr(t1['critic_score']))\n",
        "t1.plot(x='total_sales', y='critic_score', figsize=(12, 6), kind='scatter')\n",
        "plt.title('Продажи и рейтинг критиков платформы PS3')\n",
        "plt.xlabel('продажи')\n",
        "plt.ylabel('рейтинг критиков')\n",
        "plt.legend('', frameon=False)\n",
        "plt.show()"
      ]
    },
    {
      "cell_type": "code",
      "execution_count": null,
      "metadata": {
        "id": "Vg26i4sBpGwT",
        "outputId": "61c41d47-5d89-44cc-9e0d-2e8a25037eee"
      },
      "outputs": [
        {
          "data": {
            "text/plain": [
              "0.0023944027357566925"
            ]
          },
          "metadata": {},
          "output_type": "display_data"
        },
        {
          "data": {
            "image/png": "[encoded data removed]",
            "text/plain": [
              "<Figure size 864x432 with 1 Axes>"
            ]
          },
          "metadata": {
            "needs_background": "light"
          },
          "output_type": "display_data"
        }
      ],
      "source": [
        "#найдём корреляцию и построим диаграмму рассеяния для продаж и рейтинга пользователей платформы PS3\n",
        "display(t1['total_sales'].corr(t1['user_score']))\n",
        "t1.plot(x='total_sales', y='user_score', figsize=(12, 6), kind='scatter')\n",
        "plt.title('Продажи и рейтинг критиков платформы PS3')\n",
        "plt.xlabel('продажи')\n",
        "plt.ylabel('рейтинг пользователей')\n",
        "plt.legend('', frameon=False)\n",
        "plt.show()"
      ]
    },
    {
      "cell_type": "markdown",
      "metadata": {
        "id": "buGndrx8pGwU"
      },
      "source": [
        "##### XOne"
      ]
    },
    {
      "cell_type": "code",
      "execution_count": null,
      "metadata": {
        "scrolled": false,
        "id": "sVAiWfnYpGwU",
        "outputId": "fd536a9a-0dce-4c1a-c8eb-5b89eee06ef9"
      },
      "outputs": [
        {
          "data": {
            "text/plain": [
              "0.41699832800840175"
            ]
          },
          "metadata": {},
          "output_type": "display_data"
        },
        {
          "data": {
            "image/png": "[encoded data removed]",
            "text/plain": [
              "<Figure size 864x432 with 1 Axes>"
            ]
          },
          "metadata": {
            "needs_background": "light"
          },
          "output_type": "display_data"
        }
      ],
      "source": [
        "#найдём корреляцию и построим диаграмму рассеяния для продаж и рейтинга критиков платформы XOne\n",
        "t1 = actual_term.query('platform == \"XOne\"')\n",
        "display(t1['total_sales'].corr(t1['critic_score']))\n",
        "t1.plot(x='total_sales', y='critic_score', figsize=(12, 6), kind='scatter')\n",
        "plt.title('Продажи и рейтинг критиков платформы XOne')\n",
        "plt.xlabel('продажи')\n",
        "plt.ylabel('рейтинг критиков')\n",
        "plt.legend('', frameon=False)\n",
        "plt.show()"
      ]
    },
    {
      "cell_type": "code",
      "execution_count": null,
      "metadata": {
        "scrolled": false,
        "id": "9Xu5uHc-pGwU",
        "outputId": "58c1884e-49f3-40e9-b64b-6b73023f3031"
      },
      "outputs": [
        {
          "data": {
            "text/plain": [
              "-0.06892505328279412"
            ]
          },
          "metadata": {},
          "output_type": "display_data"
        },
        {
          "data": {
            "image/png": "[encoded data removed]",
            "text/plain": [
              "<Figure size 864x432 with 1 Axes>"
            ]
          },
          "metadata": {
            "needs_background": "light"
          },
          "output_type": "display_data"
        }
      ],
      "source": [
        "#найдём корреляцию и построим диаграмму рассеяния для продаж и рейтинга пользователей платформы X360\n",
        "display(t1['total_sales'].corr(t1['user_score']))\n",
        "t1.plot(x='total_sales', y='user_score', figsize=(12, 6), kind='scatter')\n",
        "plt.title('Продажи и рейтинг критиков платформы X360')\n",
        "plt.xlabel('продажи')\n",
        "plt.ylabel('рейтинг пользователей')\n",
        "plt.legend('', frameon=False)\n",
        "plt.show()"
      ]
    },
    {
      "cell_type": "markdown",
      "metadata": {
        "id": "xfNxGnX6pGwU"
      },
      "source": [
        "##### 3DS"
      ]
    },
    {
      "cell_type": "code",
      "execution_count": null,
      "metadata": {
        "scrolled": false,
        "id": "23BgBDempGwU",
        "outputId": "88cdf5d9-dc7d-4258-bce0-4dc79a1e9ef4"
      },
      "outputs": [
        {
          "data": {
            "text/plain": [
              "0.35705661422881035"
            ]
          },
          "metadata": {},
          "output_type": "display_data"
        },
        {
          "data": {
            "image/png": "[encoded data removed]",
            "text/plain": [
              "<Figure size 864x432 with 1 Axes>"
            ]
          },
          "metadata": {
            "needs_background": "light"
          },
          "output_type": "display_data"
        }
      ],
      "source": [
        "#найдём корреляцию и построим диаграмму рассеяния для продаж и рейтинга критиков платформы 3DS\n",
        "t1 = actual_term.query('platform == \"3DS\"')\n",
        "display(t1['total_sales'].corr(t1['critic_score']))\n",
        "t1.plot(x='total_sales', y='critic_score', figsize=(12, 6), kind='scatter')\n",
        "plt.title('Продажи и рейтинг критиков платформы 3DS')\n",
        "plt.xlabel('продажи')\n",
        "plt.ylabel('рейтинг критиков')\n",
        "plt.legend('', frameon=False)\n",
        "plt.show()"
      ]
    },
    {
      "cell_type": "code",
      "execution_count": null,
      "metadata": {
        "id": "iko0xlflpGwU",
        "outputId": "f6d232d4-369a-4126-aa2c-25776fc84c82"
      },
      "outputs": [
        {
          "data": {
            "text/plain": [
              "0.24150411773563016"
            ]
          },
          "metadata": {},
          "output_type": "display_data"
        },
        {
          "data": {
            "image/png": "[encoded data removed]",
            "text/plain": [
              "<Figure size 864x432 with 1 Axes>"
            ]
          },
          "metadata": {
            "needs_background": "light"
          },
          "output_type": "display_data"
        }
      ],
      "source": [
        "#найдём корреляцию и построим диаграмму рассеяния для продаж и рейтинга пользователей платформы 3DS\n",
        "display(t1['total_sales'].corr(t1['user_score']))\n",
        "t1.plot(x='total_sales', y='user_score', figsize=(12, 6), kind='scatter')\n",
        "plt.title('Продажи и рейтинг критиков платформы 3DS')\n",
        "plt.xlabel('продажи')\n",
        "plt.ylabel('рейтинг пользователей')\n",
        "plt.legend('', frameon=False)\n",
        "plt.show()"
      ]
    },
    {
      "cell_type": "markdown",
      "metadata": {
        "id": "EbparHLipGwU"
      },
      "source": [
        "##### X360"
      ]
    },
    {
      "cell_type": "code",
      "execution_count": null,
      "metadata": {
        "scrolled": false,
        "id": "xa-9OJHmpGwU",
        "outputId": "568d78c2-80eb-4892-abe6-94e5f094514d"
      },
      "outputs": [
        {
          "data": {
            "text/plain": [
              "0.3503445460228664"
            ]
          },
          "metadata": {},
          "output_type": "display_data"
        },
        {
          "data": {
            "image/png": "[encoded data removed]",
            "text/plain": [
              "<Figure size 864x432 with 1 Axes>"
            ]
          },
          "metadata": {
            "needs_background": "light"
          },
          "output_type": "display_data"
        }
      ],
      "source": [
        "#найдём корреляцию и построим диаграмму рассеяния для продаж и рейтинга критиков платформы X360\n",
        "t1 = actual_term.query('platform == \"X360\"')\n",
        "display(t1['total_sales'].corr(t1['critic_score']))\n",
        "t1.plot(x='total_sales', y='critic_score', figsize=(12, 6), kind='scatter')\n",
        "plt.title('Продажи и рейтинг критиков платформы X360')\n",
        "plt.xlabel('продажи')\n",
        "plt.ylabel('рейтинг критиков')\n",
        "plt.legend('', frameon=False)\n",
        "plt.show()"
      ]
    },
    {
      "cell_type": "code",
      "execution_count": null,
      "metadata": {
        "id": "Nj88MOZlpGwV",
        "outputId": "fddabdeb-25f5-459d-fdae-b69bbac8f652"
      },
      "outputs": [
        {
          "data": {
            "text/plain": [
              "-0.011742185147181342"
            ]
          },
          "metadata": {},
          "output_type": "display_data"
        },
        {
          "data": {
            "image/png": "[encoded data removed]",
            "text/plain": [
              "<Figure size 864x432 with 1 Axes>"
            ]
          },
          "metadata": {
            "needs_background": "light"
          },
          "output_type": "display_data"
        }
      ],
      "source": [
        "#найдём корреляцию и построим диаграмму рассеяния для продаж и рейтинга пользователей платформы X360\n",
        "display(t1['total_sales'].corr(t1['user_score']))\n",
        "t1.plot(x='total_sales', y='user_score', figsize=(12, 6), kind='scatter')\n",
        "plt.title('Продажи и рейтинг критиков платформы X360')\n",
        "plt.xlabel('продажи')\n",
        "plt.ylabel('рейтинг пользователей')\n",
        "plt.legend('', frameon=False)\n",
        "plt.show()"
      ]
    },
    {
      "cell_type": "markdown",
      "metadata": {
        "id": "lOx6toiBpGwV"
      },
      "source": [
        "Во всех случаях между уровнем продаж и рейтингом критиков, а также между уровнем продаж и рейтингом пользователей существует *слабая положительная*, *умеренная положительная*, либо *слабая отрицательная связь*. Это означает соответствует выводам, полученным в **3.6 Влияние отзывов на продажи внутри одной платформы**."
      ]
    },
    {
      "cell_type": "markdown",
      "metadata": {
        "id": "mn-IM3uxpGwV"
      },
      "source": [
        "#### Прибыльность жанров"
      ]
    },
    {
      "cell_type": "code",
      "execution_count": null,
      "metadata": {
        "id": "i6M1gkB2pGwV",
        "outputId": "0a3331f7-d567-4536-be48-233b5940f693"
      },
      "outputs": [
        {
          "data": {
            "image/png": "[encoded data removed]",
            "text/plain": [
              "<Figure size 864x432 with 1 Axes>"
            ]
          },
          "metadata": {
            "needs_background": "light"
          },
          "output_type": "display_data"
        }
      ],
      "source": [
        "#построим диаграмму распределения продаж игр по жанрам\n",
        "#(games.pivot_table(index='genre', values='total_sales', aggfunc='sum')\n",
        "(actual_term.pivot_table(index='genre', values='total_sales', aggfunc='sum')\n",
        " .sort_values(by='total_sales', ascending=False)\n",
        " .plot(kind='bar', figsize=(12, 6), grid=True))\n",
        "plt.title('Продажи игр по жанрам')\n",
        "plt.xlabel('жанр')\n",
        "plt.ylabel('продажи')\n",
        "plt.legend('', frameon=False)\n",
        "plt.show()"
      ]
    },
    {
      "cell_type": "markdown",
      "metadata": {
        "id": "fy22TgzCpGwV"
      },
      "source": [
        "Жанрами с наиболее высокими продажами являются **Action**, **Shooter**, **Sports** и **Role-Playing**; с наименее высокими - **Puzzle**, **Strategy**, **Simulation** и **Adventure**."
      ]
    },
    {
      "cell_type": "code",
      "execution_count": null,
      "metadata": {
        "id": "dcfK-pFkpGwW",
        "outputId": "c0e8daf9-3e8d-4455-9f50-1e2f82ab194a"
      },
      "outputs": [
        {
          "data": {
            "image/png": "[encoded data removed]",
            "text/plain": [
              "<Figure size 864x432 with 1 Axes>"
            ]
          },
          "metadata": {
            "needs_background": "light"
          },
          "output_type": "display_data"
        }
      ],
      "source": [
        "#построим диаграмму распределения продаж игр по жанрам\n",
        "plt.figure(figsize=(12, 6))\n",
        "sns.boxplot(x='genre', y='total_sales', data=actual_term)\n",
        "plt.title('Распределение продаж по жанрам')\n",
        "plt.xlabel('жанр')\n",
        "plt.ylabel('продажи')\n",
        "plt.show()"
      ]
    },
    {
      "cell_type": "code",
      "execution_count": null,
      "metadata": {
        "id": "1KU2KxCEpGwW",
        "outputId": "26c3639e-da7f-404c-ff4a-d76293495f4f"
      },
      "outputs": [
        {
          "data": {
            "image/png": "[encoded data removed]",
            "text/plain": [
              "<Figure size 864x432 with 1 Axes>"
            ]
          },
          "metadata": {
            "needs_background": "light"
          },
          "output_type": "display_data"
        }
      ],
      "source": [
        "#масштабируем диаграмму распределения продаж игр по жанрам\n",
        "plt.figure(figsize=(12, 6))\n",
        "sns.boxplot(x='genre', y='total_sales', data=actual_term).set_ylim([0, 4])\n",
        "plt.title('Распределение продаж по жанрам')\n",
        "plt.xlabel('жанр')\n",
        "plt.ylabel('продажи')\n",
        "plt.show()"
      ]
    },
    {
      "cell_type": "markdown",
      "metadata": {
        "id": "Jbc9u3EjpGwW"
      },
      "source": [
        "Жанрами с наибольшими медианными продажами являются **Shooter**, **Sports** и **Platform**. Таким образом, можно заключить, что игры этих жанров являются самыми прибыльными."
      ]
    },
    {
      "cell_type": "markdown",
      "metadata": {
        "id": "rxYc_jCapGwW"
      },
      "source": [
        "### Портрет пользователя по каждому региону"
      ]
    },
    {
      "cell_type": "markdown",
      "metadata": {
        "id": "u8P1i7UHpGwW"
      },
      "source": [
        "#### Северная Америка"
      ]
    },
    {
      "cell_type": "markdown",
      "metadata": {
        "id": "4sU8DeKApGwW"
      },
      "source": [
        "##### Наиболее популярные платформы"
      ]
    },
    {
      "cell_type": "code",
      "execution_count": null,
      "metadata": {
        "id": "x_zMduRGpGwW",
        "outputId": "299c4838-7a43-4b7a-bba4-405d9ddb9bc4"
      },
      "outputs": [
        {
          "data": {
            "text/html": [
              "<div>\n",
              "<style scoped>\n",
              "    .dataframe tbody tr th:only-of-type {\n",
              "        vertical-align: middle;\n",
              "    }\n",
              "\n",
              "    .dataframe tbody tr th {\n",
              "        vertical-align: top;\n",
              "    }\n",
              "\n",
              "    .dataframe thead th {\n",
              "        text-align: right;\n",
              "    }\n",
              "</style>\n",
              "<table border=\"1\" class=\"dataframe\">\n",
              "  <thead>\n",
              "    <tr style=\"text-align: right;\">\n",
              "      <th></th>\n",
              "      <th>na_sales</th>\n",
              "    </tr>\n",
              "    <tr>\n",
              "      <th>platform</th>\n",
              "      <th></th>\n",
              "    </tr>\n",
              "  </thead>\n",
              "  <tbody>\n",
              "    <tr>\n",
              "      <th>PS4</th>\n",
              "      <td>108.74</td>\n",
              "    </tr>\n",
              "    <tr>\n",
              "      <th>XOne</th>\n",
              "      <td>93.12</td>\n",
              "    </tr>\n",
              "    <tr>\n",
              "      <th>X360</th>\n",
              "      <td>81.66</td>\n",
              "    </tr>\n",
              "    <tr>\n",
              "      <th>PS3</th>\n",
              "      <td>63.50</td>\n",
              "    </tr>\n",
              "    <tr>\n",
              "      <th>3DS</th>\n",
              "      <td>38.20</td>\n",
              "    </tr>\n",
              "  </tbody>\n",
              "</table>\n",
              "</div>"
            ],
            "text/plain": [
              "          na_sales\n",
              "platform          \n",
              "PS4         108.74\n",
              "XOne         93.12\n",
              "X360         81.66\n",
              "PS3          63.50\n",
              "3DS          38.20"
            ]
          },
          "execution_count": 64,
          "metadata": {},
          "output_type": "execute_result"
        }
      ],
      "source": [
        "#построим диаграмму распределения продаж игр по платформам в Северной Америке\n",
        "actual_term.pivot_table(index='platform', values='na_sales', aggfunc='sum').sort_values(by='na_sales', ascending=False).head(5)"
      ]
    },
    {
      "cell_type": "code",
      "execution_count": null,
      "metadata": {
        "id": "_S54biimpGwX",
        "outputId": "f9fa40b8-eadf-45d7-aea7-1a2be0e0d6ca"
      },
      "outputs": [
        {
          "data": {
            "image/png": "[encoded data removed]",
            "text/plain": [
              "<Figure size 864x432 with 1 Axes>"
            ]
          },
          "metadata": {
            "needs_background": "light"
          },
          "output_type": "display_data"
        }
      ],
      "source": [
        "#построим диаграмму распределения продаж игр по платформам в Северной Америке\n",
        "(actual_term\n",
        " .pivot_table(index='platform', values='na_sales', aggfunc='sum')\n",
        " .sort_values(by='na_sales', ascending=False)\n",
        " .plot(kind='bar', figsize=(12, 6), grid=True))\n",
        "plt.title('Продажи по платформам в Северной Америке')\n",
        "plt.xlabel('платформа')\n",
        "plt.ylabel('продажи')\n",
        "plt.legend('', frameon=False)\n",
        "plt.show()"
      ]
    },
    {
      "cell_type": "markdown",
      "metadata": {
        "id": "-hoJvNFKpGwX"
      },
      "source": [
        "##### Наиболее популярные жанры"
      ]
    },
    {
      "cell_type": "code",
      "execution_count": null,
      "metadata": {
        "id": "dFxsTfpWpGwX",
        "outputId": "cc694bfd-aaa0-4928-ad00-239baac9aa1c"
      },
      "outputs": [
        {
          "data": {
            "text/html": [
              "<div>\n",
              "<style scoped>\n",
              "    .dataframe tbody tr th:only-of-type {\n",
              "        vertical-align: middle;\n",
              "    }\n",
              "\n",
              "    .dataframe tbody tr th {\n",
              "        vertical-align: top;\n",
              "    }\n",
              "\n",
              "    .dataframe thead th {\n",
              "        text-align: right;\n",
              "    }\n",
              "</style>\n",
              "<table border=\"1\" class=\"dataframe\">\n",
              "  <thead>\n",
              "    <tr style=\"text-align: right;\">\n",
              "      <th></th>\n",
              "      <th>na_sales</th>\n",
              "    </tr>\n",
              "    <tr>\n",
              "      <th>genre</th>\n",
              "      <th></th>\n",
              "    </tr>\n",
              "  </thead>\n",
              "  <tbody>\n",
              "    <tr>\n",
              "      <th>Action</th>\n",
              "      <td>126.05</td>\n",
              "    </tr>\n",
              "    <tr>\n",
              "      <th>Shooter</th>\n",
              "      <td>109.74</td>\n",
              "    </tr>\n",
              "    <tr>\n",
              "      <th>Sports</th>\n",
              "      <td>65.27</td>\n",
              "    </tr>\n",
              "    <tr>\n",
              "      <th>Role-Playing</th>\n",
              "      <td>46.40</td>\n",
              "    </tr>\n",
              "    <tr>\n",
              "      <th>Misc</th>\n",
              "      <td>27.49</td>\n",
              "    </tr>\n",
              "  </tbody>\n",
              "</table>\n",
              "</div>"
            ],
            "text/plain": [
              "              na_sales\n",
              "genre                 \n",
              "Action          126.05\n",
              "Shooter         109.74\n",
              "Sports           65.27\n",
              "Role-Playing     46.40\n",
              "Misc             27.49"
            ]
          },
          "execution_count": 66,
          "metadata": {},
          "output_type": "execute_result"
        }
      ],
      "source": [
        "#построим диаграмму распределения продаж игр по жанрам в Северной Америке\n",
        "actual_term.pivot_table(index='genre', values='na_sales', aggfunc='sum').sort_values(by='na_sales', ascending=False).head(5)"
      ]
    },
    {
      "cell_type": "code",
      "execution_count": null,
      "metadata": {
        "id": "w6_oCOrMpGwX",
        "outputId": "0f360512-d673-4399-8407-206a49777ae1"
      },
      "outputs": [
        {
          "data": {
            "image/png": "[encoded data removed]",
            "text/plain": [
              "<Figure size 864x432 with 1 Axes>"
            ]
          },
          "metadata": {
            "needs_background": "light"
          },
          "output_type": "display_data"
        }
      ],
      "source": [
        "#построим диаграмму распределения продаж игр по жанрам в Северной Америке\n",
        "(actual_term\n",
        " .pivot_table(index='genre', values='na_sales', aggfunc='sum')\n",
        " .sort_values(by='na_sales', ascending=False)\n",
        " .plot(kind='bar', figsize=(12, 6), grid=True))\n",
        "plt.title('Продажи по жанрам в Северной Америке')\n",
        "plt.xlabel('жанр')\n",
        "plt.ylabel('продажи')\n",
        "plt.legend('', frameon=False)\n",
        "plt.show()"
      ]
    },
    {
      "cell_type": "markdown",
      "metadata": {
        "id": "ugy2Jl2hpGwX"
      },
      "source": [
        "##### Влияние рейтинга ESRB"
      ]
    },
    {
      "cell_type": "code",
      "execution_count": null,
      "metadata": {
        "id": "6KQBpb9OpGwX",
        "outputId": "cd537065-fb07-4a48-f80c-40f7dab1d924"
      },
      "outputs": [
        {
          "data": {
            "image/png": "[encoded data removed]",
            "text/plain": [
              "<Figure size 864x432 with 1 Axes>"
            ]
          },
          "metadata": {
            "needs_background": "light"
          },
          "output_type": "display_data"
        }
      ],
      "source": [
        "#построим диаграмму распределения продаж игр по рейтингу в Северной Америке\n",
        "(actual_term\n",
        " .pivot_table(index='rating', values='na_sales', aggfunc='sum')\n",
        " .plot(kind='bar', figsize=(12, 6), grid=True))\n",
        "plt.title('Продажи по рейтингу в Северной Америке')\n",
        "plt.xlabel('рейтинг')\n",
        "plt.ylabel('продажи')\n",
        "plt.legend('', frameon=False)\n",
        "plt.show()"
      ]
    },
    {
      "cell_type": "markdown",
      "metadata": {
        "id": "maZrVApSpGwY"
      },
      "source": [
        "**Портрет пользователя из Северной Америки:**\n",
        "\n",
        "1. наиболее популярные платформы - **PS4**, **XOne**, **X360**, **PS3**, **3DS**;\n",
        "\n",
        "2. наиболее популярные жанры - **Action**, **Shooter**, **Sports**, **Role-Playing**, **Misc**;\n",
        "\n",
        "3. больше всего продаются игры с рейтингом **M** (для старших подростков) и **E** (для всех возрастов)."
      ]
    },
    {
      "cell_type": "markdown",
      "metadata": {
        "id": "VZVNDZYQpGwY"
      },
      "source": [
        "#### Европа"
      ]
    },
    {
      "cell_type": "markdown",
      "metadata": {
        "id": "8dq4auQ-pGwY"
      },
      "source": [
        "##### Наиболее популярные платформы"
      ]
    },
    {
      "cell_type": "code",
      "execution_count": null,
      "metadata": {
        "id": "aPcwjvNKpGwY",
        "outputId": "d2030def-b395-44c8-f973-710744ef02ed"
      },
      "outputs": [
        {
          "data": {
            "text/html": [
              "<div>\n",
              "<style scoped>\n",
              "    .dataframe tbody tr th:only-of-type {\n",
              "        vertical-align: middle;\n",
              "    }\n",
              "\n",
              "    .dataframe tbody tr th {\n",
              "        vertical-align: top;\n",
              "    }\n",
              "\n",
              "    .dataframe thead th {\n",
              "        text-align: right;\n",
              "    }\n",
              "</style>\n",
              "<table border=\"1\" class=\"dataframe\">\n",
              "  <thead>\n",
              "    <tr style=\"text-align: right;\">\n",
              "      <th></th>\n",
              "      <th>eu_sales</th>\n",
              "    </tr>\n",
              "    <tr>\n",
              "      <th>platform</th>\n",
              "      <th></th>\n",
              "    </tr>\n",
              "  </thead>\n",
              "  <tbody>\n",
              "    <tr>\n",
              "      <th>PS4</th>\n",
              "      <td>141.09</td>\n",
              "    </tr>\n",
              "    <tr>\n",
              "      <th>PS3</th>\n",
              "      <td>67.81</td>\n",
              "    </tr>\n",
              "    <tr>\n",
              "      <th>XOne</th>\n",
              "      <td>51.59</td>\n",
              "    </tr>\n",
              "    <tr>\n",
              "      <th>X360</th>\n",
              "      <td>42.52</td>\n",
              "    </tr>\n",
              "    <tr>\n",
              "      <th>3DS</th>\n",
              "      <td>30.96</td>\n",
              "    </tr>\n",
              "  </tbody>\n",
              "</table>\n",
              "</div>"
            ],
            "text/plain": [
              "          eu_sales\n",
              "platform          \n",
              "PS4         141.09\n",
              "PS3          67.81\n",
              "XOne         51.59\n",
              "X360         42.52\n",
              "3DS          30.96"
            ]
          },
          "execution_count": 69,
          "metadata": {},
          "output_type": "execute_result"
        }
      ],
      "source": [
        "#построим диаграмму распределения продаж игр по платформам в Европе\n",
        "actual_term.pivot_table(index='platform', values='eu_sales', aggfunc='sum').sort_values(by='eu_sales', ascending=False).head(5)"
      ]
    },
    {
      "cell_type": "code",
      "execution_count": null,
      "metadata": {
        "id": "SmuACU5-pGwY",
        "outputId": "af44e0b4-05d4-4af5-f873-2c4e391163d5"
      },
      "outputs": [
        {
          "data": {
            "image/png": "[encoded data removed]",
            "text/plain": [
              "<Figure size 864x432 with 1 Axes>"
            ]
          },
          "metadata": {
            "needs_background": "light"
          },
          "output_type": "display_data"
        }
      ],
      "source": [
        "#построим диаграмму распределения продаж игр по платформам в Европе\n",
        "(actual_term\n",
        " .pivot_table(index='platform', values='eu_sales', aggfunc='sum')\n",
        " .sort_values(by='eu_sales', ascending=False)\n",
        " .plot(kind='bar', figsize=(12, 6), grid=True))\n",
        "plt.title('Продажи по платформам в Европе')\n",
        "plt.xlabel('платформа')\n",
        "plt.ylabel('продажи')\n",
        "plt.legend('', frameon=False)\n",
        "plt.show()"
      ]
    },
    {
      "cell_type": "markdown",
      "metadata": {
        "id": "Qcq3aGzkpGwZ"
      },
      "source": [
        "##### Наиболее популярные жанры"
      ]
    },
    {
      "cell_type": "code",
      "execution_count": null,
      "metadata": {
        "id": "x4rypfylpGwZ",
        "outputId": "2cd6cfac-25d9-4e76-e0f0-7620ce80ddbc"
      },
      "outputs": [
        {
          "data": {
            "text/html": [
              "<div>\n",
              "<style scoped>\n",
              "    .dataframe tbody tr th:only-of-type {\n",
              "        vertical-align: middle;\n",
              "    }\n",
              "\n",
              "    .dataframe tbody tr th {\n",
              "        vertical-align: top;\n",
              "    }\n",
              "\n",
              "    .dataframe thead th {\n",
              "        text-align: right;\n",
              "    }\n",
              "</style>\n",
              "<table border=\"1\" class=\"dataframe\">\n",
              "  <thead>\n",
              "    <tr style=\"text-align: right;\">\n",
              "      <th></th>\n",
              "      <th>eu_sales</th>\n",
              "    </tr>\n",
              "    <tr>\n",
              "      <th>genre</th>\n",
              "      <th></th>\n",
              "    </tr>\n",
              "  </thead>\n",
              "  <tbody>\n",
              "    <tr>\n",
              "      <th>Action</th>\n",
              "      <td>118.13</td>\n",
              "    </tr>\n",
              "    <tr>\n",
              "      <th>Shooter</th>\n",
              "      <td>87.86</td>\n",
              "    </tr>\n",
              "    <tr>\n",
              "      <th>Sports</th>\n",
              "      <td>60.52</td>\n",
              "    </tr>\n",
              "    <tr>\n",
              "      <th>Role-Playing</th>\n",
              "      <td>36.97</td>\n",
              "    </tr>\n",
              "    <tr>\n",
              "      <th>Racing</th>\n",
              "      <td>20.19</td>\n",
              "    </tr>\n",
              "  </tbody>\n",
              "</table>\n",
              "</div>"
            ],
            "text/plain": [
              "              eu_sales\n",
              "genre                 \n",
              "Action          118.13\n",
              "Shooter          87.86\n",
              "Sports           60.52\n",
              "Role-Playing     36.97\n",
              "Racing           20.19"
            ]
          },
          "execution_count": 71,
          "metadata": {},
          "output_type": "execute_result"
        }
      ],
      "source": [
        "#построим диаграмму распределения продаж игр по жанрам в Европе\n",
        "actual_term.pivot_table(index='genre', values='eu_sales', aggfunc='sum').sort_values(by='eu_sales', ascending=False).head(5)"
      ]
    },
    {
      "cell_type": "code",
      "execution_count": null,
      "metadata": {
        "id": "Pee6TkUgpGwZ",
        "outputId": "9aaaf444-7f90-48b1-f807-1b94fbdead12"
      },
      "outputs": [
        {
          "data": {
            "image/png": "[encoded data removed]",
            "text/plain": [
              "<Figure size 864x432 with 1 Axes>"
            ]
          },
          "metadata": {
            "needs_background": "light"
          },
          "output_type": "display_data"
        }
      ],
      "source": [
        "#построим диаграмму распределения продаж игр по жанрам в Европе\n",
        "(actual_term\n",
        " .pivot_table(index='genre', values='eu_sales', aggfunc='sum')\n",
        " .sort_values(by='eu_sales', ascending=False)\n",
        " .plot(kind='bar', figsize=(12, 6), grid=True))\n",
        "plt.title('Продажи по жанрам в Европе')\n",
        "plt.xlabel('жанр')\n",
        "plt.ylabel('продажи')\n",
        "plt.legend('', frameon=False)\n",
        "plt.show()"
      ]
    },
    {
      "cell_type": "markdown",
      "metadata": {
        "id": "kSNzk5bgpGwZ"
      },
      "source": [
        "##### Влияние рейтинга ESRB"
      ]
    },
    {
      "cell_type": "code",
      "execution_count": null,
      "metadata": {
        "id": "FP2yjTjRpGwZ",
        "outputId": "d1dad034-35c6-4b41-84b1-8e60343ce3a4"
      },
      "outputs": [
        {
          "data": {
            "image/png": "[encoded data removed]",
            "text/plain": [
              "<Figure size 864x432 with 1 Axes>"
            ]
          },
          "metadata": {
            "needs_background": "light"
          },
          "output_type": "display_data"
        }
      ],
      "source": [
        "#построим диаграмму распределения продаж игр по рейтингу в Европе\n",
        "(actual_term\n",
        " .pivot_table(index='rating', values='eu_sales', aggfunc='sum')\n",
        " .plot(kind='bar', figsize=(12, 6), grid=True))\n",
        "plt.title('Продажи по рейтингу в Европе')\n",
        "plt.xlabel('рейтинг')\n",
        "plt.ylabel('продажи')\n",
        "plt.legend('', frameon=False)\n",
        "plt.show()"
      ]
    },
    {
      "cell_type": "markdown",
      "metadata": {
        "id": "En1tckHypGwZ"
      },
      "source": [
        "**Портрет пользователя из Европы:**\n",
        "\n",
        "1. наиболее популярные платформы - **PS4**, **PS3**, **XOne**, **X360**, **3DS**;\n",
        "\n",
        "2. наиболее популярные жанры - **Action**, **Shooter**, **Sports**, **Role-Playing**, **Racing**;\n",
        "\n",
        "3. больше всего продаются игры с рейтингом **M** (для старших подростков) и **E** (для всех возрастов)."
      ]
    },
    {
      "cell_type": "markdown",
      "metadata": {
        "id": "5WnVo-HSpGwa"
      },
      "source": [
        "#### Япония"
      ]
    },
    {
      "cell_type": "markdown",
      "metadata": {
        "id": "2LbPtCJCpGwa"
      },
      "source": [
        "##### Наиболее популярные платформы"
      ]
    },
    {
      "cell_type": "code",
      "execution_count": null,
      "metadata": {
        "scrolled": true,
        "id": "ySzAn5slpGwa",
        "outputId": "6cbae1a9-bf52-49f5-dd11-872414009755"
      },
      "outputs": [
        {
          "data": {
            "text/html": [
              "<div>\n",
              "<style scoped>\n",
              "    .dataframe tbody tr th:only-of-type {\n",
              "        vertical-align: middle;\n",
              "    }\n",
              "\n",
              "    .dataframe tbody tr th {\n",
              "        vertical-align: top;\n",
              "    }\n",
              "\n",
              "    .dataframe thead th {\n",
              "        text-align: right;\n",
              "    }\n",
              "</style>\n",
              "<table border=\"1\" class=\"dataframe\">\n",
              "  <thead>\n",
              "    <tr style=\"text-align: right;\">\n",
              "      <th></th>\n",
              "      <th>jp_sales</th>\n",
              "    </tr>\n",
              "    <tr>\n",
              "      <th>platform</th>\n",
              "      <th></th>\n",
              "    </tr>\n",
              "  </thead>\n",
              "  <tbody>\n",
              "    <tr>\n",
              "      <th>3DS</th>\n",
              "      <td>67.81</td>\n",
              "    </tr>\n",
              "    <tr>\n",
              "      <th>PS3</th>\n",
              "      <td>23.35</td>\n",
              "    </tr>\n",
              "    <tr>\n",
              "      <th>PSV</th>\n",
              "      <td>18.59</td>\n",
              "    </tr>\n",
              "    <tr>\n",
              "      <th>PS4</th>\n",
              "      <td>15.96</td>\n",
              "    </tr>\n",
              "    <tr>\n",
              "      <th>WiiU</th>\n",
              "      <td>10.88</td>\n",
              "    </tr>\n",
              "  </tbody>\n",
              "</table>\n",
              "</div>"
            ],
            "text/plain": [
              "          jp_sales\n",
              "platform          \n",
              "3DS          67.81\n",
              "PS3          23.35\n",
              "PSV          18.59\n",
              "PS4          15.96\n",
              "WiiU         10.88"
            ]
          },
          "execution_count": 74,
          "metadata": {},
          "output_type": "execute_result"
        }
      ],
      "source": [
        "#построим диаграмму распределения продаж игр по платформам в Японии\n",
        "actual_term.pivot_table(index='platform', values='jp_sales', aggfunc='sum').sort_values(by='jp_sales', ascending=False).head(5)"
      ]
    },
    {
      "cell_type": "code",
      "execution_count": null,
      "metadata": {
        "id": "7lw-VzuYpGwa",
        "outputId": "eece0171-c75f-41d5-8935-84ef06014421"
      },
      "outputs": [
        {
          "data": {
            "image/png": "[encoded data removed]",
            "text/plain": [
              "<Figure size 864x432 with 1 Axes>"
            ]
          },
          "metadata": {
            "needs_background": "light"
          },
          "output_type": "display_data"
        }
      ],
      "source": [
        "#построим диаграмму распределения продаж игр по платформам в Японии\n",
        "(actual_term\n",
        " .pivot_table(index='platform', values='jp_sales', aggfunc='sum')\n",
        " .sort_values(by='jp_sales', ascending=False)\n",
        " .plot(kind='bar', figsize=(12, 6), grid=True))\n",
        "plt.title('Продажи по платформам в Японии')\n",
        "plt.xlabel('платформа')\n",
        "plt.ylabel('продажи')\n",
        "plt.legend('', frameon=False)\n",
        "plt.show()"
      ]
    },
    {
      "cell_type": "markdown",
      "metadata": {
        "id": "4ZeUE4hIpGwe"
      },
      "source": [
        "##### Наиболее популярные жанры"
      ]
    },
    {
      "cell_type": "code",
      "execution_count": null,
      "metadata": {
        "scrolled": true,
        "id": "Zn5KkUebpGwe",
        "outputId": "d2b6ad12-dd44-42f1-c0da-2b44a5e2462b"
      },
      "outputs": [
        {
          "data": {
            "text/html": [
              "<div>\n",
              "<style scoped>\n",
              "    .dataframe tbody tr th:only-of-type {\n",
              "        vertical-align: middle;\n",
              "    }\n",
              "\n",
              "    .dataframe tbody tr th {\n",
              "        vertical-align: top;\n",
              "    }\n",
              "\n",
              "    .dataframe thead th {\n",
              "        text-align: right;\n",
              "    }\n",
              "</style>\n",
              "<table border=\"1\" class=\"dataframe\">\n",
              "  <thead>\n",
              "    <tr style=\"text-align: right;\">\n",
              "      <th></th>\n",
              "      <th>jp_sales</th>\n",
              "    </tr>\n",
              "    <tr>\n",
              "      <th>genre</th>\n",
              "      <th></th>\n",
              "    </tr>\n",
              "  </thead>\n",
              "  <tbody>\n",
              "    <tr>\n",
              "      <th>Role-Playing</th>\n",
              "      <td>51.04</td>\n",
              "    </tr>\n",
              "    <tr>\n",
              "      <th>Action</th>\n",
              "      <td>40.49</td>\n",
              "    </tr>\n",
              "    <tr>\n",
              "      <th>Misc</th>\n",
              "      <td>9.20</td>\n",
              "    </tr>\n",
              "    <tr>\n",
              "      <th>Fighting</th>\n",
              "      <td>7.65</td>\n",
              "    </tr>\n",
              "    <tr>\n",
              "      <th>Shooter</th>\n",
              "      <td>6.61</td>\n",
              "    </tr>\n",
              "  </tbody>\n",
              "</table>\n",
              "</div>"
            ],
            "text/plain": [
              "              jp_sales\n",
              "genre                 \n",
              "Role-Playing     51.04\n",
              "Action           40.49\n",
              "Misc              9.20\n",
              "Fighting          7.65\n",
              "Shooter           6.61"
            ]
          },
          "execution_count": 76,
          "metadata": {},
          "output_type": "execute_result"
        }
      ],
      "source": [
        "#построим диаграмму распределения продаж игр по жанрам в Японии\n",
        "actual_term.pivot_table(index='genre', values='jp_sales', aggfunc='sum').sort_values(by='jp_sales', ascending=False).head(5)"
      ]
    },
    {
      "cell_type": "code",
      "execution_count": null,
      "metadata": {
        "id": "eBGFzrRQpGwe",
        "outputId": "b8a23f0b-2421-4b77-ea0d-16d9d293a766"
      },
      "outputs": [
        {
          "data": {
            "image/png": "[encoded data removed]",
            "text/plain": [
              "<Figure size 864x432 with 1 Axes>"
            ]
          },
          "metadata": {
            "needs_background": "light"
          },
          "output_type": "display_data"
        }
      ],
      "source": [
        "#построим диаграмму распределения продаж игр по жанрам в Японии\n",
        "(actual_term\n",
        " .pivot_table(index='genre', values='jp_sales', aggfunc='sum')\n",
        " .sort_values(by='jp_sales', ascending=False)\n",
        " .plot(kind='bar', figsize=(12, 6), grid=True))\n",
        "plt.title('Продажи по жанрам в Японии')\n",
        "plt.xlabel('жанр')\n",
        "plt.ylabel('продажи')\n",
        "plt.legend('', frameon=False)\n",
        "plt.show()"
      ]
    },
    {
      "cell_type": "markdown",
      "metadata": {
        "id": "gYsvSJYPpGwf"
      },
      "source": [
        "##### Влияние рейтинга ESRB"
      ]
    },
    {
      "cell_type": "code",
      "execution_count": null,
      "metadata": {
        "id": "umO-joPopGwf",
        "outputId": "53a5ff58-2c09-4fdf-dc86-390d565bc31c"
      },
      "outputs": [
        {
          "data": {
            "image/png": "[encoded data removed]",
            "text/plain": [
              "<Figure size 864x432 with 1 Axes>"
            ]
          },
          "metadata": {
            "needs_background": "light"
          },
          "output_type": "display_data"
        }
      ],
      "source": [
        "#построим диаграмму распределения продаж игр по рейтингу в Японии\n",
        "(actual_term\n",
        " .pivot_table(index='rating', values='jp_sales', aggfunc='sum')\n",
        " .plot(kind='bar', figsize=(12, 6), grid=True))\n",
        "plt.title('Продажи по рейтингу в Японии')\n",
        "plt.xlabel('рейтинг')\n",
        "plt.ylabel('продажи')\n",
        "plt.legend('', frameon=False)\n",
        "plt.show()"
      ]
    },
    {
      "cell_type": "markdown",
      "metadata": {
        "id": "_9m8USkfpGwf"
      },
      "source": [
        "**Портрет пользователя из Японии:**\n",
        "\n",
        "1. наиболее популярные платформы - **3DS**, **PS3**, **PSV**, **PS4**, **WiiU**;\n",
        "\n",
        "2. наиболее популярные жанры - **Role-Playing**, **Action**, **Misc**, **Fighting**, **Shooter**;\n",
        "\n",
        "3. больше всего продаются игры с рейтингом **T** (для подростков), **E** (для всех возрастов) и **М** (для старших подростков)."
      ]
    },
    {
      "cell_type": "markdown",
      "metadata": {
        "id": "YRy6OWaLpGwf"
      },
      "source": [
        "### Проверка гипотез"
      ]
    },
    {
      "cell_type": "markdown",
      "metadata": {
        "id": "ucPgQV_SpGwf"
      },
      "source": [
        "Поскольку обе гипотезы касаются пользовательского рейтинга, следует отобрать данные об играх, для которых он известен."
      ]
    },
    {
      "cell_type": "code",
      "execution_count": null,
      "metadata": {
        "id": "TXcbnM17pGwf"
      },
      "outputs": [],
      "source": [
        "#создадим датафрейм games_filled с данными ою играх, для которых известен пользовательский рейтинг\n",
        "games_user_score = actual_term.dropna(subset=['user_score']).reset_index(drop=True)"
      ]
    },
    {
      "cell_type": "markdown",
      "metadata": {
        "id": "F0IrLVqQpGwg"
      },
      "source": [
        "#### Гипотеза №1"
      ]
    },
    {
      "cell_type": "markdown",
      "metadata": {
        "id": "4GCtq6NPpGwg"
      },
      "source": [
        "**Нулевая гипотеза:** средние пользовательские рейтинги платформ *XOne* и *PC* равны\n",
        "\n",
        "**Альтернативная гипотеза:** средние пользовательские рейтинги платформ *XOne* и *PC* неравны"
      ]
    },
    {
      "cell_type": "code",
      "execution_count": null,
      "metadata": {
        "id": "cXDnaHI8pGwg",
        "outputId": "2cf9a94f-4c03-46a8-8655-e07d73592c50"
      },
      "outputs": [
        {
          "name": "stdout",
          "output_type": "stream",
          "text": [
            "среднее первой выборки: 6.521428571428572\n",
            "среднее второй выборки: 6.2696774193548395\n",
            "p-value: 0.14012658403611647\n",
            "Нулевая гипотеза не отвергнута\n"
          ]
        }
      ],
      "source": [
        "sample1 = games_user_score.loc[games_user_score['platform'] == 'XOne', 'user_score']\n",
        "sample2 = games_user_score.loc[games_user_score['platform'] == 'PC', 'user_score']\n",
        "\n",
        "print('среднее первой выборки:', sample1.mean())\n",
        "print('среднее второй выборки:', sample2.mean())\n",
        "\n",
        "alpha = 0.05\n",
        "\n",
        "results = st.ttest_ind(sample1, sample2, alternative='two-sided')\n",
        "\n",
        "print('p-value:', results.pvalue)\n",
        "\n",
        "if results.pvalue < alpha:\n",
        "    print('Нулевая гипотеза отвергнута')\n",
        "else:\n",
        "    print('Нулевая гипотеза не отвергнута')"
      ]
    },
    {
      "cell_type": "markdown",
      "metadata": {
        "id": "RP_zTwa0pGwg"
      },
      "source": [
        "Нулевая гипотеза не отвергнута, следовательно, **есть основание считать, что средние пользовательские рейтинги платформ *XOne* и *PC* равны**."
      ]
    },
    {
      "cell_type": "markdown",
      "metadata": {
        "id": "Sen_emncpGwg"
      },
      "source": [
        "#### Гипотеза №2"
      ]
    },
    {
      "cell_type": "markdown",
      "metadata": {
        "id": "jc5M2diWpGwg"
      },
      "source": [
        "**Нулевая гипотеза:** средние пользовательские рейтинги жанров *Action* и *Sports* равны\n",
        "\n",
        "**Альтернативная гипотеза:** средние пользовательские рейтинги жанров *Action* и *Sports* неравны"
      ]
    },
    {
      "cell_type": "code",
      "execution_count": null,
      "metadata": {
        "id": "DR81OKNzpGwg",
        "outputId": "ebd0c84b-71d9-4300-91af-edfc4f1df0a4"
      },
      "outputs": [
        {
          "name": "stdout",
          "output_type": "stream",
          "text": [
            "среднее первой выборки: 6.837532133676092\n",
            "среднее второй выборки: 5.238124999999999\n",
            "p-value: 1.0517832389140023e-27\n",
            "Нулевая гипотеза отвергнута\n"
          ]
        }
      ],
      "source": [
        "sample1 = games_user_score.loc[games_user_score['genre'] == 'Action', 'user_score']\n",
        "sample2 = games_user_score.loc[games_user_score['genre'] == 'Sports', 'user_score']\n",
        "\n",
        "print('среднее первой выборки:', sample1.mean())\n",
        "print('среднее второй выборки:', sample2.mean())\n",
        "\n",
        "alpha = 0.05\n",
        "\n",
        "results = st.ttest_ind(sample1, sample2, alternative='two-sided')\n",
        "\n",
        "print('p-value:', results.pvalue)\n",
        "\n",
        "if results.pvalue < alpha:\n",
        "    print('Нулевая гипотеза отвергнута')\n",
        "else:\n",
        "    print('Нулевая гипотеза не отвергнута')"
      ]
    },
    {
      "cell_type": "markdown",
      "metadata": {
        "id": "CzD_uEB7pGwh"
      },
      "source": [
        "Нулевая гипотеза отвергнута, следовательно, **есть основание считать, что средние пользовательские рейтинги жанров *Action* и *Sports* неравны**."
      ]
    },
    {
      "cell_type": "markdown",
      "metadata": {
        "id": "3Ed8okWgpGwh"
      },
      "source": [
        "Нулевая гипотеза была сформулирована так, как рекомендовано для t-теста, то есть с предположением равенства сравниваемых средних. В качестве альтернативной гипотезы выступает суждение, проверка которого является задачей исследования.\n",
        "\n",
        "Для проверки гипотез был использован t-тест, поскольку проверются гипотезы о среднем выборок."
      ]
    },
    {
      "cell_type": "markdown",
      "metadata": {
        "id": "rSqDTuFbpGwh"
      },
      "source": [
        "### Вывод"
      ]
    },
    {
      "cell_type": "markdown",
      "metadata": {
        "id": "sJ3cqFbapGwh"
      },
      "source": [
        "#### Предобработка данных\n",
        "\n",
        "В ходе предобработки данных:\n",
        "\n",
        "1. наименования всех столбцов были приведены к нижнему регистру;\n",
        "\n",
        "2. типы данных столбца `year_of_release` были приведены к типу `int`, данные столбца `user_score` - к типу `float`, в последнем притом значение `tbd` было заменено пропуском значения;\n",
        "\n",
        "3. были удалены пропуски в столбцах `name`, `year_of_release` и `genre`;\n",
        "\n",
        "4. был добавлен столбец `total_sales` с данными о суммарных продажах каждой игры;\n",
        "\n",
        "5. были удалены строки, с повторяющимися значениями в столбцах `name`, `platform` и `year_of_release`.\n",
        "\n",
        "#### Исследовательский анализ данных\n",
        "\n",
        "В ходе исследовательского анализа данных были получены следующие выводы:\n",
        "\n",
        "1. Наибольшее количество игр было выпущено в **2008** и **2009**, а также в **2010**, **2007** и **2011** годах. Кроме того, начиная с 2009 года количество выпущенных игр **снижалось**, за исключением незначительного роста в 2013-2015 годах.\n",
        "\n",
        "2. Наибольшие продажи характерны для платформ **PS2**, **X360**, **Wii**, **PS3**, **DS** и **PS**.\n",
        "\n",
        "3. Характерный период от появления до исчезновения платформы составляет **9-11 лет**.\n",
        "\n",
        "4. Наибольшие продажи *в актуальный период* характерны для платформ **PS4**, **PS3**, **XOne**, **3DS** и **X360**.\n",
        "\n",
        "5. К *потенциально прибыльным платформам* можно отнести **PS4** и **XOne**.\n",
        "\n",
        "6. У всех платформ медианный уровень продаж не превышает **0.25 млн копий**; размах значений у платформ **PS3**, **X360**, **PS4**, **XOne**, **WiiU**, **Wii** достаточно большой, у остальных платформ он меньше; размах значений у платформ **PS3**, **X360**, **PS4**, **3DS**, **XOne**, **PC** довльно много выбросов.\n",
        "\n",
        "7. Между уровнем продаж и рейтингом критиков, а также между уровнем продаж и рейтингом пользователей существует *слабая положительная*, *умеренная положительная*, либо *слабая отрицательная связь*. Это означает, что рейтинги критиков и пользователей **слабо влияют на продажи**.\n",
        "\n",
        "8. Наиболее прибыльными жанрами можно назвать **Shooter**, **Sports** и **Platform**.\n",
        "\n",
        "#### Портрет пользователя по каждому региону\n",
        "\n",
        "Был составлен портрет среднего пользователя по каждому региону:\n",
        "\n",
        "*Для пользователя из Северной Америки*:\n",
        "\n",
        "1. наиболее популярные платформы - **PS4**, **XOne**, **X360**, **PS3**, **3DS**;\n",
        "\n",
        "2. наиболее популярные жанры - **Action**, **Shooter**, **Sports**, **Role-Playing**, **Misc**;\n",
        "\n",
        "3. больше всего продаются игры с рейтингом **M** (для старших подростков) и **E** (для всех возрастов).\n",
        "\n",
        "*Для пользователя из Европы:*\n",
        "\n",
        "1. наиболее популярные платформы - **PS4**, **PS3**, **XOne**, **X360**, **3DS**;\n",
        "\n",
        "2. наиболее популярные жанры - **Action**, **Shooter**, **Sports**, **Role-Playing**, **Racing**;\n",
        "\n",
        "3. больше всего продаются игры с рейтингом **M** (для старших подростков) и **E** (для всех возрастов).\n",
        "\n",
        "*Для пользователя из Японии:*\n",
        "\n",
        "1. наиболее популярные платформы - **3DS**, **PS3**, **PSV**, **PS4**, **WiiU**;\n",
        "\n",
        "2. наиболее популярные жанры - **Role-Playing**, **Action**, **Misc**, **Fighting**, **Shooter**;\n",
        "\n",
        "3. больше всего продаются игры с рейтингом **T** (для подростков), **E** (для всех возрастов) и **М** (для старших подростков).\n",
        "\n",
        "#### Проверка гипотез\n",
        "\n",
        "В результате статистического анализа данных были проверены две гипотезы, получены следующие выводы:\n",
        "\n",
        "1. Есть основание считать, что средние пользовательские рейтинги платформ *XOne* и *PC* равны.\n",
        "\n",
        "2. Есть основание считать, что средние пользовательские рейтинги жанров *Action* и *Sports* неравны."
      ]
    }
  ],
  "metadata": {
    "ExecuteTimeLog": [
      {
        "duration": 1150,
        "start_time": "2024-06-03T10:54:37.933Z"
      },
      {
        "duration": 178,
        "start_time": "2024-06-03T10:57:16.855Z"
      },
      {
        "duration": 16,
        "start_time": "2024-06-03T10:57:29.658Z"
      },
      {
        "duration": 98,
        "start_time": "2024-06-03T11:02:11.489Z"
      },
      {
        "duration": 8,
        "start_time": "2024-06-03T11:02:27.218Z"
      },
      {
        "duration": 4,
        "start_time": "2024-06-03T11:02:35.660Z"
      },
      {
        "duration": 8,
        "start_time": "2024-06-03T11:02:53.799Z"
      },
      {
        "duration": 4,
        "start_time": "2024-06-03T11:03:04.378Z"
      },
      {
        "duration": 3,
        "start_time": "2024-06-03T11:03:55.772Z"
      },
      {
        "duration": 8,
        "start_time": "2024-06-03T11:04:16.013Z"
      },
      {
        "duration": 5,
        "start_time": "2024-06-03T11:05:30.499Z"
      },
      {
        "duration": 16,
        "start_time": "2024-06-03T11:05:41.503Z"
      },
      {
        "duration": 16,
        "start_time": "2024-06-03T11:06:01.002Z"
      },
      {
        "duration": 15,
        "start_time": "2024-06-03T11:07:04.544Z"
      },
      {
        "duration": 64,
        "start_time": "2024-06-03T11:07:22.158Z"
      },
      {
        "duration": 1054,
        "start_time": "2024-06-03T11:11:47.752Z"
      },
      {
        "duration": 1007,
        "start_time": "2024-06-03T11:12:03.641Z"
      },
      {
        "duration": 1157,
        "start_time": "2024-06-03T11:13:51.758Z"
      },
      {
        "duration": 3,
        "start_time": "2024-06-03T11:14:16.131Z"
      },
      {
        "duration": 65,
        "start_time": "2024-06-03T11:14:16.830Z"
      },
      {
        "duration": 14,
        "start_time": "2024-06-03T11:14:17.126Z"
      },
      {
        "duration": 14,
        "start_time": "2024-06-03T11:14:18.243Z"
      },
      {
        "duration": 6,
        "start_time": "2024-06-03T11:14:21.439Z"
      },
      {
        "duration": 3,
        "start_time": "2024-06-03T11:15:16.953Z"
      },
      {
        "duration": 16,
        "start_time": "2024-06-03T11:15:24.481Z"
      },
      {
        "duration": 4,
        "start_time": "2024-06-03T11:15:46.283Z"
      },
      {
        "duration": 15,
        "start_time": "2024-06-03T11:15:47.072Z"
      },
      {
        "duration": 470,
        "start_time": "2024-06-03T11:17:56.909Z"
      },
      {
        "duration": 1065,
        "start_time": "2024-06-03T11:18:18.027Z"
      },
      {
        "duration": 119,
        "start_time": "2024-06-03T11:18:19.094Z"
      },
      {
        "duration": 14,
        "start_time": "2024-06-03T11:18:19.215Z"
      },
      {
        "duration": 17,
        "start_time": "2024-06-03T11:18:19.231Z"
      },
      {
        "duration": 15,
        "start_time": "2024-06-03T11:18:19.250Z"
      },
      {
        "duration": 619,
        "start_time": "2024-06-03T11:18:19.267Z"
      },
      {
        "duration": 0,
        "start_time": "2024-06-03T11:18:19.887Z"
      },
      {
        "duration": 4,
        "start_time": "2024-06-03T11:19:14.901Z"
      },
      {
        "duration": 14,
        "start_time": "2024-06-03T11:19:16.054Z"
      },
      {
        "duration": 8,
        "start_time": "2024-06-03T11:19:27.228Z"
      },
      {
        "duration": 14,
        "start_time": "2024-06-03T11:19:28.041Z"
      },
      {
        "duration": 7,
        "start_time": "2024-06-03T11:29:34.535Z"
      },
      {
        "duration": 1150,
        "start_time": "2024-06-03T11:30:05.997Z"
      },
      {
        "duration": 116,
        "start_time": "2024-06-03T11:30:07.149Z"
      },
      {
        "duration": 16,
        "start_time": "2024-06-03T11:30:07.269Z"
      },
      {
        "duration": 32,
        "start_time": "2024-06-03T11:30:07.287Z"
      },
      {
        "duration": 5,
        "start_time": "2024-06-03T11:30:07.321Z"
      },
      {
        "duration": 5,
        "start_time": "2024-06-03T11:30:07.327Z"
      },
      {
        "duration": 14,
        "start_time": "2024-06-03T11:30:07.334Z"
      },
      {
        "duration": 109,
        "start_time": "2024-06-03T12:50:51.336Z"
      },
      {
        "duration": 13,
        "start_time": "2024-06-03T12:51:00.676Z"
      },
      {
        "duration": 28,
        "start_time": "2024-06-03T12:54:11.237Z"
      },
      {
        "duration": 25,
        "start_time": "2024-06-03T12:54:33.220Z"
      },
      {
        "duration": 1242,
        "start_time": "2024-06-03T14:53:06.000Z"
      },
      {
        "duration": 178,
        "start_time": "2024-06-03T14:53:07.244Z"
      },
      {
        "duration": 17,
        "start_time": "2024-06-03T14:53:07.424Z"
      },
      {
        "duration": 15,
        "start_time": "2024-06-03T14:53:07.443Z"
      },
      {
        "duration": 5,
        "start_time": "2024-06-03T14:53:07.460Z"
      },
      {
        "duration": 19,
        "start_time": "2024-06-03T14:53:07.466Z"
      },
      {
        "duration": 41,
        "start_time": "2024-06-03T14:53:07.487Z"
      },
      {
        "duration": 15,
        "start_time": "2024-06-03T14:53:07.529Z"
      },
      {
        "duration": 107,
        "start_time": "2024-06-03T15:02:20.078Z"
      },
      {
        "duration": 18,
        "start_time": "2024-06-03T15:03:23.130Z"
      },
      {
        "duration": 15,
        "start_time": "2024-06-03T15:11:22.502Z"
      },
      {
        "duration": 5,
        "start_time": "2024-06-03T15:11:25.392Z"
      },
      {
        "duration": 24,
        "start_time": "2024-06-03T15:11:26.391Z"
      },
      {
        "duration": 15,
        "start_time": "2024-06-03T15:11:27.048Z"
      },
      {
        "duration": 23,
        "start_time": "2024-06-03T15:11:48.852Z"
      },
      {
        "duration": 13,
        "start_time": "2024-06-03T15:12:27.602Z"
      },
      {
        "duration": 4,
        "start_time": "2024-06-03T15:13:35.786Z"
      },
      {
        "duration": 6,
        "start_time": "2024-06-03T15:13:54.842Z"
      },
      {
        "duration": 6,
        "start_time": "2024-06-03T15:14:51.770Z"
      },
      {
        "duration": 9,
        "start_time": "2024-06-03T15:17:05.097Z"
      },
      {
        "duration": 17,
        "start_time": "2024-06-03T15:17:08.114Z"
      },
      {
        "duration": 10,
        "start_time": "2024-06-03T15:22:42.970Z"
      },
      {
        "duration": 17,
        "start_time": "2024-06-03T15:22:58.586Z"
      },
      {
        "duration": 9,
        "start_time": "2024-06-03T15:23:51.538Z"
      },
      {
        "duration": 9,
        "start_time": "2024-06-03T15:24:52.600Z"
      },
      {
        "duration": 17,
        "start_time": "2024-06-03T15:29:43.497Z"
      },
      {
        "duration": 17,
        "start_time": "2024-06-03T15:37:26.642Z"
      },
      {
        "duration": 15,
        "start_time": "2024-06-03T15:37:49.885Z"
      },
      {
        "duration": 17,
        "start_time": "2024-06-03T15:46:15.672Z"
      },
      {
        "duration": 16,
        "start_time": "2024-06-03T15:47:21.952Z"
      },
      {
        "duration": 14,
        "start_time": "2024-06-03T16:04:13.214Z"
      },
      {
        "duration": 160,
        "start_time": "2024-06-03T16:04:21.823Z"
      },
      {
        "duration": 266,
        "start_time": "2024-06-03T16:04:29.383Z"
      },
      {
        "duration": 242,
        "start_time": "2024-06-03T16:04:59.151Z"
      },
      {
        "duration": 269,
        "start_time": "2024-06-03T16:05:33.027Z"
      },
      {
        "duration": 172,
        "start_time": "2024-06-03T16:05:39.776Z"
      },
      {
        "duration": 246,
        "start_time": "2024-06-03T16:06:34.011Z"
      },
      {
        "duration": 238,
        "start_time": "2024-06-03T16:06:40.852Z"
      },
      {
        "duration": 396,
        "start_time": "2024-06-03T16:07:16.067Z"
      },
      {
        "duration": 399,
        "start_time": "2024-06-03T16:07:31.659Z"
      },
      {
        "duration": 434,
        "start_time": "2024-06-03T16:07:41.600Z"
      },
      {
        "duration": 424,
        "start_time": "2024-06-03T16:09:36.247Z"
      },
      {
        "duration": 502,
        "start_time": "2024-06-03T16:14:10.370Z"
      },
      {
        "duration": 424,
        "start_time": "2024-06-03T16:19:19.523Z"
      },
      {
        "duration": 310,
        "start_time": "2024-06-03T16:23:19.653Z"
      },
      {
        "duration": 161,
        "start_time": "2024-06-03T16:23:54.486Z"
      },
      {
        "duration": 299,
        "start_time": "2024-06-03T16:24:11.757Z"
      },
      {
        "duration": 332,
        "start_time": "2024-06-03T16:25:30.425Z"
      },
      {
        "duration": 237,
        "start_time": "2024-06-03T16:38:43.367Z"
      },
      {
        "duration": 251,
        "start_time": "2024-06-03T16:40:23.901Z"
      },
      {
        "duration": 18,
        "start_time": "2024-06-03T16:43:15.131Z"
      },
      {
        "duration": 18,
        "start_time": "2024-06-03T16:43:25.707Z"
      },
      {
        "duration": 4,
        "start_time": "2024-06-03T16:45:00.598Z"
      },
      {
        "duration": 6,
        "start_time": "2024-06-03T16:45:01.981Z"
      },
      {
        "duration": 3,
        "start_time": "2024-06-03T16:45:05.652Z"
      },
      {
        "duration": 14,
        "start_time": "2024-06-03T16:45:07.395Z"
      },
      {
        "duration": 10,
        "start_time": "2024-06-03T16:45:12.017Z"
      },
      {
        "duration": 14,
        "start_time": "2024-06-03T16:45:13.210Z"
      },
      {
        "duration": 17,
        "start_time": "2024-06-03T16:45:13.905Z"
      },
      {
        "duration": 18,
        "start_time": "2024-06-03T16:45:16.127Z"
      },
      {
        "duration": 170,
        "start_time": "2024-06-03T16:45:39.946Z"
      },
      {
        "duration": 1077,
        "start_time": "2024-06-03T16:45:54.041Z"
      },
      {
        "duration": 128,
        "start_time": "2024-06-03T16:45:55.120Z"
      },
      {
        "duration": 16,
        "start_time": "2024-06-03T16:45:55.250Z"
      },
      {
        "duration": 15,
        "start_time": "2024-06-03T16:45:55.267Z"
      },
      {
        "duration": 4,
        "start_time": "2024-06-03T16:45:55.285Z"
      },
      {
        "duration": 26,
        "start_time": "2024-06-03T16:45:55.291Z"
      },
      {
        "duration": 8,
        "start_time": "2024-06-03T16:45:55.318Z"
      },
      {
        "duration": 15,
        "start_time": "2024-06-03T16:45:55.327Z"
      },
      {
        "duration": 10,
        "start_time": "2024-06-03T16:45:55.344Z"
      },
      {
        "duration": 16,
        "start_time": "2024-06-03T16:45:55.356Z"
      },
      {
        "duration": 46,
        "start_time": "2024-06-03T16:45:55.374Z"
      },
      {
        "duration": 17,
        "start_time": "2024-06-03T16:45:55.422Z"
      },
      {
        "duration": 410,
        "start_time": "2024-06-03T16:45:55.441Z"
      },
      {
        "duration": 320,
        "start_time": "2024-06-03T16:45:55.854Z"
      },
      {
        "duration": 224,
        "start_time": "2024-06-03T16:45:56.177Z"
      },
      {
        "duration": 170,
        "start_time": "2024-06-03T16:45:56.403Z"
      },
      {
        "duration": 1045,
        "start_time": "2024-06-03T16:46:33.949Z"
      },
      {
        "duration": 133,
        "start_time": "2024-06-03T16:46:34.996Z"
      },
      {
        "duration": 14,
        "start_time": "2024-06-03T16:46:35.130Z"
      },
      {
        "duration": 15,
        "start_time": "2024-06-03T16:46:35.146Z"
      },
      {
        "duration": 23,
        "start_time": "2024-06-03T16:46:35.163Z"
      },
      {
        "duration": 6,
        "start_time": "2024-06-03T16:46:35.187Z"
      },
      {
        "duration": 10,
        "start_time": "2024-06-03T16:46:35.195Z"
      },
      {
        "duration": 17,
        "start_time": "2024-06-03T16:46:35.207Z"
      },
      {
        "duration": 18,
        "start_time": "2024-06-03T16:46:35.226Z"
      },
      {
        "duration": 22,
        "start_time": "2024-06-03T16:46:35.247Z"
      },
      {
        "duration": 14,
        "start_time": "2024-06-03T16:46:35.271Z"
      },
      {
        "duration": 38,
        "start_time": "2024-06-03T16:46:35.287Z"
      },
      {
        "duration": 400,
        "start_time": "2024-06-03T16:46:35.327Z"
      },
      {
        "duration": 335,
        "start_time": "2024-06-03T16:46:35.729Z"
      },
      {
        "duration": 221,
        "start_time": "2024-06-03T16:46:36.066Z"
      },
      {
        "duration": 165,
        "start_time": "2024-06-03T16:46:36.290Z"
      },
      {
        "duration": 4,
        "start_time": "2024-06-03T16:46:59.789Z"
      },
      {
        "duration": 5,
        "start_time": "2024-06-03T16:47:01.332Z"
      },
      {
        "duration": 4,
        "start_time": "2024-06-03T16:47:02.731Z"
      },
      {
        "duration": 15,
        "start_time": "2024-06-03T16:47:03.627Z"
      },
      {
        "duration": 9,
        "start_time": "2024-06-03T16:47:09.534Z"
      },
      {
        "duration": 21,
        "start_time": "2024-06-03T16:47:10.846Z"
      },
      {
        "duration": 15,
        "start_time": "2024-06-03T16:47:11.762Z"
      },
      {
        "duration": 16,
        "start_time": "2024-06-03T16:47:14.218Z"
      },
      {
        "duration": 365,
        "start_time": "2024-06-03T16:47:19.204Z"
      },
      {
        "duration": 308,
        "start_time": "2024-06-03T16:47:26.814Z"
      },
      {
        "duration": 272,
        "start_time": "2024-06-03T16:47:32.191Z"
      },
      {
        "duration": 217,
        "start_time": "2024-06-03T16:49:26.918Z"
      },
      {
        "duration": 202,
        "start_time": "2024-06-03T16:49:59.625Z"
      },
      {
        "duration": 202,
        "start_time": "2024-06-03T16:50:10.359Z"
      },
      {
        "duration": 211,
        "start_time": "2024-06-03T16:51:56.567Z"
      },
      {
        "duration": 232,
        "start_time": "2024-06-03T16:52:09.113Z"
      },
      {
        "duration": 203,
        "start_time": "2024-06-03T16:52:20.447Z"
      },
      {
        "duration": 201,
        "start_time": "2024-06-03T16:52:35.483Z"
      },
      {
        "duration": 1158,
        "start_time": "2024-06-05T08:21:11.813Z"
      },
      {
        "duration": 252,
        "start_time": "2024-06-05T08:21:12.974Z"
      },
      {
        "duration": 12,
        "start_time": "2024-06-05T08:21:13.228Z"
      },
      {
        "duration": 20,
        "start_time": "2024-06-05T08:21:13.242Z"
      },
      {
        "duration": 111,
        "start_time": "2024-06-05T08:21:13.263Z"
      },
      {
        "duration": 0,
        "start_time": "2024-06-05T08:21:13.376Z"
      },
      {
        "duration": 0,
        "start_time": "2024-06-05T08:21:13.377Z"
      },
      {
        "duration": 0,
        "start_time": "2024-06-05T08:21:13.378Z"
      },
      {
        "duration": 0,
        "start_time": "2024-06-05T08:21:13.379Z"
      },
      {
        "duration": 0,
        "start_time": "2024-06-05T08:21:13.380Z"
      },
      {
        "duration": 0,
        "start_time": "2024-06-05T08:21:13.380Z"
      },
      {
        "duration": 0,
        "start_time": "2024-06-05T08:21:13.381Z"
      },
      {
        "duration": 0,
        "start_time": "2024-06-05T08:21:13.382Z"
      },
      {
        "duration": 0,
        "start_time": "2024-06-05T08:21:13.383Z"
      },
      {
        "duration": 0,
        "start_time": "2024-06-05T08:21:13.383Z"
      },
      {
        "duration": 0,
        "start_time": "2024-06-05T08:21:13.384Z"
      },
      {
        "duration": 0,
        "start_time": "2024-06-05T08:21:13.385Z"
      },
      {
        "duration": 0,
        "start_time": "2024-06-05T08:21:13.386Z"
      },
      {
        "duration": 3,
        "start_time": "2024-06-05T08:22:39.178Z"
      },
      {
        "duration": 5,
        "start_time": "2024-06-05T08:22:41.910Z"
      },
      {
        "duration": 8,
        "start_time": "2024-06-05T08:22:45.986Z"
      },
      {
        "duration": 11,
        "start_time": "2024-06-05T08:22:46.599Z"
      },
      {
        "duration": 4,
        "start_time": "2024-06-05T08:23:46.521Z"
      },
      {
        "duration": 5,
        "start_time": "2024-06-05T08:23:47.108Z"
      },
      {
        "duration": 3,
        "start_time": "2024-06-05T08:23:48.283Z"
      },
      {
        "duration": 12,
        "start_time": "2024-06-05T08:23:48.756Z"
      },
      {
        "duration": 8,
        "start_time": "2024-06-05T08:23:54.032Z"
      },
      {
        "duration": 15,
        "start_time": "2024-06-05T08:23:55.601Z"
      },
      {
        "duration": 12,
        "start_time": "2024-06-05T08:23:58.194Z"
      },
      {
        "duration": 11,
        "start_time": "2024-06-05T08:24:19.164Z"
      },
      {
        "duration": 3,
        "start_time": "2024-06-05T08:24:58.614Z"
      },
      {
        "duration": 5,
        "start_time": "2024-06-05T08:25:02.612Z"
      },
      {
        "duration": 4,
        "start_time": "2024-06-05T08:25:03.816Z"
      },
      {
        "duration": 11,
        "start_time": "2024-06-05T08:25:04.380Z"
      },
      {
        "duration": 958,
        "start_time": "2024-06-05T08:25:23.435Z"
      },
      {
        "duration": 98,
        "start_time": "2024-06-05T08:25:24.395Z"
      },
      {
        "duration": 22,
        "start_time": "2024-06-05T08:25:24.496Z"
      },
      {
        "duration": 19,
        "start_time": "2024-06-05T08:25:24.520Z"
      },
      {
        "duration": 104,
        "start_time": "2024-06-05T08:25:24.540Z"
      },
      {
        "duration": 0,
        "start_time": "2024-06-05T08:25:24.646Z"
      },
      {
        "duration": 0,
        "start_time": "2024-06-05T08:25:24.647Z"
      },
      {
        "duration": 0,
        "start_time": "2024-06-05T08:25:24.648Z"
      },
      {
        "duration": 0,
        "start_time": "2024-06-05T08:25:24.649Z"
      },
      {
        "duration": 0,
        "start_time": "2024-06-05T08:25:24.649Z"
      },
      {
        "duration": 0,
        "start_time": "2024-06-05T08:25:24.650Z"
      },
      {
        "duration": 0,
        "start_time": "2024-06-05T08:25:24.651Z"
      },
      {
        "duration": 0,
        "start_time": "2024-06-05T08:25:24.652Z"
      },
      {
        "duration": 0,
        "start_time": "2024-06-05T08:25:24.653Z"
      },
      {
        "duration": 0,
        "start_time": "2024-06-05T08:25:24.654Z"
      },
      {
        "duration": 0,
        "start_time": "2024-06-05T08:25:24.654Z"
      },
      {
        "duration": 1,
        "start_time": "2024-06-05T08:25:24.655Z"
      },
      {
        "duration": 0,
        "start_time": "2024-06-05T08:25:24.656Z"
      },
      {
        "duration": 7,
        "start_time": "2024-06-05T08:28:48.223Z"
      },
      {
        "duration": 5,
        "start_time": "2024-06-05T08:28:56.206Z"
      },
      {
        "duration": 7,
        "start_time": "2024-06-05T08:28:58.207Z"
      },
      {
        "duration": 12,
        "start_time": "2024-06-05T08:28:58.729Z"
      },
      {
        "duration": 11,
        "start_time": "2024-06-05T08:29:05.828Z"
      },
      {
        "duration": 20,
        "start_time": "2024-06-05T08:29:07.079Z"
      },
      {
        "duration": 12,
        "start_time": "2024-06-05T08:29:09.868Z"
      },
      {
        "duration": 14,
        "start_time": "2024-06-05T08:29:13.152Z"
      },
      {
        "duration": 8,
        "start_time": "2024-06-05T08:31:26.243Z"
      },
      {
        "duration": 12,
        "start_time": "2024-06-05T08:31:27.533Z"
      },
      {
        "duration": 1021,
        "start_time": "2024-06-05T08:31:33.390Z"
      },
      {
        "duration": 115,
        "start_time": "2024-06-05T08:31:34.412Z"
      },
      {
        "duration": 13,
        "start_time": "2024-06-05T08:31:34.528Z"
      },
      {
        "duration": 12,
        "start_time": "2024-06-05T08:31:34.542Z"
      },
      {
        "duration": 10,
        "start_time": "2024-06-05T08:31:34.556Z"
      },
      {
        "duration": 15,
        "start_time": "2024-06-05T08:31:34.567Z"
      },
      {
        "duration": 14,
        "start_time": "2024-06-05T08:31:34.608Z"
      },
      {
        "duration": 4,
        "start_time": "2024-06-05T08:31:34.623Z"
      },
      {
        "duration": 5,
        "start_time": "2024-06-05T08:31:34.629Z"
      },
      {
        "duration": 6,
        "start_time": "2024-06-05T08:31:34.637Z"
      },
      {
        "duration": 12,
        "start_time": "2024-06-05T08:31:34.645Z"
      },
      {
        "duration": 13,
        "start_time": "2024-06-05T08:31:34.658Z"
      },
      {
        "duration": 352,
        "start_time": "2024-06-05T08:31:34.673Z"
      },
      {
        "duration": 261,
        "start_time": "2024-06-05T08:31:35.026Z"
      },
      {
        "duration": 181,
        "start_time": "2024-06-05T08:31:35.288Z"
      },
      {
        "duration": 189,
        "start_time": "2024-06-05T08:31:35.470Z"
      },
      {
        "duration": 181,
        "start_time": "2024-06-05T08:31:35.661Z"
      },
      {
        "duration": 190,
        "start_time": "2024-06-05T08:31:35.843Z"
      },
      {
        "duration": 180,
        "start_time": "2024-06-05T08:42:49.475Z"
      },
      {
        "duration": 165,
        "start_time": "2024-06-05T08:42:54.201Z"
      },
      {
        "duration": 227,
        "start_time": "2024-06-05T08:50:50.299Z"
      },
      {
        "duration": 177,
        "start_time": "2024-06-05T08:50:55.821Z"
      },
      {
        "duration": 195,
        "start_time": "2024-06-05T09:05:22.794Z"
      },
      {
        "duration": 153,
        "start_time": "2024-06-05T09:20:17.509Z"
      },
      {
        "duration": 243,
        "start_time": "2024-06-05T09:23:18.098Z"
      },
      {
        "duration": 134,
        "start_time": "2024-06-05T09:24:03.384Z"
      },
      {
        "duration": 167,
        "start_time": "2024-06-05T09:24:39.709Z"
      },
      {
        "duration": 173,
        "start_time": "2024-06-05T09:26:49.412Z"
      },
      {
        "duration": 148,
        "start_time": "2024-06-05T09:27:23.931Z"
      },
      {
        "duration": 156,
        "start_time": "2024-06-05T09:27:41.358Z"
      },
      {
        "duration": 147,
        "start_time": "2024-06-05T09:28:24.037Z"
      },
      {
        "duration": 147,
        "start_time": "2024-06-05T09:56:26.450Z"
      },
      {
        "duration": 258,
        "start_time": "2024-06-05T10:02:50.014Z"
      },
      {
        "duration": 260,
        "start_time": "2024-06-05T10:03:14.097Z"
      },
      {
        "duration": 176,
        "start_time": "2024-06-05T10:04:20.990Z"
      },
      {
        "duration": 13,
        "start_time": "2024-06-05T10:05:36.474Z"
      },
      {
        "duration": 97,
        "start_time": "2024-06-05T10:06:07.639Z"
      },
      {
        "duration": 14,
        "start_time": "2024-06-05T10:06:17.411Z"
      },
      {
        "duration": 14,
        "start_time": "2024-06-05T10:06:33.096Z"
      },
      {
        "duration": 13,
        "start_time": "2024-06-05T10:06:43.083Z"
      },
      {
        "duration": 12,
        "start_time": "2024-06-05T10:07:25.675Z"
      },
      {
        "duration": 957,
        "start_time": "2024-06-05T10:50:13.550Z"
      },
      {
        "duration": 115,
        "start_time": "2024-06-05T10:50:14.509Z"
      },
      {
        "duration": 15,
        "start_time": "2024-06-05T10:50:14.626Z"
      },
      {
        "duration": 11,
        "start_time": "2024-06-05T10:50:14.643Z"
      },
      {
        "duration": 16,
        "start_time": "2024-06-05T10:50:14.656Z"
      },
      {
        "duration": 13,
        "start_time": "2024-06-05T10:50:14.673Z"
      },
      {
        "duration": 27,
        "start_time": "2024-06-05T10:50:14.688Z"
      },
      {
        "duration": 3,
        "start_time": "2024-06-05T10:50:14.716Z"
      },
      {
        "duration": 7,
        "start_time": "2024-06-05T10:50:14.720Z"
      },
      {
        "duration": 8,
        "start_time": "2024-06-05T10:50:14.729Z"
      },
      {
        "duration": 32,
        "start_time": "2024-06-05T10:50:14.738Z"
      },
      {
        "duration": 13,
        "start_time": "2024-06-05T10:50:14.771Z"
      },
      {
        "duration": 325,
        "start_time": "2024-06-05T10:50:14.785Z"
      },
      {
        "duration": 260,
        "start_time": "2024-06-05T10:50:15.111Z"
      },
      {
        "duration": 183,
        "start_time": "2024-06-05T10:50:15.373Z"
      },
      {
        "duration": 192,
        "start_time": "2024-06-05T10:50:15.558Z"
      },
      {
        "duration": 174,
        "start_time": "2024-06-05T10:50:15.751Z"
      },
      {
        "duration": 185,
        "start_time": "2024-06-05T10:50:15.926Z"
      },
      {
        "duration": 183,
        "start_time": "2024-06-05T10:50:16.112Z"
      },
      {
        "duration": 179,
        "start_time": "2024-06-05T10:50:16.297Z"
      },
      {
        "duration": 243,
        "start_time": "2024-06-05T10:50:16.478Z"
      },
      {
        "duration": 156,
        "start_time": "2024-06-05T10:50:16.722Z"
      },
      {
        "duration": 248,
        "start_time": "2024-06-05T10:50:16.880Z"
      },
      {
        "duration": 142,
        "start_time": "2024-06-05T10:50:17.129Z"
      },
      {
        "duration": 195,
        "start_time": "2024-06-05T10:50:17.273Z"
      },
      {
        "duration": 167,
        "start_time": "2024-06-05T10:50:17.470Z"
      },
      {
        "duration": 146,
        "start_time": "2024-06-05T10:50:17.638Z"
      },
      {
        "duration": 176,
        "start_time": "2024-06-05T10:50:17.787Z"
      },
      {
        "duration": 154,
        "start_time": "2024-06-05T10:50:17.964Z"
      },
      {
        "duration": 98,
        "start_time": "2024-06-05T10:50:18.119Z"
      },
      {
        "duration": 12,
        "start_time": "2024-06-05T10:50:18.219Z"
      },
      {
        "duration": 268,
        "start_time": "2024-06-05T10:50:18.232Z"
      },
      {
        "duration": 256,
        "start_time": "2024-06-05T10:50:18.502Z"
      },
      {
        "duration": 106,
        "start_time": "2024-06-05T11:02:53.315Z"
      },
      {
        "duration": 12,
        "start_time": "2024-06-05T11:02:58.973Z"
      },
      {
        "duration": 14,
        "start_time": "2024-06-05T11:03:27.175Z"
      },
      {
        "duration": 13,
        "start_time": "2024-06-05T11:05:57.550Z"
      },
      {
        "duration": 277,
        "start_time": "2024-06-05T11:06:59.269Z"
      },
      {
        "duration": 14,
        "start_time": "2024-06-05T11:07:04.244Z"
      },
      {
        "duration": 179,
        "start_time": "2024-06-05T11:07:04.958Z"
      },
      {
        "duration": 13,
        "start_time": "2024-06-05T11:09:18.077Z"
      },
      {
        "duration": 260,
        "start_time": "2024-06-05T11:09:48.149Z"
      },
      {
        "duration": 12,
        "start_time": "2024-06-05T11:10:26.179Z"
      },
      {
        "duration": 182,
        "start_time": "2024-06-05T11:10:30.464Z"
      },
      {
        "duration": 14,
        "start_time": "2024-06-05T11:12:25.422Z"
      },
      {
        "duration": 262,
        "start_time": "2024-06-05T11:12:47.925Z"
      },
      {
        "duration": 13,
        "start_time": "2024-06-05T11:13:08.231Z"
      },
      {
        "duration": 187,
        "start_time": "2024-06-05T11:13:25.333Z"
      },
      {
        "duration": 229,
        "start_time": "2024-06-05T11:20:54.247Z"
      },
      {
        "duration": 161,
        "start_time": "2024-06-05T11:22:08.193Z"
      },
      {
        "duration": 160,
        "start_time": "2024-06-05T11:22:43.144Z"
      },
      {
        "duration": 156,
        "start_time": "2024-06-05T11:23:33.894Z"
      },
      {
        "duration": 9,
        "start_time": "2024-06-05T11:54:06.421Z"
      },
      {
        "duration": 5,
        "start_time": "2024-06-05T11:57:13.532Z"
      },
      {
        "duration": 12,
        "start_time": "2024-06-05T11:57:24.133Z"
      },
      {
        "duration": 13,
        "start_time": "2024-06-05T11:58:11.647Z"
      },
      {
        "duration": 9,
        "start_time": "2024-06-05T11:58:16.193Z"
      },
      {
        "duration": 9,
        "start_time": "2024-06-05T12:05:17.602Z"
      },
      {
        "duration": 10,
        "start_time": "2024-06-05T12:05:25.548Z"
      },
      {
        "duration": 9,
        "start_time": "2024-06-05T12:14:31.969Z"
      },
      {
        "duration": 19,
        "start_time": "2024-06-05T13:01:53.437Z"
      },
      {
        "duration": 404,
        "start_time": "2024-06-05T13:01:57.874Z"
      },
      {
        "duration": 255,
        "start_time": "2024-06-05T13:02:14.520Z"
      },
      {
        "duration": 181,
        "start_time": "2024-06-05T13:02:38.449Z"
      },
      {
        "duration": 177,
        "start_time": "2024-06-05T13:02:44.232Z"
      },
      {
        "duration": 173,
        "start_time": "2024-06-05T13:02:45.180Z"
      },
      {
        "duration": 176,
        "start_time": "2024-06-05T13:02:47.980Z"
      },
      {
        "duration": 170,
        "start_time": "2024-06-05T13:02:50.060Z"
      },
      {
        "duration": 170,
        "start_time": "2024-06-05T13:03:04.645Z"
      },
      {
        "duration": 192,
        "start_time": "2024-06-05T13:03:09.068Z"
      },
      {
        "duration": 145,
        "start_time": "2024-06-05T13:03:27.164Z"
      },
      {
        "duration": 241,
        "start_time": "2024-06-05T13:03:28.230Z"
      },
      {
        "duration": 142,
        "start_time": "2024-06-05T13:03:29.415Z"
      },
      {
        "duration": 167,
        "start_time": "2024-06-05T13:03:37.024Z"
      },
      {
        "duration": 229,
        "start_time": "2024-06-05T13:03:38.282Z"
      },
      {
        "duration": 169,
        "start_time": "2024-06-05T13:03:39.367Z"
      },
      {
        "duration": 160,
        "start_time": "2024-06-05T13:03:41.779Z"
      },
      {
        "duration": 145,
        "start_time": "2024-06-05T13:03:44.741Z"
      },
      {
        "duration": 92,
        "start_time": "2024-06-05T13:03:48.894Z"
      },
      {
        "duration": 2,
        "start_time": "2024-06-05T13:03:52.536Z"
      },
      {
        "duration": 13,
        "start_time": "2024-06-05T13:03:54.896Z"
      },
      {
        "duration": 267,
        "start_time": "2024-06-05T13:03:56.379Z"
      },
      {
        "duration": 15,
        "start_time": "2024-06-05T13:03:59.620Z"
      },
      {
        "duration": 179,
        "start_time": "2024-06-05T13:04:00.335Z"
      },
      {
        "duration": 160,
        "start_time": "2024-06-05T13:04:01.922Z"
      },
      {
        "duration": 13,
        "start_time": "2024-06-05T13:04:04.011Z"
      },
      {
        "duration": 264,
        "start_time": "2024-06-05T13:04:04.563Z"
      },
      {
        "duration": 13,
        "start_time": "2024-06-05T13:04:05.734Z"
      },
      {
        "duration": 182,
        "start_time": "2024-06-05T13:04:06.285Z"
      },
      {
        "duration": 169,
        "start_time": "2024-06-05T13:04:07.432Z"
      },
      {
        "duration": 13,
        "start_time": "2024-06-05T13:04:09.942Z"
      },
      {
        "duration": 270,
        "start_time": "2024-06-05T13:04:10.539Z"
      },
      {
        "duration": 17,
        "start_time": "2024-06-05T13:04:11.655Z"
      },
      {
        "duration": 187,
        "start_time": "2024-06-05T13:04:12.306Z"
      },
      {
        "duration": 172,
        "start_time": "2024-06-05T13:04:13.349Z"
      },
      {
        "duration": 6,
        "start_time": "2024-06-05T13:04:15.208Z"
      },
      {
        "duration": 9,
        "start_time": "2024-06-05T13:04:17.158Z"
      },
      {
        "duration": 9,
        "start_time": "2024-06-05T13:04:38.931Z"
      },
      {
        "duration": 6,
        "start_time": "2024-06-05T13:04:44.648Z"
      },
      {
        "duration": 11,
        "start_time": "2024-06-05T13:04:46.437Z"
      },
      {
        "duration": 9,
        "start_time": "2024-06-05T13:04:58.674Z"
      },
      {
        "duration": 8,
        "start_time": "2024-06-05T13:07:38.519Z"
      },
      {
        "duration": 5,
        "start_time": "2024-06-05T13:10:27.147Z"
      },
      {
        "duration": 5,
        "start_time": "2024-06-05T13:10:36.392Z"
      },
      {
        "duration": 8,
        "start_time": "2024-06-05T13:12:29.726Z"
      },
      {
        "duration": 4,
        "start_time": "2024-06-05T13:12:40.661Z"
      },
      {
        "duration": 119,
        "start_time": "2024-06-05T13:18:04.146Z"
      },
      {
        "duration": 10,
        "start_time": "2024-06-05T13:18:15.438Z"
      },
      {
        "duration": 148,
        "start_time": "2024-06-05T13:18:19.412Z"
      },
      {
        "duration": 1233,
        "start_time": "2024-06-06T14:41:32.018Z"
      },
      {
        "duration": 187,
        "start_time": "2024-06-06T14:41:33.253Z"
      },
      {
        "duration": 15,
        "start_time": "2024-06-06T14:41:33.441Z"
      },
      {
        "duration": 15,
        "start_time": "2024-06-06T14:41:33.458Z"
      },
      {
        "duration": 10,
        "start_time": "2024-06-06T14:41:33.474Z"
      },
      {
        "duration": 41,
        "start_time": "2024-06-06T14:41:33.486Z"
      },
      {
        "duration": 20,
        "start_time": "2024-06-06T14:41:33.529Z"
      },
      {
        "duration": 4,
        "start_time": "2024-06-06T14:41:33.551Z"
      },
      {
        "duration": 8,
        "start_time": "2024-06-06T14:41:33.557Z"
      },
      {
        "duration": 9,
        "start_time": "2024-06-06T14:41:33.568Z"
      },
      {
        "duration": 39,
        "start_time": "2024-06-06T14:41:33.579Z"
      },
      {
        "duration": 16,
        "start_time": "2024-06-06T14:41:33.620Z"
      },
      {
        "duration": 382,
        "start_time": "2024-06-06T14:41:33.638Z"
      },
      {
        "duration": 307,
        "start_time": "2024-06-06T14:41:34.021Z"
      },
      {
        "duration": 219,
        "start_time": "2024-06-06T14:41:34.329Z"
      },
      {
        "duration": 232,
        "start_time": "2024-06-06T14:41:34.549Z"
      },
      {
        "duration": 240,
        "start_time": "2024-06-06T14:41:34.783Z"
      },
      {
        "duration": 215,
        "start_time": "2024-06-06T14:41:35.024Z"
      },
      {
        "duration": 206,
        "start_time": "2024-06-06T14:41:35.241Z"
      },
      {
        "duration": 203,
        "start_time": "2024-06-06T14:41:35.449Z"
      },
      {
        "duration": 316,
        "start_time": "2024-06-06T14:41:35.654Z"
      },
      {
        "duration": 171,
        "start_time": "2024-06-06T14:41:35.971Z"
      },
      {
        "duration": 297,
        "start_time": "2024-06-06T14:41:36.143Z"
      },
      {
        "duration": 171,
        "start_time": "2024-06-06T14:41:36.441Z"
      },
      {
        "duration": 205,
        "start_time": "2024-06-06T14:41:36.614Z"
      },
      {
        "duration": 169,
        "start_time": "2024-06-06T14:41:36.821Z"
      },
      {
        "duration": 172,
        "start_time": "2024-06-06T14:41:36.992Z"
      },
      {
        "duration": 197,
        "start_time": "2024-06-06T14:41:37.168Z"
      },
      {
        "duration": 195,
        "start_time": "2024-06-06T14:41:37.367Z"
      },
      {
        "duration": 127,
        "start_time": "2024-06-06T14:41:37.564Z"
      },
      {
        "duration": 22,
        "start_time": "2024-06-06T14:41:37.693Z"
      },
      {
        "duration": 155,
        "start_time": "2024-06-06T14:41:37.716Z"
      },
      {
        "duration": 6,
        "start_time": "2024-06-06T14:41:37.873Z"
      },
      {
        "duration": 14,
        "start_time": "2024-06-06T14:41:37.881Z"
      },
      {
        "duration": 319,
        "start_time": "2024-06-06T14:41:37.914Z"
      },
      {
        "duration": 14,
        "start_time": "2024-06-06T14:41:38.235Z"
      },
      {
        "duration": 307,
        "start_time": "2024-06-06T14:41:38.251Z"
      },
      {
        "duration": 181,
        "start_time": "2024-06-06T14:41:38.559Z"
      },
      {
        "duration": 13,
        "start_time": "2024-06-06T14:41:38.742Z"
      },
      {
        "duration": 334,
        "start_time": "2024-06-06T14:41:38.756Z"
      },
      {
        "duration": 24,
        "start_time": "2024-06-06T14:41:39.092Z"
      },
      {
        "duration": 226,
        "start_time": "2024-06-06T14:41:39.117Z"
      },
      {
        "duration": 187,
        "start_time": "2024-06-06T14:41:39.345Z"
      },
      {
        "duration": 14,
        "start_time": "2024-06-06T14:41:39.534Z"
      },
      {
        "duration": 330,
        "start_time": "2024-06-06T14:41:39.550Z"
      },
      {
        "duration": 15,
        "start_time": "2024-06-06T14:41:39.882Z"
      },
      {
        "duration": 234,
        "start_time": "2024-06-06T14:41:39.899Z"
      },
      {
        "duration": 213,
        "start_time": "2024-06-06T14:41:40.135Z"
      },
      {
        "duration": 8,
        "start_time": "2024-06-06T14:41:40.350Z"
      },
      {
        "duration": 13,
        "start_time": "2024-06-06T14:41:40.360Z"
      },
      {
        "duration": 12,
        "start_time": "2024-06-06T14:41:40.375Z"
      },
      {
        "duration": 1132,
        "start_time": "2024-06-06T18:13:04.457Z"
      },
      {
        "duration": 251,
        "start_time": "2024-06-06T18:13:05.591Z"
      },
      {
        "duration": 13,
        "start_time": "2024-06-06T18:13:05.843Z"
      },
      {
        "duration": 20,
        "start_time": "2024-06-06T18:13:05.857Z"
      },
      {
        "duration": 7,
        "start_time": "2024-06-06T18:13:05.879Z"
      },
      {
        "duration": 38,
        "start_time": "2024-06-06T18:13:05.887Z"
      },
      {
        "duration": 14,
        "start_time": "2024-06-06T18:13:05.926Z"
      },
      {
        "duration": 6,
        "start_time": "2024-06-06T18:13:05.942Z"
      },
      {
        "duration": 9,
        "start_time": "2024-06-06T18:13:05.949Z"
      },
      {
        "duration": 37,
        "start_time": "2024-06-06T18:13:05.959Z"
      },
      {
        "duration": 25,
        "start_time": "2024-06-06T18:13:05.998Z"
      },
      {
        "duration": 19,
        "start_time": "2024-06-06T18:13:06.025Z"
      },
      {
        "duration": 343,
        "start_time": "2024-06-06T18:13:06.045Z"
      },
      {
        "duration": 283,
        "start_time": "2024-06-06T18:13:06.394Z"
      },
      {
        "duration": 190,
        "start_time": "2024-06-06T18:13:06.678Z"
      },
      {
        "duration": 186,
        "start_time": "2024-06-06T18:13:06.870Z"
      },
      {
        "duration": 191,
        "start_time": "2024-06-06T18:13:07.058Z"
      },
      {
        "duration": 195,
        "start_time": "2024-06-06T18:13:07.250Z"
      },
      {
        "duration": 190,
        "start_time": "2024-06-06T18:13:07.446Z"
      },
      {
        "duration": 194,
        "start_time": "2024-06-06T18:13:07.637Z"
      },
      {
        "duration": 256,
        "start_time": "2024-06-06T18:13:07.832Z"
      },
      {
        "duration": 152,
        "start_time": "2024-06-06T18:13:08.090Z"
      },
      {
        "duration": 277,
        "start_time": "2024-06-06T18:13:08.243Z"
      },
      {
        "duration": 147,
        "start_time": "2024-06-06T18:13:08.522Z"
      },
      {
        "duration": 175,
        "start_time": "2024-06-06T18:13:08.670Z"
      },
      {
        "duration": 145,
        "start_time": "2024-06-06T18:13:08.846Z"
      },
      {
        "duration": 149,
        "start_time": "2024-06-06T18:13:08.993Z"
      },
      {
        "duration": 168,
        "start_time": "2024-06-06T18:13:09.143Z"
      },
      {
        "duration": 165,
        "start_time": "2024-06-06T18:13:09.312Z"
      },
      {
        "duration": 96,
        "start_time": "2024-06-06T18:13:09.478Z"
      },
      {
        "duration": 21,
        "start_time": "2024-06-06T18:13:09.575Z"
      },
      {
        "duration": 129,
        "start_time": "2024-06-06T18:13:09.598Z"
      },
      {
        "duration": 5,
        "start_time": "2024-06-06T18:13:09.728Z"
      },
      {
        "duration": 18,
        "start_time": "2024-06-06T18:13:09.735Z"
      },
      {
        "duration": 371,
        "start_time": "2024-06-06T18:13:09.754Z"
      },
      {
        "duration": 12,
        "start_time": "2024-06-06T18:13:10.126Z"
      },
      {
        "duration": 192,
        "start_time": "2024-06-06T18:13:10.139Z"
      },
      {
        "duration": 190,
        "start_time": "2024-06-06T18:13:10.333Z"
      },
      {
        "duration": 12,
        "start_time": "2024-06-06T18:13:10.524Z"
      },
      {
        "duration": 321,
        "start_time": "2024-06-06T18:13:10.537Z"
      },
      {
        "duration": 13,
        "start_time": "2024-06-06T18:13:10.861Z"
      },
      {
        "duration": 209,
        "start_time": "2024-06-06T18:13:10.875Z"
      },
      {
        "duration": 203,
        "start_time": "2024-06-06T18:13:11.085Z"
      },
      {
        "duration": 27,
        "start_time": "2024-06-06T18:13:11.290Z"
      },
      {
        "duration": 274,
        "start_time": "2024-06-06T18:13:11.319Z"
      },
      {
        "duration": 12,
        "start_time": "2024-06-06T18:13:11.595Z"
      },
      {
        "duration": 208,
        "start_time": "2024-06-06T18:13:11.609Z"
      },
      {
        "duration": 173,
        "start_time": "2024-06-06T18:13:11.818Z"
      },
      {
        "duration": 7,
        "start_time": "2024-06-06T18:13:11.993Z"
      },
      {
        "duration": 14,
        "start_time": "2024-06-06T18:13:12.002Z"
      },
      {
        "duration": 13,
        "start_time": "2024-06-06T18:13:12.018Z"
      },
      {
        "duration": 156,
        "start_time": "2024-06-06T18:15:36.275Z"
      },
      {
        "duration": 118,
        "start_time": "2024-06-06T18:15:51.909Z"
      },
      {
        "duration": 129,
        "start_time": "2024-06-06T18:16:36.506Z"
      },
      {
        "duration": 119,
        "start_time": "2024-06-06T18:47:47.184Z"
      },
      {
        "duration": 207,
        "start_time": "2024-06-06T18:48:05.691Z"
      },
      {
        "duration": 119,
        "start_time": "2024-06-06T18:48:20.830Z"
      },
      {
        "duration": 93,
        "start_time": "2024-06-06T18:48:23.407Z"
      },
      {
        "duration": 123,
        "start_time": "2024-06-06T18:48:43.160Z"
      },
      {
        "duration": 120,
        "start_time": "2024-06-06T18:48:45.514Z"
      },
      {
        "duration": 115,
        "start_time": "2024-06-06T18:49:25.711Z"
      },
      {
        "duration": 114,
        "start_time": "2024-06-06T18:49:35.701Z"
      },
      {
        "duration": 119,
        "start_time": "2024-06-06T18:49:49.327Z"
      },
      {
        "duration": 188,
        "start_time": "2024-06-06T18:59:58.214Z"
      },
      {
        "duration": 180,
        "start_time": "2024-06-06T19:00:25.947Z"
      },
      {
        "duration": 186,
        "start_time": "2024-06-06T19:00:43.696Z"
      },
      {
        "duration": 199,
        "start_time": "2024-06-06T19:01:32.796Z"
      },
      {
        "duration": 1340,
        "start_time": "2024-06-07T07:20:06.502Z"
      },
      {
        "duration": 289,
        "start_time": "2024-06-07T07:20:07.844Z"
      },
      {
        "duration": 19,
        "start_time": "2024-06-07T07:20:08.136Z"
      },
      {
        "duration": 29,
        "start_time": "2024-06-07T07:20:08.157Z"
      },
      {
        "duration": 13,
        "start_time": "2024-06-07T07:20:08.188Z"
      },
      {
        "duration": 22,
        "start_time": "2024-06-07T07:20:08.203Z"
      },
      {
        "duration": 18,
        "start_time": "2024-06-07T07:20:08.228Z"
      },
      {
        "duration": 5,
        "start_time": "2024-06-07T07:20:08.248Z"
      },
      {
        "duration": 61,
        "start_time": "2024-06-07T07:20:08.255Z"
      },
      {
        "duration": 46,
        "start_time": "2024-06-07T07:20:08.319Z"
      },
      {
        "duration": 22,
        "start_time": "2024-06-07T07:20:08.368Z"
      },
      {
        "duration": 50,
        "start_time": "2024-06-07T07:20:08.392Z"
      },
      {
        "duration": 459,
        "start_time": "2024-06-07T07:20:08.443Z"
      },
      {
        "duration": 351,
        "start_time": "2024-06-07T07:20:08.904Z"
      },
      {
        "duration": 220,
        "start_time": "2024-06-07T07:20:09.257Z"
      },
      {
        "duration": 239,
        "start_time": "2024-06-07T07:20:09.478Z"
      },
      {
        "duration": 235,
        "start_time": "2024-06-07T07:20:09.718Z"
      },
      {
        "duration": 246,
        "start_time": "2024-06-07T07:20:09.954Z"
      },
      {
        "duration": 211,
        "start_time": "2024-06-07T07:20:10.202Z"
      },
      {
        "duration": 209,
        "start_time": "2024-06-07T07:20:10.415Z"
      },
      {
        "duration": 307,
        "start_time": "2024-06-07T07:20:10.626Z"
      },
      {
        "duration": 181,
        "start_time": "2024-06-07T07:20:10.934Z"
      },
      {
        "duration": 321,
        "start_time": "2024-06-07T07:20:11.116Z"
      },
      {
        "duration": 176,
        "start_time": "2024-06-07T07:20:11.439Z"
      },
      {
        "duration": 220,
        "start_time": "2024-06-07T07:20:11.616Z"
      },
      {
        "duration": 166,
        "start_time": "2024-06-07T07:20:11.838Z"
      },
      {
        "duration": 185,
        "start_time": "2024-06-07T07:20:12.006Z"
      },
      {
        "duration": 188,
        "start_time": "2024-06-07T07:20:12.195Z"
      },
      {
        "duration": 181,
        "start_time": "2024-06-07T07:20:12.385Z"
      },
      {
        "duration": 113,
        "start_time": "2024-06-07T07:20:12.568Z"
      },
      {
        "duration": 17,
        "start_time": "2024-06-07T07:20:12.682Z"
      },
      {
        "duration": 214,
        "start_time": "2024-06-07T07:20:12.700Z"
      },
      {
        "duration": 161,
        "start_time": "2024-06-07T07:20:12.916Z"
      },
      {
        "duration": 254,
        "start_time": "2024-06-07T07:20:13.079Z"
      },
      {
        "duration": 143,
        "start_time": "2024-06-07T07:20:13.334Z"
      },
      {
        "duration": 231,
        "start_time": "2024-06-07T07:20:13.479Z"
      },
      {
        "duration": 14,
        "start_time": "2024-06-07T07:20:13.712Z"
      },
      {
        "duration": 325,
        "start_time": "2024-06-07T07:20:13.728Z"
      },
      {
        "duration": 15,
        "start_time": "2024-06-07T07:20:14.054Z"
      },
      {
        "duration": 219,
        "start_time": "2024-06-07T07:20:14.071Z"
      },
      {
        "duration": 192,
        "start_time": "2024-06-07T07:20:14.292Z"
      },
      {
        "duration": 15,
        "start_time": "2024-06-07T07:20:14.486Z"
      },
      {
        "duration": 361,
        "start_time": "2024-06-07T07:20:14.503Z"
      },
      {
        "duration": 15,
        "start_time": "2024-06-07T07:20:14.866Z"
      },
      {
        "duration": 228,
        "start_time": "2024-06-07T07:20:14.892Z"
      },
      {
        "duration": 188,
        "start_time": "2024-06-07T07:20:15.122Z"
      },
      {
        "duration": 15,
        "start_time": "2024-06-07T07:20:15.312Z"
      },
      {
        "duration": 392,
        "start_time": "2024-06-07T07:20:15.328Z"
      },
      {
        "duration": 15,
        "start_time": "2024-06-07T07:20:15.722Z"
      },
      {
        "duration": 249,
        "start_time": "2024-06-07T07:20:15.739Z"
      },
      {
        "duration": 330,
        "start_time": "2024-06-07T07:20:15.992Z"
      },
      {
        "duration": 8,
        "start_time": "2024-06-07T07:20:16.325Z"
      },
      {
        "duration": 40,
        "start_time": "2024-06-07T07:20:16.336Z"
      },
      {
        "duration": 31,
        "start_time": "2024-06-07T07:20:16.377Z"
      },
      {
        "duration": 1109,
        "start_time": "2024-06-07T15:13:35.643Z"
      },
      {
        "duration": 248,
        "start_time": "2024-06-07T15:13:36.754Z"
      },
      {
        "duration": 13,
        "start_time": "2024-06-07T15:13:37.003Z"
      },
      {
        "duration": 10,
        "start_time": "2024-06-07T15:13:37.017Z"
      },
      {
        "duration": 7,
        "start_time": "2024-06-07T15:13:37.028Z"
      },
      {
        "duration": 14,
        "start_time": "2024-06-07T15:13:37.035Z"
      },
      {
        "duration": 10,
        "start_time": "2024-06-07T15:13:37.050Z"
      },
      {
        "duration": 3,
        "start_time": "2024-06-07T15:13:37.061Z"
      },
      {
        "duration": 6,
        "start_time": "2024-06-07T15:13:37.065Z"
      },
      {
        "duration": 7,
        "start_time": "2024-06-07T15:13:37.073Z"
      },
      {
        "duration": 13,
        "start_time": "2024-06-07T15:13:37.081Z"
      },
      {
        "duration": 35,
        "start_time": "2024-06-07T15:13:37.095Z"
      },
      {
        "duration": 302,
        "start_time": "2024-06-07T15:13:37.131Z"
      },
      {
        "duration": 260,
        "start_time": "2024-06-07T15:13:37.434Z"
      },
      {
        "duration": 178,
        "start_time": "2024-06-07T15:13:37.695Z"
      },
      {
        "duration": 177,
        "start_time": "2024-06-07T15:13:37.875Z"
      },
      {
        "duration": 172,
        "start_time": "2024-06-07T15:13:38.053Z"
      },
      {
        "duration": 177,
        "start_time": "2024-06-07T15:13:38.226Z"
      },
      {
        "duration": 173,
        "start_time": "2024-06-07T15:13:38.404Z"
      },
      {
        "duration": 171,
        "start_time": "2024-06-07T15:13:38.579Z"
      },
      {
        "duration": 232,
        "start_time": "2024-06-07T15:13:38.751Z"
      },
      {
        "duration": 159,
        "start_time": "2024-06-07T15:13:38.985Z"
      },
      {
        "duration": 239,
        "start_time": "2024-06-07T15:13:39.145Z"
      },
      {
        "duration": 138,
        "start_time": "2024-06-07T15:13:39.385Z"
      },
      {
        "duration": 167,
        "start_time": "2024-06-07T15:13:39.524Z"
      },
      {
        "duration": 133,
        "start_time": "2024-06-07T15:13:39.692Z"
      },
      {
        "duration": 137,
        "start_time": "2024-06-07T15:13:39.827Z"
      },
      {
        "duration": 160,
        "start_time": "2024-06-07T15:13:39.967Z"
      },
      {
        "duration": 159,
        "start_time": "2024-06-07T15:13:40.128Z"
      },
      {
        "duration": 119,
        "start_time": "2024-06-07T15:13:40.289Z"
      },
      {
        "duration": 17,
        "start_time": "2024-06-07T15:13:40.409Z"
      },
      {
        "duration": 125,
        "start_time": "2024-06-07T15:13:40.427Z"
      },
      {
        "duration": 118,
        "start_time": "2024-06-07T15:13:40.554Z"
      },
      {
        "duration": 171,
        "start_time": "2024-06-07T15:13:40.674Z"
      },
      {
        "duration": 116,
        "start_time": "2024-06-07T15:13:40.846Z"
      },
      {
        "duration": 181,
        "start_time": "2024-06-07T15:13:40.963Z"
      },
      {
        "duration": 11,
        "start_time": "2024-06-07T15:13:41.146Z"
      },
      {
        "duration": 257,
        "start_time": "2024-06-07T15:13:41.158Z"
      },
      {
        "duration": 12,
        "start_time": "2024-06-07T15:13:41.419Z"
      },
      {
        "duration": 176,
        "start_time": "2024-06-07T15:13:41.432Z"
      },
      {
        "duration": 163,
        "start_time": "2024-06-07T15:13:41.610Z"
      },
      {
        "duration": 12,
        "start_time": "2024-06-07T15:13:41.774Z"
      },
      {
        "duration": 273,
        "start_time": "2024-06-07T15:13:41.787Z"
      },
      {
        "duration": 13,
        "start_time": "2024-06-07T15:13:42.062Z"
      },
      {
        "duration": 188,
        "start_time": "2024-06-07T15:13:42.076Z"
      },
      {
        "duration": 166,
        "start_time": "2024-06-07T15:13:42.266Z"
      },
      {
        "duration": 12,
        "start_time": "2024-06-07T15:13:42.434Z"
      },
      {
        "duration": 287,
        "start_time": "2024-06-07T15:13:42.447Z"
      },
      {
        "duration": 10,
        "start_time": "2024-06-07T15:13:42.736Z"
      },
      {
        "duration": 184,
        "start_time": "2024-06-07T15:13:42.747Z"
      },
      {
        "duration": 242,
        "start_time": "2024-06-07T15:13:42.933Z"
      },
      {
        "duration": 5,
        "start_time": "2024-06-07T15:13:43.176Z"
      },
      {
        "duration": 9,
        "start_time": "2024-06-07T15:13:43.183Z"
      },
      {
        "duration": 9,
        "start_time": "2024-06-07T15:13:43.193Z"
      },
      {
        "duration": 1101,
        "start_time": "2024-06-07T16:04:30.622Z"
      },
      {
        "duration": 122,
        "start_time": "2024-06-07T16:04:31.725Z"
      },
      {
        "duration": 14,
        "start_time": "2024-06-07T16:04:31.848Z"
      },
      {
        "duration": 56,
        "start_time": "2024-06-07T16:04:31.864Z"
      },
      {
        "duration": 26,
        "start_time": "2024-06-07T16:04:31.922Z"
      },
      {
        "duration": 32,
        "start_time": "2024-06-07T16:04:31.949Z"
      },
      {
        "duration": 16,
        "start_time": "2024-06-07T16:04:31.983Z"
      },
      {
        "duration": 4,
        "start_time": "2024-06-07T16:04:32.001Z"
      },
      {
        "duration": 21,
        "start_time": "2024-06-07T16:04:32.007Z"
      },
      {
        "duration": 22,
        "start_time": "2024-06-07T16:04:32.030Z"
      },
      {
        "duration": 25,
        "start_time": "2024-06-07T16:04:32.054Z"
      },
      {
        "duration": 16,
        "start_time": "2024-06-07T16:04:32.081Z"
      },
      {
        "duration": 379,
        "start_time": "2024-06-07T16:04:32.099Z"
      },
      {
        "duration": 335,
        "start_time": "2024-06-07T16:04:32.481Z"
      },
      {
        "duration": 274,
        "start_time": "2024-06-07T16:04:32.818Z"
      },
      {
        "duration": 224,
        "start_time": "2024-06-07T16:04:33.094Z"
      },
      {
        "duration": 221,
        "start_time": "2024-06-07T16:04:33.320Z"
      },
      {
        "duration": 211,
        "start_time": "2024-06-07T16:04:33.542Z"
      },
      {
        "duration": 215,
        "start_time": "2024-06-07T16:04:33.755Z"
      },
      {
        "duration": 204,
        "start_time": "2024-06-07T16:04:33.971Z"
      },
      {
        "duration": 343,
        "start_time": "2024-06-07T16:04:34.176Z"
      },
      {
        "duration": 186,
        "start_time": "2024-06-07T16:04:34.520Z"
      },
      {
        "duration": 318,
        "start_time": "2024-06-07T16:04:34.709Z"
      },
      {
        "duration": 175,
        "start_time": "2024-06-07T16:04:35.030Z"
      },
      {
        "duration": 209,
        "start_time": "2024-06-07T16:04:35.214Z"
      },
      {
        "duration": 168,
        "start_time": "2024-06-07T16:04:35.425Z"
      },
      {
        "duration": 184,
        "start_time": "2024-06-07T16:04:35.595Z"
      },
      {
        "duration": 233,
        "start_time": "2024-06-07T16:04:35.783Z"
      },
      {
        "duration": 200,
        "start_time": "2024-06-07T16:04:36.018Z"
      },
      {
        "duration": 112,
        "start_time": "2024-06-07T16:04:36.219Z"
      },
      {
        "duration": 11,
        "start_time": "2024-06-07T16:04:36.333Z"
      },
      {
        "duration": 167,
        "start_time": "2024-06-07T16:04:36.345Z"
      },
      {
        "duration": 140,
        "start_time": "2024-06-07T16:04:36.514Z"
      },
      {
        "duration": 239,
        "start_time": "2024-06-07T16:04:36.656Z"
      },
      {
        "duration": 140,
        "start_time": "2024-06-07T16:04:36.897Z"
      },
      {
        "duration": 231,
        "start_time": "2024-06-07T16:04:37.038Z"
      },
      {
        "duration": 15,
        "start_time": "2024-06-07T16:04:37.271Z"
      },
      {
        "duration": 333,
        "start_time": "2024-06-07T16:04:37.288Z"
      },
      {
        "duration": 15,
        "start_time": "2024-06-07T16:04:37.623Z"
      },
      {
        "duration": 216,
        "start_time": "2024-06-07T16:04:37.639Z"
      },
      {
        "duration": 183,
        "start_time": "2024-06-07T16:04:37.860Z"
      },
      {
        "duration": 14,
        "start_time": "2024-06-07T16:04:38.045Z"
      },
      {
        "duration": 326,
        "start_time": "2024-06-07T16:04:38.061Z"
      },
      {
        "duration": 14,
        "start_time": "2024-06-07T16:04:38.389Z"
      },
      {
        "duration": 227,
        "start_time": "2024-06-07T16:04:38.415Z"
      },
      {
        "duration": 202,
        "start_time": "2024-06-07T16:04:38.644Z"
      },
      {
        "duration": 16,
        "start_time": "2024-06-07T16:04:38.848Z"
      },
      {
        "duration": 338,
        "start_time": "2024-06-07T16:04:38.866Z"
      },
      {
        "duration": 18,
        "start_time": "2024-06-07T16:04:39.206Z"
      },
      {
        "duration": 229,
        "start_time": "2024-06-07T16:04:39.225Z"
      },
      {
        "duration": 305,
        "start_time": "2024-06-07T16:04:39.456Z"
      },
      {
        "duration": 7,
        "start_time": "2024-06-07T16:04:39.762Z"
      },
      {
        "duration": 11,
        "start_time": "2024-06-07T16:04:39.770Z"
      },
      {
        "duration": 35,
        "start_time": "2024-06-07T16:04:39.783Z"
      },
      {
        "duration": 78,
        "start_time": "2024-06-07T16:46:47.924Z"
      },
      {
        "duration": 27,
        "start_time": "2024-06-07T16:50:42.102Z"
      },
      {
        "duration": 13,
        "start_time": "2024-06-07T17:00:43.288Z"
      },
      {
        "duration": 1113,
        "start_time": "2024-06-08T06:21:17.674Z"
      },
      {
        "duration": 165,
        "start_time": "2024-06-08T06:21:18.789Z"
      },
      {
        "duration": 11,
        "start_time": "2024-06-08T06:21:18.956Z"
      },
      {
        "duration": 38,
        "start_time": "2024-06-08T06:21:18.969Z"
      },
      {
        "duration": 7,
        "start_time": "2024-06-08T06:21:19.008Z"
      },
      {
        "duration": 15,
        "start_time": "2024-06-08T06:21:19.016Z"
      },
      {
        "duration": 10,
        "start_time": "2024-06-08T06:21:19.032Z"
      },
      {
        "duration": 3,
        "start_time": "2024-06-08T06:21:19.043Z"
      },
      {
        "duration": 5,
        "start_time": "2024-06-08T06:21:19.047Z"
      },
      {
        "duration": 13,
        "start_time": "2024-06-08T06:21:19.054Z"
      },
      {
        "duration": 18,
        "start_time": "2024-06-08T06:21:19.068Z"
      },
      {
        "duration": 18,
        "start_time": "2024-06-08T06:21:19.087Z"
      },
      {
        "duration": 58,
        "start_time": "2024-06-08T06:21:19.106Z"
      },
      {
        "duration": 303,
        "start_time": "2024-06-08T06:21:19.165Z"
      },
      {
        "duration": 236,
        "start_time": "2024-06-08T06:21:19.469Z"
      },
      {
        "duration": 163,
        "start_time": "2024-06-08T06:21:19.706Z"
      },
      {
        "duration": 184,
        "start_time": "2024-06-08T06:21:19.870Z"
      },
      {
        "duration": 167,
        "start_time": "2024-06-08T06:21:20.055Z"
      },
      {
        "duration": 193,
        "start_time": "2024-06-08T06:21:20.223Z"
      },
      {
        "duration": 158,
        "start_time": "2024-06-08T06:21:20.418Z"
      },
      {
        "duration": 160,
        "start_time": "2024-06-08T06:21:20.578Z"
      },
      {
        "duration": 20,
        "start_time": "2024-06-08T06:21:20.740Z"
      },
      {
        "duration": 245,
        "start_time": "2024-06-08T06:21:20.761Z"
      },
      {
        "duration": 149,
        "start_time": "2024-06-08T06:21:21.008Z"
      },
      {
        "duration": 243,
        "start_time": "2024-06-08T06:21:21.158Z"
      },
      {
        "duration": 132,
        "start_time": "2024-06-08T06:21:21.402Z"
      },
      {
        "duration": 159,
        "start_time": "2024-06-08T06:21:21.535Z"
      },
      {
        "duration": 135,
        "start_time": "2024-06-08T06:21:21.701Z"
      },
      {
        "duration": 132,
        "start_time": "2024-06-08T06:21:21.837Z"
      },
      {
        "duration": 145,
        "start_time": "2024-06-08T06:21:21.970Z"
      },
      {
        "duration": 141,
        "start_time": "2024-06-08T06:21:22.117Z"
      },
      {
        "duration": 88,
        "start_time": "2024-06-08T06:21:22.259Z"
      },
      {
        "duration": 7,
        "start_time": "2024-06-08T06:21:22.348Z"
      },
      {
        "duration": 8,
        "start_time": "2024-06-08T06:21:22.356Z"
      },
      {
        "duration": 122,
        "start_time": "2024-06-08T06:21:22.365Z"
      },
      {
        "duration": 166,
        "start_time": "2024-06-08T06:21:22.489Z"
      },
      {
        "duration": 105,
        "start_time": "2024-06-08T06:21:22.656Z"
      },
      {
        "duration": 110,
        "start_time": "2024-06-08T06:21:22.762Z"
      },
      {
        "duration": 181,
        "start_time": "2024-06-08T06:21:22.873Z"
      },
      {
        "duration": 11,
        "start_time": "2024-06-08T06:21:23.055Z"
      },
      {
        "duration": 262,
        "start_time": "2024-06-08T06:21:23.067Z"
      },
      {
        "duration": 11,
        "start_time": "2024-06-08T06:21:23.331Z"
      },
      {
        "duration": 167,
        "start_time": "2024-06-08T06:21:23.343Z"
      },
      {
        "duration": 140,
        "start_time": "2024-06-08T06:21:23.511Z"
      },
      {
        "duration": 11,
        "start_time": "2024-06-08T06:21:23.652Z"
      },
      {
        "duration": 242,
        "start_time": "2024-06-08T06:21:23.664Z"
      },
      {
        "duration": 12,
        "start_time": "2024-06-08T06:21:23.907Z"
      },
      {
        "duration": 171,
        "start_time": "2024-06-08T06:21:23.920Z"
      },
      {
        "duration": 148,
        "start_time": "2024-06-08T06:21:24.093Z"
      },
      {
        "duration": 12,
        "start_time": "2024-06-08T06:21:24.242Z"
      },
      {
        "duration": 259,
        "start_time": "2024-06-08T06:21:24.256Z"
      },
      {
        "duration": 12,
        "start_time": "2024-06-08T06:21:24.517Z"
      },
      {
        "duration": 321,
        "start_time": "2024-06-08T06:21:24.531Z"
      },
      {
        "duration": 158,
        "start_time": "2024-06-08T06:21:24.854Z"
      },
      {
        "duration": 5,
        "start_time": "2024-06-08T06:21:25.013Z"
      },
      {
        "duration": 9,
        "start_time": "2024-06-08T06:21:25.019Z"
      },
      {
        "duration": 17,
        "start_time": "2024-06-08T06:21:25.029Z"
      },
      {
        "duration": 83,
        "start_time": "2024-06-08T06:31:03.611Z"
      },
      {
        "duration": 13,
        "start_time": "2024-06-08T06:31:16.351Z"
      },
      {
        "duration": 7,
        "start_time": "2024-06-08T06:32:56.853Z"
      },
      {
        "duration": 9,
        "start_time": "2024-06-08T06:33:01.783Z"
      },
      {
        "duration": 10,
        "start_time": "2024-06-08T06:33:17.203Z"
      },
      {
        "duration": 7,
        "start_time": "2024-06-08T06:36:22.766Z"
      },
      {
        "duration": 7,
        "start_time": "2024-06-08T06:36:29.907Z"
      },
      {
        "duration": 12,
        "start_time": "2024-06-08T06:37:36.999Z"
      },
      {
        "duration": 10,
        "start_time": "2024-06-08T06:38:07.775Z"
      },
      {
        "duration": 11,
        "start_time": "2024-06-08T06:38:21.187Z"
      },
      {
        "duration": 13,
        "start_time": "2024-06-08T06:38:58.709Z"
      },
      {
        "duration": 21,
        "start_time": "2024-06-08T06:39:25.744Z"
      },
      {
        "duration": 23,
        "start_time": "2024-06-08T06:40:59.148Z"
      },
      {
        "duration": 13,
        "start_time": "2024-06-08T06:41:23.873Z"
      },
      {
        "duration": 14,
        "start_time": "2024-06-08T06:41:29.020Z"
      },
      {
        "duration": 15,
        "start_time": "2024-06-08T06:41:45.313Z"
      },
      {
        "duration": 14,
        "start_time": "2024-06-08T06:46:27.131Z"
      },
      {
        "duration": 6,
        "start_time": "2024-06-08T06:49:05.713Z"
      },
      {
        "duration": 1112,
        "start_time": "2024-06-08T19:09:25.859Z"
      },
      {
        "duration": 241,
        "start_time": "2024-06-08T19:09:26.973Z"
      },
      {
        "duration": 12,
        "start_time": "2024-06-08T19:09:27.215Z"
      },
      {
        "duration": 11,
        "start_time": "2024-06-08T19:09:27.229Z"
      },
      {
        "duration": 7,
        "start_time": "2024-06-08T19:09:27.242Z"
      },
      {
        "duration": 14,
        "start_time": "2024-06-08T19:09:27.250Z"
      },
      {
        "duration": 12,
        "start_time": "2024-06-08T19:09:27.265Z"
      },
      {
        "duration": 33,
        "start_time": "2024-06-08T19:09:27.278Z"
      },
      {
        "duration": 8,
        "start_time": "2024-06-08T19:09:27.312Z"
      },
      {
        "duration": 8,
        "start_time": "2024-06-08T19:09:27.322Z"
      },
      {
        "duration": 26,
        "start_time": "2024-06-08T19:09:27.331Z"
      },
      {
        "duration": 13,
        "start_time": "2024-06-08T19:09:27.359Z"
      },
      {
        "duration": 15,
        "start_time": "2024-06-08T19:09:27.373Z"
      },
      {
        "duration": 21,
        "start_time": "2024-06-08T19:09:27.389Z"
      },
      {
        "duration": 28,
        "start_time": "2024-06-08T19:09:27.411Z"
      },
      {
        "duration": 14,
        "start_time": "2024-06-08T19:09:27.440Z"
      },
      {
        "duration": 82,
        "start_time": "2024-06-08T19:09:27.456Z"
      },
      {
        "duration": 313,
        "start_time": "2024-06-08T19:09:27.540Z"
      },
      {
        "duration": 274,
        "start_time": "2024-06-08T19:09:27.855Z"
      },
      {
        "duration": 181,
        "start_time": "2024-06-08T19:09:28.130Z"
      },
      {
        "duration": 198,
        "start_time": "2024-06-08T19:09:28.313Z"
      },
      {
        "duration": 182,
        "start_time": "2024-06-08T19:09:28.512Z"
      },
      {
        "duration": 179,
        "start_time": "2024-06-08T19:09:28.696Z"
      },
      {
        "duration": 172,
        "start_time": "2024-06-08T19:09:28.876Z"
      },
      {
        "duration": 184,
        "start_time": "2024-06-08T19:09:29.049Z"
      },
      {
        "duration": 23,
        "start_time": "2024-06-08T19:09:29.235Z"
      },
      {
        "duration": 260,
        "start_time": "2024-06-08T19:09:29.259Z"
      },
      {
        "duration": 215,
        "start_time": "2024-06-08T19:09:29.524Z"
      },
      {
        "duration": 509,
        "start_time": "2024-06-08T19:09:29.741Z"
      },
      {
        "duration": 289,
        "start_time": "2024-06-08T19:09:30.251Z"
      },
      {
        "duration": 379,
        "start_time": "2024-06-08T19:09:30.541Z"
      },
      {
        "duration": 228,
        "start_time": "2024-06-08T19:09:30.921Z"
      },
      {
        "duration": 301,
        "start_time": "2024-06-08T19:09:31.151Z"
      },
      {
        "duration": 389,
        "start_time": "2024-06-08T19:09:31.453Z"
      },
      {
        "duration": 299,
        "start_time": "2024-06-08T19:09:31.844Z"
      },
      {
        "duration": 189,
        "start_time": "2024-06-08T19:09:32.145Z"
      },
      {
        "duration": 8,
        "start_time": "2024-06-08T19:09:32.335Z"
      },
      {
        "duration": 67,
        "start_time": "2024-06-08T19:09:32.345Z"
      },
      {
        "duration": 124,
        "start_time": "2024-06-08T19:09:32.413Z"
      },
      {
        "duration": 185,
        "start_time": "2024-06-08T19:09:32.539Z"
      },
      {
        "duration": 123,
        "start_time": "2024-06-08T19:09:32.725Z"
      },
      {
        "duration": 125,
        "start_time": "2024-06-08T19:09:32.849Z"
      },
      {
        "duration": 201,
        "start_time": "2024-06-08T19:09:32.976Z"
      },
      {
        "duration": 13,
        "start_time": "2024-06-08T19:09:33.179Z"
      },
      {
        "duration": 298,
        "start_time": "2024-06-08T19:09:33.193Z"
      },
      {
        "duration": 25,
        "start_time": "2024-06-08T19:09:33.493Z"
      },
      {
        "duration": 204,
        "start_time": "2024-06-08T19:09:33.520Z"
      },
      {
        "duration": 153,
        "start_time": "2024-06-08T19:09:33.725Z"
      },
      {
        "duration": 11,
        "start_time": "2024-06-08T19:09:33.879Z"
      },
      {
        "duration": 267,
        "start_time": "2024-06-08T19:09:33.892Z"
      },
      {
        "duration": 11,
        "start_time": "2024-06-08T19:09:34.161Z"
      },
      {
        "duration": 189,
        "start_time": "2024-06-08T19:09:34.174Z"
      },
      {
        "duration": 153,
        "start_time": "2024-06-08T19:09:34.365Z"
      },
      {
        "duration": 12,
        "start_time": "2024-06-08T19:09:34.520Z"
      },
      {
        "duration": 276,
        "start_time": "2024-06-08T19:09:34.533Z"
      },
      {
        "duration": 12,
        "start_time": "2024-06-08T19:09:34.812Z"
      },
      {
        "duration": 274,
        "start_time": "2024-06-08T19:09:34.825Z"
      },
      {
        "duration": 218,
        "start_time": "2024-06-08T19:09:35.100Z"
      },
      {
        "duration": 6,
        "start_time": "2024-06-08T19:09:35.319Z"
      },
      {
        "duration": 109,
        "start_time": "2024-06-08T19:09:35.326Z"
      },
      {
        "duration": 0,
        "start_time": "2024-06-08T19:09:35.437Z"
      },
      {
        "duration": 322,
        "start_time": "2024-06-08T19:12:26.840Z"
      },
      {
        "duration": 265,
        "start_time": "2024-06-08T19:12:39.881Z"
      },
      {
        "duration": 276,
        "start_time": "2024-06-08T19:13:36.126Z"
      },
      {
        "duration": 200,
        "start_time": "2024-06-08T19:13:59.450Z"
      },
      {
        "duration": 206,
        "start_time": "2024-06-08T19:14:21.407Z"
      },
      {
        "duration": 167,
        "start_time": "2024-06-08T19:14:25.986Z"
      },
      {
        "duration": 166,
        "start_time": "2024-06-08T19:15:15.007Z"
      },
      {
        "duration": 18,
        "start_time": "2024-06-08T19:16:07.431Z"
      },
      {
        "duration": 249,
        "start_time": "2024-06-08T19:16:59.822Z"
      },
      {
        "duration": 12,
        "start_time": "2024-06-08T19:17:08.870Z"
      },
      {
        "duration": 1053,
        "start_time": "2024-06-09T06:55:41.156Z"
      },
      {
        "duration": 156,
        "start_time": "2024-06-09T06:55:42.211Z"
      },
      {
        "duration": 11,
        "start_time": "2024-06-09T06:55:42.368Z"
      },
      {
        "duration": 14,
        "start_time": "2024-06-09T06:55:42.380Z"
      },
      {
        "duration": 6,
        "start_time": "2024-06-09T06:55:42.396Z"
      },
      {
        "duration": 14,
        "start_time": "2024-06-09T06:55:42.403Z"
      },
      {
        "duration": 12,
        "start_time": "2024-06-09T06:55:42.418Z"
      },
      {
        "duration": 20,
        "start_time": "2024-06-09T06:55:42.431Z"
      },
      {
        "duration": 4,
        "start_time": "2024-06-09T06:55:42.453Z"
      },
      {
        "duration": 8,
        "start_time": "2024-06-09T06:55:42.459Z"
      },
      {
        "duration": 15,
        "start_time": "2024-06-09T06:55:42.468Z"
      },
      {
        "duration": 11,
        "start_time": "2024-06-09T06:55:42.484Z"
      },
      {
        "duration": 12,
        "start_time": "2024-06-09T06:55:42.497Z"
      },
      {
        "duration": 9,
        "start_time": "2024-06-09T06:55:42.510Z"
      },
      {
        "duration": 23,
        "start_time": "2024-06-09T06:55:42.520Z"
      },
      {
        "duration": 13,
        "start_time": "2024-06-09T06:55:42.544Z"
      },
      {
        "duration": 79,
        "start_time": "2024-06-09T06:55:42.558Z"
      },
      {
        "duration": 289,
        "start_time": "2024-06-09T06:55:42.638Z"
      },
      {
        "duration": 252,
        "start_time": "2024-06-09T06:55:42.929Z"
      },
      {
        "duration": 201,
        "start_time": "2024-06-09T06:55:43.182Z"
      },
      {
        "duration": 167,
        "start_time": "2024-06-09T06:55:43.384Z"
      },
      {
        "duration": 164,
        "start_time": "2024-06-09T06:55:43.553Z"
      },
      {
        "duration": 159,
        "start_time": "2024-06-09T06:55:43.719Z"
      },
      {
        "duration": 159,
        "start_time": "2024-06-09T06:55:43.879Z"
      },
      {
        "duration": 11,
        "start_time": "2024-06-09T06:55:44.039Z"
      },
      {
        "duration": 161,
        "start_time": "2024-06-09T06:55:44.051Z"
      },
      {
        "duration": 21,
        "start_time": "2024-06-09T06:55:44.213Z"
      },
      {
        "duration": 225,
        "start_time": "2024-06-09T06:55:44.237Z"
      },
      {
        "duration": 137,
        "start_time": "2024-06-09T06:55:44.464Z"
      },
      {
        "duration": 255,
        "start_time": "2024-06-09T06:55:44.603Z"
      },
      {
        "duration": 128,
        "start_time": "2024-06-09T06:55:44.859Z"
      },
      {
        "duration": 169,
        "start_time": "2024-06-09T06:55:44.988Z"
      },
      {
        "duration": 132,
        "start_time": "2024-06-09T06:55:45.159Z"
      },
      {
        "duration": 127,
        "start_time": "2024-06-09T06:55:45.292Z"
      },
      {
        "duration": 152,
        "start_time": "2024-06-09T06:55:45.420Z"
      },
      {
        "duration": 140,
        "start_time": "2024-06-09T06:55:45.573Z"
      },
      {
        "duration": 92,
        "start_time": "2024-06-09T06:55:45.714Z"
      },
      {
        "duration": 7,
        "start_time": "2024-06-09T06:55:45.807Z"
      },
      {
        "duration": 9,
        "start_time": "2024-06-09T06:55:45.815Z"
      },
      {
        "duration": 185,
        "start_time": "2024-06-09T06:55:45.825Z"
      },
      {
        "duration": 115,
        "start_time": "2024-06-09T06:55:46.011Z"
      },
      {
        "duration": 119,
        "start_time": "2024-06-09T06:55:46.127Z"
      },
      {
        "duration": 119,
        "start_time": "2024-06-09T06:55:46.248Z"
      },
      {
        "duration": 173,
        "start_time": "2024-06-09T06:55:46.368Z"
      },
      {
        "duration": 12,
        "start_time": "2024-06-09T06:55:46.542Z"
      },
      {
        "duration": 244,
        "start_time": "2024-06-09T06:55:46.555Z"
      },
      {
        "duration": 11,
        "start_time": "2024-06-09T06:55:46.801Z"
      },
      {
        "duration": 171,
        "start_time": "2024-06-09T06:55:46.813Z"
      },
      {
        "duration": 145,
        "start_time": "2024-06-09T06:55:46.985Z"
      },
      {
        "duration": 11,
        "start_time": "2024-06-09T06:55:47.131Z"
      },
      {
        "duration": 266,
        "start_time": "2024-06-09T06:55:47.143Z"
      },
      {
        "duration": 12,
        "start_time": "2024-06-09T06:55:47.410Z"
      },
      {
        "duration": 172,
        "start_time": "2024-06-09T06:55:47.423Z"
      },
      {
        "duration": 223,
        "start_time": "2024-06-09T06:55:47.596Z"
      },
      {
        "duration": 11,
        "start_time": "2024-06-09T06:55:47.820Z"
      },
      {
        "duration": 254,
        "start_time": "2024-06-09T06:55:47.833Z"
      },
      {
        "duration": 18,
        "start_time": "2024-06-09T06:55:48.088Z"
      },
      {
        "duration": 173,
        "start_time": "2024-06-09T06:55:48.107Z"
      },
      {
        "duration": 151,
        "start_time": "2024-06-09T06:55:48.282Z"
      },
      {
        "duration": 6,
        "start_time": "2024-06-09T06:55:48.434Z"
      },
      {
        "duration": 97,
        "start_time": "2024-06-09T06:55:48.441Z"
      },
      {
        "duration": 0,
        "start_time": "2024-06-09T06:55:48.540Z"
      },
      {
        "duration": 154,
        "start_time": "2024-06-09T07:02:08.985Z"
      },
      {
        "duration": 149,
        "start_time": "2024-06-09T07:07:15.557Z"
      },
      {
        "duration": 5,
        "start_time": "2024-06-09T07:13:32.441Z"
      },
      {
        "duration": 157,
        "start_time": "2024-06-09T07:13:54.956Z"
      },
      {
        "duration": 159,
        "start_time": "2024-06-09T07:16:12.805Z"
      },
      {
        "duration": 126,
        "start_time": "2024-06-09T07:22:59.728Z"
      },
      {
        "duration": 4,
        "start_time": "2024-06-09T07:23:23.102Z"
      },
      {
        "duration": 154,
        "start_time": "2024-06-09T07:23:24.631Z"
      },
      {
        "duration": 1332,
        "start_time": "2024-06-09T12:48:44.256Z"
      },
      {
        "duration": 202,
        "start_time": "2024-06-09T12:48:45.591Z"
      },
      {
        "duration": 14,
        "start_time": "2024-06-09T12:48:45.795Z"
      },
      {
        "duration": 18,
        "start_time": "2024-06-09T12:48:45.811Z"
      },
      {
        "duration": 12,
        "start_time": "2024-06-09T12:48:45.831Z"
      },
      {
        "duration": 40,
        "start_time": "2024-06-09T12:48:45.845Z"
      },
      {
        "duration": 18,
        "start_time": "2024-06-09T12:48:45.887Z"
      },
      {
        "duration": 3,
        "start_time": "2024-06-09T12:48:45.907Z"
      },
      {
        "duration": 7,
        "start_time": "2024-06-09T12:48:45.912Z"
      },
      {
        "duration": 8,
        "start_time": "2024-06-09T12:48:45.921Z"
      },
      {
        "duration": 36,
        "start_time": "2024-06-09T12:48:45.930Z"
      },
      {
        "duration": 20,
        "start_time": "2024-06-09T12:48:45.968Z"
      },
      {
        "duration": 15,
        "start_time": "2024-06-09T12:48:45.989Z"
      },
      {
        "duration": 9,
        "start_time": "2024-06-09T12:48:46.005Z"
      },
      {
        "duration": 24,
        "start_time": "2024-06-09T12:48:46.016Z"
      },
      {
        "duration": 22,
        "start_time": "2024-06-09T12:48:46.068Z"
      },
      {
        "duration": 93,
        "start_time": "2024-06-09T12:48:46.092Z"
      },
      {
        "duration": 368,
        "start_time": "2024-06-09T12:48:46.187Z"
      },
      {
        "duration": 315,
        "start_time": "2024-06-09T12:48:46.557Z"
      },
      {
        "duration": 218,
        "start_time": "2024-06-09T12:48:46.874Z"
      },
      {
        "duration": 225,
        "start_time": "2024-06-09T12:48:47.094Z"
      },
      {
        "duration": 213,
        "start_time": "2024-06-09T12:48:47.320Z"
      },
      {
        "duration": 198,
        "start_time": "2024-06-09T12:48:47.535Z"
      },
      {
        "duration": 209,
        "start_time": "2024-06-09T12:48:47.735Z"
      },
      {
        "duration": 13,
        "start_time": "2024-06-09T12:48:47.946Z"
      },
      {
        "duration": 188,
        "start_time": "2024-06-09T12:48:47.966Z"
      },
      {
        "duration": 36,
        "start_time": "2024-06-09T12:48:48.155Z"
      },
      {
        "duration": 90,
        "start_time": "2024-06-09T12:48:48.194Z"
      },
      {
        "duration": 172,
        "start_time": "2024-06-09T12:48:48.286Z"
      },
      {
        "duration": 204,
        "start_time": "2024-06-09T12:48:48.464Z"
      },
      {
        "duration": 305,
        "start_time": "2024-06-09T12:48:48.670Z"
      },
      {
        "duration": 174,
        "start_time": "2024-06-09T12:48:48.976Z"
      },
      {
        "duration": 193,
        "start_time": "2024-06-09T12:48:49.151Z"
      },
      {
        "duration": 147,
        "start_time": "2024-06-09T12:48:49.345Z"
      },
      {
        "duration": 156,
        "start_time": "2024-06-09T12:48:49.493Z"
      },
      {
        "duration": 192,
        "start_time": "2024-06-09T12:48:49.651Z"
      },
      {
        "duration": 176,
        "start_time": "2024-06-09T12:48:49.845Z"
      },
      {
        "duration": 105,
        "start_time": "2024-06-09T12:48:50.023Z"
      },
      {
        "duration": 9,
        "start_time": "2024-06-09T12:48:50.129Z"
      },
      {
        "duration": 30,
        "start_time": "2024-06-09T12:48:50.139Z"
      },
      {
        "duration": 251,
        "start_time": "2024-06-09T12:48:50.171Z"
      },
      {
        "duration": 160,
        "start_time": "2024-06-09T12:48:50.423Z"
      },
      {
        "duration": 160,
        "start_time": "2024-06-09T12:48:50.585Z"
      },
      {
        "duration": 124,
        "start_time": "2024-06-09T12:48:50.746Z"
      },
      {
        "duration": 201,
        "start_time": "2024-06-09T12:48:50.872Z"
      },
      {
        "duration": 14,
        "start_time": "2024-06-09T12:48:51.075Z"
      },
      {
        "duration": 300,
        "start_time": "2024-06-09T12:48:51.091Z"
      },
      {
        "duration": 13,
        "start_time": "2024-06-09T12:48:51.393Z"
      },
      {
        "duration": 195,
        "start_time": "2024-06-09T12:48:51.408Z"
      },
      {
        "duration": 170,
        "start_time": "2024-06-09T12:48:51.604Z"
      },
      {
        "duration": 16,
        "start_time": "2024-06-09T12:48:51.776Z"
      },
      {
        "duration": 367,
        "start_time": "2024-06-09T12:48:51.795Z"
      },
      {
        "duration": 15,
        "start_time": "2024-06-09T12:48:52.165Z"
      },
      {
        "duration": 242,
        "start_time": "2024-06-09T12:48:52.182Z"
      },
      {
        "duration": 258,
        "start_time": "2024-06-09T12:48:52.425Z"
      },
      {
        "duration": 13,
        "start_time": "2024-06-09T12:48:52.685Z"
      },
      {
        "duration": 300,
        "start_time": "2024-06-09T12:48:52.699Z"
      },
      {
        "duration": 14,
        "start_time": "2024-06-09T12:48:53.000Z"
      },
      {
        "duration": 209,
        "start_time": "2024-06-09T12:48:53.015Z"
      },
      {
        "duration": 173,
        "start_time": "2024-06-09T12:48:53.226Z"
      },
      {
        "duration": 6,
        "start_time": "2024-06-09T12:48:53.401Z"
      },
      {
        "duration": 142,
        "start_time": "2024-06-09T12:48:53.408Z"
      },
      {
        "duration": 0,
        "start_time": "2024-06-09T12:48:53.552Z"
      },
      {
        "duration": 6,
        "start_time": "2024-06-09T12:50:11.256Z"
      },
      {
        "duration": 195,
        "start_time": "2024-06-09T12:50:12.252Z"
      },
      {
        "duration": 6,
        "start_time": "2024-06-09T12:50:22.872Z"
      },
      {
        "duration": 170,
        "start_time": "2024-06-09T12:50:26.101Z"
      },
      {
        "duration": 8,
        "start_time": "2024-06-09T12:50:59.281Z"
      },
      {
        "duration": 178,
        "start_time": "2024-06-09T12:51:00.110Z"
      },
      {
        "duration": 10,
        "start_time": "2024-06-09T12:51:13.568Z"
      },
      {
        "duration": 183,
        "start_time": "2024-06-09T12:51:14.151Z"
      },
      {
        "duration": 173,
        "start_time": "2024-06-09T12:53:05.566Z"
      },
      {
        "duration": 156,
        "start_time": "2024-06-09T12:54:16.233Z"
      },
      {
        "duration": 173,
        "start_time": "2024-06-09T12:54:37.359Z"
      },
      {
        "duration": 155,
        "start_time": "2024-06-09T12:54:46.148Z"
      },
      {
        "duration": 153,
        "start_time": "2024-06-09T12:55:27.189Z"
      },
      {
        "duration": 261,
        "start_time": "2024-06-09T12:55:45.221Z"
      },
      {
        "duration": 155,
        "start_time": "2024-06-09T12:55:56.175Z"
      },
      {
        "duration": 145,
        "start_time": "2024-06-09T12:56:10.799Z"
      },
      {
        "duration": 150,
        "start_time": "2024-06-09T12:56:33.140Z"
      },
      {
        "duration": 146,
        "start_time": "2024-06-09T13:01:23.195Z"
      },
      {
        "duration": 143,
        "start_time": "2024-06-09T13:02:07.648Z"
      },
      {
        "duration": 6,
        "start_time": "2024-06-09T13:02:39.337Z"
      },
      {
        "duration": 169,
        "start_time": "2024-06-09T13:02:41.498Z"
      },
      {
        "duration": 135,
        "start_time": "2024-06-09T13:03:48.743Z"
      },
      {
        "duration": 131,
        "start_time": "2024-06-09T13:04:43.422Z"
      },
      {
        "duration": 138,
        "start_time": "2024-06-09T13:05:00.375Z"
      },
      {
        "duration": 155,
        "start_time": "2024-06-09T13:05:18.510Z"
      },
      {
        "duration": 153,
        "start_time": "2024-06-09T13:05:31.641Z"
      },
      {
        "duration": 130,
        "start_time": "2024-06-09T13:05:42.560Z"
      },
      {
        "duration": 148,
        "start_time": "2024-06-09T13:06:33.792Z"
      },
      {
        "duration": 3,
        "start_time": "2024-06-09T13:07:53.791Z"
      },
      {
        "duration": 3,
        "start_time": "2024-06-09T13:08:06.981Z"
      },
      {
        "duration": 135,
        "start_time": "2024-06-09T13:09:04.573Z"
      },
      {
        "duration": 138,
        "start_time": "2024-06-09T13:09:32.159Z"
      },
      {
        "duration": 136,
        "start_time": "2024-06-09T13:10:30.788Z"
      },
      {
        "duration": 145,
        "start_time": "2024-06-09T13:11:03.535Z"
      },
      {
        "duration": 261,
        "start_time": "2024-06-09T13:11:20.293Z"
      },
      {
        "duration": 1056,
        "start_time": "2024-06-09T14:11:07.846Z"
      },
      {
        "duration": 124,
        "start_time": "2024-06-09T14:11:08.904Z"
      },
      {
        "duration": 14,
        "start_time": "2024-06-09T14:11:09.029Z"
      },
      {
        "duration": 13,
        "start_time": "2024-06-09T14:11:09.044Z"
      },
      {
        "duration": 8,
        "start_time": "2024-06-09T14:11:09.065Z"
      },
      {
        "duration": 15,
        "start_time": "2024-06-09T14:11:09.074Z"
      },
      {
        "duration": 13,
        "start_time": "2024-06-09T14:11:09.090Z"
      },
      {
        "duration": 4,
        "start_time": "2024-06-09T14:11:09.104Z"
      },
      {
        "duration": 13,
        "start_time": "2024-06-09T14:11:09.109Z"
      },
      {
        "duration": 13,
        "start_time": "2024-06-09T14:11:09.124Z"
      },
      {
        "duration": 32,
        "start_time": "2024-06-09T14:11:09.139Z"
      },
      {
        "duration": 14,
        "start_time": "2024-06-09T14:11:09.173Z"
      },
      {
        "duration": 26,
        "start_time": "2024-06-09T14:11:09.188Z"
      },
      {
        "duration": 10,
        "start_time": "2024-06-09T14:11:09.215Z"
      },
      {
        "duration": 25,
        "start_time": "2024-06-09T14:11:09.226Z"
      },
      {
        "duration": 14,
        "start_time": "2024-06-09T14:11:09.265Z"
      },
      {
        "duration": 107,
        "start_time": "2024-06-09T14:11:09.280Z"
      },
      {
        "duration": 341,
        "start_time": "2024-06-09T14:11:09.388Z"
      },
      {
        "duration": 327,
        "start_time": "2024-06-09T14:11:09.731Z"
      },
      {
        "duration": 203,
        "start_time": "2024-06-09T14:11:10.059Z"
      },
      {
        "duration": 210,
        "start_time": "2024-06-09T14:11:10.266Z"
      },
      {
        "duration": 195,
        "start_time": "2024-06-09T14:11:10.477Z"
      },
      {
        "duration": 195,
        "start_time": "2024-06-09T14:11:10.674Z"
      },
      {
        "duration": 179,
        "start_time": "2024-06-09T14:11:10.870Z"
      },
      {
        "duration": 15,
        "start_time": "2024-06-09T14:11:11.051Z"
      },
      {
        "duration": 172,
        "start_time": "2024-06-09T14:11:11.067Z"
      },
      {
        "duration": 32,
        "start_time": "2024-06-09T14:11:11.240Z"
      },
      {
        "duration": 68,
        "start_time": "2024-06-09T14:11:11.275Z"
      },
      {
        "duration": 168,
        "start_time": "2024-06-09T14:11:11.345Z"
      },
      {
        "duration": 141,
        "start_time": "2024-06-09T14:11:11.514Z"
      },
      {
        "duration": 155,
        "start_time": "2024-06-09T14:11:11.656Z"
      },
      {
        "duration": 172,
        "start_time": "2024-06-09T14:11:11.813Z"
      },
      {
        "duration": 136,
        "start_time": "2024-06-09T14:11:11.986Z"
      },
      {
        "duration": 137,
        "start_time": "2024-06-09T14:11:12.123Z"
      },
      {
        "duration": 145,
        "start_time": "2024-06-09T14:11:12.262Z"
      },
      {
        "duration": 2,
        "start_time": "2024-06-09T14:11:12.409Z"
      },
      {
        "duration": 8,
        "start_time": "2024-06-09T14:11:12.412Z"
      },
      {
        "duration": 161,
        "start_time": "2024-06-09T14:11:12.421Z"
      },
      {
        "duration": 130,
        "start_time": "2024-06-09T14:11:12.584Z"
      },
      {
        "duration": 146,
        "start_time": "2024-06-09T14:11:12.716Z"
      },
      {
        "duration": 128,
        "start_time": "2024-06-09T14:11:12.864Z"
      },
      {
        "duration": 216,
        "start_time": "2024-06-09T14:11:12.993Z"
      },
      {
        "duration": 111,
        "start_time": "2024-06-09T14:11:13.210Z"
      },
      {
        "duration": 10,
        "start_time": "2024-06-09T14:11:13.323Z"
      },
      {
        "duration": 14,
        "start_time": "2024-06-09T14:11:13.334Z"
      },
      {
        "duration": 171,
        "start_time": "2024-06-09T14:11:13.349Z"
      },
      {
        "duration": 134,
        "start_time": "2024-06-09T14:11:13.522Z"
      },
      {
        "duration": 142,
        "start_time": "2024-06-09T14:11:13.658Z"
      },
      {
        "duration": 136,
        "start_time": "2024-06-09T14:11:13.802Z"
      },
      {
        "duration": 199,
        "start_time": "2024-06-09T14:11:13.940Z"
      },
      {
        "duration": 14,
        "start_time": "2024-06-09T14:11:14.141Z"
      },
      {
        "duration": 281,
        "start_time": "2024-06-09T14:11:14.165Z"
      },
      {
        "duration": 18,
        "start_time": "2024-06-09T14:11:14.448Z"
      },
      {
        "duration": 180,
        "start_time": "2024-06-09T14:11:14.467Z"
      },
      {
        "duration": 179,
        "start_time": "2024-06-09T14:11:14.649Z"
      },
      {
        "duration": 14,
        "start_time": "2024-06-09T14:11:14.829Z"
      },
      {
        "duration": 416,
        "start_time": "2024-06-09T14:11:14.844Z"
      },
      {
        "duration": 14,
        "start_time": "2024-06-09T14:11:15.262Z"
      },
      {
        "duration": 198,
        "start_time": "2024-06-09T14:11:15.277Z"
      },
      {
        "duration": 169,
        "start_time": "2024-06-09T14:11:15.477Z"
      },
      {
        "duration": 20,
        "start_time": "2024-06-09T14:11:15.647Z"
      },
      {
        "duration": 291,
        "start_time": "2024-06-09T14:11:15.669Z"
      },
      {
        "duration": 13,
        "start_time": "2024-06-09T14:11:15.962Z"
      },
      {
        "duration": 199,
        "start_time": "2024-06-09T14:11:15.976Z"
      },
      {
        "duration": 189,
        "start_time": "2024-06-09T14:11:16.176Z"
      },
      {
        "duration": 5,
        "start_time": "2024-06-09T14:11:16.367Z"
      },
      {
        "duration": 103,
        "start_time": "2024-06-09T14:11:16.374Z"
      },
      {
        "duration": 0,
        "start_time": "2024-06-09T14:11:16.478Z"
      },
      {
        "duration": 12,
        "start_time": "2024-06-09T14:28:22.791Z"
      },
      {
        "duration": 13,
        "start_time": "2024-06-09T14:29:24.370Z"
      },
      {
        "duration": 132,
        "start_time": "2024-06-09T14:30:05.506Z"
      },
      {
        "duration": 168,
        "start_time": "2024-06-09T14:33:24.480Z"
      },
      {
        "duration": 169,
        "start_time": "2024-06-09T14:34:04.174Z"
      },
      {
        "duration": 58,
        "start_time": "2024-06-09T14:36:09.365Z"
      },
      {
        "duration": 166,
        "start_time": "2024-06-09T14:36:20.647Z"
      },
      {
        "duration": 3,
        "start_time": "2024-06-09T14:37:05.703Z"
      },
      {
        "duration": 2,
        "start_time": "2024-06-09T14:37:07.417Z"
      },
      {
        "duration": 244,
        "start_time": "2024-06-09T14:42:09.072Z"
      },
      {
        "duration": 144,
        "start_time": "2024-06-09T14:43:23.288Z"
      },
      {
        "duration": 158,
        "start_time": "2024-06-09T14:44:25.238Z"
      },
      {
        "duration": 162,
        "start_time": "2024-06-09T14:44:33.869Z"
      },
      {
        "duration": 169,
        "start_time": "2024-06-09T14:47:00.096Z"
      },
      {
        "duration": 168,
        "start_time": "2024-06-09T14:47:07.707Z"
      },
      {
        "duration": 193,
        "start_time": "2024-06-09T14:47:39.895Z"
      },
      {
        "duration": 166,
        "start_time": "2024-06-09T14:47:56.228Z"
      },
      {
        "duration": 154,
        "start_time": "2024-06-09T14:49:07.126Z"
      },
      {
        "duration": 137,
        "start_time": "2024-06-09T14:49:38.482Z"
      },
      {
        "duration": 153,
        "start_time": "2024-06-09T14:56:26.557Z"
      },
      {
        "duration": 145,
        "start_time": "2024-06-09T14:56:32.677Z"
      },
      {
        "duration": 192,
        "start_time": "2024-06-09T14:57:00.955Z"
      },
      {
        "duration": 159,
        "start_time": "2024-06-09T14:57:08.375Z"
      },
      {
        "duration": 3,
        "start_time": "2024-06-09T14:58:51.850Z"
      },
      {
        "duration": 2,
        "start_time": "2024-06-09T14:58:56.232Z"
      },
      {
        "duration": 179,
        "start_time": "2024-06-09T15:00:04.968Z"
      },
      {
        "duration": 153,
        "start_time": "2024-06-09T15:00:18.678Z"
      },
      {
        "duration": 176,
        "start_time": "2024-06-09T15:09:20.925Z"
      },
      {
        "duration": 241,
        "start_time": "2024-06-09T15:10:22.920Z"
      },
      {
        "duration": 150,
        "start_time": "2024-06-09T15:10:25.612Z"
      },
      {
        "duration": 175,
        "start_time": "2024-06-09T15:10:58.834Z"
      },
      {
        "duration": 159,
        "start_time": "2024-06-09T15:11:00.155Z"
      },
      {
        "duration": 144,
        "start_time": "2024-06-09T15:11:51.276Z"
      },
      {
        "duration": 168,
        "start_time": "2024-06-09T15:12:46.359Z"
      },
      {
        "duration": 184,
        "start_time": "2024-06-09T15:13:14.820Z"
      },
      {
        "duration": 134,
        "start_time": "2024-06-09T15:13:16.276Z"
      },
      {
        "duration": 147,
        "start_time": "2024-06-09T15:13:24.824Z"
      },
      {
        "duration": 168,
        "start_time": "2024-06-09T15:16:43.993Z"
      },
      {
        "duration": 164,
        "start_time": "2024-06-09T15:16:45.454Z"
      },
      {
        "duration": 182,
        "start_time": "2024-06-09T15:17:19.401Z"
      },
      {
        "duration": 64,
        "start_time": "2024-06-09T15:25:48.522Z"
      },
      {
        "duration": 14,
        "start_time": "2024-06-09T15:26:43.538Z"
      },
      {
        "duration": 178,
        "start_time": "2024-06-09T15:27:06.665Z"
      },
      {
        "duration": 172,
        "start_time": "2024-06-09T15:27:19.530Z"
      },
      {
        "duration": 15,
        "start_time": "2024-06-09T15:27:49.876Z"
      },
      {
        "duration": 193,
        "start_time": "2024-06-09T15:28:37.099Z"
      },
      {
        "duration": 260,
        "start_time": "2024-06-09T15:29:17.070Z"
      },
      {
        "duration": 139,
        "start_time": "2024-06-09T15:30:31.461Z"
      },
      {
        "duration": 14,
        "start_time": "2024-06-09T15:35:15.261Z"
      },
      {
        "duration": 174,
        "start_time": "2024-06-09T15:35:27.928Z"
      },
      {
        "duration": 196,
        "start_time": "2024-06-09T15:35:33.090Z"
      },
      {
        "duration": 140,
        "start_time": "2024-06-09T15:35:38.379Z"
      },
      {
        "duration": 178,
        "start_time": "2024-06-09T15:35:45.145Z"
      },
      {
        "duration": 178,
        "start_time": "2024-06-09T15:35:54.080Z"
      },
      {
        "duration": 167,
        "start_time": "2024-06-09T15:36:42.816Z"
      },
      {
        "duration": 13,
        "start_time": "2024-06-09T15:40:57.585Z"
      },
      {
        "duration": 183,
        "start_time": "2024-06-09T15:41:01.107Z"
      },
      {
        "duration": 192,
        "start_time": "2024-06-09T15:41:20.521Z"
      },
      {
        "duration": 13,
        "start_time": "2024-06-09T15:41:25.044Z"
      },
      {
        "duration": 204,
        "start_time": "2024-06-09T15:41:33.630Z"
      },
      {
        "duration": 149,
        "start_time": "2024-06-09T15:41:51.964Z"
      },
      {
        "duration": 13,
        "start_time": "2024-06-09T15:45:29.539Z"
      },
      {
        "duration": 175,
        "start_time": "2024-06-09T15:45:44.511Z"
      },
      {
        "duration": 16,
        "start_time": "2024-06-09T15:46:01.900Z"
      },
      {
        "duration": 277,
        "start_time": "2024-06-09T15:46:10.191Z"
      },
      {
        "duration": 172,
        "start_time": "2024-06-09T15:46:21.136Z"
      },
      {
        "duration": 13,
        "start_time": "2024-06-09T15:46:25.244Z"
      },
      {
        "duration": 175,
        "start_time": "2024-06-09T15:46:31.394Z"
      },
      {
        "duration": 162,
        "start_time": "2024-06-09T15:46:48.889Z"
      },
      {
        "duration": 6,
        "start_time": "2024-06-09T15:51:35.248Z"
      },
      {
        "duration": 16,
        "start_time": "2024-06-09T15:51:43.052Z"
      },
      {
        "duration": 8,
        "start_time": "2024-06-09T15:52:04.542Z"
      },
      {
        "duration": 9,
        "start_time": "2024-06-09T15:53:01.729Z"
      },
      {
        "duration": 8,
        "start_time": "2024-06-09T15:53:20.687Z"
      },
      {
        "duration": 24,
        "start_time": "2024-06-09T17:19:19.418Z"
      },
      {
        "duration": 56,
        "start_time": "2024-06-09T17:25:12.477Z"
      },
      {
        "duration": 203,
        "start_time": "2024-06-09T17:26:13.424Z"
      },
      {
        "duration": 104,
        "start_time": "2024-06-09T17:31:04.534Z"
      },
      {
        "duration": 195,
        "start_time": "2024-06-09T17:31:11.790Z"
      },
      {
        "duration": 15,
        "start_time": "2024-06-09T17:34:59.425Z"
      },
      {
        "duration": 243,
        "start_time": "2024-06-09T17:39:54.508Z"
      },
      {
        "duration": 3,
        "start_time": "2024-06-09T17:40:05.639Z"
      },
      {
        "duration": 375,
        "start_time": "2024-06-09T17:42:48.965Z"
      },
      {
        "duration": 223,
        "start_time": "2024-06-09T17:44:09.202Z"
      },
      {
        "duration": 223,
        "start_time": "2024-06-09T17:47:42.307Z"
      },
      {
        "duration": 261,
        "start_time": "2024-06-09T17:47:55.645Z"
      },
      {
        "duration": 68,
        "start_time": "2024-06-09T17:48:44.600Z"
      },
      {
        "duration": 292,
        "start_time": "2024-06-09T17:48:55.838Z"
      },
      {
        "duration": 251,
        "start_time": "2024-06-09T17:49:38.402Z"
      },
      {
        "duration": 11,
        "start_time": "2024-06-09T17:51:04.315Z"
      },
      {
        "duration": 14,
        "start_time": "2024-06-09T17:51:12.679Z"
      },
      {
        "duration": 222,
        "start_time": "2024-06-09T17:51:22.988Z"
      },
      {
        "duration": 392,
        "start_time": "2024-06-09T17:56:59.442Z"
      },
      {
        "duration": 237,
        "start_time": "2024-06-09T17:57:10.723Z"
      },
      {
        "duration": 65,
        "start_time": "2024-06-09T18:18:59.123Z"
      },
      {
        "duration": 58,
        "start_time": "2024-06-09T18:19:07.822Z"
      },
      {
        "duration": 82,
        "start_time": "2024-06-09T18:19:18.556Z"
      },
      {
        "duration": 70,
        "start_time": "2024-06-09T18:19:25.072Z"
      },
      {
        "duration": 117,
        "start_time": "2024-06-09T18:20:58.848Z"
      },
      {
        "duration": 279,
        "start_time": "2024-06-09T18:22:15.752Z"
      },
      {
        "duration": 260,
        "start_time": "2024-06-09T18:22:25.854Z"
      },
      {
        "duration": 269,
        "start_time": "2024-06-09T18:22:33.824Z"
      },
      {
        "duration": 255,
        "start_time": "2024-06-09T18:22:39.575Z"
      },
      {
        "duration": 262,
        "start_time": "2024-06-09T18:24:02.685Z"
      },
      {
        "duration": 408,
        "start_time": "2024-06-09T18:24:05.857Z"
      },
      {
        "duration": 196,
        "start_time": "2024-06-09T18:42:12.926Z"
      },
      {
        "duration": 175,
        "start_time": "2024-06-09T18:42:16.754Z"
      },
      {
        "duration": 1074,
        "start_time": "2024-06-10T12:16:19.212Z"
      },
      {
        "duration": 63,
        "start_time": "2024-06-10T12:16:20.288Z"
      },
      {
        "duration": 12,
        "start_time": "2024-06-10T12:16:20.353Z"
      },
      {
        "duration": 16,
        "start_time": "2024-06-10T12:16:20.366Z"
      },
      {
        "duration": 8,
        "start_time": "2024-06-10T12:16:20.384Z"
      },
      {
        "duration": 24,
        "start_time": "2024-06-10T12:16:20.393Z"
      },
      {
        "duration": 45,
        "start_time": "2024-06-10T12:16:20.418Z"
      },
      {
        "duration": 40,
        "start_time": "2024-06-10T12:16:20.464Z"
      },
      {
        "duration": 46,
        "start_time": "2024-06-10T12:16:20.505Z"
      },
      {
        "duration": 56,
        "start_time": "2024-06-10T12:16:20.553Z"
      },
      {
        "duration": 29,
        "start_time": "2024-06-10T12:16:20.611Z"
      },
      {
        "duration": 33,
        "start_time": "2024-06-10T12:16:20.642Z"
      },
      {
        "duration": 68,
        "start_time": "2024-06-10T12:16:20.676Z"
      },
      {
        "duration": 23,
        "start_time": "2024-06-10T12:16:20.747Z"
      },
      {
        "duration": 33,
        "start_time": "2024-06-10T12:16:20.771Z"
      },
      {
        "duration": 14,
        "start_time": "2024-06-10T12:16:20.806Z"
      },
      {
        "duration": 80,
        "start_time": "2024-06-10T12:16:20.821Z"
      },
      {
        "duration": 312,
        "start_time": "2024-06-10T12:16:20.902Z"
      },
      {
        "duration": 266,
        "start_time": "2024-06-10T12:16:21.215Z"
      },
      {
        "duration": 190,
        "start_time": "2024-06-10T12:16:21.483Z"
      },
      {
        "duration": 188,
        "start_time": "2024-06-10T12:16:21.674Z"
      },
      {
        "duration": 185,
        "start_time": "2024-06-10T12:16:21.863Z"
      },
      {
        "duration": 208,
        "start_time": "2024-06-10T12:16:22.049Z"
      },
      {
        "duration": 172,
        "start_time": "2024-06-10T12:16:22.258Z"
      },
      {
        "duration": 13,
        "start_time": "2024-06-10T12:16:22.431Z"
      },
      {
        "duration": 276,
        "start_time": "2024-06-10T12:16:22.445Z"
      },
      {
        "duration": 29,
        "start_time": "2024-06-10T12:16:22.723Z"
      },
      {
        "duration": 7,
        "start_time": "2024-06-10T12:16:22.754Z"
      },
      {
        "duration": 190,
        "start_time": "2024-06-10T12:16:22.763Z"
      },
      {
        "duration": 135,
        "start_time": "2024-06-10T12:16:22.955Z"
      },
      {
        "duration": 137,
        "start_time": "2024-06-10T12:16:23.092Z"
      },
      {
        "duration": 142,
        "start_time": "2024-06-10T12:16:23.231Z"
      },
      {
        "duration": 141,
        "start_time": "2024-06-10T12:16:23.375Z"
      },
      {
        "duration": 146,
        "start_time": "2024-06-10T12:16:23.517Z"
      },
      {
        "duration": 160,
        "start_time": "2024-06-10T12:16:23.664Z"
      },
      {
        "duration": 2,
        "start_time": "2024-06-10T12:16:23.826Z"
      },
      {
        "duration": 11,
        "start_time": "2024-06-10T12:16:23.830Z"
      },
      {
        "duration": 143,
        "start_time": "2024-06-10T12:16:23.843Z"
      },
      {
        "duration": 130,
        "start_time": "2024-06-10T12:16:23.988Z"
      },
      {
        "duration": 144,
        "start_time": "2024-06-10T12:16:24.120Z"
      },
      {
        "duration": 200,
        "start_time": "2024-06-10T12:16:24.269Z"
      },
      {
        "duration": 137,
        "start_time": "2024-06-10T12:16:24.471Z"
      },
      {
        "duration": 2,
        "start_time": "2024-06-10T12:16:24.610Z"
      },
      {
        "duration": 242,
        "start_time": "2024-06-10T12:16:24.614Z"
      },
      {
        "duration": 238,
        "start_time": "2024-06-10T12:16:24.858Z"
      },
      {
        "duration": 2,
        "start_time": "2024-06-10T12:16:25.098Z"
      },
      {
        "duration": 112,
        "start_time": "2024-06-10T12:16:25.102Z"
      },
      {
        "duration": 0,
        "start_time": "2024-06-10T12:16:25.215Z"
      },
      {
        "duration": 1,
        "start_time": "2024-06-10T12:16:25.216Z"
      },
      {
        "duration": 0,
        "start_time": "2024-06-10T12:16:25.218Z"
      },
      {
        "duration": 0,
        "start_time": "2024-06-10T12:16:25.218Z"
      },
      {
        "duration": 0,
        "start_time": "2024-06-10T12:16:25.220Z"
      },
      {
        "duration": 0,
        "start_time": "2024-06-10T12:16:25.221Z"
      },
      {
        "duration": 0,
        "start_time": "2024-06-10T12:16:25.222Z"
      },
      {
        "duration": 0,
        "start_time": "2024-06-10T12:16:25.222Z"
      },
      {
        "duration": 0,
        "start_time": "2024-06-10T12:16:25.223Z"
      },
      {
        "duration": 0,
        "start_time": "2024-06-10T12:16:25.225Z"
      },
      {
        "duration": 0,
        "start_time": "2024-06-10T12:16:25.225Z"
      },
      {
        "duration": 0,
        "start_time": "2024-06-10T12:16:25.226Z"
      },
      {
        "duration": 0,
        "start_time": "2024-06-10T12:16:25.227Z"
      },
      {
        "duration": 0,
        "start_time": "2024-06-10T12:16:25.228Z"
      },
      {
        "duration": 0,
        "start_time": "2024-06-10T12:16:25.229Z"
      },
      {
        "duration": 0,
        "start_time": "2024-06-10T12:16:25.230Z"
      },
      {
        "duration": 0,
        "start_time": "2024-06-10T12:16:25.231Z"
      },
      {
        "duration": 0,
        "start_time": "2024-06-10T12:16:25.232Z"
      },
      {
        "duration": 0,
        "start_time": "2024-06-10T12:16:25.232Z"
      },
      {
        "duration": 0,
        "start_time": "2024-06-10T12:16:25.233Z"
      },
      {
        "duration": 0,
        "start_time": "2024-06-10T12:16:25.234Z"
      },
      {
        "duration": 0,
        "start_time": "2024-06-10T12:16:25.235Z"
      },
      {
        "duration": 0,
        "start_time": "2024-06-10T12:16:25.236Z"
      },
      {
        "duration": 0,
        "start_time": "2024-06-10T12:16:25.237Z"
      },
      {
        "duration": 0,
        "start_time": "2024-06-10T12:16:25.238Z"
      },
      {
        "duration": 0,
        "start_time": "2024-06-10T12:16:25.239Z"
      },
      {
        "duration": 0,
        "start_time": "2024-06-10T12:16:25.240Z"
      },
      {
        "duration": 0,
        "start_time": "2024-06-10T12:16:25.285Z"
      },
      {
        "duration": 0,
        "start_time": "2024-06-10T12:16:25.286Z"
      },
      {
        "duration": 0,
        "start_time": "2024-06-10T12:16:25.287Z"
      },
      {
        "duration": 0,
        "start_time": "2024-06-10T12:16:25.288Z"
      },
      {
        "duration": 0,
        "start_time": "2024-06-10T12:16:25.289Z"
      },
      {
        "duration": 0,
        "start_time": "2024-06-10T12:16:25.289Z"
      },
      {
        "duration": 0,
        "start_time": "2024-06-10T12:16:25.290Z"
      },
      {
        "duration": 0,
        "start_time": "2024-06-10T12:16:25.291Z"
      },
      {
        "duration": 1011,
        "start_time": "2024-06-10T12:28:07.817Z"
      },
      {
        "duration": 58,
        "start_time": "2024-06-10T12:28:08.830Z"
      },
      {
        "duration": 12,
        "start_time": "2024-06-10T12:28:08.889Z"
      },
      {
        "duration": 11,
        "start_time": "2024-06-10T12:28:08.902Z"
      },
      {
        "duration": 9,
        "start_time": "2024-06-10T12:28:08.914Z"
      },
      {
        "duration": 16,
        "start_time": "2024-06-10T12:28:08.925Z"
      },
      {
        "duration": 12,
        "start_time": "2024-06-10T12:28:08.943Z"
      },
      {
        "duration": 28,
        "start_time": "2024-06-10T12:28:08.957Z"
      },
      {
        "duration": 6,
        "start_time": "2024-06-10T12:28:08.986Z"
      },
      {
        "duration": 8,
        "start_time": "2024-06-10T12:28:08.994Z"
      },
      {
        "duration": 53,
        "start_time": "2024-06-10T12:28:09.003Z"
      },
      {
        "duration": 13,
        "start_time": "2024-06-10T12:28:09.057Z"
      },
      {
        "duration": 13,
        "start_time": "2024-06-10T12:28:09.072Z"
      },
      {
        "duration": 11,
        "start_time": "2024-06-10T12:28:09.087Z"
      },
      {
        "duration": 24,
        "start_time": "2024-06-10T12:28:09.099Z"
      },
      {
        "duration": 13,
        "start_time": "2024-06-10T12:28:09.124Z"
      },
      {
        "duration": 89,
        "start_time": "2024-06-10T12:28:09.139Z"
      },
      {
        "duration": 298,
        "start_time": "2024-06-10T12:28:09.230Z"
      },
      {
        "duration": 253,
        "start_time": "2024-06-10T12:28:09.529Z"
      },
      {
        "duration": 165,
        "start_time": "2024-06-10T12:28:09.784Z"
      },
      {
        "duration": 188,
        "start_time": "2024-06-10T12:28:09.950Z"
      },
      {
        "duration": 177,
        "start_time": "2024-06-10T12:28:10.140Z"
      },
      {
        "duration": 172,
        "start_time": "2024-06-10T12:28:10.319Z"
      },
      {
        "duration": 166,
        "start_time": "2024-06-10T12:28:10.493Z"
      },
      {
        "duration": 12,
        "start_time": "2024-06-10T12:28:10.661Z"
      },
      {
        "duration": 205,
        "start_time": "2024-06-10T12:28:10.684Z"
      },
      {
        "duration": 22,
        "start_time": "2024-06-10T12:28:10.890Z"
      },
      {
        "duration": 6,
        "start_time": "2024-06-10T12:28:10.916Z"
      },
      {
        "duration": 167,
        "start_time": "2024-06-10T12:28:10.923Z"
      },
      {
        "duration": 130,
        "start_time": "2024-06-10T12:28:11.091Z"
      },
      {
        "duration": 138,
        "start_time": "2024-06-10T12:28:11.222Z"
      },
      {
        "duration": 148,
        "start_time": "2024-06-10T12:28:11.362Z"
      },
      {
        "duration": 127,
        "start_time": "2024-06-10T12:28:11.511Z"
      },
      {
        "duration": 122,
        "start_time": "2024-06-10T12:28:11.640Z"
      },
      {
        "duration": 133,
        "start_time": "2024-06-10T12:28:11.763Z"
      },
      {
        "duration": 2,
        "start_time": "2024-06-10T12:28:11.897Z"
      },
      {
        "duration": 26,
        "start_time": "2024-06-10T12:28:11.901Z"
      },
      {
        "duration": 134,
        "start_time": "2024-06-10T12:28:11.928Z"
      },
      {
        "duration": 128,
        "start_time": "2024-06-10T12:28:12.064Z"
      },
      {
        "duration": 137,
        "start_time": "2024-06-10T12:28:12.194Z"
      },
      {
        "duration": 180,
        "start_time": "2024-06-10T12:28:12.333Z"
      },
      {
        "duration": 142,
        "start_time": "2024-06-10T12:28:12.515Z"
      },
      {
        "duration": 2,
        "start_time": "2024-06-10T12:28:12.658Z"
      },
      {
        "duration": 240,
        "start_time": "2024-06-10T12:28:12.662Z"
      },
      {
        "duration": 220,
        "start_time": "2024-06-10T12:28:12.903Z"
      },
      {
        "duration": 1,
        "start_time": "2024-06-10T12:28:13.125Z"
      },
      {
        "duration": 7,
        "start_time": "2024-06-10T12:28:13.128Z"
      },
      {
        "duration": 156,
        "start_time": "2024-06-10T12:28:13.136Z"
      },
      {
        "duration": 150,
        "start_time": "2024-06-10T12:28:13.294Z"
      },
      {
        "duration": 3,
        "start_time": "2024-06-10T12:28:13.445Z"
      },
      {
        "duration": 3,
        "start_time": "2024-06-10T12:28:13.449Z"
      },
      {
        "duration": 3,
        "start_time": "2024-06-10T12:28:13.454Z"
      },
      {
        "duration": 155,
        "start_time": "2024-06-10T12:28:13.458Z"
      },
      {
        "duration": 140,
        "start_time": "2024-06-10T12:28:13.614Z"
      },
      {
        "duration": 150,
        "start_time": "2024-06-10T12:28:13.755Z"
      },
      {
        "duration": 214,
        "start_time": "2024-06-10T12:28:13.906Z"
      },
      {
        "duration": 148,
        "start_time": "2024-06-10T12:28:14.121Z"
      },
      {
        "duration": 137,
        "start_time": "2024-06-10T12:28:14.270Z"
      },
      {
        "duration": 162,
        "start_time": "2024-06-10T12:28:14.408Z"
      },
      {
        "duration": 182,
        "start_time": "2024-06-10T12:28:14.571Z"
      },
      {
        "duration": 185,
        "start_time": "2024-06-10T12:28:14.754Z"
      },
      {
        "duration": 286,
        "start_time": "2024-06-10T12:28:14.941Z"
      },
      {
        "duration": 273,
        "start_time": "2024-06-10T12:28:15.228Z"
      },
      {
        "duration": 11,
        "start_time": "2024-06-10T12:28:15.503Z"
      },
      {
        "duration": 163,
        "start_time": "2024-06-10T12:28:15.516Z"
      },
      {
        "duration": 11,
        "start_time": "2024-06-10T12:28:15.684Z"
      },
      {
        "duration": 231,
        "start_time": "2024-06-10T12:28:15.696Z"
      },
      {
        "duration": 142,
        "start_time": "2024-06-10T12:28:15.928Z"
      },
      {
        "duration": 17,
        "start_time": "2024-06-10T12:28:16.071Z"
      },
      {
        "duration": 171,
        "start_time": "2024-06-10T12:28:16.089Z"
      },
      {
        "duration": 11,
        "start_time": "2024-06-10T12:28:16.261Z"
      },
      {
        "duration": 189,
        "start_time": "2024-06-10T12:28:16.273Z"
      },
      {
        "duration": 134,
        "start_time": "2024-06-10T12:28:16.464Z"
      },
      {
        "duration": 12,
        "start_time": "2024-06-10T12:28:16.600Z"
      },
      {
        "duration": 188,
        "start_time": "2024-06-10T12:28:16.613Z"
      },
      {
        "duration": 11,
        "start_time": "2024-06-10T12:28:16.803Z"
      },
      {
        "duration": 186,
        "start_time": "2024-06-10T12:28:16.815Z"
      },
      {
        "duration": 150,
        "start_time": "2024-06-10T12:28:17.002Z"
      },
      {
        "duration": 5,
        "start_time": "2024-06-10T12:28:17.153Z"
      },
      {
        "duration": 25,
        "start_time": "2024-06-10T12:28:17.159Z"
      },
      {
        "duration": 7,
        "start_time": "2024-06-10T12:28:17.186Z"
      }
    ],
    "kernelspec": {
      "display_name": "Python 3 (ipykernel)",
      "language": "python",
      "name": "python3"
    },
    "language_info": {
      "codemirror_mode": {
        "name": "ipython",
        "version": 3
      },
      "file_extension": ".py",
      "mimetype": "text/x-python",
      "name": "python",
      "nbconvert_exporter": "python",
      "pygments_lexer": "ipython3",
      "version": "3.9.5"
    },
    "toc": {
      "base_numbering": 1,
      "nav_menu": {},
      "number_sections": true,
      "sideBar": true,
      "skip_h1_title": true,
      "title_cell": "Table of Contents",
      "title_sidebar": "Contents",
      "toc_cell": false,
      "toc_position": {
        "height": "calc(100% - 180px)",
        "left": "10px",
        "top": "150px",
        "width": "353px"
      },
      "toc_section_display": true,
      "toc_window_display": true
    },
    "colab": {
      "provenance": []
    }
  },
  "nbformat": 4,
  "nbformat_minor": 0
}