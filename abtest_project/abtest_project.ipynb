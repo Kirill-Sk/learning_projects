{
  "cells": [
    {
      "cell_type": "markdown",
      "metadata": {
        "id": "Zm2EWIofPE6n"
      },
      "source": [
        "В ходе данного проекта будет проведена приоритизация гипотез и анализ результатов А/В-теста относительно среднего количества заказов и среднего чека заказа."
      ]
    },
    {
      "cell_type": "code",
      "execution_count": null,
      "metadata": {
        "id": "qvLXCf2XPE6o"
      },
      "outputs": [],
      "source": [
        "# вызовем необходимые библиотеки\n",
        "import pandas as pd\n",
        "import numpy as np\n",
        "import matplotlib.pyplot as plt\n",
        "import datetime as dt\n",
        "import scipy.stats as stats"
      ]
    },
    {
      "cell_type": "markdown",
      "metadata": {
        "id": "qVu9l0OLPE6p"
      },
      "source": [
        "## Приоритизация гипотез"
      ]
    },
    {
      "cell_type": "markdown",
      "metadata": {
        "id": "ebzyG9rzPE6p"
      },
      "source": [
        "### Выгрузка данных"
      ]
    },
    {
      "cell_type": "code",
      "execution_count": null,
      "metadata": {
        "id": "w01TXWrwPE6q",
        "outputId": "98133b71-144d-40e5-fd75-8595475a22db"
      },
      "outputs": [
        {
          "data": {
            "text/html": [
              "<div>\n",
              "<style scoped>\n",
              "    .dataframe tbody tr th:only-of-type {\n",
              "        vertical-align: middle;\n",
              "    }\n",
              "\n",
              "    .dataframe tbody tr th {\n",
              "        vertical-align: top;\n",
              "    }\n",
              "\n",
              "    .dataframe thead th {\n",
              "        text-align: right;\n",
              "    }\n",
              "</style>\n",
              "<table border=\"1\" class=\"dataframe\">\n",
              "  <thead>\n",
              "    <tr style=\"text-align: right;\">\n",
              "      <th></th>\n",
              "      <th>Hypothesis</th>\n",
              "      <th>Reach</th>\n",
              "      <th>Impact</th>\n",
              "      <th>Confidence</th>\n",
              "      <th>Efforts</th>\n",
              "    </tr>\n",
              "  </thead>\n",
              "  <tbody>\n",
              "    <tr>\n",
              "      <th>0</th>\n",
              "      <td>Добавить два новых канала привлечения трафика, что позволит привлекать на 30% больше пользователей</td>\n",
              "      <td>3</td>\n",
              "      <td>10</td>\n",
              "      <td>8</td>\n",
              "      <td>6</td>\n",
              "    </tr>\n",
              "    <tr>\n",
              "      <th>1</th>\n",
              "      <td>Запустить собственную службу доставки, что сократит срок доставки заказов</td>\n",
              "      <td>2</td>\n",
              "      <td>5</td>\n",
              "      <td>4</td>\n",
              "      <td>10</td>\n",
              "    </tr>\n",
              "    <tr>\n",
              "      <th>2</th>\n",
              "      <td>Добавить блоки рекомендаций товаров на сайт интернет магазина, чтобы повысить конверсию и средний чек заказа</td>\n",
              "      <td>8</td>\n",
              "      <td>3</td>\n",
              "      <td>7</td>\n",
              "      <td>3</td>\n",
              "    </tr>\n",
              "    <tr>\n",
              "      <th>3</th>\n",
              "      <td>Изменить структура категорий, что увеличит конверсию, т.к. пользователи быстрее найдут нужный товар</td>\n",
              "      <td>8</td>\n",
              "      <td>3</td>\n",
              "      <td>3</td>\n",
              "      <td>8</td>\n",
              "    </tr>\n",
              "    <tr>\n",
              "      <th>4</th>\n",
              "      <td>Изменить цвет фона главной страницы, чтобы увеличить вовлеченность пользователей</td>\n",
              "      <td>3</td>\n",
              "      <td>1</td>\n",
              "      <td>1</td>\n",
              "      <td>1</td>\n",
              "    </tr>\n",
              "    <tr>\n",
              "      <th>5</th>\n",
              "      <td>Добавить страницу отзывов клиентов о магазине, что позволит увеличить количество заказов</td>\n",
              "      <td>3</td>\n",
              "      <td>2</td>\n",
              "      <td>2</td>\n",
              "      <td>3</td>\n",
              "    </tr>\n",
              "    <tr>\n",
              "      <th>6</th>\n",
              "      <td>Показать на главной странице баннеры с актуальными акциями и распродажами, чтобы увеличить конверсию</td>\n",
              "      <td>5</td>\n",
              "      <td>3</td>\n",
              "      <td>8</td>\n",
              "      <td>3</td>\n",
              "    </tr>\n",
              "    <tr>\n",
              "      <th>7</th>\n",
              "      <td>Добавить форму подписки на все основные страницы, чтобы собрать базу клиентов для email-рассылок</td>\n",
              "      <td>10</td>\n",
              "      <td>7</td>\n",
              "      <td>8</td>\n",
              "      <td>5</td>\n",
              "    </tr>\n",
              "    <tr>\n",
              "      <th>8</th>\n",
              "      <td>Запустить акцию, дающую скидку на товар в день рождения</td>\n",
              "      <td>1</td>\n",
              "      <td>9</td>\n",
              "      <td>9</td>\n",
              "      <td>5</td>\n",
              "    </tr>\n",
              "  </tbody>\n",
              "</table>\n",
              "</div>"
            ],
            "text/plain": [
              "                                                                                                     Hypothesis  \\\n",
              "0            Добавить два новых канала привлечения трафика, что позволит привлекать на 30% больше пользователей   \n",
              "1                                     Запустить собственную службу доставки, что сократит срок доставки заказов   \n",
              "2  Добавить блоки рекомендаций товаров на сайт интернет магазина, чтобы повысить конверсию и средний чек заказа   \n",
              "3           Изменить структура категорий, что увеличит конверсию, т.к. пользователи быстрее найдут нужный товар   \n",
              "4                              Изменить цвет фона главной страницы, чтобы увеличить вовлеченность пользователей   \n",
              "5                      Добавить страницу отзывов клиентов о магазине, что позволит увеличить количество заказов   \n",
              "6          Показать на главной странице баннеры с актуальными акциями и распродажами, чтобы увеличить конверсию   \n",
              "7              Добавить форму подписки на все основные страницы, чтобы собрать базу клиентов для email-рассылок   \n",
              "8                                                       Запустить акцию, дающую скидку на товар в день рождения   \n",
              "\n",
              "   Reach  Impact  Confidence  Efforts  \n",
              "0      3      10           8        6  \n",
              "1      2       5           4       10  \n",
              "2      8       3           7        3  \n",
              "3      8       3           3        8  \n",
              "4      3       1           1        1  \n",
              "5      3       2           2        3  \n",
              "6      5       3           8        3  \n",
              "7     10       7           8        5  \n",
              "8      1       9           9        5  "
            ]
          },
          "execution_count": 2,
          "metadata": {},
          "output_type": "execute_result"
        }
      ],
      "source": [
        "# сохраним данные о гипотезах в датафрейм hypothesis\n",
        "hypothesis = pd.read_csv('hypothesis.csv')\n",
        "\n",
        "# выведем датафрейм hypothesis на экран\n",
        "pd.options.display.max_colwidth = 150\n",
        "hypothesis"
      ]
    },
    {
      "cell_type": "code",
      "execution_count": null,
      "metadata": {
        "id": "wty02ewDPE6r"
      },
      "outputs": [],
      "source": [
        "# переименуем столбцы датафрейма hypothesis, приведя их к нижнему регистру\n",
        "hypothesis.columns = ['hypothesis', 'reach', 'impact', 'confidence', 'efforts']"
      ]
    },
    {
      "cell_type": "markdown",
      "metadata": {
        "id": "--cgTohePE6r"
      },
      "source": [
        "### Приоритизация гипотез по фреймворку ICE"
      ]
    },
    {
      "cell_type": "code",
      "execution_count": null,
      "metadata": {
        "id": "8Bvl2dqdPE6r",
        "outputId": "ec4753b3-7ac7-426d-e464-2ecc9d89df62"
      },
      "outputs": [
        {
          "data": {
            "text/html": [
              "<div>\n",
              "<style scoped>\n",
              "    .dataframe tbody tr th:only-of-type {\n",
              "        vertical-align: middle;\n",
              "    }\n",
              "\n",
              "    .dataframe tbody tr th {\n",
              "        vertical-align: top;\n",
              "    }\n",
              "\n",
              "    .dataframe thead th {\n",
              "        text-align: right;\n",
              "    }\n",
              "</style>\n",
              "<table border=\"1\" class=\"dataframe\">\n",
              "  <thead>\n",
              "    <tr style=\"text-align: right;\">\n",
              "      <th></th>\n",
              "      <th>hypothesis</th>\n",
              "      <th>reach</th>\n",
              "      <th>impact</th>\n",
              "      <th>confidence</th>\n",
              "      <th>efforts</th>\n",
              "      <th>ice_score</th>\n",
              "    </tr>\n",
              "  </thead>\n",
              "  <tbody>\n",
              "    <tr>\n",
              "      <th>8</th>\n",
              "      <td>Запустить акцию, дающую скидку на товар в день рождения</td>\n",
              "      <td>1</td>\n",
              "      <td>9</td>\n",
              "      <td>9</td>\n",
              "      <td>5</td>\n",
              "      <td>16.20</td>\n",
              "    </tr>\n",
              "    <tr>\n",
              "      <th>0</th>\n",
              "      <td>Добавить два новых канала привлечения трафика, что позволит привлекать на 30% больше пользователей</td>\n",
              "      <td>3</td>\n",
              "      <td>10</td>\n",
              "      <td>8</td>\n",
              "      <td>6</td>\n",
              "      <td>13.33</td>\n",
              "    </tr>\n",
              "    <tr>\n",
              "      <th>7</th>\n",
              "      <td>Добавить форму подписки на все основные страницы, чтобы собрать базу клиентов для email-рассылок</td>\n",
              "      <td>10</td>\n",
              "      <td>7</td>\n",
              "      <td>8</td>\n",
              "      <td>5</td>\n",
              "      <td>11.20</td>\n",
              "    </tr>\n",
              "    <tr>\n",
              "      <th>6</th>\n",
              "      <td>Показать на главной странице баннеры с актуальными акциями и распродажами, чтобы увеличить конверсию</td>\n",
              "      <td>5</td>\n",
              "      <td>3</td>\n",
              "      <td>8</td>\n",
              "      <td>3</td>\n",
              "      <td>8.00</td>\n",
              "    </tr>\n",
              "    <tr>\n",
              "      <th>2</th>\n",
              "      <td>Добавить блоки рекомендаций товаров на сайт интернет магазина, чтобы повысить конверсию и средний чек заказа</td>\n",
              "      <td>8</td>\n",
              "      <td>3</td>\n",
              "      <td>7</td>\n",
              "      <td>3</td>\n",
              "      <td>7.00</td>\n",
              "    </tr>\n",
              "    <tr>\n",
              "      <th>1</th>\n",
              "      <td>Запустить собственную службу доставки, что сократит срок доставки заказов</td>\n",
              "      <td>2</td>\n",
              "      <td>5</td>\n",
              "      <td>4</td>\n",
              "      <td>10</td>\n",
              "      <td>2.00</td>\n",
              "    </tr>\n",
              "    <tr>\n",
              "      <th>5</th>\n",
              "      <td>Добавить страницу отзывов клиентов о магазине, что позволит увеличить количество заказов</td>\n",
              "      <td>3</td>\n",
              "      <td>2</td>\n",
              "      <td>2</td>\n",
              "      <td>3</td>\n",
              "      <td>1.33</td>\n",
              "    </tr>\n",
              "    <tr>\n",
              "      <th>3</th>\n",
              "      <td>Изменить структура категорий, что увеличит конверсию, т.к. пользователи быстрее найдут нужный товар</td>\n",
              "      <td>8</td>\n",
              "      <td>3</td>\n",
              "      <td>3</td>\n",
              "      <td>8</td>\n",
              "      <td>1.12</td>\n",
              "    </tr>\n",
              "    <tr>\n",
              "      <th>4</th>\n",
              "      <td>Изменить цвет фона главной страницы, чтобы увеличить вовлеченность пользователей</td>\n",
              "      <td>3</td>\n",
              "      <td>1</td>\n",
              "      <td>1</td>\n",
              "      <td>1</td>\n",
              "      <td>1.00</td>\n",
              "    </tr>\n",
              "  </tbody>\n",
              "</table>\n",
              "</div>"
            ],
            "text/plain": [
              "                                                                                                     hypothesis  \\\n",
              "8                                                       Запустить акцию, дающую скидку на товар в день рождения   \n",
              "0            Добавить два новых канала привлечения трафика, что позволит привлекать на 30% больше пользователей   \n",
              "7              Добавить форму подписки на все основные страницы, чтобы собрать базу клиентов для email-рассылок   \n",
              "6          Показать на главной странице баннеры с актуальными акциями и распродажами, чтобы увеличить конверсию   \n",
              "2  Добавить блоки рекомендаций товаров на сайт интернет магазина, чтобы повысить конверсию и средний чек заказа   \n",
              "1                                     Запустить собственную службу доставки, что сократит срок доставки заказов   \n",
              "5                      Добавить страницу отзывов клиентов о магазине, что позволит увеличить количество заказов   \n",
              "3           Изменить структура категорий, что увеличит конверсию, т.к. пользователи быстрее найдут нужный товар   \n",
              "4                              Изменить цвет фона главной страницы, чтобы увеличить вовлеченность пользователей   \n",
              "\n",
              "   reach  impact  confidence  efforts  ice_score  \n",
              "8      1       9           9        5      16.20  \n",
              "0      3      10           8        6      13.33  \n",
              "7     10       7           8        5      11.20  \n",
              "6      5       3           8        3       8.00  \n",
              "2      8       3           7        3       7.00  \n",
              "1      2       5           4       10       2.00  \n",
              "5      3       2           2        3       1.33  \n",
              "3      8       3           3        8       1.12  \n",
              "4      3       1           1        1       1.00  "
            ]
          },
          "execution_count": 4,
          "metadata": {},
          "output_type": "execute_result"
        }
      ],
      "source": [
        "# добавим в датафрейм hypothesis столбец ice_score со значением приоритета по фреймворку ICE\n",
        "hypothesis['ice_score'] = round((hypothesis['impact'] * hypothesis['confidence'] / hypothesis['efforts']), 2)\n",
        "# отсортируем гипотезы по убыванию приоритета\n",
        "hypothesis.sort_values(by='ice_score', ascending = False)"
      ]
    },
    {
      "cell_type": "markdown",
      "metadata": {
        "id": "y-3pOazCPE6s"
      },
      "source": [
        "### Приоритизация гипотез по фреймворку RICE"
      ]
    },
    {
      "cell_type": "code",
      "execution_count": null,
      "metadata": {
        "id": "yYhLZg5sPE6s",
        "outputId": "11eb62e6-fcef-4aca-c5b7-89d2edf2265e"
      },
      "outputs": [
        {
          "data": {
            "text/html": [
              "<div>\n",
              "<style scoped>\n",
              "    .dataframe tbody tr th:only-of-type {\n",
              "        vertical-align: middle;\n",
              "    }\n",
              "\n",
              "    .dataframe tbody tr th {\n",
              "        vertical-align: top;\n",
              "    }\n",
              "\n",
              "    .dataframe thead th {\n",
              "        text-align: right;\n",
              "    }\n",
              "</style>\n",
              "<table border=\"1\" class=\"dataframe\">\n",
              "  <thead>\n",
              "    <tr style=\"text-align: right;\">\n",
              "      <th></th>\n",
              "      <th>hypothesis</th>\n",
              "      <th>reach</th>\n",
              "      <th>impact</th>\n",
              "      <th>confidence</th>\n",
              "      <th>efforts</th>\n",
              "      <th>ice_score</th>\n",
              "      <th>rice_score</th>\n",
              "    </tr>\n",
              "  </thead>\n",
              "  <tbody>\n",
              "    <tr>\n",
              "      <th>7</th>\n",
              "      <td>Добавить форму подписки на все основные страницы, чтобы собрать базу клиентов для email-рассылок</td>\n",
              "      <td>10</td>\n",
              "      <td>7</td>\n",
              "      <td>8</td>\n",
              "      <td>5</td>\n",
              "      <td>11.20</td>\n",
              "      <td>112.0</td>\n",
              "    </tr>\n",
              "    <tr>\n",
              "      <th>2</th>\n",
              "      <td>Добавить блоки рекомендаций товаров на сайт интернет магазина, чтобы повысить конверсию и средний чек заказа</td>\n",
              "      <td>8</td>\n",
              "      <td>3</td>\n",
              "      <td>7</td>\n",
              "      <td>3</td>\n",
              "      <td>7.00</td>\n",
              "      <td>56.0</td>\n",
              "    </tr>\n",
              "    <tr>\n",
              "      <th>0</th>\n",
              "      <td>Добавить два новых канала привлечения трафика, что позволит привлекать на 30% больше пользователей</td>\n",
              "      <td>3</td>\n",
              "      <td>10</td>\n",
              "      <td>8</td>\n",
              "      <td>6</td>\n",
              "      <td>13.33</td>\n",
              "      <td>40.0</td>\n",
              "    </tr>\n",
              "    <tr>\n",
              "      <th>6</th>\n",
              "      <td>Показать на главной странице баннеры с актуальными акциями и распродажами, чтобы увеличить конверсию</td>\n",
              "      <td>5</td>\n",
              "      <td>3</td>\n",
              "      <td>8</td>\n",
              "      <td>3</td>\n",
              "      <td>8.00</td>\n",
              "      <td>40.0</td>\n",
              "    </tr>\n",
              "    <tr>\n",
              "      <th>8</th>\n",
              "      <td>Запустить акцию, дающую скидку на товар в день рождения</td>\n",
              "      <td>1</td>\n",
              "      <td>9</td>\n",
              "      <td>9</td>\n",
              "      <td>5</td>\n",
              "      <td>16.20</td>\n",
              "      <td>16.2</td>\n",
              "    </tr>\n",
              "    <tr>\n",
              "      <th>3</th>\n",
              "      <td>Изменить структура категорий, что увеличит конверсию, т.к. пользователи быстрее найдут нужный товар</td>\n",
              "      <td>8</td>\n",
              "      <td>3</td>\n",
              "      <td>3</td>\n",
              "      <td>8</td>\n",
              "      <td>1.12</td>\n",
              "      <td>9.0</td>\n",
              "    </tr>\n",
              "    <tr>\n",
              "      <th>1</th>\n",
              "      <td>Запустить собственную службу доставки, что сократит срок доставки заказов</td>\n",
              "      <td>2</td>\n",
              "      <td>5</td>\n",
              "      <td>4</td>\n",
              "      <td>10</td>\n",
              "      <td>2.00</td>\n",
              "      <td>4.0</td>\n",
              "    </tr>\n",
              "    <tr>\n",
              "      <th>5</th>\n",
              "      <td>Добавить страницу отзывов клиентов о магазине, что позволит увеличить количество заказов</td>\n",
              "      <td>3</td>\n",
              "      <td>2</td>\n",
              "      <td>2</td>\n",
              "      <td>3</td>\n",
              "      <td>1.33</td>\n",
              "      <td>4.0</td>\n",
              "    </tr>\n",
              "    <tr>\n",
              "      <th>4</th>\n",
              "      <td>Изменить цвет фона главной страницы, чтобы увеличить вовлеченность пользователей</td>\n",
              "      <td>3</td>\n",
              "      <td>1</td>\n",
              "      <td>1</td>\n",
              "      <td>1</td>\n",
              "      <td>1.00</td>\n",
              "      <td>3.0</td>\n",
              "    </tr>\n",
              "  </tbody>\n",
              "</table>\n",
              "</div>"
            ],
            "text/plain": [
              "                                                                                                     hypothesis  \\\n",
              "7              Добавить форму подписки на все основные страницы, чтобы собрать базу клиентов для email-рассылок   \n",
              "2  Добавить блоки рекомендаций товаров на сайт интернет магазина, чтобы повысить конверсию и средний чек заказа   \n",
              "0            Добавить два новых канала привлечения трафика, что позволит привлекать на 30% больше пользователей   \n",
              "6          Показать на главной странице баннеры с актуальными акциями и распродажами, чтобы увеличить конверсию   \n",
              "8                                                       Запустить акцию, дающую скидку на товар в день рождения   \n",
              "3           Изменить структура категорий, что увеличит конверсию, т.к. пользователи быстрее найдут нужный товар   \n",
              "1                                     Запустить собственную службу доставки, что сократит срок доставки заказов   \n",
              "5                      Добавить страницу отзывов клиентов о магазине, что позволит увеличить количество заказов   \n",
              "4                              Изменить цвет фона главной страницы, чтобы увеличить вовлеченность пользователей   \n",
              "\n",
              "   reach  impact  confidence  efforts  ice_score  rice_score  \n",
              "7     10       7           8        5      11.20       112.0  \n",
              "2      8       3           7        3       7.00        56.0  \n",
              "0      3      10           8        6      13.33        40.0  \n",
              "6      5       3           8        3       8.00        40.0  \n",
              "8      1       9           9        5      16.20        16.2  \n",
              "3      8       3           3        8       1.12         9.0  \n",
              "1      2       5           4       10       2.00         4.0  \n",
              "5      3       2           2        3       1.33         4.0  \n",
              "4      3       1           1        1       1.00         3.0  "
            ]
          },
          "execution_count": 5,
          "metadata": {},
          "output_type": "execute_result"
        }
      ],
      "source": [
        "# добавим в датафрейм hypothesis столбец rice_score со значением приоритета по фреймворку RICE\n",
        "hypothesis['rice_score'] = hypothesis['reach'] * hypothesis['impact'] * hypothesis['confidence'] / hypothesis['efforts']\n",
        "# отсортируем гипотезы по убыванию приоритета по RICE\n",
        "hypothesis.sort_values(by='rice_score', ascending = False)"
      ]
    },
    {
      "cell_type": "markdown",
      "metadata": {
        "id": "buQNuGIXPE6s"
      },
      "source": [
        "Применение фреймворка ICE дало наибольший приоритет гипотезам:\n",
        "\n",
        "* \"Запустить акцию, дающую скидку на товар в день рождения\";\n",
        "* \"Добавить два новых канала привлечения трафика, что позволит привлекать на 30% больше пользователей\";\n",
        "* \"Добавить форму подписки на все основные страницы, чтобы собрать базу клиентов для email-рассылок\".\n",
        "\n",
        "Применение фреймворка RICE дало наибольший приоритет гипотезам:\n",
        "\n",
        "* \"Добавить форму подписки на все основные страницы, чтобы собрать базу клиентов для email-рассылок\";\n",
        "* \"Добавить блоки рекомендаций товаров на сайт интернет магазина, чтобы повысить конверсию и средний чек заказа\";\n",
        "* \"Добавить два новых канала привлечения трафика, что позволит привлекать на 30% больше пользователей\";\n",
        "* \"Показать на главной странице баннеры с актуальными акциями и распродажами, чтобы увеличить конверсию\".\n",
        "\n",
        "Изменение приоритизации гипотез при применении RICE связано с тем, что этот фреймворк учитывает параметр *Reach*, который не учитывается фреймворком ICE. Поэтому гипотезы, имеющие высокие показатели *Impact*, *Confidence* и *Efforts*, но низкий *Reach*, получили более низкие баллы при применении RICE, чем при применении ICE."
      ]
    },
    {
      "cell_type": "markdown",
      "metadata": {
        "id": "a4dF87QIPE6s"
      },
      "source": [
        "## Анализ A/B-теста"
      ]
    },
    {
      "cell_type": "markdown",
      "metadata": {
        "id": "6bN1i5IkPE6s"
      },
      "source": [
        "### Выгрузка данных"
      ]
    },
    {
      "cell_type": "code",
      "execution_count": null,
      "metadata": {
        "id": "kvOQgCXKPE6t",
        "outputId": "7202de2d-6b23-440f-9c48-9fa7dd8904a2"
      },
      "outputs": [
        {
          "data": {
            "text/html": [
              "<div>\n",
              "<style scoped>\n",
              "    .dataframe tbody tr th:only-of-type {\n",
              "        vertical-align: middle;\n",
              "    }\n",
              "\n",
              "    .dataframe tbody tr th {\n",
              "        vertical-align: top;\n",
              "    }\n",
              "\n",
              "    .dataframe thead th {\n",
              "        text-align: right;\n",
              "    }\n",
              "</style>\n",
              "<table border=\"1\" class=\"dataframe\">\n",
              "  <thead>\n",
              "    <tr style=\"text-align: right;\">\n",
              "      <th></th>\n",
              "      <th>transactionId</th>\n",
              "      <th>visitorId</th>\n",
              "      <th>date</th>\n",
              "      <th>revenue</th>\n",
              "      <th>group</th>\n",
              "    </tr>\n",
              "  </thead>\n",
              "  <tbody>\n",
              "    <tr>\n",
              "      <th>0</th>\n",
              "      <td>3667963787</td>\n",
              "      <td>3312258926</td>\n",
              "      <td>2019-08-15</td>\n",
              "      <td>1650</td>\n",
              "      <td>B</td>\n",
              "    </tr>\n",
              "    <tr>\n",
              "      <th>1</th>\n",
              "      <td>2804400009</td>\n",
              "      <td>3642806036</td>\n",
              "      <td>2019-08-15</td>\n",
              "      <td>730</td>\n",
              "      <td>B</td>\n",
              "    </tr>\n",
              "    <tr>\n",
              "      <th>2</th>\n",
              "      <td>2961555356</td>\n",
              "      <td>4069496402</td>\n",
              "      <td>2019-08-15</td>\n",
              "      <td>400</td>\n",
              "      <td>A</td>\n",
              "    </tr>\n",
              "    <tr>\n",
              "      <th>3</th>\n",
              "      <td>3797467345</td>\n",
              "      <td>1196621759</td>\n",
              "      <td>2019-08-15</td>\n",
              "      <td>9759</td>\n",
              "      <td>B</td>\n",
              "    </tr>\n",
              "    <tr>\n",
              "      <th>4</th>\n",
              "      <td>2282983706</td>\n",
              "      <td>2322279887</td>\n",
              "      <td>2019-08-15</td>\n",
              "      <td>2308</td>\n",
              "      <td>B</td>\n",
              "    </tr>\n",
              "  </tbody>\n",
              "</table>\n",
              "</div>"
            ],
            "text/plain": [
              "   transactionId   visitorId        date  revenue group\n",
              "0     3667963787  3312258926  2019-08-15     1650     B\n",
              "1     2804400009  3642806036  2019-08-15      730     B\n",
              "2     2961555356  4069496402  2019-08-15      400     A\n",
              "3     3797467345  1196621759  2019-08-15     9759     B\n",
              "4     2282983706  2322279887  2019-08-15     2308     B"
            ]
          },
          "execution_count": 6,
          "metadata": {},
          "output_type": "execute_result"
        }
      ],
      "source": [
        "# сохраним данные о заказах в датафрейм orders\n",
        "orders = pd.read_csv('orders.csv')\n",
        "# выведем первые строки orders на экран\n",
        "orders.head()"
      ]
    },
    {
      "cell_type": "code",
      "execution_count": null,
      "metadata": {
        "id": "wBcWV-nkPE6t",
        "outputId": "8a7d7b18-3d1e-4973-a9f2-90e4243a2b7e"
      },
      "outputs": [
        {
          "data": {
            "text/html": [
              "<div>\n",
              "<style scoped>\n",
              "    .dataframe tbody tr th:only-of-type {\n",
              "        vertical-align: middle;\n",
              "    }\n",
              "\n",
              "    .dataframe tbody tr th {\n",
              "        vertical-align: top;\n",
              "    }\n",
              "\n",
              "    .dataframe thead th {\n",
              "        text-align: right;\n",
              "    }\n",
              "</style>\n",
              "<table border=\"1\" class=\"dataframe\">\n",
              "  <thead>\n",
              "    <tr style=\"text-align: right;\">\n",
              "      <th></th>\n",
              "      <th>transaction_id</th>\n",
              "      <th>visitor_id</th>\n",
              "      <th>date</th>\n",
              "      <th>revenue</th>\n",
              "      <th>group</th>\n",
              "    </tr>\n",
              "  </thead>\n",
              "  <tbody>\n",
              "    <tr>\n",
              "      <th>0</th>\n",
              "      <td>3667963787</td>\n",
              "      <td>3312258926</td>\n",
              "      <td>2019-08-15</td>\n",
              "      <td>1650</td>\n",
              "      <td>B</td>\n",
              "    </tr>\n",
              "    <tr>\n",
              "      <th>1</th>\n",
              "      <td>2804400009</td>\n",
              "      <td>3642806036</td>\n",
              "      <td>2019-08-15</td>\n",
              "      <td>730</td>\n",
              "      <td>B</td>\n",
              "    </tr>\n",
              "    <tr>\n",
              "      <th>2</th>\n",
              "      <td>2961555356</td>\n",
              "      <td>4069496402</td>\n",
              "      <td>2019-08-15</td>\n",
              "      <td>400</td>\n",
              "      <td>A</td>\n",
              "    </tr>\n",
              "    <tr>\n",
              "      <th>3</th>\n",
              "      <td>3797467345</td>\n",
              "      <td>1196621759</td>\n",
              "      <td>2019-08-15</td>\n",
              "      <td>9759</td>\n",
              "      <td>B</td>\n",
              "    </tr>\n",
              "    <tr>\n",
              "      <th>4</th>\n",
              "      <td>2282983706</td>\n",
              "      <td>2322279887</td>\n",
              "      <td>2019-08-15</td>\n",
              "      <td>2308</td>\n",
              "      <td>B</td>\n",
              "    </tr>\n",
              "  </tbody>\n",
              "</table>\n",
              "</div>"
            ],
            "text/plain": [
              "   transaction_id  visitor_id        date  revenue group\n",
              "0      3667963787  3312258926  2019-08-15     1650     B\n",
              "1      2804400009  3642806036  2019-08-15      730     B\n",
              "2      2961555356  4069496402  2019-08-15      400     A\n",
              "3      3797467345  1196621759  2019-08-15     9759     B\n",
              "4      2282983706  2322279887  2019-08-15     2308     B"
            ]
          },
          "execution_count": 7,
          "metadata": {},
          "output_type": "execute_result"
        }
      ],
      "source": [
        "# приведём названия столбцов orders в соответствие с правилами стиля\n",
        "orders.columns = ['transaction_id', 'visitor_id', 'date', 'revenue', 'group']\n",
        "# выведем первые строки orders на экран\n",
        "orders.head()"
      ]
    },
    {
      "cell_type": "code",
      "execution_count": null,
      "metadata": {
        "scrolled": true,
        "id": "6vgECMUfPE6t",
        "outputId": "747dc3c7-38d4-4d8f-8825-aaf3dbfbda47"
      },
      "outputs": [
        {
          "name": "stdout",
          "output_type": "stream",
          "text": [
            "<class 'pandas.core.frame.DataFrame'>\n",
            "RangeIndex: 1197 entries, 0 to 1196\n",
            "Data columns (total 5 columns):\n",
            " #   Column          Non-Null Count  Dtype \n",
            "---  ------          --------------  ----- \n",
            " 0   transaction_id  1197 non-null   int64 \n",
            " 1   visitor_id      1197 non-null   int64 \n",
            " 2   date            1197 non-null   object\n",
            " 3   revenue         1197 non-null   int64 \n",
            " 4   group           1197 non-null   object\n",
            "dtypes: int64(3), object(2)\n",
            "memory usage: 46.9+ KB\n"
          ]
        }
      ],
      "source": [
        "# проверим типы данных в orders\n",
        "orders.info()"
      ]
    },
    {
      "cell_type": "code",
      "execution_count": null,
      "metadata": {
        "id": "qfxUNwnDPE6t",
        "outputId": "7c4e30d8-f533-40fd-ae1f-542e333e5a81"
      },
      "outputs": [
        {
          "name": "stdout",
          "output_type": "stream",
          "text": [
            "<class 'pandas.core.frame.DataFrame'>\n",
            "RangeIndex: 1197 entries, 0 to 1196\n",
            "Data columns (total 5 columns):\n",
            " #   Column          Non-Null Count  Dtype         \n",
            "---  ------          --------------  -----         \n",
            " 0   transaction_id  1197 non-null   int64         \n",
            " 1   visitor_id      1197 non-null   int64         \n",
            " 2   date            1197 non-null   datetime64[ns]\n",
            " 3   revenue         1197 non-null   int64         \n",
            " 4   group           1197 non-null   object        \n",
            "dtypes: datetime64[ns](1), int64(3), object(1)\n",
            "memory usage: 46.9+ KB\n"
          ]
        }
      ],
      "source": [
        "# изменим тип данных в столбце date\n",
        "orders['date'] = pd.to_datetime(orders['date'], format='%Y-%m-%d')\n",
        "orders.info()"
      ]
    },
    {
      "cell_type": "code",
      "execution_count": null,
      "metadata": {
        "id": "BpJjCSEQPE6t",
        "outputId": "1cb580d6-98ce-4216-b3c9-fed90d306874"
      },
      "outputs": [
        {
          "data": {
            "text/html": [
              "<div>\n",
              "<style scoped>\n",
              "    .dataframe tbody tr th:only-of-type {\n",
              "        vertical-align: middle;\n",
              "    }\n",
              "\n",
              "    .dataframe tbody tr th {\n",
              "        vertical-align: top;\n",
              "    }\n",
              "\n",
              "    .dataframe thead th {\n",
              "        text-align: right;\n",
              "    }\n",
              "</style>\n",
              "<table border=\"1\" class=\"dataframe\">\n",
              "  <thead>\n",
              "    <tr style=\"text-align: right;\">\n",
              "      <th></th>\n",
              "      <th>date</th>\n",
              "      <th>group</th>\n",
              "      <th>visitors</th>\n",
              "    </tr>\n",
              "  </thead>\n",
              "  <tbody>\n",
              "    <tr>\n",
              "      <th>0</th>\n",
              "      <td>2019-08-01</td>\n",
              "      <td>A</td>\n",
              "      <td>719</td>\n",
              "    </tr>\n",
              "    <tr>\n",
              "      <th>1</th>\n",
              "      <td>2019-08-02</td>\n",
              "      <td>A</td>\n",
              "      <td>619</td>\n",
              "    </tr>\n",
              "    <tr>\n",
              "      <th>2</th>\n",
              "      <td>2019-08-03</td>\n",
              "      <td>A</td>\n",
              "      <td>507</td>\n",
              "    </tr>\n",
              "    <tr>\n",
              "      <th>3</th>\n",
              "      <td>2019-08-04</td>\n",
              "      <td>A</td>\n",
              "      <td>717</td>\n",
              "    </tr>\n",
              "    <tr>\n",
              "      <th>4</th>\n",
              "      <td>2019-08-05</td>\n",
              "      <td>A</td>\n",
              "      <td>756</td>\n",
              "    </tr>\n",
              "  </tbody>\n",
              "</table>\n",
              "</div>"
            ],
            "text/plain": [
              "         date group  visitors\n",
              "0  2019-08-01     A       719\n",
              "1  2019-08-02     A       619\n",
              "2  2019-08-03     A       507\n",
              "3  2019-08-04     A       717\n",
              "4  2019-08-05     A       756"
            ]
          },
          "execution_count": 10,
          "metadata": {},
          "output_type": "execute_result"
        }
      ],
      "source": [
        "# сохраним данные о количестве посетителей в датафрейм visitors\n",
        "visitors = pd.read_csv('visitors.csv')\n",
        "# выведем первые строки visitors на экран\n",
        "visitors.head()"
      ]
    },
    {
      "cell_type": "code",
      "execution_count": null,
      "metadata": {
        "scrolled": true,
        "id": "GTVf5LcuPE6t",
        "outputId": "51de8de6-35f7-472b-bd80-5f847c04c146"
      },
      "outputs": [
        {
          "name": "stdout",
          "output_type": "stream",
          "text": [
            "<class 'pandas.core.frame.DataFrame'>\n",
            "RangeIndex: 62 entries, 0 to 61\n",
            "Data columns (total 3 columns):\n",
            " #   Column    Non-Null Count  Dtype \n",
            "---  ------    --------------  ----- \n",
            " 0   date      62 non-null     object\n",
            " 1   group     62 non-null     object\n",
            " 2   visitors  62 non-null     int64 \n",
            "dtypes: int64(1), object(2)\n",
            "memory usage: 1.6+ KB\n"
          ]
        }
      ],
      "source": [
        "# проверим типы данных в visitors\n",
        "visitors.info()"
      ]
    },
    {
      "cell_type": "code",
      "execution_count": null,
      "metadata": {
        "id": "AF4A_gxsPE6u",
        "outputId": "9ed60743-d323-49b7-a6ab-070c145b5c2e"
      },
      "outputs": [
        {
          "name": "stdout",
          "output_type": "stream",
          "text": [
            "<class 'pandas.core.frame.DataFrame'>\n",
            "RangeIndex: 62 entries, 0 to 61\n",
            "Data columns (total 3 columns):\n",
            " #   Column    Non-Null Count  Dtype         \n",
            "---  ------    --------------  -----         \n",
            " 0   date      62 non-null     datetime64[ns]\n",
            " 1   group     62 non-null     object        \n",
            " 2   visitors  62 non-null     int64         \n",
            "dtypes: datetime64[ns](1), int64(1), object(1)\n",
            "memory usage: 1.6+ KB\n"
          ]
        }
      ],
      "source": [
        "# изменим тип данных в столбце date\n",
        "visitors['date'] = pd.to_datetime(visitors['date'], format='%Y-%m-%d')\n",
        "visitors.info()"
      ]
    },
    {
      "cell_type": "markdown",
      "metadata": {
        "id": "UKleluA2PE6x"
      },
      "source": [
        "### Кумулятивная выручка по группам"
      ]
    },
    {
      "cell_type": "markdown",
      "metadata": {
        "id": "81TbSYqxPE6x"
      },
      "source": [
        "#### Подготовка данных"
      ]
    },
    {
      "cell_type": "code",
      "execution_count": null,
      "metadata": {
        "id": "lKSCtjMqPE6x",
        "outputId": "fa240074-9fb6-434e-f536-7352e0b2b8f6"
      },
      "outputs": [
        {
          "data": {
            "text/html": [
              "<div>\n",
              "<style scoped>\n",
              "    .dataframe tbody tr th:only-of-type {\n",
              "        vertical-align: middle;\n",
              "    }\n",
              "\n",
              "    .dataframe tbody tr th {\n",
              "        vertical-align: top;\n",
              "    }\n",
              "\n",
              "    .dataframe thead th {\n",
              "        text-align: right;\n",
              "    }\n",
              "</style>\n",
              "<table border=\"1\" class=\"dataframe\">\n",
              "  <thead>\n",
              "    <tr style=\"text-align: right;\">\n",
              "      <th></th>\n",
              "      <th>date</th>\n",
              "      <th>group</th>\n",
              "      <th>orders</th>\n",
              "      <th>buyers</th>\n",
              "      <th>revenue</th>\n",
              "      <th>visitors</th>\n",
              "    </tr>\n",
              "  </thead>\n",
              "  <tbody>\n",
              "    <tr>\n",
              "      <th>0</th>\n",
              "      <td>2019-08-01</td>\n",
              "      <td>A</td>\n",
              "      <td>24</td>\n",
              "      <td>20</td>\n",
              "      <td>148579</td>\n",
              "      <td>719</td>\n",
              "    </tr>\n",
              "    <tr>\n",
              "      <th>1</th>\n",
              "      <td>2019-08-01</td>\n",
              "      <td>B</td>\n",
              "      <td>21</td>\n",
              "      <td>20</td>\n",
              "      <td>101217</td>\n",
              "      <td>713</td>\n",
              "    </tr>\n",
              "    <tr>\n",
              "      <th>2</th>\n",
              "      <td>2019-08-02</td>\n",
              "      <td>A</td>\n",
              "      <td>44</td>\n",
              "      <td>38</td>\n",
              "      <td>242401</td>\n",
              "      <td>1338</td>\n",
              "    </tr>\n",
              "    <tr>\n",
              "      <th>3</th>\n",
              "      <td>2019-08-02</td>\n",
              "      <td>B</td>\n",
              "      <td>45</td>\n",
              "      <td>43</td>\n",
              "      <td>266748</td>\n",
              "      <td>1294</td>\n",
              "    </tr>\n",
              "    <tr>\n",
              "      <th>4</th>\n",
              "      <td>2019-08-03</td>\n",
              "      <td>A</td>\n",
              "      <td>68</td>\n",
              "      <td>62</td>\n",
              "      <td>354874</td>\n",
              "      <td>1845</td>\n",
              "    </tr>\n",
              "  </tbody>\n",
              "</table>\n",
              "</div>"
            ],
            "text/plain": [
              "        date group  orders  buyers  revenue  visitors\n",
              "0 2019-08-01     A      24      20   148579       719\n",
              "1 2019-08-01     B      21      20   101217       713\n",
              "2 2019-08-02     A      44      38   242401      1338\n",
              "3 2019-08-02     B      45      43   266748      1294\n",
              "4 2019-08-03     A      68      62   354874      1845"
            ]
          },
          "execution_count": 13,
          "metadata": {},
          "output_type": "execute_result"
        }
      ],
      "source": [
        "# сохраним уникальные пары дат и групп теста в переменной date_group\n",
        "date_group = orders[['date','group']].drop_duplicates()\n",
        "\n",
        "# сохраним агрегированные кумулятивные данные о заказах по дням в переменной orders_agg\n",
        "orders_agg = (date_group\n",
        "              .apply(lambda x: orders[np.logical_and(orders['date'] <= x['date'], orders['group'] == x['group'])]\n",
        "                     .agg({'date': 'max', 'group': 'max', 'transaction_id': 'nunique',\n",
        "                           'visitor_id': 'nunique', 'revenue': 'sum'}), axis=1)\n",
        "              .sort_values(by=['date', 'group']))\n",
        "\n",
        "# сохраним агрегированные кумулятивные данные о посетителях по дням в переменной visitors_agg\n",
        "visitors_agg = (date_group\n",
        "                .apply(lambda x: visitors[np.logical_and(visitors['date'] <= x['date'], visitors['group'] == x['group'])]\n",
        "                       .agg({'date': 'max', 'group': 'max', 'visitors': 'sum'}), axis=1)\n",
        "                .sort_values(by=['date', 'group']))\n",
        "\n",
        "# объединим кумулятивные данные о заказах и о посетителях в таблице data_cumulat\n",
        "data_cumulat = orders_agg.merge(visitors_agg, left_on=['date', 'group'], right_on=['date', 'group'])\n",
        "# присвоим столбцам data_cumulat названия\n",
        "data_cumulat.columns = ['date', 'group', 'orders', 'buyers', 'revenue', 'visitors']\n",
        "\n",
        "# выведем первые строки data_cumulat на экран\n",
        "data_cumulat.head()"
      ]
    },
    {
      "cell_type": "markdown",
      "metadata": {
        "id": "iDl6NbVRPE6y"
      },
      "source": [
        "#### Построение графика"
      ]
    },
    {
      "cell_type": "code",
      "execution_count": null,
      "metadata": {
        "id": "zLcXEUQ8PE6y",
        "outputId": "a964cc28-55e4-4a4e-ad34-bc34ef28c6ab"
      },
      "outputs": [
        {
          "data": {
            "image/png": "[encoded data removed]",
            "text/plain": [
              "<Figure size 1008x576 with 1 Axes>"
            ]
          },
          "metadata": {
            "needs_background": "light"
          },
          "output_type": "display_data"
        }
      ],
      "source": [
        "# разделим данные о результатах теста для разных групп на два датафрейма\n",
        "cumulat_a = data_cumulat[data_cumulat['group']=='A'] # результаты теста для группы A\n",
        "cumulat_b = data_cumulat[data_cumulat['group']=='B'] # результаты теста для группы B\n",
        "\n",
        "# зададим размер поля графика\n",
        "plt.figure(figsize=(14, 8))\n",
        "\n",
        "# построим графики кумулятивной выручки для групп\n",
        "plt.plot(cumulat_a['date'], cumulat_a['revenue'], label='A') # график для группы А\n",
        "plt.plot(cumulat_b['date'], cumulat_b['revenue'], label='B') # график для группы B\n",
        "\n",
        "plt.title('Кумулятивная выручка по группам')\n",
        "plt.xlabel('дата')\n",
        "plt.ylabel('выручка')\n",
        "plt.xticks(rotation=90)\n",
        "plt.legend()\n",
        "plt.show()"
      ]
    },
    {
      "cell_type": "markdown",
      "metadata": {
        "id": "pqflaiCJPE6y"
      },
      "source": [
        "Из графика видно, что кумулятивная выручка группы В на протяжении всего теста выше, чем в группе А. Это может свидетельствовать о том, что **внедрённые изменения положительно сказались на выручке**."
      ]
    },
    {
      "cell_type": "markdown",
      "metadata": {
        "id": "whshj0HjPE6y"
      },
      "source": [
        "### Кумулятивный средний чек по группам"
      ]
    },
    {
      "cell_type": "markdown",
      "metadata": {
        "id": "Q4SwcmfvPE6y"
      },
      "source": [
        "#### График кумулятивного среднего чека по группам"
      ]
    },
    {
      "cell_type": "code",
      "execution_count": null,
      "metadata": {
        "id": "N9-HOIYAPE6y",
        "outputId": "0f7e0be6-7d38-48e0-8720-ee2c0964737c"
      },
      "outputs": [
        {
          "name": "stderr",
          "output_type": "stream",
          "text": [
            "/tmp/ipykernel_151/3561854592.py:3: SettingWithCopyWarning: \n",
            "A value is trying to be set on a copy of a slice from a DataFrame.\n",
            "Try using .loc[row_indexer,col_indexer] = value instead\n",
            "\n",
            "See the caveats in the documentation: https://pandas.pydata.org/pandas-docs/stable/user_guide/indexing.html#returning-a-view-versus-a-copy\n",
            "  cumulat_a['avg_sum'] = cumulat_a['revenue'] / cumulat_a['orders']\n",
            "/tmp/ipykernel_151/3561854592.py:4: SettingWithCopyWarning: \n",
            "A value is trying to be set on a copy of a slice from a DataFrame.\n",
            "Try using .loc[row_indexer,col_indexer] = value instead\n",
            "\n",
            "See the caveats in the documentation: https://pandas.pydata.org/pandas-docs/stable/user_guide/indexing.html#returning-a-view-versus-a-copy\n",
            "  cumulat_b['avg_sum'] = cumulat_b['revenue'] / cumulat_b['orders']\n"
          ]
        },
        {
          "data": {
            "image/png": "[encoded data removed]",
            "text/plain": [
              "<Figure size 1008x576 with 1 Axes>"
            ]
          },
          "metadata": {
            "needs_background": "light"
          },
          "output_type": "display_data"
        }
      ],
      "source": [
        "# добавим в датафреймы с результатами теста по группам столбец avg_sum со значением среднего чека,\n",
        "# для этого разделим сумму выручки на количество заказов\n",
        "cumulat_a['avg_sum'] = cumulat_a['revenue'] / cumulat_a['orders']\n",
        "cumulat_b['avg_sum'] = cumulat_b['revenue'] / cumulat_b['orders']\n",
        "\n",
        "# зададим размер поля графика\n",
        "plt.figure(figsize=(14, 8))\n",
        "\n",
        "# построим графики кумулятивного среднего чека для групп\n",
        "plt.plot(cumulat_a['date'], cumulat_a['avg_sum'], label='A') # график для группы А\n",
        "plt.plot(cumulat_b['date'], cumulat_b['avg_sum'], label='B') # график для группы В\n",
        "\n",
        "plt.title('Кумулятивный средний чек по группам')\n",
        "plt.xlabel('дата')\n",
        "plt.ylabel('выручка')\n",
        "plt.xticks(rotation=90)\n",
        "plt.legend()\n",
        "plt.show()"
      ]
    },
    {
      "cell_type": "markdown",
      "metadata": {
        "id": "hI4qA-WEPE6y"
      },
      "source": [
        "Из графика видно, что кумулятивный средний чек нестабилен. Как правило, в группе В этот показатель выше, однкао в некоторые моменты он ниже, чем в группе А. Кроме того, в среднем чеке группы В наблюдается резкий скачок, что может говорить о наличии аномальных значений.\n",
        "\n",
        "Также следует отметить, что, начиная с 18 августа средний чек группы В снижается, а группы А - растёт."
      ]
    },
    {
      "cell_type": "markdown",
      "metadata": {
        "id": "OqvU_97TPE6z"
      },
      "source": [
        "#### График относительного изменения кумулятивного среднего чека"
      ]
    },
    {
      "cell_type": "code",
      "execution_count": null,
      "metadata": {
        "id": "babgAp5wPE6z",
        "outputId": "3e5f44a1-6dbf-4a2e-e644-b01172acbf9d"
      },
      "outputs": [
        {
          "data": {
            "image/png": "[encoded data removed]",
            "text/plain": [
              "<Figure size 1008x576 with 1 Axes>"
            ]
          },
          "metadata": {
            "needs_background": "light"
          },
          "output_type": "display_data"
        }
      ],
      "source": [
        "# объединим датафреймы с результатами теста по группам в датафрейм cumulat_merged\n",
        "cumulat_merged = cumulat_a.merge(cumulat_b, left_on='date', right_on='date', how='left', suffixes=['_a', '_b'])\n",
        "\n",
        "# зададим размер поля графика\n",
        "plt.figure(figsize=(14, 8))\n",
        "\n",
        "# построим график относительного изменения кумулятивного среднего чека группы В относительно группы А\n",
        "plt.plot(cumulat_merged['date'], (cumulat_merged['avg_sum_b']/cumulat_merged['avg_sum_a']-1))\n",
        "\n",
        "plt.title('Относительное изменение кумулятивного среднего чека')\n",
        "plt.xlabel('дата')\n",
        "plt.ylabel('относительное изменение')\n",
        "plt.axhline(y=0, color='black', linestyle='--')\n",
        "plt.xticks(rotation=90)\n",
        "plt.show()"
      ]
    },
    {
      "cell_type": "markdown",
      "metadata": {
        "id": "Uc24KfUZPE6z"
      },
      "source": [
        "Из графика видно, что относительное изменение среднего чека постоянно сильно колеблется, что может свидетельствовать о наличии аномальных значений."
      ]
    },
    {
      "cell_type": "markdown",
      "metadata": {
        "id": "1uge7xRbPE6z"
      },
      "source": [
        "### Кумулятивное среднее количество заказов на посетителя по группам"
      ]
    },
    {
      "cell_type": "markdown",
      "metadata": {
        "id": "tZHR_9VFPE6z"
      },
      "source": [
        "#### График кумулятивного среднего количества заказов на посетителя по группам"
      ]
    },
    {
      "cell_type": "code",
      "execution_count": null,
      "metadata": {
        "scrolled": false,
        "id": "c8UAqf3BPE6z",
        "outputId": "e155fcf0-3f63-4d83-ba88-1e52c9f3feab"
      },
      "outputs": [
        {
          "name": "stderr",
          "output_type": "stream",
          "text": [
            "/tmp/ipykernel_151/3586474048.py:3: SettingWithCopyWarning: \n",
            "A value is trying to be set on a copy of a slice from a DataFrame.\n",
            "Try using .loc[row_indexer,col_indexer] = value instead\n",
            "\n",
            "See the caveats in the documentation: https://pandas.pydata.org/pandas-docs/stable/user_guide/indexing.html#returning-a-view-versus-a-copy\n",
            "  cumulat_a['conversion'] = cumulat_a['orders'] / cumulat_a['visitors']\n",
            "/tmp/ipykernel_151/3586474048.py:4: SettingWithCopyWarning: \n",
            "A value is trying to be set on a copy of a slice from a DataFrame.\n",
            "Try using .loc[row_indexer,col_indexer] = value instead\n",
            "\n",
            "See the caveats in the documentation: https://pandas.pydata.org/pandas-docs/stable/user_guide/indexing.html#returning-a-view-versus-a-copy\n",
            "  cumulat_b['conversion'] = cumulat_b['orders'] / cumulat_b['visitors']\n"
          ]
        },
        {
          "data": {
            "image/png": "[encoded data removed]",
            "text/plain": [
              "<Figure size 1008x576 with 1 Axes>"
            ]
          },
          "metadata": {
            "needs_background": "light"
          },
          "output_type": "display_data"
        }
      ],
      "source": [
        "# добавим в датафреймы с результатами теста по группам столбец conversion со средним количеством заказов на посетителя,\n",
        "# для этого разделим количество заказов на количество посетителей\n",
        "cumulat_a['conversion'] = cumulat_a['orders'] / cumulat_a['visitors']\n",
        "cumulat_b['conversion'] = cumulat_b['orders'] / cumulat_b['visitors']\n",
        "\n",
        "# зададим размер поля графика\n",
        "plt.figure(figsize=(14, 8))\n",
        "\n",
        "# построим графики кумулятивного среднего количества заказов на посетителя для групп\n",
        "plt.plot(cumulat_a['date'], cumulat_a['conversion'], label='A') # график для группы А\n",
        "plt.plot(cumulat_b['date'], cumulat_b['conversion'], label='B') # график для группы B\n",
        "\n",
        "plt.title('Кумулятивное среднее количество заказов на посетителя по группам')\n",
        "plt.xlabel('дата')\n",
        "plt.ylabel('количество заказов')\n",
        "plt.xticks(rotation=90)\n",
        "plt.legend()\n",
        "plt.show()"
      ]
    },
    {
      "cell_type": "markdown",
      "metadata": {
        "id": "OYa5IRETPE6z"
      },
      "source": [
        "Из графика видно, что кумулятивное среднее количество заказов на посетителя не стабилизировалось и в целом снижается для обеих групп."
      ]
    },
    {
      "cell_type": "markdown",
      "metadata": {
        "id": "A2l52ErnPE60"
      },
      "source": [
        "#### График относительного изменения кумулятивного среднего количества заказов на посетителя"
      ]
    },
    {
      "cell_type": "code",
      "execution_count": null,
      "metadata": {
        "id": "PxOnT_QcPE60",
        "outputId": "c59cebe1-62be-4aa6-bd2b-842029f11da7"
      },
      "outputs": [
        {
          "data": {
            "image/png": "[encoded data removed]",
            "text/plain": [
              "<Figure size 1008x576 with 1 Axes>"
            ]
          },
          "metadata": {
            "needs_background": "light"
          },
          "output_type": "display_data"
        }
      ],
      "source": [
        "# объединим датафреймы с результатами теста по группам в датафрейм cumulat_merged\n",
        "cumulat_merged = cumulat_a.merge(cumulat_b, left_on='date', right_on='date', how='left', suffixes=['_a', '_b'])\n",
        "\n",
        "# зададим размер поля графика\n",
        "plt.figure(figsize=(14, 8))\n",
        "\n",
        "# построим график относительного изменения кумулятивного среднего количества заказов на посетителя\n",
        "# группы В относительно группы А\n",
        "plt.plot(cumulat_merged['date'], (cumulat_merged['conversion_b']/cumulat_merged['conversion_a']-1))\n",
        "\n",
        "plt.title('Относительное изменение кумулятивного среднего количества заказов на посетителя')\n",
        "plt.xlabel('дата')\n",
        "plt.ylabel('относительное изменение')\n",
        "plt.axhline(y=0, color='black', linestyle='--')\n",
        "plt.xticks(rotation=90)\n",
        "plt.show()"
      ]
    },
    {
      "cell_type": "markdown",
      "metadata": {
        "id": "GLJehuAIPE60"
      },
      "source": [
        "Из графика видно, что относительное изменение кумулятивного среднего количества заказов на посетителя колеблется, имеет резкий скачок, однако в целом растёт."
      ]
    },
    {
      "cell_type": "markdown",
      "metadata": {
        "id": "MjeUnvOTPE60"
      },
      "source": [
        "### Количество заказов по пользователям"
      ]
    },
    {
      "cell_type": "markdown",
      "metadata": {
        "id": "2RiDV-vyPE60"
      },
      "source": [
        "#### Данные о количестве заказов по пользователям"
      ]
    },
    {
      "cell_type": "code",
      "execution_count": null,
      "metadata": {
        "id": "67-acMb3PE60"
      },
      "outputs": [],
      "source": [
        "# создадим датафрейм orders_by_users с данными о количестве заказов на пользователя\n",
        "orders_by_users = orders.groupby('visitor_id', as_index=False).agg({'transaction_id': 'nunique'})\n",
        "# дадим названия столбцам orders_by_users\n",
        "orders_by_users.columns = ['user_id', 'orders_amount']"
      ]
    },
    {
      "cell_type": "markdown",
      "metadata": {
        "id": "lmDByWdvPE60"
      },
      "source": [
        "#### Диаграмма рассеяния количества заказов по пользователям"
      ]
    },
    {
      "cell_type": "code",
      "execution_count": null,
      "metadata": {
        "scrolled": false,
        "id": "pa8ZJy2vPE60",
        "outputId": "0b3d9b11-5050-49b2-c197-aee2637b74b2"
      },
      "outputs": [
        {
          "data": {
            "image/png": "[encoded data removed]",
            "text/plain": [
              "<Figure size 720x576 with 1 Axes>"
            ]
          },
          "metadata": {
            "needs_background": "light"
          },
          "output_type": "display_data"
        }
      ],
      "source": [
        "# построим диаграмму рассеяния количества заказов на пользователя\n",
        "x_values = pd.Series(range(0, len(orders_by_users)))\n",
        "\n",
        "plt.figure(figsize=(10, 8))\n",
        "plt.scatter(x_values, orders_by_users['orders_amount'])\n",
        "\n",
        "plt.title('Количество заказов по пользователям')\n",
        "plt.show()"
      ]
    },
    {
      "cell_type": "markdown",
      "metadata": {
        "id": "dIMzjvxXPE61"
      },
      "source": [
        "Из диаграммы видно, что подавляющее большинство посетителей совершили 1 заказ; число посетителей, совершивших более 2 заказов, крайне мало."
      ]
    },
    {
      "cell_type": "markdown",
      "metadata": {
        "id": "ZBCuVaO5PE61"
      },
      "source": [
        "#### Перцентили количества заказов по пользователям"
      ]
    },
    {
      "cell_type": "code",
      "execution_count": null,
      "metadata": {
        "id": "bzrVd38cPE61",
        "outputId": "7284f953-6779-4e14-a4dd-60a0e69a1f17"
      },
      "outputs": [
        {
          "data": {
            "text/plain": [
              "array([2., 4.])"
            ]
          },
          "execution_count": 21,
          "metadata": {},
          "output_type": "execute_result"
        }
      ],
      "source": [
        "# посчитаем 95 и 99 перцентили количества заказов на пользователя\n",
        "np.percentile(orders_by_users['orders_amount'], [95, 99])"
      ]
    },
    {
      "cell_type": "markdown",
      "metadata": {
        "id": "rPAwRNQNPE61"
      },
      "source": [
        "5% посетителей совершили более 2 заказов, и лишь 1% - более 4. Таким образом, аномальными следует считать посетителей, совершивших более 2 заказов."
      ]
    },
    {
      "cell_type": "markdown",
      "metadata": {
        "id": "m6o_UEspPE61"
      },
      "source": [
        "### Стоимость заказов по пользователям"
      ]
    },
    {
      "cell_type": "markdown",
      "metadata": {
        "id": "3D1YUhcbPE61"
      },
      "source": [
        "#### Диаграмма рассеяния стоимости заказов по пользователям"
      ]
    },
    {
      "cell_type": "code",
      "execution_count": null,
      "metadata": {
        "id": "Ya80Ju3zPE61",
        "outputId": "5645f77c-cc48-42d9-e184-ce33e247b314"
      },
      "outputs": [
        {
          "data": {
            "image/png": "[encoded data removed]",
            "text/plain": [
              "<Figure size 720x576 with 1 Axes>"
            ]
          },
          "metadata": {
            "needs_background": "light"
          },
          "output_type": "display_data"
        }
      ],
      "source": [
        "# построим диаграмму рассеяния стоимости заказов на пользователя\n",
        "x_values = pd.Series(range(0, len(orders['revenue'])))\n",
        "\n",
        "plt.figure(figsize=(10, 8))\n",
        "plt.scatter(x_values, orders['revenue'])\n",
        "\n",
        "plt.title('Стоимость заказов')\n",
        "plt.show()"
      ]
    },
    {
      "cell_type": "markdown",
      "metadata": {
        "id": "-CHm4J-vPE62"
      },
      "source": [
        "Из диаграммы видно, что почти все посетители совершали заказы стоимостью менее 20 тысяч."
      ]
    },
    {
      "cell_type": "markdown",
      "metadata": {
        "id": "XblNe5HZPE62"
      },
      "source": [
        "#### Перцентили стоимости заказов по пользователям"
      ]
    },
    {
      "cell_type": "code",
      "execution_count": null,
      "metadata": {
        "id": "9Hlw5yFoPE62",
        "outputId": "3eea6700-c4d5-43a7-f30a-ec9011031923"
      },
      "outputs": [
        {
          "data": {
            "text/plain": [
              "array([28000. , 58233.2])"
            ]
          },
          "execution_count": 23,
          "metadata": {},
          "output_type": "execute_result"
        }
      ],
      "source": [
        "# посчитаем 95 и 99 перцентили стоимости заказов по пользователям\n",
        "np.percentile(orders['revenue'], [95, 99])"
      ]
    },
    {
      "cell_type": "markdown",
      "metadata": {
        "id": "vggP5YtaPE62"
      },
      "source": [
        "5% посетителей совершали заказы стоимостью более 28000, и лишь 1% - более 58233. Таким образом, аномальными следует считать посетителей, совершавших заказы на сумму более 28000."
      ]
    },
    {
      "cell_type": "markdown",
      "metadata": {
        "id": "AA8IN1diPE62"
      },
      "source": [
        "### Статистическая значимость различий в показателях между группами по «сырым» данным"
      ]
    },
    {
      "cell_type": "markdown",
      "metadata": {
        "id": "SXgHqX9NPE63"
      },
      "source": [
        "#### Статистическая значимость различий в среднем количестве заказов на посетителя"
      ]
    },
    {
      "cell_type": "markdown",
      "metadata": {
        "id": "Q9_jbN4PPE63"
      },
      "source": [
        "**Гипотеза Н0:** Различий в среднем количестве заказов на посетителя между группами нет.\n",
        "\n",
        "**Гипотеза Н1:** Между группами есть различия в среднем количестве заказов на посетителя."
      ]
    },
    {
      "cell_type": "code",
      "execution_count": null,
      "metadata": {
        "id": "gdKX01JxPE63",
        "outputId": "3d48599e-10b2-49aa-f210-00517ae0615d"
      },
      "outputs": [
        {
          "data": {
            "text/plain": [
              "'0.017'"
            ]
          },
          "metadata": {},
          "output_type": "display_data"
        },
        {
          "data": {
            "text/plain": [
              "'0.138'"
            ]
          },
          "execution_count": 31,
          "metadata": {},
          "output_type": "execute_result"
        }
      ],
      "source": [
        "# создадим датафрейм с данными о количестве заказов по пользователям в группе А\n",
        "orders_by_users_a = (orders[orders['group'] == 'A']\n",
        "                     .groupby('visitor_id', as_index=False)\n",
        "                     .agg({'transaction_id': pd.Series.nunique}))\n",
        "\n",
        "orders_by_users_a.columns = ['user_id', 'orders_amount']\n",
        "\n",
        "# создадим датафрейм с данными о количестве заказов по пользователям в группе В\n",
        "orders_by_users_b = (orders[orders['group'] == 'B']\n",
        "                     .groupby('visitor_id', as_index=False)\n",
        "                     .agg({'transaction_id': pd.Series.nunique}))\n",
        "\n",
        "orders_by_users_b.columns = ['user_id', 'orders_amount']\n",
        "\n",
        "# создадим датафреймы с данными о количестве посетителей по дням для групп\n",
        "visitors_per_date_a = visitors[visitors['group']=='A'][['date','visitors']] # для группы А\n",
        "visitors_per_date_b = visitors[visitors['group']=='B'][['date','visitors']] # для группы В\n",
        "\n",
        "# создадим датафрейм с количеством заказов на пользователя в группе А\n",
        "sample_a = pd.concat([orders_by_users_a['orders_amount'],\n",
        "                      pd.Series(0, index=np.arange(visitors_per_date_a['visitors'].sum() -\n",
        "                                                   len(orders_by_users_a['orders_amount'])),\n",
        "                                name='orders')], axis=0)\n",
        "\n",
        "# создадим датафрейм с количеством заказов на пользователя в группе В\n",
        "sample_b = pd.concat([orders_by_users_b['orders_amount'],\n",
        "                      pd.Series(0, index=np.arange(visitors_per_date_b['visitors'].sum() -\n",
        "                                                   len(orders_by_users_b['orders_amount'])),\n",
        "                                name='orders')], axis=0)\n",
        "\n",
        "# найдём статистическую значимость различий с помощью теста Манна - Уитни\n",
        "display(\"{0:.3f}\".format(stats.mannwhitneyu(sample_a, sample_b)[1]))\n",
        "\n",
        "# найдём относительный прирост среднего числа заказов\n",
        "\"{0:.3f}\".format(sample_b.mean() / sample_a.mean() - 1)"
      ]
    },
    {
      "cell_type": "markdown",
      "metadata": {
        "id": "CLqzzFOsPE63"
      },
      "source": [
        "Полученная статистическая значимость меньше уровня значимости 0.05, значит, различия в среднем количестве заказов на посетителя между группами есть.\n",
        "\n",
        "Относительный прирост среднего количества заказов группы В составляет 13.8%."
      ]
    },
    {
      "cell_type": "markdown",
      "metadata": {
        "id": "1qAjimq0PE63"
      },
      "source": [
        "#### Статистическая значимость различий в среднем чеке заказа"
      ]
    },
    {
      "cell_type": "markdown",
      "metadata": {
        "id": "EQhmJVP3PE64"
      },
      "source": [
        "**Гипотеза Н0:** Различий в среднем чеке заказа между группами нет.\n",
        "\n",
        "**Гипотеза Н1:** Между группами есть различия в среднем чеке заказа."
      ]
    },
    {
      "cell_type": "code",
      "execution_count": null,
      "metadata": {
        "id": "Cchc0VX9PE64",
        "outputId": "3029b181-c8e6-4e5c-b79d-fcd2c6d750d9"
      },
      "outputs": [
        {
          "data": {
            "text/plain": [
              "'0.729'"
            ]
          },
          "metadata": {},
          "output_type": "display_data"
        },
        {
          "data": {
            "text/plain": [
              "'0.259'"
            ]
          },
          "execution_count": 34,
          "metadata": {},
          "output_type": "execute_result"
        }
      ],
      "source": [
        "# найдём статистическую значимость различий с помощью теста Манна - Уитни\n",
        "display('{0:.3f}'.format(stats.mannwhitneyu(orders[orders['group']=='A']['revenue'],\n",
        "                                            orders[orders['group']=='B']['revenue'])[1]))\n",
        "\n",
        "# найдём относительный прирост среднего чека заказа\n",
        "'{0:.3f}'.format(orders[orders['group']=='B']['revenue'].mean() / orders[orders['group']=='A']['revenue'].mean() - 1)"
      ]
    },
    {
      "cell_type": "markdown",
      "metadata": {
        "id": "DvJwVTZXPE64"
      },
      "source": [
        "Полученная статистическая значимость больше уровня значимости 0.05, значит, различий в среднем чеке заказа между группами нет.\n",
        "\n",
        "При этом относительный прирост среднего чека заказа группы В составляет 25.9%."
      ]
    },
    {
      "cell_type": "markdown",
      "metadata": {
        "id": "DRwQfZQpPE64"
      },
      "source": [
        "### Статистическая значимость различий в показателях между группами по «очищенным» данным"
      ]
    },
    {
      "cell_type": "markdown",
      "metadata": {
        "id": "mqiTtxc1PE64"
      },
      "source": [
        "#### Отбор аномальных значений"
      ]
    },
    {
      "cell_type": "markdown",
      "metadata": {
        "id": "-GsDpMCHPE64"
      },
      "source": [
        "Отберём идентификаторы пользователей, сделавших более 2 заказов, и пользователей, сделавших заказы на сумму более 28000."
      ]
    },
    {
      "cell_type": "code",
      "execution_count": null,
      "metadata": {
        "id": "7znwD4BSPE64"
      },
      "outputs": [],
      "source": [
        "# сохраним id пользователей с аномально большим количеством заказов\n",
        "too_many_orders = pd.concat([orders_by_users_a[orders_by_users_a['orders_amount'] > 2]['user_id'],\n",
        "                             orders_by_users_b[orders_by_users_b['orders_amount'] > 2]['user_id']], axis=0)\n",
        "\n",
        "# сохраним id пользователей с аномально дорогими заказами\n",
        "too_expensive_orders = orders[orders['revenue'] > 28000]['visitor_id']\n",
        "too_expensive_orders.columns = ['user_id']\n",
        "\n",
        "# объединим данные об \"аномальных\" пользователях\n",
        "abnormal_users = (pd.concat([too_many_orders, too_expensive_orders], axis=0).drop_duplicates().sort_values())"
      ]
    },
    {
      "cell_type": "markdown",
      "metadata": {
        "id": "G_2e29GBPE64"
      },
      "source": [
        "#### Статистическая значимость различий в среднем количестве заказов на посетителя"
      ]
    },
    {
      "cell_type": "markdown",
      "metadata": {
        "id": "ut7UzmGwPE64"
      },
      "source": [
        "**Гипотеза Н0:** Различий в среднем количестве заказов на посетителя между группами нет.\n",
        "\n",
        "**Гипотеза Н1:** Между группами есть различия в среднем количестве заказов на посетителя."
      ]
    },
    {
      "cell_type": "code",
      "execution_count": null,
      "metadata": {
        "id": "dQRxp5hvPE64",
        "outputId": "a3452f76-19fa-4880-935e-2b0cfa0d5100"
      },
      "outputs": [
        {
          "data": {
            "text/plain": [
              "'0.013'"
            ]
          },
          "metadata": {},
          "output_type": "display_data"
        },
        {
          "data": {
            "text/plain": [
              "'0.138'"
            ]
          },
          "execution_count": 37,
          "metadata": {},
          "output_type": "execute_result"
        }
      ],
      "source": [
        "# отберём \"очищенные\" данные о количестве заказов на посетителя в группе А\n",
        "pure_sample_a = pd.concat([orders_by_users_a[np.logical_not(orders_by_users_a['user_id']\n",
        "                                                            .isin(abnormal_users))]['orders_amount'],\n",
        "                           pd.Series(0, index=np.arange(visitors_per_date_a['visitors'].sum() -\n",
        "                                                        len(orders_by_users_a['orders_amount'])),\n",
        "                                     name='orders')], axis=0)\n",
        "\n",
        "# отберём \"очищенные\" данные о количестве заказов на посетителя в группе В\n",
        "pure_sample_b = pd.concat([orders_by_users_b[np.logical_not(orders_by_users_b['user_id']\n",
        "                                                            .isin(abnormal_users))]['orders_amount'],\n",
        "                           pd.Series(0, index=np.arange(visitors_per_date_b['visitors'].sum() -\n",
        "                                                        len(orders_by_users_b['orders_amount'])),\n",
        "                                     name='orders')], axis=0)\n",
        "\n",
        "# найдём статистическую значимость различий с помощью теста Манна - Уитни\n",
        "display('{0:.3f}'.format(stats.mannwhitneyu(pure_sample_a, pure_sample_b)[1]))\n",
        "\n",
        "# найдём относительный прирост среднего числа заказов\n",
        "\"{0:.3f}\".format(sample_b.mean() / sample_a.mean() - 1)"
      ]
    },
    {
      "cell_type": "markdown",
      "metadata": {
        "id": "4ZRQhMZ_PE65"
      },
      "source": [
        "Полученная статистическая значимость крайне мало отличается от статистической значимости, полученной по \"сырым\" данным. Относительный прирост среднего количества заказов группы В равен полученному по \"сырым\" данным и составляет 13.8%."
      ]
    },
    {
      "cell_type": "markdown",
      "metadata": {
        "id": "-M2EoxjgPE65"
      },
      "source": [
        "#### Статистическая значимость различий в среднем чеке заказа"
      ]
    },
    {
      "cell_type": "markdown",
      "metadata": {
        "id": "jPw-IpIoPE65"
      },
      "source": [
        "**Гипотеза Н0:** Различий в среднем чеке заказа между группами нет.\n",
        "\n",
        "**Гипотеза Н1:** Между группами есть различия в среднем чеке заказа."
      ]
    },
    {
      "cell_type": "code",
      "execution_count": null,
      "metadata": {
        "id": "krdWpSSoPE65",
        "outputId": "078116a2-a936-4853-d0b1-ddf8784488f4"
      },
      "outputs": [
        {
          "data": {
            "text/plain": [
              "'0.738'"
            ]
          },
          "metadata": {},
          "output_type": "display_data"
        },
        {
          "data": {
            "text/plain": [
              "'0.020'"
            ]
          },
          "execution_count": 38,
          "metadata": {},
          "output_type": "execute_result"
        }
      ],
      "source": [
        "# найдём статистическую значимость различий с помощью теста Манна - Уитни\n",
        "display('{0:.3f}'.format(stats.mannwhitneyu(orders[np.logical_and(orders['group'] == 'A',\n",
        "                                                                  np.logical_not(orders['visitor_id']\n",
        "                                                                                 .isin(abnormal_users)))]['revenue'],\n",
        "                                            orders[np.logical_and(orders['group'] == 'B',\n",
        "                                                                  np.logical_not(orders['visitor_id']\n",
        "                                                                                 .isin(abnormal_users)))]['revenue'])[1]))\n",
        "\n",
        "# найдём относительный прирост среднего чека заказа\n",
        "'{0:.3f}'.format(orders[np.logical_and(orders['group'] == 'A', np.logical_not(orders['visitor_id'].isin(abnormal_users)))]\n",
        "                 ['revenue'].mean() /\n",
        "                 orders[np.logical_and(orders['group'] == 'B', np.logical_not(orders['visitor_id'].isin(abnormal_users)))]\n",
        "                 ['revenue'].mean() - 1)"
      ]
    },
    {
      "cell_type": "markdown",
      "metadata": {
        "id": "oTUg7PcHPE65"
      },
      "source": [
        "Полученная статистическая значимость крайне мало отличается от статистической значимости, полученной по \"сырым\" данным.\n",
        "\n",
        "При этом относительный прирост среднего чека заказа группы В составляет 2%."
      ]
    },
    {
      "cell_type": "markdown",
      "metadata": {
        "id": "QVwVUyJePE65"
      },
      "source": [
        "### Итог"
      ]
    },
    {
      "cell_type": "markdown",
      "metadata": {
        "id": "44Kmfw72PE65"
      },
      "source": [
        "Тест следует продолжать, поскольку полученные данные не стабилизировались и делать по ним выводы трудно."
      ]
    }
  ],
  "metadata": {
    "ExecuteTimeLog": [
      {
        "duration": 409,
        "start_time": "2024-08-14T12:50:17.090Z"
      },
      {
        "duration": 97,
        "start_time": "2024-08-14T12:50:55.103Z"
      },
      {
        "duration": 15,
        "start_time": "2024-08-14T12:51:01.118Z"
      },
      {
        "duration": 5,
        "start_time": "2024-08-14T12:51:24.535Z"
      },
      {
        "duration": 7,
        "start_time": "2024-08-14T12:51:31.285Z"
      },
      {
        "duration": 2,
        "start_time": "2024-08-14T12:56:18.551Z"
      },
      {
        "duration": 12,
        "start_time": "2024-08-14T12:58:49.060Z"
      },
      {
        "duration": 12,
        "start_time": "2024-08-14T12:59:22.857Z"
      },
      {
        "duration": 114,
        "start_time": "2024-08-14T13:19:12.078Z"
      },
      {
        "duration": 63,
        "start_time": "2024-08-14T13:19:27.757Z"
      },
      {
        "duration": 90,
        "start_time": "2024-08-14T13:19:37.416Z"
      },
      {
        "duration": 2,
        "start_time": "2024-08-14T13:26:11.096Z"
      },
      {
        "duration": 9,
        "start_time": "2024-08-14T13:26:24.055Z"
      },
      {
        "duration": 399,
        "start_time": "2024-08-15T09:54:40.613Z"
      },
      {
        "duration": 431,
        "start_time": "2024-08-15T09:54:46.941Z"
      },
      {
        "duration": 75,
        "start_time": "2024-08-15T09:54:47.374Z"
      },
      {
        "duration": 14,
        "start_time": "2024-08-15T09:54:47.450Z"
      },
      {
        "duration": 3,
        "start_time": "2024-08-15T09:54:47.466Z"
      },
      {
        "duration": 14,
        "start_time": "2024-08-15T09:54:47.470Z"
      },
      {
        "duration": 12,
        "start_time": "2024-08-15T09:54:47.486Z"
      },
      {
        "duration": 102,
        "start_time": "2024-08-15T09:54:47.499Z"
      },
      {
        "duration": 7,
        "start_time": "2024-08-15T09:54:47.603Z"
      },
      {
        "duration": 100,
        "start_time": "2024-08-15T09:54:47.611Z"
      },
      {
        "duration": 4,
        "start_time": "2024-08-15T10:03:12.915Z"
      },
      {
        "duration": 290,
        "start_time": "2024-08-15T10:09:57.019Z"
      },
      {
        "duration": 260,
        "start_time": "2024-08-15T10:10:13.307Z"
      },
      {
        "duration": 265,
        "start_time": "2024-08-15T10:10:20.198Z"
      },
      {
        "duration": 292,
        "start_time": "2024-08-15T10:10:30.755Z"
      },
      {
        "duration": 385,
        "start_time": "2024-08-15T10:12:15.510Z"
      },
      {
        "duration": 255,
        "start_time": "2024-08-15T10:13:28.964Z"
      },
      {
        "duration": 270,
        "start_time": "2024-08-15T10:14:48.402Z"
      },
      {
        "duration": 76,
        "start_time": "2024-08-15T10:15:20.412Z"
      },
      {
        "duration": 114,
        "start_time": "2024-08-15T10:17:52.954Z"
      },
      {
        "duration": 12,
        "start_time": "2024-08-15T10:18:08.544Z"
      },
      {
        "duration": 12,
        "start_time": "2024-08-15T10:18:22.233Z"
      },
      {
        "duration": 249,
        "start_time": "2024-08-15T10:18:31.763Z"
      },
      {
        "duration": 356,
        "start_time": "2024-08-15T10:24:03.784Z"
      },
      {
        "duration": 295,
        "start_time": "2024-08-15T10:24:40.059Z"
      },
      {
        "duration": 316,
        "start_time": "2024-08-15T10:25:54.095Z"
      },
      {
        "duration": 318,
        "start_time": "2024-08-15T10:28:07.645Z"
      },
      {
        "duration": 328,
        "start_time": "2024-08-15T10:28:17.109Z"
      },
      {
        "duration": 304,
        "start_time": "2024-08-15T10:28:24.658Z"
      },
      {
        "duration": 305,
        "start_time": "2024-08-15T10:28:41.881Z"
      },
      {
        "duration": 308,
        "start_time": "2024-08-15T10:34:06.469Z"
      },
      {
        "duration": 314,
        "start_time": "2024-08-15T10:36:28.012Z"
      },
      {
        "duration": 10,
        "start_time": "2024-08-15T10:37:07.258Z"
      },
      {
        "duration": 312,
        "start_time": "2024-08-15T10:41:31.519Z"
      },
      {
        "duration": 317,
        "start_time": "2024-08-15T10:41:40.021Z"
      },
      {
        "duration": 12,
        "start_time": "2024-08-15T10:43:25.297Z"
      },
      {
        "duration": 18,
        "start_time": "2024-08-15T10:50:46.420Z"
      },
      {
        "duration": 15,
        "start_time": "2024-08-15T10:51:06.472Z"
      },
      {
        "duration": 612,
        "start_time": "2024-08-15T10:55:32.519Z"
      },
      {
        "duration": 397,
        "start_time": "2024-08-15T10:55:44.591Z"
      },
      {
        "duration": 458,
        "start_time": "2024-08-15T10:56:21.155Z"
      },
      {
        "duration": 676,
        "start_time": "2024-08-15T11:46:57.916Z"
      },
      {
        "duration": 28,
        "start_time": "2024-08-15T11:46:58.594Z"
      },
      {
        "duration": 12,
        "start_time": "2024-08-15T11:46:58.624Z"
      },
      {
        "duration": 12,
        "start_time": "2024-08-15T11:46:58.638Z"
      },
      {
        "duration": 21,
        "start_time": "2024-08-15T11:46:58.652Z"
      },
      {
        "duration": 18,
        "start_time": "2024-08-15T11:46:58.674Z"
      },
      {
        "duration": 74,
        "start_time": "2024-08-15T11:46:58.694Z"
      },
      {
        "duration": 8,
        "start_time": "2024-08-15T11:46:58.770Z"
      },
      {
        "duration": 29,
        "start_time": "2024-08-15T11:46:58.779Z"
      },
      {
        "duration": 266,
        "start_time": "2024-08-15T11:46:58.810Z"
      },
      {
        "duration": 329,
        "start_time": "2024-08-15T11:46:59.078Z"
      },
      {
        "duration": 317,
        "start_time": "2024-08-15T11:46:59.409Z"
      },
      {
        "duration": 439,
        "start_time": "2024-08-15T11:46:59.728Z"
      },
      {
        "duration": 11,
        "start_time": "2024-08-15T11:47:00.168Z"
      },
      {
        "duration": 332,
        "start_time": "2024-08-15T11:56:21.167Z"
      },
      {
        "duration": 398,
        "start_time": "2024-08-15T11:56:44.786Z"
      },
      {
        "duration": 405,
        "start_time": "2024-08-15T11:59:03.452Z"
      },
      {
        "duration": 19,
        "start_time": "2024-08-15T11:59:34.517Z"
      },
      {
        "duration": 422,
        "start_time": "2024-08-15T12:00:31.960Z"
      },
      {
        "duration": 408,
        "start_time": "2024-08-15T12:01:17.864Z"
      },
      {
        "duration": 3,
        "start_time": "2024-08-15T12:04:45.393Z"
      },
      {
        "duration": 13,
        "start_time": "2024-08-15T12:16:36.417Z"
      },
      {
        "duration": 7,
        "start_time": "2024-08-15T12:16:45.369Z"
      },
      {
        "duration": 121,
        "start_time": "2024-08-15T12:18:46.891Z"
      },
      {
        "duration": 136,
        "start_time": "2024-08-15T12:19:14.722Z"
      },
      {
        "duration": 148,
        "start_time": "2024-08-15T12:19:20.844Z"
      },
      {
        "duration": 132,
        "start_time": "2024-08-15T12:20:42.075Z"
      },
      {
        "duration": 1157,
        "start_time": "2024-08-15T12:25:32.188Z"
      },
      {
        "duration": 6,
        "start_time": "2024-08-15T12:25:42.072Z"
      },
      {
        "duration": 146,
        "start_time": "2024-08-15T12:29:29.478Z"
      },
      {
        "duration": 5,
        "start_time": "2024-08-15T12:30:37.442Z"
      },
      {
        "duration": 1163,
        "start_time": "2024-08-15T15:11:48.633Z"
      },
      {
        "duration": 184,
        "start_time": "2024-08-15T15:12:22.223Z"
      },
      {
        "duration": 531,
        "start_time": "2024-08-15T15:12:47.898Z"
      },
      {
        "duration": 175,
        "start_time": "2024-08-15T15:12:54.982Z"
      },
      {
        "duration": 163,
        "start_time": "2024-08-15T15:13:49.195Z"
      },
      {
        "duration": 172,
        "start_time": "2024-08-15T15:14:23.613Z"
      },
      {
        "duration": 161,
        "start_time": "2024-08-15T15:14:34.982Z"
      },
      {
        "duration": 9,
        "start_time": "2024-08-15T15:20:53.993Z"
      },
      {
        "duration": 167,
        "start_time": "2024-08-15T15:23:58.397Z"
      },
      {
        "duration": 9,
        "start_time": "2024-08-15T15:24:03.315Z"
      },
      {
        "duration": 12,
        "start_time": "2024-08-15T15:30:50.181Z"
      },
      {
        "duration": 9,
        "start_time": "2024-08-15T15:31:53.654Z"
      },
      {
        "duration": 8,
        "start_time": "2024-08-15T15:32:03.418Z"
      },
      {
        "duration": 10,
        "start_time": "2024-08-15T15:32:13.060Z"
      },
      {
        "duration": 9,
        "start_time": "2024-08-15T15:32:46.604Z"
      },
      {
        "duration": 36,
        "start_time": "2024-08-15T15:37:27.202Z"
      },
      {
        "duration": 30,
        "start_time": "2024-08-15T15:37:59.552Z"
      },
      {
        "duration": 9,
        "start_time": "2024-08-15T15:45:29.340Z"
      },
      {
        "duration": 31,
        "start_time": "2024-08-15T15:45:29.924Z"
      },
      {
        "duration": 1536,
        "start_time": "2024-08-15T15:45:44.580Z"
      },
      {
        "duration": 11,
        "start_time": "2024-08-15T15:46:12.202Z"
      },
      {
        "duration": 1352,
        "start_time": "2024-08-16T08:04:22.635Z"
      },
      {
        "duration": 96,
        "start_time": "2024-08-16T08:04:23.989Z"
      },
      {
        "duration": 14,
        "start_time": "2024-08-16T08:04:24.087Z"
      },
      {
        "duration": 3,
        "start_time": "2024-08-16T08:04:24.103Z"
      },
      {
        "duration": 18,
        "start_time": "2024-08-16T08:04:24.107Z"
      },
      {
        "duration": 14,
        "start_time": "2024-08-16T08:04:24.126Z"
      },
      {
        "duration": 110,
        "start_time": "2024-08-16T08:04:24.142Z"
      },
      {
        "duration": 8,
        "start_time": "2024-08-16T08:04:24.254Z"
      },
      {
        "duration": 75,
        "start_time": "2024-08-16T08:04:24.264Z"
      },
      {
        "duration": 275,
        "start_time": "2024-08-16T08:04:24.342Z"
      },
      {
        "duration": 343,
        "start_time": "2024-08-16T08:04:24.619Z"
      },
      {
        "duration": 345,
        "start_time": "2024-08-16T08:04:24.964Z"
      },
      {
        "duration": 436,
        "start_time": "2024-08-16T08:04:25.311Z"
      },
      {
        "duration": 372,
        "start_time": "2024-08-16T08:04:25.749Z"
      },
      {
        "duration": 403,
        "start_time": "2024-08-16T08:04:26.122Z"
      },
      {
        "duration": 7,
        "start_time": "2024-08-16T08:04:26.526Z"
      },
      {
        "duration": 157,
        "start_time": "2024-08-16T08:04:26.534Z"
      },
      {
        "duration": 7,
        "start_time": "2024-08-16T08:04:26.692Z"
      },
      {
        "duration": 161,
        "start_time": "2024-08-16T08:04:26.700Z"
      },
      {
        "duration": 4,
        "start_time": "2024-08-16T08:04:26.863Z"
      },
      {
        "duration": 186,
        "start_time": "2024-08-16T08:04:26.869Z"
      },
      {
        "duration": 9,
        "start_time": "2024-08-16T08:04:27.056Z"
      },
      {
        "duration": 12,
        "start_time": "2024-08-16T08:04:27.066Z"
      },
      {
        "duration": 44,
        "start_time": "2024-08-16T08:04:27.080Z"
      },
      {
        "duration": 11,
        "start_time": "2024-08-16T08:04:27.126Z"
      },
      {
        "duration": 36,
        "start_time": "2024-08-16T08:09:37.005Z"
      },
      {
        "duration": 328,
        "start_time": "2024-08-16T08:41:06.697Z"
      },
      {
        "duration": 321,
        "start_time": "2024-08-16T08:41:32.713Z"
      },
      {
        "duration": 281,
        "start_time": "2024-08-16T10:07:50.054Z"
      },
      {
        "duration": 167,
        "start_time": "2024-08-16T10:08:12.718Z"
      },
      {
        "duration": 1348,
        "start_time": "2024-08-16T11:52:39.427Z"
      },
      {
        "duration": 83,
        "start_time": "2024-08-16T11:52:40.777Z"
      },
      {
        "duration": 4,
        "start_time": "2024-08-16T11:52:40.862Z"
      },
      {
        "duration": 40,
        "start_time": "2024-08-16T11:52:40.868Z"
      },
      {
        "duration": 18,
        "start_time": "2024-08-16T11:52:40.912Z"
      },
      {
        "duration": 103,
        "start_time": "2024-08-16T11:52:40.933Z"
      },
      {
        "duration": 13,
        "start_time": "2024-08-16T11:52:41.038Z"
      },
      {
        "duration": 79,
        "start_time": "2024-08-16T11:52:41.053Z"
      },
      {
        "duration": 312,
        "start_time": "2024-08-16T11:52:41.134Z"
      },
      {
        "duration": 344,
        "start_time": "2024-08-16T11:52:41.449Z"
      },
      {
        "duration": 337,
        "start_time": "2024-08-16T11:52:41.795Z"
      },
      {
        "duration": 503,
        "start_time": "2024-08-16T11:52:42.134Z"
      },
      {
        "duration": 385,
        "start_time": "2024-08-16T11:52:42.639Z"
      },
      {
        "duration": 442,
        "start_time": "2024-08-16T11:52:43.026Z"
      },
      {
        "duration": 8,
        "start_time": "2024-08-16T11:52:43.470Z"
      },
      {
        "duration": 158,
        "start_time": "2024-08-16T11:52:43.479Z"
      },
      {
        "duration": 5,
        "start_time": "2024-08-16T11:52:43.639Z"
      },
      {
        "duration": 175,
        "start_time": "2024-08-16T11:52:43.656Z"
      },
      {
        "duration": 5,
        "start_time": "2024-08-16T11:52:43.833Z"
      },
      {
        "duration": 218,
        "start_time": "2024-08-16T11:52:43.840Z"
      },
      {
        "duration": 9,
        "start_time": "2024-08-16T11:52:44.060Z"
      },
      {
        "duration": 7,
        "start_time": "2024-08-16T11:52:44.071Z"
      },
      {
        "duration": 31,
        "start_time": "2024-08-16T11:52:44.080Z"
      },
      {
        "duration": 10,
        "start_time": "2024-08-16T11:52:44.113Z"
      },
      {
        "duration": 1258,
        "start_time": "2024-08-16T13:38:37.542Z"
      },
      {
        "duration": 109,
        "start_time": "2024-08-16T13:38:38.802Z"
      },
      {
        "duration": 2,
        "start_time": "2024-08-16T13:38:38.913Z"
      },
      {
        "duration": 38,
        "start_time": "2024-08-16T13:38:38.917Z"
      },
      {
        "duration": 12,
        "start_time": "2024-08-16T13:38:38.957Z"
      },
      {
        "duration": 106,
        "start_time": "2024-08-16T13:38:38.971Z"
      },
      {
        "duration": 8,
        "start_time": "2024-08-16T13:38:39.078Z"
      },
      {
        "duration": 115,
        "start_time": "2024-08-16T13:38:39.088Z"
      },
      {
        "duration": 264,
        "start_time": "2024-08-16T13:38:39.204Z"
      },
      {
        "duration": 369,
        "start_time": "2024-08-16T13:38:39.471Z"
      },
      {
        "duration": 323,
        "start_time": "2024-08-16T13:38:39.842Z"
      },
      {
        "duration": 467,
        "start_time": "2024-08-16T13:38:40.167Z"
      },
      {
        "duration": 348,
        "start_time": "2024-08-16T13:38:40.636Z"
      },
      {
        "duration": 402,
        "start_time": "2024-08-16T13:38:40.986Z"
      },
      {
        "duration": 7,
        "start_time": "2024-08-16T13:38:41.390Z"
      },
      {
        "duration": 145,
        "start_time": "2024-08-16T13:38:41.398Z"
      },
      {
        "duration": 5,
        "start_time": "2024-08-16T13:38:41.545Z"
      },
      {
        "duration": 157,
        "start_time": "2024-08-16T13:38:41.552Z"
      },
      {
        "duration": 14,
        "start_time": "2024-08-16T13:38:41.711Z"
      },
      {
        "duration": 178,
        "start_time": "2024-08-16T13:38:41.726Z"
      },
      {
        "duration": 20,
        "start_time": "2024-08-16T13:38:41.905Z"
      },
      {
        "duration": 8,
        "start_time": "2024-08-16T13:38:41.926Z"
      },
      {
        "duration": 31,
        "start_time": "2024-08-16T13:38:41.936Z"
      },
      {
        "duration": 11,
        "start_time": "2024-08-16T13:38:41.968Z"
      },
      {
        "duration": 96,
        "start_time": "2024-08-16T14:58:57.909Z"
      },
      {
        "duration": 1089,
        "start_time": "2024-08-16T14:59:06.028Z"
      },
      {
        "duration": 42,
        "start_time": "2024-08-16T14:59:07.119Z"
      },
      {
        "duration": 8,
        "start_time": "2024-08-16T14:59:07.162Z"
      },
      {
        "duration": 19,
        "start_time": "2024-08-16T14:59:07.172Z"
      },
      {
        "duration": 12,
        "start_time": "2024-08-16T14:59:07.193Z"
      },
      {
        "duration": 56,
        "start_time": "2024-08-16T14:59:07.206Z"
      },
      {
        "duration": 8,
        "start_time": "2024-08-16T14:59:07.263Z"
      },
      {
        "duration": 26,
        "start_time": "2024-08-16T14:59:07.273Z"
      },
      {
        "duration": 263,
        "start_time": "2024-08-16T14:59:07.301Z"
      },
      {
        "duration": 319,
        "start_time": "2024-08-16T14:59:07.567Z"
      },
      {
        "duration": 315,
        "start_time": "2024-08-16T14:59:07.888Z"
      },
      {
        "duration": 423,
        "start_time": "2024-08-16T14:59:08.204Z"
      },
      {
        "duration": 347,
        "start_time": "2024-08-16T14:59:08.629Z"
      },
      {
        "duration": 402,
        "start_time": "2024-08-16T14:59:08.978Z"
      },
      {
        "duration": 7,
        "start_time": "2024-08-16T14:59:09.381Z"
      },
      {
        "duration": 216,
        "start_time": "2024-08-16T14:59:09.390Z"
      },
      {
        "duration": 5,
        "start_time": "2024-08-16T14:59:09.608Z"
      },
      {
        "duration": 168,
        "start_time": "2024-08-16T14:59:09.614Z"
      },
      {
        "duration": 5,
        "start_time": "2024-08-16T14:59:09.783Z"
      },
      {
        "duration": 168,
        "start_time": "2024-08-16T14:59:09.790Z"
      },
      {
        "duration": 105,
        "start_time": "2024-08-16T14:59:09.959Z"
      },
      {
        "duration": 0,
        "start_time": "2024-08-16T14:59:10.065Z"
      },
      {
        "duration": 0,
        "start_time": "2024-08-16T14:59:10.067Z"
      },
      {
        "duration": 0,
        "start_time": "2024-08-16T14:59:10.068Z"
      },
      {
        "duration": 0,
        "start_time": "2024-08-16T14:59:10.069Z"
      },
      {
        "duration": 1030,
        "start_time": "2024-08-16T14:59:20.559Z"
      },
      {
        "duration": 41,
        "start_time": "2024-08-16T14:59:21.591Z"
      },
      {
        "duration": 3,
        "start_time": "2024-08-16T14:59:21.633Z"
      },
      {
        "duration": 12,
        "start_time": "2024-08-16T14:59:21.638Z"
      },
      {
        "duration": 12,
        "start_time": "2024-08-16T14:59:21.651Z"
      },
      {
        "duration": 53,
        "start_time": "2024-08-16T14:59:21.664Z"
      },
      {
        "duration": 8,
        "start_time": "2024-08-16T14:59:21.718Z"
      },
      {
        "duration": 26,
        "start_time": "2024-08-16T14:59:21.727Z"
      },
      {
        "duration": 260,
        "start_time": "2024-08-16T14:59:21.754Z"
      },
      {
        "duration": 330,
        "start_time": "2024-08-16T14:59:22.016Z"
      },
      {
        "duration": 329,
        "start_time": "2024-08-16T14:59:22.348Z"
      },
      {
        "duration": 392,
        "start_time": "2024-08-16T14:59:22.678Z"
      },
      {
        "duration": 352,
        "start_time": "2024-08-16T14:59:23.072Z"
      },
      {
        "duration": 405,
        "start_time": "2024-08-16T14:59:23.426Z"
      },
      {
        "duration": 6,
        "start_time": "2024-08-16T14:59:23.833Z"
      },
      {
        "duration": 156,
        "start_time": "2024-08-16T14:59:23.841Z"
      },
      {
        "duration": 5,
        "start_time": "2024-08-16T14:59:23.998Z"
      },
      {
        "duration": 157,
        "start_time": "2024-08-16T14:59:24.005Z"
      },
      {
        "duration": 5,
        "start_time": "2024-08-16T14:59:24.164Z"
      },
      {
        "duration": 200,
        "start_time": "2024-08-16T14:59:24.170Z"
      },
      {
        "duration": 9,
        "start_time": "2024-08-16T14:59:24.372Z"
      },
      {
        "duration": 8,
        "start_time": "2024-08-16T14:59:24.383Z"
      },
      {
        "duration": 50,
        "start_time": "2024-08-16T14:59:24.393Z"
      },
      {
        "duration": 11,
        "start_time": "2024-08-16T14:59:24.444Z"
      },
      {
        "duration": 5,
        "start_time": "2024-08-16T14:59:53.293Z"
      },
      {
        "duration": 1284,
        "start_time": "2024-08-17T06:44:32.291Z"
      },
      {
        "duration": 84,
        "start_time": "2024-08-17T06:44:33.577Z"
      },
      {
        "duration": 3,
        "start_time": "2024-08-17T06:44:33.663Z"
      },
      {
        "duration": 19,
        "start_time": "2024-08-17T06:44:33.668Z"
      },
      {
        "duration": 21,
        "start_time": "2024-08-17T06:44:33.689Z"
      },
      {
        "duration": 105,
        "start_time": "2024-08-17T06:44:33.712Z"
      },
      {
        "duration": 8,
        "start_time": "2024-08-17T06:44:33.819Z"
      },
      {
        "duration": 78,
        "start_time": "2024-08-17T06:44:33.829Z"
      },
      {
        "duration": 265,
        "start_time": "2024-08-17T06:44:33.908Z"
      },
      {
        "duration": 357,
        "start_time": "2024-08-17T06:44:34.175Z"
      },
      {
        "duration": 351,
        "start_time": "2024-08-17T06:44:34.534Z"
      },
      {
        "duration": 472,
        "start_time": "2024-08-17T06:44:34.887Z"
      },
      {
        "duration": 388,
        "start_time": "2024-08-17T06:44:35.361Z"
      },
      {
        "duration": 424,
        "start_time": "2024-08-17T06:44:35.750Z"
      },
      {
        "duration": 7,
        "start_time": "2024-08-17T06:44:36.175Z"
      },
      {
        "duration": 169,
        "start_time": "2024-08-17T06:44:36.184Z"
      },
      {
        "duration": 5,
        "start_time": "2024-08-17T06:44:36.354Z"
      },
      {
        "duration": 170,
        "start_time": "2024-08-17T06:44:36.361Z"
      },
      {
        "duration": 14,
        "start_time": "2024-08-17T06:44:36.533Z"
      },
      {
        "duration": 188,
        "start_time": "2024-08-17T06:44:36.549Z"
      },
      {
        "duration": 19,
        "start_time": "2024-08-17T06:44:36.738Z"
      },
      {
        "duration": 9,
        "start_time": "2024-08-17T06:44:36.760Z"
      },
      {
        "duration": 42,
        "start_time": "2024-08-17T06:44:36.771Z"
      },
      {
        "duration": 11,
        "start_time": "2024-08-17T06:44:36.814Z"
      },
      {
        "duration": 1207,
        "start_time": "2024-08-17T06:44:52.124Z"
      },
      {
        "duration": 38,
        "start_time": "2024-08-17T06:44:53.333Z"
      },
      {
        "duration": 4,
        "start_time": "2024-08-17T06:44:53.372Z"
      },
      {
        "duration": 18,
        "start_time": "2024-08-17T06:44:53.378Z"
      },
      {
        "duration": 17,
        "start_time": "2024-08-17T06:44:53.397Z"
      },
      {
        "duration": 63,
        "start_time": "2024-08-17T06:44:53.415Z"
      },
      {
        "duration": 8,
        "start_time": "2024-08-17T06:44:53.479Z"
      },
      {
        "duration": 50,
        "start_time": "2024-08-17T06:44:53.488Z"
      },
      {
        "duration": 272,
        "start_time": "2024-08-17T06:44:53.539Z"
      },
      {
        "duration": 341,
        "start_time": "2024-08-17T06:44:53.814Z"
      },
      {
        "duration": 375,
        "start_time": "2024-08-17T06:44:54.156Z"
      },
      {
        "duration": 442,
        "start_time": "2024-08-17T06:44:54.533Z"
      },
      {
        "duration": 364,
        "start_time": "2024-08-17T06:44:54.977Z"
      },
      {
        "duration": 424,
        "start_time": "2024-08-17T06:44:55.342Z"
      },
      {
        "duration": 7,
        "start_time": "2024-08-17T06:44:55.767Z"
      },
      {
        "duration": 152,
        "start_time": "2024-08-17T06:44:55.775Z"
      },
      {
        "duration": 6,
        "start_time": "2024-08-17T06:44:55.929Z"
      },
      {
        "duration": 172,
        "start_time": "2024-08-17T06:44:55.946Z"
      },
      {
        "duration": 6,
        "start_time": "2024-08-17T06:44:56.120Z"
      },
      {
        "duration": 165,
        "start_time": "2024-08-17T06:44:56.145Z"
      },
      {
        "duration": 9,
        "start_time": "2024-08-17T06:44:56.312Z"
      },
      {
        "duration": 24,
        "start_time": "2024-08-17T06:44:56.322Z"
      },
      {
        "duration": 36,
        "start_time": "2024-08-17T06:44:56.347Z"
      },
      {
        "duration": 11,
        "start_time": "2024-08-17T06:44:56.384Z"
      },
      {
        "duration": 33,
        "start_time": "2024-08-17T06:50:35.886Z"
      },
      {
        "duration": 33,
        "start_time": "2024-08-17T06:50:56.716Z"
      },
      {
        "duration": 33,
        "start_time": "2024-08-17T06:51:19.597Z"
      },
      {
        "duration": 32,
        "start_time": "2024-08-17T06:51:40.125Z"
      },
      {
        "duration": 1090,
        "start_time": "2024-08-17T06:57:36.743Z"
      },
      {
        "duration": 3,
        "start_time": "2024-08-17T06:58:05.477Z"
      },
      {
        "duration": 14,
        "start_time": "2024-08-17T06:58:08.531Z"
      },
      {
        "duration": 14,
        "start_time": "2024-08-17T06:58:31.625Z"
      },
      {
        "duration": 35,
        "start_time": "2024-08-17T06:59:19.211Z"
      },
      {
        "duration": 37,
        "start_time": "2024-08-17T06:59:24.554Z"
      },
      {
        "duration": 16,
        "start_time": "2024-08-17T07:05:28.986Z"
      },
      {
        "duration": 12,
        "start_time": "2024-08-17T07:05:54.072Z"
      },
      {
        "duration": 15,
        "start_time": "2024-08-17T07:15:38.473Z"
      },
      {
        "duration": 13,
        "start_time": "2024-08-17T07:16:21.619Z"
      },
      {
        "duration": 13,
        "start_time": "2024-08-17T07:16:42.893Z"
      },
      {
        "duration": 12,
        "start_time": "2024-08-17T07:16:48.046Z"
      },
      {
        "duration": 10,
        "start_time": "2024-08-17T07:17:32.419Z"
      },
      {
        "duration": 15,
        "start_time": "2024-08-17T07:18:24.784Z"
      },
      {
        "duration": 8,
        "start_time": "2024-08-17T07:18:27.579Z"
      },
      {
        "duration": 1222,
        "start_time": "2024-08-17T08:33:07.012Z"
      },
      {
        "duration": 39,
        "start_time": "2024-08-17T08:33:08.236Z"
      },
      {
        "duration": 3,
        "start_time": "2024-08-17T08:33:08.276Z"
      },
      {
        "duration": 14,
        "start_time": "2024-08-17T08:33:08.281Z"
      },
      {
        "duration": 12,
        "start_time": "2024-08-17T08:33:08.297Z"
      },
      {
        "duration": 52,
        "start_time": "2024-08-17T08:33:08.311Z"
      },
      {
        "duration": 8,
        "start_time": "2024-08-17T08:33:08.365Z"
      },
      {
        "duration": 12,
        "start_time": "2024-08-17T08:33:08.375Z"
      },
      {
        "duration": 22,
        "start_time": "2024-08-17T08:33:08.389Z"
      },
      {
        "duration": 21,
        "start_time": "2024-08-17T08:33:08.414Z"
      },
      {
        "duration": 9,
        "start_time": "2024-08-17T08:33:08.436Z"
      },
      {
        "duration": 22,
        "start_time": "2024-08-17T08:33:08.446Z"
      },
      {
        "duration": 318,
        "start_time": "2024-08-17T08:33:08.470Z"
      },
      {
        "duration": 319,
        "start_time": "2024-08-17T08:33:08.790Z"
      },
      {
        "duration": 258,
        "start_time": "2024-08-17T08:33:09.111Z"
      },
      {
        "duration": 329,
        "start_time": "2024-08-17T08:33:09.370Z"
      },
      {
        "duration": 308,
        "start_time": "2024-08-17T08:33:09.701Z"
      },
      {
        "duration": 329,
        "start_time": "2024-08-17T08:33:10.010Z"
      },
      {
        "duration": 6,
        "start_time": "2024-08-17T08:33:10.346Z"
      },
      {
        "duration": 146,
        "start_time": "2024-08-17T08:33:10.353Z"
      },
      {
        "duration": 6,
        "start_time": "2024-08-17T08:33:10.501Z"
      },
      {
        "duration": 172,
        "start_time": "2024-08-17T08:33:10.508Z"
      },
      {
        "duration": 4,
        "start_time": "2024-08-17T08:33:10.682Z"
      },
      {
        "duration": 172,
        "start_time": "2024-08-17T08:33:10.688Z"
      },
      {
        "duration": 9,
        "start_time": "2024-08-17T08:33:10.861Z"
      },
      {
        "duration": 7,
        "start_time": "2024-08-17T08:33:10.872Z"
      },
      {
        "duration": 47,
        "start_time": "2024-08-17T08:33:10.880Z"
      },
      {
        "duration": 17,
        "start_time": "2024-08-17T08:33:10.930Z"
      },
      {
        "duration": 181,
        "start_time": "2024-08-17T08:38:49.547Z"
      },
      {
        "duration": 195,
        "start_time": "2024-08-17T08:39:02.384Z"
      },
      {
        "duration": 176,
        "start_time": "2024-08-17T08:40:09.549Z"
      },
      {
        "duration": 20,
        "start_time": "2024-08-17T08:45:56.816Z"
      },
      {
        "duration": 14,
        "start_time": "2024-08-17T08:46:14.555Z"
      },
      {
        "duration": 20,
        "start_time": "2024-08-17T08:46:35.091Z"
      },
      {
        "duration": 49,
        "start_time": "2024-08-17T08:49:40.829Z"
      },
      {
        "duration": 8,
        "start_time": "2024-08-17T08:50:10.871Z"
      },
      {
        "duration": 44,
        "start_time": "2024-08-17T08:50:13.605Z"
      },
      {
        "duration": 19,
        "start_time": "2024-08-17T08:59:18.398Z"
      }
    ],
    "kernelspec": {
      "display_name": "Python 3 (ipykernel)",
      "language": "python",
      "name": "python3"
    },
    "language_info": {
      "codemirror_mode": {
        "name": "ipython",
        "version": 3
      },
      "file_extension": ".py",
      "mimetype": "text/x-python",
      "name": "python",
      "nbconvert_exporter": "python",
      "pygments_lexer": "ipython3",
      "version": "3.9.5"
    },
    "toc": {
      "base_numbering": 1,
      "nav_menu": {},
      "number_sections": true,
      "sideBar": true,
      "skip_h1_title": true,
      "title_cell": "Table of Contents",
      "title_sidebar": "Contents",
      "toc_cell": false,
      "toc_position": {},
      "toc_section_display": true,
      "toc_window_display": false
    },
    "colab": {
      "provenance": []
    }
  },
  "nbformat": 4,
  "nbformat_minor": 0
}